{
 "cells": [
  {
   "cell_type": "markdown",
   "id": "8f1b6cca",
   "metadata": {},
   "source": [
    "## Формирование обучающей и тестовой выборок (rating-based)\n",
    "\n",
    "В этом ноутбуке мы формируем датасеты на основе взаимодействий пользователей с товарами, используя оценку `rating` как основу для бинарной разметки:\n",
    "\n",
    "- `label = 1`, если `rating >= 4`, иначе `0`\n",
    "- Обучающая и тестовая выборки формируются **по времени**: `2015–2017` — train, `2018` — test\n",
    "\n",
    "- `df_train_baseline_0_rating_based.csv` — сбалансированная выборка позитивных и негативных примеров для baseline-0 модели, сгенерированная подходом rating-based;\n",
    "- `df_train_baseline_1_rating_based.csv` — сбалансированная выборка позитивных и негативных примеров для baseline-1 модели, сгенерированная подходом rating-based;\n",
    "- `df_train_CLIP_rating_based.csv` — сбалансированная выборка позитивных и негативных примеров для мэтчинговой модел, сгенерированная подходом rating-based;\n",
    "- `df_test_ground_truth_rating_based.csv` — тестовый лог взаимодействий за выбранный временной период, где положительным взаимодействием будет считаться факт выставления оценки >= 4.\n",
    "\n",
    "Также добавляется словарь `ground_truth`, необходимый для расчёта метрик `Precision@K`, `MAP@K`.\n"
   ]
  },
  {
   "cell_type": "code",
   "execution_count": 1,
   "id": "63029ad5",
   "metadata": {},
   "outputs": [],
   "source": [
    "# Импорт требуемых библиотек\n",
    "import pandas as pd\n",
    "import datetime\n",
    "import numpy as np"
   ]
  },
  {
   "cell_type": "code",
   "execution_count": 2,
   "id": "f6f69218",
   "metadata": {},
   "outputs": [],
   "source": [
    "# Подгрузим датасет с отзывами\n",
    "df = pd.read_csv(\"data/amazon_interactions_filtered.csv\")"
   ]
  },
  {
   "cell_type": "code",
   "execution_count": 3,
   "id": "d9f6437e",
   "metadata": {},
   "outputs": [],
   "source": [
    "# Ограничим временной диапазон: только 2015–2018\n",
    "df = df[df[\"timestamp\"] >= pd.Timestamp(\"2015-01-01\").timestamp()].copy()\n",
    "\n",
    "# Сортировка по времени\n",
    "df = df.sort_values(\"timestamp\")\n",
    "\n",
    "# Формируем train/test сплит:\n",
    "df_train = df[df[\"timestamp\"] < pd.Timestamp(\"2018-01-01\").timestamp()]\n",
    "df_test = df[(df[\"timestamp\"] >= pd.Timestamp(\"2018-01-01\").timestamp()) &\n",
    "             (df[\"timestamp\"] < pd.Timestamp(\"2018-10-01\").timestamp())]"
   ]
  },
  {
   "cell_type": "markdown",
   "id": "0913a413",
   "metadata": {},
   "source": [
    "## Построение меток (rating-based label)\n",
    "\n",
    "Вместо генерации негативных примеров (1:1 sampling) мы используем оценки пользователей:\n",
    "\n",
    "- `label = 1`, если `rating >= 4` (положительная оценка)\n",
    "- `label = 0`, если `rating < 4` (нейтральная/негативная)\n",
    "\n",
    "Такой подход позволяет напрямую использовать силу пользовательской оценки.\n"
   ]
  },
  {
   "cell_type": "code",
   "execution_count": 4,
   "id": "900b6d73",
   "metadata": {},
   "outputs": [
    {
     "name": "stderr",
     "output_type": "stream",
     "text": [
      "C:\\Users\\Администратор\\AppData\\Local\\Temp\\ipykernel_2924\\1089353448.py:2: SettingWithCopyWarning: \n",
      "A value is trying to be set on a copy of a slice from a DataFrame.\n",
      "Try using .loc[row_indexer,col_indexer] = value instead\n",
      "\n",
      "See the caveats in the documentation: https://pandas.pydata.org/pandas-docs/stable/user_guide/indexing.html#returning-a-view-versus-a-copy\n",
      "  df_train[\"label\"] = (df_train[\"rating\"] >= 4).astype(int)\n",
      "C:\\Users\\Администратор\\AppData\\Local\\Temp\\ipykernel_2924\\1089353448.py:3: SettingWithCopyWarning: \n",
      "A value is trying to be set on a copy of a slice from a DataFrame.\n",
      "Try using .loc[row_indexer,col_indexer] = value instead\n",
      "\n",
      "See the caveats in the documentation: https://pandas.pydata.org/pandas-docs/stable/user_guide/indexing.html#returning-a-view-versus-a-copy\n",
      "  df_test[\"label\"] = (df_test[\"rating\"] >= 4).astype(int)\n"
     ]
    }
   ],
   "source": [
    "# Формируем бинарную метку: label = 1, если рейтинг >= 4\n",
    "df_train[\"label\"] = (df_train[\"rating\"] >= 4).astype(int)\n",
    "df_test[\"label\"] = (df_test[\"rating\"] >= 4).astype(int)"
   ]
  },
  {
   "cell_type": "code",
   "execution_count": 5,
   "id": "9b3ad17d",
   "metadata": {},
   "outputs": [],
   "source": [
    "# Убираем рейтинг, чтобы он не утёк в обучение\n",
    "df_train_final = df_train[[\"user_id\", \"item_id\", \"label\"]].copy()\n",
    "df_test_final = df_test[[\"user_id\", \"item_id\", \"label\"]].copy()"
   ]
  },
  {
   "cell_type": "code",
   "execution_count": 6,
   "id": "46df8f05",
   "metadata": {},
   "outputs": [
    {
     "name": "stdout",
     "output_type": "stream",
     "text": [
      "Train: 1,873,171 строк, 646,362 пользователей, 96,323 товаров\n",
      "Test:  311,657 строк, 165,753 пользователей, 49,234 товаров\n"
     ]
    }
   ],
   "source": [
    "print(f\"Train: {len(df_train):,} строк, {df_train['user_id'].nunique():,} пользователей, {df_train['item_id'].nunique():,} товаров\")\n",
    "print(f\"Test:  {len(df_test):,} строк, {df_test['user_id'].nunique():,} пользователей, {df_test['item_id'].nunique():,} товаров\")"
   ]
  },
  {
   "cell_type": "code",
   "execution_count": 7,
   "id": "ac9176f4",
   "metadata": {},
   "outputs": [],
   "source": [
    "# Выделим уникальных юзеров на трейне и тесте\n",
    "users_train = set(df_train[\"user_id\"])\n",
    "users_test = set(df_test[\"user_id\"])\n",
    "\n",
    "# Сколько юзеров в test уже встречались в train\n",
    "overlap_users = users_test & users_train"
   ]
  },
  {
   "cell_type": "code",
   "execution_count": 8,
   "id": "93624561",
   "metadata": {},
   "outputs": [
    {
     "name": "stdout",
     "output_type": "stream",
     "text": [
      "Всего пользователей в test: 165,753\n",
      "Из них уже были в train: 101,967\n",
      "Доля покрытых пользователей: 61.52%\n"
     ]
    }
   ],
   "source": [
    "print(f\"Всего пользователей в test: {len(users_test):,}\")\n",
    "print(f\"Из них уже были в train: {len(overlap_users):,}\")\n",
    "print(f\"Доля покрытых пользователей: {round(len(overlap_users) / len(users_test) * 100, 2)}%\")"
   ]
  },
  {
   "cell_type": "markdown",
   "id": "896a9f05",
   "metadata": {},
   "source": [
    "Модель не обучается для cold-start пользователей, поэтому пользователи без истории во временном трейне исключены из теста."
   ]
  },
  {
   "cell_type": "code",
   "execution_count": 9,
   "id": "c55bf9b9",
   "metadata": {},
   "outputs": [
    {
     "name": "stdout",
     "output_type": "stream",
     "text": [
      "Тест после фильтрации: 169,898 строк, 101,967 пользователей\n"
     ]
    }
   ],
   "source": [
    "# Оставим в тестовой выборке только тех юзеров, кто есть в train\n",
    "df_test = df_test[df_test[\"user_id\"].isin(users_train)].copy()\n",
    "print(f\"Тест после фильтрации: {len(df_test):,} строк, {df_test['user_id'].nunique():,} пользователей\")"
   ]
  },
  {
   "cell_type": "code",
   "execution_count": 10,
   "id": "f9d0c58c",
   "metadata": {},
   "outputs": [],
   "source": [
    "# Подгрузим датасет со сгенерированными фичами товаров\n",
    "df_meta = pd.read_csv(\n",
    "    \"data/amazon_meta_clean.csv\",\n",
    "    na_values=[\"\"],  # исключаем \"Unknown\"\n",
    "    keep_default_na=False\n",
    ")"
   ]
  },
  {
   "cell_type": "code",
   "execution_count": 11,
   "id": "19a4e30f",
   "metadata": {},
   "outputs": [
    {
     "name": "stdout",
     "output_type": "stream",
     "text": [
      "Проверим пропуски после загрузки:\n",
      "brand            0\n",
      "category_main    0\n",
      "price_clean      0\n",
      "dtype: int64\n"
     ]
    }
   ],
   "source": [
    "print(\"Проверим пропуски после загрузки:\")\n",
    "print(df_meta[[\"brand\", \"category_main\", \"price_clean\"]].isna().sum())"
   ]
  },
  {
   "cell_type": "code",
   "execution_count": 12,
   "id": "e30fe9ee",
   "metadata": {},
   "outputs": [],
   "source": [
    "# Удаляем CLIP-фичи\n",
    "clip_cols = [col for col in df_meta.columns if col.startswith(\"clip_text_\") or col.startswith(\"clip_img_\")]\n",
    "df_meta = df_meta.drop(columns=clip_cols)"
   ]
  },
  {
   "cell_type": "code",
   "execution_count": 13,
   "id": "87f92ecb",
   "metadata": {},
   "outputs": [
    {
     "name": "stdout",
     "output_type": "stream",
     "text": [
      "(148948, 112)\n"
     ]
    },
    {
     "data": {
      "text/html": [
       "<div>\n",
       "<style scoped>\n",
       "    .dataframe tbody tr th:only-of-type {\n",
       "        vertical-align: middle;\n",
       "    }\n",
       "\n",
       "    .dataframe tbody tr th {\n",
       "        vertical-align: top;\n",
       "    }\n",
       "\n",
       "    .dataframe thead th {\n",
       "        text-align: right;\n",
       "    }\n",
       "</style>\n",
       "<table border=\"1\" class=\"dataframe\">\n",
       "  <thead>\n",
       "    <tr style=\"text-align: right;\">\n",
       "      <th></th>\n",
       "      <th>asin</th>\n",
       "      <th>title_len</th>\n",
       "      <th>title_has_digit</th>\n",
       "      <th>description_text_len</th>\n",
       "      <th>text_full</th>\n",
       "      <th>brand</th>\n",
       "      <th>is_top20_brand</th>\n",
       "      <th>price_clean</th>\n",
       "      <th>has_price</th>\n",
       "      <th>category_main</th>\n",
       "      <th>...</th>\n",
       "      <th>tfidf_91</th>\n",
       "      <th>tfidf_92</th>\n",
       "      <th>tfidf_93</th>\n",
       "      <th>tfidf_94</th>\n",
       "      <th>tfidf_95</th>\n",
       "      <th>tfidf_96</th>\n",
       "      <th>tfidf_97</th>\n",
       "      <th>tfidf_98</th>\n",
       "      <th>tfidf_99</th>\n",
       "      <th>tfidf_100</th>\n",
       "    </tr>\n",
       "  </thead>\n",
       "  <tbody>\n",
       "    <tr>\n",
       "      <th>0</th>\n",
       "      <td>0853347867</td>\n",
       "      <td>-1.251232</td>\n",
       "      <td>0</td>\n",
       "      <td>-0.631098</td>\n",
       "      <td>Trim Healthy Mama Xylitol. Shipped from UK, pl...</td>\n",
       "      <td>Unknown</td>\n",
       "      <td>1</td>\n",
       "      <td>-0.518064</td>\n",
       "      <td>0</td>\n",
       "      <td>Cooking &amp; Baking</td>\n",
       "      <td>...</td>\n",
       "      <td>1.099800</td>\n",
       "      <td>0.677096</td>\n",
       "      <td>1.538071</td>\n",
       "      <td>-0.064891</td>\n",
       "      <td>-0.611596</td>\n",
       "      <td>2.097358</td>\n",
       "      <td>-1.535881</td>\n",
       "      <td>-0.427645</td>\n",
       "      <td>1.433121</td>\n",
       "      <td>0.793126</td>\n",
       "    </tr>\n",
       "    <tr>\n",
       "      <th>1</th>\n",
       "      <td>4639725043</td>\n",
       "      <td>-0.735001</td>\n",
       "      <td>1</td>\n",
       "      <td>-0.426547</td>\n",
       "      <td>Lipton Yellow Label Tea (loose tea) - 450g. Li...</td>\n",
       "      <td>Lipton</td>\n",
       "      <td>0</td>\n",
       "      <td>0.061373</td>\n",
       "      <td>1</td>\n",
       "      <td>Beverages</td>\n",
       "      <td>...</td>\n",
       "      <td>-0.016708</td>\n",
       "      <td>0.899488</td>\n",
       "      <td>-0.328298</td>\n",
       "      <td>1.685778</td>\n",
       "      <td>0.418503</td>\n",
       "      <td>1.372579</td>\n",
       "      <td>-0.176657</td>\n",
       "      <td>-0.481735</td>\n",
       "      <td>-1.121662</td>\n",
       "      <td>0.877780</td>\n",
       "    </tr>\n",
       "  </tbody>\n",
       "</table>\n",
       "<p>2 rows × 112 columns</p>\n",
       "</div>"
      ],
      "text/plain": [
       "         asin  title_len  title_has_digit  description_text_len  \\\n",
       "0  0853347867  -1.251232                0             -0.631098   \n",
       "1  4639725043  -0.735001                1             -0.426547   \n",
       "\n",
       "                                           text_full    brand  is_top20_brand  \\\n",
       "0  Trim Healthy Mama Xylitol. Shipped from UK, pl...  Unknown               1   \n",
       "1  Lipton Yellow Label Tea (loose tea) - 450g. Li...   Lipton               0   \n",
       "\n",
       "   price_clean  has_price     category_main  ...  tfidf_91  tfidf_92  \\\n",
       "0    -0.518064          0  Cooking & Baking  ...  1.099800  0.677096   \n",
       "1     0.061373          1         Beverages  ... -0.016708  0.899488   \n",
       "\n",
       "   tfidf_93  tfidf_94  tfidf_95  tfidf_96  tfidf_97  tfidf_98  tfidf_99  \\\n",
       "0  1.538071 -0.064891 -0.611596  2.097358 -1.535881 -0.427645  1.433121   \n",
       "1 -0.328298  1.685778  0.418503  1.372579 -0.176657 -0.481735 -1.121662   \n",
       "\n",
       "   tfidf_100  \n",
       "0   0.793126  \n",
       "1   0.877780  \n",
       "\n",
       "[2 rows x 112 columns]"
      ]
     },
     "execution_count": 13,
     "metadata": {},
     "output_type": "execute_result"
    }
   ],
   "source": [
    "print(df_meta.shape)\n",
    "df_meta.head(2)"
   ]
  },
  {
   "cell_type": "code",
   "execution_count": 14,
   "id": "b94f4c24",
   "metadata": {},
   "outputs": [
    {
     "name": "stdout",
     "output_type": "stream",
     "text": [
      "True\n",
      "True\n"
     ]
    }
   ],
   "source": [
    "# Проверим, что названия колонок совпадают\n",
    "print(\"asin\" in df_meta.columns)\n",
    "print(\"item_id\" in df_train_final.columns)"
   ]
  },
  {
   "cell_type": "code",
   "execution_count": 15,
   "id": "1bc97609",
   "metadata": {},
   "outputs": [],
   "source": [
    "# Переименуем asin в item_id\n",
    "df_meta.rename(columns={\"asin\": \"item_id\"}, inplace=True)"
   ]
  },
  {
   "cell_type": "markdown",
   "id": "09a9b25b",
   "metadata": {},
   "source": [
    "### Для baseline 0"
   ]
  },
  {
   "cell_type": "code",
   "execution_count": 16,
   "id": "318c898f",
   "metadata": {},
   "outputs": [],
   "source": [
    "# Мерджим трейн с фичами товаров\n",
    "df_train_merged = df_train_final.merge(\n",
    "    df_meta,\n",
    "    on=\"item_id\",\n",
    "    how=\"left\" # сохраняем все примеры, даже если нет мета-данных\n",
    ")"
   ]
  },
  {
   "cell_type": "code",
   "execution_count": 17,
   "id": "1b7ac376",
   "metadata": {},
   "outputs": [
    {
     "name": "stdout",
     "output_type": "stream",
     "text": [
      "(1873171, 114)\n",
      "label\n",
      "1    1573593\n",
      "0     299578\n",
      "Name: count, dtype: int64\n",
      "Доля строк с отсутствующей мета-информацией: user_id            0.000\n",
      "item_id            0.000\n",
      "label              0.000\n",
      "title_len          0.127\n",
      "title_has_digit    0.127\n",
      "                   ...  \n",
      "tfidf_96           0.127\n",
      "tfidf_97           0.127\n",
      "tfidf_98           0.127\n",
      "tfidf_99           0.127\n",
      "tfidf_100          0.127\n",
      "Length: 114, dtype: float64\n"
     ]
    }
   ],
   "source": [
    "print(df_train_merged.shape)\n",
    "print(df_train_merged[\"label\"].value_counts())\n",
    "print(\"Доля строк с отсутствующей мета-информацией:\", df_train_merged.isna().mean().round(3))"
   ]
  },
  {
   "cell_type": "code",
   "execution_count": 18,
   "id": "77241dcb",
   "metadata": {},
   "outputs": [
    {
     "name": "stdout",
     "output_type": "stream",
     "text": [
      "После удаления строк без критичных признаков: 1,635,089 строк\n"
     ]
    }
   ],
   "source": [
    "# Отфильтруем данные с пропусками в нижеупомянутых полях\n",
    "required_fields = [\"text_full\", \"image_main\", \"brand\"]\n",
    "\n",
    "df_train_clean = df_train_merged.dropna(subset=required_fields).copy()\n",
    "print(f\"После удаления строк без критичных признаков: {len(df_train_clean):,} строк\")"
   ]
  },
  {
   "cell_type": "code",
   "execution_count": 19,
   "id": "94d0853b",
   "metadata": {},
   "outputs": [],
   "source": [
    "# Создадим ground truth - словарь, где:\n",
    "# ключ — user_id\n",
    "# значение — множество товаров, с которыми он взаимодействовал в test\n",
    "# с label = 1\n",
    "df_test = df_test[df_test[\"label\"] == 1]\n",
    "ground_truth = df_test.groupby(\"user_id\")[\"item_id\"].apply(set).to_dict()"
   ]
  },
  {
   "cell_type": "markdown",
   "id": "1866ff03",
   "metadata": {},
   "source": [
    "### Ground truth и оценка по рейтингу\n",
    "\n",
    "В этом подходе мы считаем, что пользователь взаимодействовал с товаром, **если он поставил ему рейтинг >= 4**.\n",
    "\n",
    "Мы используем `test`-датасет и считаем `ground_truth` как множество товаров с положительной оценкой (`label = 1`) для каждого пользователя.\n",
    "\n",
    "#### Что мы делаем:\n",
    "\n",
    "- Отбираем `item_id`, у которых `label = 1` в тесте.\n",
    "- Группируем их по `user_id`, чтобы получить `ground_truth[user] - set(товаров)`.\n",
    "- Это будет использоваться для подсчёта метрик `Precision@k`, `MAP@k`.\n"
   ]
  },
  {
   "cell_type": "code",
   "execution_count": 20,
   "id": "1dd1c14c",
   "metadata": {},
   "outputs": [
    {
     "data": {
      "text/html": [
       "<div>\n",
       "<style scoped>\n",
       "    .dataframe tbody tr th:only-of-type {\n",
       "        vertical-align: middle;\n",
       "    }\n",
       "\n",
       "    .dataframe tbody tr th {\n",
       "        vertical-align: top;\n",
       "    }\n",
       "\n",
       "    .dataframe thead th {\n",
       "        text-align: right;\n",
       "    }\n",
       "</style>\n",
       "<table border=\"1\" class=\"dataframe\">\n",
       "  <thead>\n",
       "    <tr style=\"text-align: right;\">\n",
       "      <th></th>\n",
       "      <th>user_id</th>\n",
       "      <th>item_id</th>\n",
       "      <th>label</th>\n",
       "      <th>title_len</th>\n",
       "      <th>title_has_digit</th>\n",
       "      <th>description_text_len</th>\n",
       "      <th>text_full</th>\n",
       "      <th>brand</th>\n",
       "      <th>is_top20_brand</th>\n",
       "      <th>price_clean</th>\n",
       "      <th>...</th>\n",
       "      <th>tfidf_91</th>\n",
       "      <th>tfidf_92</th>\n",
       "      <th>tfidf_93</th>\n",
       "      <th>tfidf_94</th>\n",
       "      <th>tfidf_95</th>\n",
       "      <th>tfidf_96</th>\n",
       "      <th>tfidf_97</th>\n",
       "      <th>tfidf_98</th>\n",
       "      <th>tfidf_99</th>\n",
       "      <th>tfidf_100</th>\n",
       "    </tr>\n",
       "  </thead>\n",
       "  <tbody>\n",
       "    <tr>\n",
       "      <th>0</th>\n",
       "      <td>A291K1IIC03N7W</td>\n",
       "      <td>B004UETCWO</td>\n",
       "      <td>0</td>\n",
       "      <td>-0.370603</td>\n",
       "      <td>1.0</td>\n",
       "      <td>0.019311</td>\n",
       "      <td>Robinson's Orange Barley Water, 28.7-Ounce (Pa...</td>\n",
       "      <td>Robinsons</td>\n",
       "      <td>0.0</td>\n",
       "      <td>0.557295</td>\n",
       "      <td>...</td>\n",
       "      <td>-1.275664</td>\n",
       "      <td>-0.911563</td>\n",
       "      <td>1.150737</td>\n",
       "      <td>-3.58037</td>\n",
       "      <td>-0.024295</td>\n",
       "      <td>4.119833</td>\n",
       "      <td>-0.051605</td>\n",
       "      <td>1.528907</td>\n",
       "      <td>-3.408201</td>\n",
       "      <td>0.866693</td>\n",
       "    </tr>\n",
       "  </tbody>\n",
       "</table>\n",
       "<p>1 rows × 114 columns</p>\n",
       "</div>"
      ],
      "text/plain": [
       "          user_id     item_id  label  title_len  title_has_digit  \\\n",
       "0  A291K1IIC03N7W  B004UETCWO      0  -0.370603              1.0   \n",
       "\n",
       "   description_text_len                                          text_full  \\\n",
       "0              0.019311  Robinson's Orange Barley Water, 28.7-Ounce (Pa...   \n",
       "\n",
       "       brand  is_top20_brand  price_clean  ...  tfidf_91  tfidf_92  tfidf_93  \\\n",
       "0  Robinsons             0.0     0.557295  ... -1.275664 -0.911563  1.150737   \n",
       "\n",
       "  tfidf_94  tfidf_95  tfidf_96  tfidf_97  tfidf_98  tfidf_99  tfidf_100  \n",
       "0 -3.58037 -0.024295  4.119833 -0.051605  1.528907 -3.408201   0.866693  \n",
       "\n",
       "[1 rows x 114 columns]"
      ]
     },
     "execution_count": 20,
     "metadata": {},
     "output_type": "execute_result"
    }
   ],
   "source": [
    "df_train_clean.head(1)"
   ]
  },
  {
   "cell_type": "code",
   "execution_count": 21,
   "id": "f176e946",
   "metadata": {},
   "outputs": [],
   "source": [
    "# Сохраняем данные\n",
    "\n",
    "# Тренировочная выборка с мета-признаками\n",
    "df_train_clean.to_csv(\"data/df_train_baseline_0_rating_based.csv\", index=False)\n",
    "\n",
    "# Тест как лог взаимодействий для label по рейтингу\n",
    "# ground_truth можно будет пересчитать по df_test в следующем ноутбуке\n",
    "df_test.to_csv(\"data/df_test_ground_truth_rating_based.csv\", index=False)"
   ]
  },
  {
   "cell_type": "markdown",
   "id": "d7bda10d",
   "metadata": {},
   "source": [
    "### baseline 1"
   ]
  },
  {
   "cell_type": "code",
   "execution_count": 22,
   "id": "2a564e9c",
   "metadata": {},
   "outputs": [],
   "source": [
    "# Загружаем мета-датасет с уже готовыми tfidf_фичами\n",
    "df_meta_tfidf = pd.read_csv(\n",
    "    \"data/amazon_meta_clean.csv\",\n",
    "    na_values=[\"\"],\n",
    "    keep_default_na=False\n",
    ")"
   ]
  },
  {
   "cell_type": "code",
   "execution_count": 23,
   "id": "05163dc9",
   "metadata": {},
   "outputs": [],
   "source": [
    "# Переименуем asin в item_id\n",
    "df_meta_tfidf.rename(columns={\"asin\": \"item_id\"}, inplace=True)"
   ]
  },
  {
   "cell_type": "code",
   "execution_count": 24,
   "id": "ed5c32d8",
   "metadata": {},
   "outputs": [],
   "source": [
    "# Удалим clip-эмбеддинги (они здесь не нужны)\n",
    "clip_cols = [col for col in df_meta_tfidf.columns if col.startswith(\"clip_text_\") or col.startswith(\"clip_img_\")]\n",
    "df_meta_tfidf = df_meta_tfidf.drop(columns=clip_cols)"
   ]
  },
  {
   "cell_type": "code",
   "execution_count": 25,
   "id": "2821c108",
   "metadata": {},
   "outputs": [],
   "source": [
    "# Мерджим трейн с фичами товаров после tf-idf\n",
    "# для baseline 1\n",
    "df_train_merged = df_train_final.merge(\n",
    "    df_meta_tfidf,\n",
    "    on=\"item_id\",\n",
    "    how=\"left\"\n",
    ")"
   ]
  },
  {
   "cell_type": "code",
   "execution_count": 26,
   "id": "1219b55d",
   "metadata": {},
   "outputs": [
    {
     "name": "stdout",
     "output_type": "stream",
     "text": [
      "(1873171, 114)\n",
      "label\n",
      "1    1573593\n",
      "0     299578\n",
      "Name: count, dtype: int64\n",
      "Доля строк с отсутствующей мета-информацией: user_id            0.000\n",
      "item_id            0.000\n",
      "label              0.000\n",
      "title_len          0.127\n",
      "title_has_digit    0.127\n",
      "                   ...  \n",
      "tfidf_96           0.127\n",
      "tfidf_97           0.127\n",
      "tfidf_98           0.127\n",
      "tfidf_99           0.127\n",
      "tfidf_100          0.127\n",
      "Length: 114, dtype: float64\n"
     ]
    }
   ],
   "source": [
    "print(df_train_merged.shape)\n",
    "print(df_train_merged[\"label\"].value_counts())\n",
    "print(\"Доля строк с отсутствующей мета-информацией:\", df_train_merged.isna().mean().round(3))"
   ]
  },
  {
   "cell_type": "code",
   "execution_count": 27,
   "id": "8fe0cd32",
   "metadata": {},
   "outputs": [
    {
     "name": "stdout",
     "output_type": "stream",
     "text": [
      "После удаления строк без критичных признаков: 1,635,089 строк\n"
     ]
    }
   ],
   "source": [
    "# Отфильтруем данные с пропусками в нижеупомянутых полях\n",
    "required_fields = [\"text_full\", \"image_main\", \"brand\"]\n",
    "\n",
    "df_train_clean = df_train_merged.dropna(subset=required_fields).copy()\n",
    "print(f\"После удаления строк без критичных признаков: {len(df_train_clean):,} строк\")"
   ]
  },
  {
   "cell_type": "code",
   "execution_count": 28,
   "id": "45998a19",
   "metadata": {},
   "outputs": [],
   "source": [
    "# Удалим уже не нужные поля text_full и image_main\n",
    "df_train_clean.drop(columns=[\"text_full\", \"image_main\"], inplace=True)"
   ]
  },
  {
   "cell_type": "code",
   "execution_count": 29,
   "id": "c923c937",
   "metadata": {},
   "outputs": [
    {
     "data": {
      "text/plain": [
       "['user_id',\n",
       " 'item_id',\n",
       " 'label',\n",
       " 'title_len',\n",
       " 'title_has_digit',\n",
       " 'description_text_len',\n",
       " 'brand',\n",
       " 'is_top20_brand',\n",
       " 'price_clean',\n",
       " 'has_price',\n",
       " 'category_main',\n",
       " 'is_top9_category_main',\n",
       " 'tfidf_1',\n",
       " 'tfidf_2',\n",
       " 'tfidf_3',\n",
       " 'tfidf_4',\n",
       " 'tfidf_5',\n",
       " 'tfidf_6',\n",
       " 'tfidf_7',\n",
       " 'tfidf_8',\n",
       " 'tfidf_9',\n",
       " 'tfidf_10',\n",
       " 'tfidf_11',\n",
       " 'tfidf_12',\n",
       " 'tfidf_13',\n",
       " 'tfidf_14',\n",
       " 'tfidf_15',\n",
       " 'tfidf_16',\n",
       " 'tfidf_17',\n",
       " 'tfidf_18',\n",
       " 'tfidf_19',\n",
       " 'tfidf_20',\n",
       " 'tfidf_21',\n",
       " 'tfidf_22',\n",
       " 'tfidf_23',\n",
       " 'tfidf_24',\n",
       " 'tfidf_25',\n",
       " 'tfidf_26',\n",
       " 'tfidf_27',\n",
       " 'tfidf_28',\n",
       " 'tfidf_29',\n",
       " 'tfidf_30',\n",
       " 'tfidf_31',\n",
       " 'tfidf_32',\n",
       " 'tfidf_33',\n",
       " 'tfidf_34',\n",
       " 'tfidf_35',\n",
       " 'tfidf_36',\n",
       " 'tfidf_37',\n",
       " 'tfidf_38',\n",
       " 'tfidf_39',\n",
       " 'tfidf_40',\n",
       " 'tfidf_41',\n",
       " 'tfidf_42',\n",
       " 'tfidf_43',\n",
       " 'tfidf_44',\n",
       " 'tfidf_45',\n",
       " 'tfidf_46',\n",
       " 'tfidf_47',\n",
       " 'tfidf_48',\n",
       " 'tfidf_49',\n",
       " 'tfidf_50',\n",
       " 'tfidf_51',\n",
       " 'tfidf_52',\n",
       " 'tfidf_53',\n",
       " 'tfidf_54',\n",
       " 'tfidf_55',\n",
       " 'tfidf_56',\n",
       " 'tfidf_57',\n",
       " 'tfidf_58',\n",
       " 'tfidf_59',\n",
       " 'tfidf_60',\n",
       " 'tfidf_61',\n",
       " 'tfidf_62',\n",
       " 'tfidf_63',\n",
       " 'tfidf_64',\n",
       " 'tfidf_65',\n",
       " 'tfidf_66',\n",
       " 'tfidf_67',\n",
       " 'tfidf_68',\n",
       " 'tfidf_69',\n",
       " 'tfidf_70',\n",
       " 'tfidf_71',\n",
       " 'tfidf_72',\n",
       " 'tfidf_73',\n",
       " 'tfidf_74',\n",
       " 'tfidf_75',\n",
       " 'tfidf_76',\n",
       " 'tfidf_77',\n",
       " 'tfidf_78',\n",
       " 'tfidf_79',\n",
       " 'tfidf_80',\n",
       " 'tfidf_81',\n",
       " 'tfidf_82',\n",
       " 'tfidf_83',\n",
       " 'tfidf_84',\n",
       " 'tfidf_85',\n",
       " 'tfidf_86',\n",
       " 'tfidf_87',\n",
       " 'tfidf_88',\n",
       " 'tfidf_89',\n",
       " 'tfidf_90',\n",
       " 'tfidf_91',\n",
       " 'tfidf_92',\n",
       " 'tfidf_93',\n",
       " 'tfidf_94',\n",
       " 'tfidf_95',\n",
       " 'tfidf_96',\n",
       " 'tfidf_97',\n",
       " 'tfidf_98',\n",
       " 'tfidf_99',\n",
       " 'tfidf_100']"
      ]
     },
     "execution_count": 29,
     "metadata": {},
     "output_type": "execute_result"
    }
   ],
   "source": [
    "# Выведем итоговый список полей\n",
    "df_train_clean.columns.tolist()"
   ]
  },
  {
   "cell_type": "code",
   "execution_count": 30,
   "id": "dee3f246",
   "metadata": {},
   "outputs": [],
   "source": [
    "# Вторая тренировочная выборка для baseline 1\n",
    "# с признаками товаров после tf-idf\n",
    "df_train_clean.to_csv(\"data/df_train_baseline_1_rating_based.csv\", index=False)"
   ]
  },
  {
   "cell_type": "markdown",
   "id": "c842df85",
   "metadata": {},
   "source": [
    "CLIP-эмбеддинги (готовые)"
   ]
  },
  {
   "cell_type": "code",
   "execution_count": 31,
   "id": "b864436b",
   "metadata": {},
   "outputs": [],
   "source": [
    "# Подгружаем эмбеддинги и мета-фичи\n",
    "df_meta_clip = pd.read_csv(\n",
    "    \"data/amazon_meta_clean.csv\",\n",
    "    na_values=[\"\"],\n",
    "    keep_default_na=False\n",
    ")"
   ]
  },
  {
   "cell_type": "code",
   "execution_count": 32,
   "id": "478d98b9",
   "metadata": {},
   "outputs": [],
   "source": [
    "# Переименуем asin в item_id\n",
    "df_meta_clip.rename(columns={\"asin\": \"item_id\"}, inplace=True)"
   ]
  },
  {
   "cell_type": "code",
   "execution_count": 33,
   "id": "c5401650",
   "metadata": {},
   "outputs": [],
   "source": [
    "# Удалим tfidf-фичи (они здесь не нужны)\n",
    "tfidf_cols = [col for col in df_meta_clip.columns if col.startswith(\"tfidf_\")]\n",
    "df_meta_clip = df_meta_clip.drop(columns=tfidf_cols)"
   ]
  },
  {
   "cell_type": "code",
   "execution_count": 34,
   "id": "d8b98d8d",
   "metadata": {},
   "outputs": [],
   "source": [
    "# Мерджим трейн с фичами товаров после CLIP-энкодера\n",
    "# для мэтчинговой модели\n",
    "df_train_merged_clip = df_train_final.merge(\n",
    "    df_meta_clip,\n",
    "    on=\"item_id\",\n",
    "    how=\"left\"\n",
    ")"
   ]
  },
  {
   "cell_type": "code",
   "execution_count": 35,
   "id": "53e414d4",
   "metadata": {},
   "outputs": [
    {
     "name": "stdout",
     "output_type": "stream",
     "text": [
      "После удаления строк без критичных признаков: 1,635,089 строк\n"
     ]
    }
   ],
   "source": [
    "# Отфильтруем данные с пропусками в нижеупомянутых полях\n",
    "required_fields = [\"text_full\", \"image_main\", \"brand\"]\n",
    "df_train_clip_clean = df_train_merged_clip.dropna(subset=required_fields).copy()\n",
    "print(f\"После удаления строк без критичных признаков: {len(df_train_clip_clean):,} строк\")"
   ]
  },
  {
   "cell_type": "code",
   "execution_count": 36,
   "id": "bbe8bb3b",
   "metadata": {},
   "outputs": [],
   "source": [
    "# Удалим текст и картинки (они уже в эмбеддингах)\n",
    "df_train_clip_clean.drop(columns=[\"text_full\", \"image_main\"], inplace=True)"
   ]
  },
  {
   "cell_type": "code",
   "execution_count": 37,
   "id": "f908a035",
   "metadata": {},
   "outputs": [],
   "source": [
    "# Сохраняем CLIP-трейн\n",
    "df_train_clip_clean.to_csv(\"data/df_train_CLIP_rating_based.csv\", index=False)"
   ]
  },
  {
   "cell_type": "markdown",
   "id": "3e889ac4",
   "metadata": {},
   "source": [
    "### Выводы и сохранение данных\n",
    "\n",
    "- Итоговые обучающие выборки (`df_train_baseline_0_rating_based.csv`, `df_train_baseline_1_rating_based.csv`, `df_train_CLIP_rating_based.csv`) содержат сбалансированные пары `(user, item)` с метками 0 и 1 (проставленных на основе rating-based подхода).\n",
    "- Тестовая выборка (`df_test_ground_truth_rating_based.csv`) представляет собой лог реальных взаимодействий за выбранный год, на основе которого будет построен `ground_truth` — словарь соответствия `user_id → set(item_id)`, используемый для оценки рекомендаций.\n",
    "\n",
    "Эти данные будут использоваться в ноутбуке с обучением и валидацией моделей."
   ]
  }
 ],
 "metadata": {
  "kernelspec": {
   "display_name": "venv",
   "language": "python",
   "name": "python3"
  },
  "language_info": {
   "codemirror_mode": {
    "name": "ipython",
    "version": 3
   },
   "file_extension": ".py",
   "mimetype": "text/x-python",
   "name": "python",
   "nbconvert_exporter": "python",
   "pygments_lexer": "ipython3",
   "version": "3.12.7"
  }
 },
 "nbformat": 4,
 "nbformat_minor": 5
}
