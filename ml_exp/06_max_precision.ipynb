{
 "cells": [
  {
   "cell_type": "markdown",
   "id": "f585e6ff",
   "metadata": {},
   "source": [
    "## Калькуляция максимально возможного значения метрики Precision@10.\n",
    "\n",
    "Здесь мы рассчитываем максимально возможное значения `Precision@10` для тестовой выборки пользователей."
   ]
  },
  {
   "cell_type": "code",
   "execution_count": null,
   "id": "04f5a203",
   "metadata": {},
   "outputs": [],
   "source": [
    "# Импортируем основные библиотеки для работы с данными и Torch\n",
    "import pandas as pd\n",
    "import numpy as np\n",
    "import random\n",
    "import torch\n",
    "from tqdm import tqdm\n",
    "import sys\n",
    "from sklearn.model_selection import train_test_split\n",
    "from sklearn.metrics import accuracy_score"
   ]
  },
  {
   "cell_type": "code",
   "execution_count": 2,
   "id": "6c04e29f",
   "metadata": {},
   "outputs": [],
   "source": [
    "# Установка детерминированного поведения для воспроизводимости результатов\n",
    "def seed_everything(seed=42):\n",
    "    random.seed(seed)\n",
    "    np.random.seed(seed)\n",
    "    torch.manual_seed(seed)\n",
    "    torch.cuda.manual_seed_all(seed)\n",
    "    torch.backends.cudnn.deterministic = True\n",
    "    torch.backends.cudnn.benchmark = False\n",
    "\n",
    "seed_everything(42)"
   ]
  },
  {
   "cell_type": "code",
   "execution_count": 3,
   "id": "206d7d26",
   "metadata": {},
   "outputs": [],
   "source": [
    "# Загружаем тестовый датасет и обучающую выборку (rating-based sampling)\n",
    "# для последующего формирования ground truth\n",
    "df_test = pd.read_csv(\"data/df_test_ground_truth_rating_based.csv\")"
   ]
  },
  {
   "cell_type": "code",
   "execution_count": 4,
   "id": "4ddf434b",
   "metadata": {},
   "outputs": [],
   "source": [
    "# Создаём словарь ground truth: реальные товары, \n",
    "# с которыми взаимодействовал пользователь\n",
    "ground_truth = df_test.groupby(\"user_id\")[\"item_id\"].apply(set).to_dict()"
   ]
  },
  {
   "cell_type": "code",
   "execution_count": 5,
   "id": "2450c8a7",
   "metadata": {},
   "outputs": [],
   "source": [
    "# Загружаем тренировочную выборку с CLIP-эмбеддингами (текст + изображение)\n",
    "df_train = pd.read_csv(\n",
    "    \"data/df_train_CLIP_rating_based.csv\",\n",
    "    na_values=[\"\"],  # исключаем \"Unknown\"\n",
    "    keep_default_na=False\n",
    ")"
   ]
  },
  {
   "cell_type": "code",
   "execution_count": 6,
   "id": "573022f6",
   "metadata": {},
   "outputs": [],
   "source": [
    "# Выбираем CLIP-эмбеддинги (текст + изображение)\n",
    "item_vector_cols = [col for col in df_train.columns if col.startswith(\"clip_text_\") or col.startswith(\"clip_img_\")]\n",
    "user_ids = df_train[\"user_id\"].unique()"
   ]
  },
  {
   "cell_type": "code",
   "execution_count": 7,
   "id": "2912d294",
   "metadata": {},
   "outputs": [],
   "source": [
    "# Извлекаем CLIP-эмбеддинги\n",
    "clip_vectors  = df_train.drop_duplicates(\"item_id\")[[\"item_id\"] + item_vector_cols].set_index(\"item_id\")"
   ]
  },
  {
   "cell_type": "code",
   "execution_count": 8,
   "id": "fdbf052c",
   "metadata": {},
   "outputs": [],
   "source": [
    "item_vectors = clip_vectors.copy()"
   ]
  },
  {
   "cell_type": "code",
   "execution_count": 9,
   "id": "3aefbc36",
   "metadata": {},
   "outputs": [
    {
     "name": "stdout",
     "output_type": "stream",
     "text": [
      "clip_vectors shape: (67706, 200)\n",
      "item_vectors shape: (67706, 200)\n"
     ]
    }
   ],
   "source": [
    "print(\"clip_vectors shape:\", clip_vectors.shape)\n",
    "print(\"item_vectors shape:\", item_vectors.shape)"
   ]
  },
  {
   "cell_type": "code",
   "execution_count": 10,
   "id": "f31ec477",
   "metadata": {},
   "outputs": [],
   "source": [
    "# Формируем вектор интересов пользователя как среднее по позитивным item-векторам\n",
    "user_vectors = {}"
   ]
  },
  {
   "cell_type": "code",
   "execution_count": 11,
   "id": "27e00802",
   "metadata": {},
   "outputs": [
    {
     "name": "stdout",
     "output_type": "stream",
     "text": [
      "User vector aggregation: 100%|██████████| 551853/551853 [02:33<00:00, 3605.11it/s]\n"
     ]
    }
   ],
   "source": [
    "for user_id, group in tqdm(df_train[df_train[\"label\"] == 1].groupby(\"user_id\"), desc=\"User vector aggregation\", file=sys.stdout):\n",
    "    item_ids = group[\"item_id\"].values\n",
    "    vectors = item_vectors.loc[item_ids].values\n",
    "    user_vectors[user_id] = np.mean(vectors, axis=0)"
   ]
  },
  {
   "cell_type": "code",
   "execution_count": 12,
   "id": "f3b85ad7",
   "metadata": {},
   "outputs": [],
   "source": [
    "# Вычислим максимальный Precision@10 для всех юзеров, у которых есть user_vector\n",
    "def max_possible_precision_at_10(ground_truth, user_vectors, k=10):\n",
    "    scores = []\n",
    "    for user_id, gt_items in ground_truth.items():\n",
    "        if user_id not in user_vectors:\n",
    "            continue\n",
    "        max_hits = min(len(gt_items), k)\n",
    "        scores.append(max_hits / k)\n",
    "    return round(np.mean(scores), 4)"
   ]
  },
  {
   "cell_type": "code",
   "execution_count": 13,
   "id": "1e172fdb",
   "metadata": {},
   "outputs": [
    {
     "name": "stdout",
     "output_type": "stream",
     "text": [
      "Максимально достижимый Precision@10: 0.1616\n"
     ]
    }
   ],
   "source": [
    "max_prec = max_possible_precision_at_10(ground_truth, user_vectors)\n",
    "print(\"Максимально достижимый Precision@10:\", max_prec)"
   ]
  }
 ],
 "metadata": {
  "kernelspec": {
   "display_name": "venv",
   "language": "python",
   "name": "python3"
  },
  "language_info": {
   "codemirror_mode": {
    "name": "ipython",
    "version": 3
   },
   "file_extension": ".py",
   "mimetype": "text/x-python",
   "name": "python",
   "nbconvert_exporter": "python",
   "pygments_lexer": "ipython3",
   "version": "3.12.7"
  }
 },
 "nbformat": 4,
 "nbformat_minor": 5
}
