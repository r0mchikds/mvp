{
 "cells": [
  {
   "cell_type": "code",
   "execution_count": 1,
   "id": "a0be6fac",
   "metadata": {},
   "outputs": [],
   "source": [
    "# Импорт библиотек\n",
    "import pandas as pd\n",
    "import numpy as np\n",
    "import datetime\n",
    "import random"
   ]
  },
  {
   "cell_type": "code",
   "execution_count": 2,
   "id": "d31dc914",
   "metadata": {},
   "outputs": [],
   "source": [
    "# Загружаем основной датасет взаимодействий пользователей и товаров\n",
    "df = pd.read_csv(\"data/amazon_interactions_filtered.csv\")"
   ]
  },
  {
   "cell_type": "code",
   "execution_count": 3,
   "id": "bb4328ef",
   "metadata": {},
   "outputs": [],
   "source": [
    "# Оставим только взаимодействия, попадающие в период 2015–2018 годов\n",
    "df = df[df[\"timestamp\"] >= pd.Timestamp(\"2015-01-01\").timestamp()].copy()"
   ]
  },
  {
   "cell_type": "code",
   "execution_count": 4,
   "id": "ce57cea0",
   "metadata": {},
   "outputs": [],
   "source": [
    "# Сортируем по timestamp, чтобы сохранить временную консистентность\n",
    "df = df.sort_values(\"timestamp\")"
   ]
  },
  {
   "cell_type": "code",
   "execution_count": 5,
   "id": "2b29d2be",
   "metadata": {},
   "outputs": [],
   "source": [
    "# Используем временной сплит: 2015–2017 как train, 2018 как test\n",
    "df_train = df[df[\"timestamp\"] < pd.Timestamp(\"2018-01-01\").timestamp()]\n",
    "df_test = df[(df[\"timestamp\"] >= pd.Timestamp(\"2018-01-01\").timestamp()) & \n",
    "             (df[\"timestamp\"] < pd.Timestamp(\"2018-10-01\").timestamp())]"
   ]
  },
  {
   "cell_type": "code",
   "execution_count": 6,
   "id": "5f02a890",
   "metadata": {},
   "outputs": [],
   "source": [
    "# Подготовим два варианта: rating-based и interaction-based\n",
    "df_train_rating_based = df_train.copy()\n",
    "df_train_interaction_based = df_train.copy()"
   ]
  },
  {
   "cell_type": "code",
   "execution_count": 7,
   "id": "45be1c64",
   "metadata": {},
   "outputs": [],
   "source": [
    "# Метка = 1, если рейтинг >= 4; иначе 0\n",
    "df_train_rating_based[\"label\"] = (df_train_rating_based[\"rating\"] >= 4).astype(int)"
   ]
  },
  {
   "cell_type": "code",
   "execution_count": 8,
   "id": "db53f5b4",
   "metadata": {},
   "outputs": [],
   "source": [
    "# Все взаимодействия считаем положительными (label = 1)\n",
    "df_train_interaction_based[\"label\"] = 1"
   ]
  },
  {
   "cell_type": "code",
   "execution_count": 9,
   "id": "5b8f9789",
   "metadata": {},
   "outputs": [],
   "source": [
    "# Чтобы избежать утечки информации\n",
    "df_train_rating_based = df_train_rating_based[[\"user_id\", \"item_id\", \"label\"]].copy()\n",
    "df_train_interaction_based = df_train_interaction_based[[\"user_id\", \"item_id\", \"label\"]].copy()"
   ]
  },
  {
   "cell_type": "code",
   "execution_count": 10,
   "id": "f09a166c",
   "metadata": {},
   "outputs": [
    {
     "name": "stdout",
     "output_type": "stream",
     "text": [
      "Rating-based labels:\n",
      " label\n",
      "1    1573593\n",
      "0     299578\n",
      "Name: count, dtype: int64\n",
      "\n",
      "Interaction-based labels:\n",
      " label\n",
      "1    1873171\n",
      "Name: count, dtype: int64\n"
     ]
    }
   ],
   "source": [
    "# Проверим размер и баланс классов\n",
    "print(\"Rating-based labels:\\n\", df_train_rating_based[\"label\"].value_counts())\n",
    "print(\"\\nInteraction-based labels:\\n\", df_train_interaction_based[\"label\"].value_counts())"
   ]
  },
  {
   "cell_type": "code",
   "execution_count": 11,
   "id": "8566b190",
   "metadata": {},
   "outputs": [],
   "source": [
    "# Считаем только взаимодействия с label = 1 (оценка >= 4)\n",
    "df_test_rating = df_test[df_test[\"rating\"] >= 4].copy()\n",
    "df_test_rating[\"label\"] = 1\n",
    "ground_truth_rating = df_test_rating.groupby(\"user_id\")[\"item_id\"].apply(set).to_dict()"
   ]
  },
  {
   "cell_type": "code",
   "execution_count": 12,
   "id": "e95e97c8",
   "metadata": {},
   "outputs": [],
   "source": [
    "# Считаем любое взаимодействие положительным\n",
    "df_test_interaction = df_test.copy()\n",
    "df_test_interaction[\"label\"] = 1\n",
    "ground_truth_interaction = df_test_interaction.groupby(\"user_id\")[\"item_id\"].apply(set).to_dict()"
   ]
  },
  {
   "cell_type": "code",
   "execution_count": 13,
   "id": "096f0de5",
   "metadata": {},
   "outputs": [
    {
     "name": "stdout",
     "output_type": "stream",
     "text": [
      "Ground truth (rating-based): 140627 пользователей\n",
      "Ground truth (interaction-based): 165753 пользователей\n"
     ]
    }
   ],
   "source": [
    "# Быстрая проверка количества пользователей с ground_truth\n",
    "print(f\"Ground truth (rating-based): {len(ground_truth_rating)} пользователей\")\n",
    "print(f\"Ground truth (interaction-based): {len(ground_truth_interaction)} пользователей\")"
   ]
  },
  {
   "cell_type": "code",
   "execution_count": 14,
   "id": "fceae227",
   "metadata": {},
   "outputs": [],
   "source": [
    "# Фиксируем список пользователей, которые пересекаются с трейном (уже был отбор выше)\n",
    "# Этот список пригодится позже для фильтрации предсказаний\n",
    "users_in_train = set(df_train[\"user_id\"])"
   ]
  },
  {
   "cell_type": "code",
   "execution_count": 15,
   "id": "ba050841",
   "metadata": {},
   "outputs": [],
   "source": [
    "# Формируем множество пользователей, у которых есть user_vector (на основе положительных взаимодействий)\n",
    "users_with_user_vector = set(df_train_rating_based[df_train_rating_based[\"label\"] == 1][\"user_id\"])"
   ]
  },
  {
   "cell_type": "code",
   "execution_count": 16,
   "id": "5f5db7a5",
   "metadata": {},
   "outputs": [],
   "source": [
    "# Отфильтровываем ground_truth для рейтингов — только юзеры с положительными примерами в трейне\n",
    "ground_truth_rating = {u: items for u, items in ground_truth_rating.items() if u in users_with_user_vector}"
   ]
  },
  {
   "cell_type": "code",
   "execution_count": 17,
   "id": "a9ff4750",
   "metadata": {},
   "outputs": [],
   "source": [
    "# Для interaction-based можно оставить фильтрацию по users_in_train, если хочешь, но формально она уже не нужна — все interaction-пользователи участвуют в трейне с label=1\n",
    "ground_truth_interaction = {u: items for u, items in ground_truth_interaction.items() if u in users_in_train}"
   ]
  },
  {
   "cell_type": "code",
   "execution_count": 18,
   "id": "e759da76",
   "metadata": {},
   "outputs": [],
   "source": [
    "# Загрузка мета-данных товаров\n",
    "df_meta = pd.read_csv(\n",
    "    \"data/amazon_meta_clean.csv\",  # путь к актуальному файлу\n",
    "    na_values=[\"\"],\n",
    "    keep_default_na=False\n",
    ")"
   ]
  },
  {
   "cell_type": "code",
   "execution_count": 19,
   "id": "ff8722d7",
   "metadata": {},
   "outputs": [],
   "source": [
    "# Переименование ключа для мержа\n",
    "df_meta.rename(columns={\"asin\": \"item_id\"}, inplace=True)"
   ]
  },
  {
   "cell_type": "code",
   "execution_count": 20,
   "id": "c5fceebf",
   "metadata": {},
   "outputs": [],
   "source": [
    "# Удалим tf-idf признаки — они не нужны для CLIP\n",
    "tfidf_cols = [col for col in df_meta.columns if col.startswith(\"tfidf_\")]\n",
    "df_meta = df_meta.drop(columns=tfidf_cols)"
   ]
  },
  {
   "cell_type": "code",
   "execution_count": 21,
   "id": "22b8e456",
   "metadata": {},
   "outputs": [],
   "source": [
    "# Удалим строки с отсутствующими критичными полями\n",
    "required_fields = [\"text_full\", \"image_main\", \"brand\"]\n",
    "df_meta_clean = df_meta.dropna(subset=required_fields).copy()"
   ]
  },
  {
   "cell_type": "code",
   "execution_count": 22,
   "id": "78bc954f",
   "metadata": {},
   "outputs": [],
   "source": [
    "# Удалим текст и изображения (они уже представлены в эмбеддингах)\n",
    "df_meta_clean.drop(columns=[\"text_full\", \"image_main\"], inplace=True)"
   ]
  },
  {
   "cell_type": "code",
   "execution_count": 23,
   "id": "02fcf78a",
   "metadata": {},
   "outputs": [
    {
     "name": "stdout",
     "output_type": "stream",
     "text": [
      "Размер df_meta_clean после фильтрации: (148948, 210)\n"
     ]
    }
   ],
   "source": [
    "# Проверим размер после очистки\n",
    "print(f\"Размер df_meta_clean после фильтрации: {df_meta_clean.shape}\")"
   ]
  },
  {
   "cell_type": "code",
   "execution_count": 24,
   "id": "57edb047",
   "metadata": {},
   "outputs": [],
   "source": [
    "# Мержим с train по рейтингам\n",
    "df_train_rating_merged = df_train_rating_based.merge(\n",
    "    df_meta_clean,\n",
    "    on=\"item_id\",\n",
    "    how=\"inner\"  # жёсткий мерж: нужны только товары с признаками\n",
    ")"
   ]
  },
  {
   "cell_type": "code",
   "execution_count": 25,
   "id": "5a5f5034",
   "metadata": {},
   "outputs": [],
   "source": [
    "# Аналогично — для interaction-based\n",
    "df_train_interaction_merged = df_train_interaction_based.merge(\n",
    "    df_meta_clean,\n",
    "    on=\"item_id\",\n",
    "    how=\"inner\"\n",
    ")"
   ]
  },
  {
   "cell_type": "code",
   "execution_count": 26,
   "id": "5fa2e242",
   "metadata": {},
   "outputs": [
    {
     "name": "stdout",
     "output_type": "stream",
     "text": [
      "Rating-based merged: 1635089\n",
      "Interaction-based merged: 1635089\n"
     ]
    }
   ],
   "source": [
    "# Проверим, сколько осталось строк после мержа\n",
    "print(\"Rating-based merged:\", len(df_train_rating_merged))\n",
    "print(\"Interaction-based merged:\", len(df_train_interaction_merged))"
   ]
  },
  {
   "cell_type": "code",
   "execution_count": 27,
   "id": "b1fc9bc5",
   "metadata": {},
   "outputs": [],
   "source": [
    "# Оставим только пользователей, у которых есть положительные примеры\n",
    "# Это пригодится позже при агрегации user-векторов\n",
    "positive_users_rating = set(df_train_rating_merged[df_train_rating_merged[\"label\"] == 1][\"user_id\"])\n",
    "positive_users_interaction = set(df_train_interaction_merged[df_train_interaction_merged[\"label\"] == 1][\"user_id\"])"
   ]
  },
  {
   "cell_type": "code",
   "execution_count": 28,
   "id": "83ec0c48",
   "metadata": {},
   "outputs": [],
   "source": [
    "# Выделим только CLIP-эмбеддинги из df_meta_clean\n",
    "clip_vector_cols = [col for col in df_meta_clean.columns if col.startswith(\"clip_text_\") or col.startswith(\"clip_img_\")]"
   ]
  },
  {
   "cell_type": "code",
   "execution_count": 29,
   "id": "3f91ad49",
   "metadata": {},
   "outputs": [],
   "source": [
    "# Подготовим item-векторы для инференса: item_id + эмбеддинги\n",
    "item_vectors_full = df_meta_clean[[\"item_id\"] + clip_vector_cols].drop_duplicates(\"item_id\").set_index(\"item_id\")"
   ]
  },
  {
   "cell_type": "code",
   "execution_count": 30,
   "id": "bd980548",
   "metadata": {},
   "outputs": [],
   "source": [
    "# Список item_id кандидатов\n",
    "candidate_items = item_vectors_full.index.tolist()"
   ]
  },
  {
   "cell_type": "code",
   "execution_count": 31,
   "id": "047d2e5c",
   "metadata": {},
   "outputs": [],
   "source": [
    "# Матрица эмбеддингов товаров (будет подаваться в модель при инференсе)\n",
    "candidate_vectors = item_vectors_full.values"
   ]
  },
  {
   "cell_type": "markdown",
   "id": "102066a3",
   "metadata": {},
   "source": [
    "## Создание hard negatives"
   ]
  },
  {
   "cell_type": "code",
   "execution_count": 32,
   "id": "e60607d5",
   "metadata": {},
   "outputs": [],
   "source": [
    "# Оставим только нужные поля: item_id + clip-эмбеддинги\n",
    "df_meta_sample = df_meta_clean[[\"item_id\"] + clip_vector_cols].drop_duplicates(\"item_id\").copy()\n",
    "df_meta_sample = df_meta_sample.set_index(\"item_id\")"
   ]
  },
  {
   "cell_type": "code",
   "execution_count": 33,
   "id": "2d9a3296",
   "metadata": {},
   "outputs": [],
   "source": [
    "from sklearn.metrics.pairwise import cosine_similarity\n",
    "from tqdm import tqdm\n",
    "import sys"
   ]
  },
  {
   "cell_type": "code",
   "execution_count": 34,
   "id": "9ab2a922",
   "metadata": {},
   "outputs": [],
   "source": [
    "# Число негативных примеров на одного пользователя\n",
    "n_neg = 3"
   ]
  },
  {
   "cell_type": "markdown",
   "id": "d2f29b38",
   "metadata": {},
   "source": [
    "### rating-based"
   ]
  },
  {
   "cell_type": "code",
   "execution_count": 35,
   "id": "5a73a735",
   "metadata": {},
   "outputs": [],
   "source": [
    "import faiss"
   ]
  },
  {
   "cell_type": "code",
   "execution_count": 37,
   "id": "26175155",
   "metadata": {},
   "outputs": [],
   "source": [
    "# Словарь: user_id → список item_id, которые пользователь оценил положительно\n",
    "user_positive_items = (\n",
    "    df_train_rating_merged[df_train_rating_merged[\"label\"] == 1]\n",
    "    .groupby(\"user_id\")[\"item_id\"]\n",
    "    .apply(set)\n",
    "    .to_dict()\n",
    ")"
   ]
  },
  {
   "cell_type": "code",
   "execution_count": 38,
   "id": "fcc53517",
   "metadata": {},
   "outputs": [],
   "source": [
    "# Преобразуем item-векторы в матрицу float32\n",
    "item_matrix = np.ascontiguousarray(df_meta_sample.values.astype(\"float32\"))\n",
    "item_ids_all = df_meta_sample.index.tolist()"
   ]
  },
  {
   "cell_type": "code",
   "execution_count": 39,
   "id": "1930b2d0",
   "metadata": {},
   "outputs": [],
   "source": [
    "# Нормализуем item-векторы для косинусного сходства (L2-нормировка)\n",
    "faiss.normalize_L2(item_matrix)"
   ]
  },
  {
   "cell_type": "code",
   "execution_count": 40,
   "id": "b72ef387",
   "metadata": {},
   "outputs": [],
   "source": [
    "# Создаем FAISS index\n",
    "index = faiss.IndexFlatIP(item_matrix.shape[1])\n",
    "index.add(item_matrix)"
   ]
  },
  {
   "cell_type": "code",
   "execution_count": 41,
   "id": "2643519a",
   "metadata": {},
   "outputs": [],
   "source": [
    "# Хранилище для хард-негативов\n",
    "hard_negatives = []"
   ]
  },
  {
   "cell_type": "code",
   "execution_count": 42,
   "id": "72097660",
   "metadata": {},
   "outputs": [
    {
     "name": "stdout",
     "output_type": "stream",
     "text": [
      "Generating hard negatives (FAISS): 100%|██████████| 551853/551853 [1:08:30<00:00, 134.25it/s]\n"
     ]
    }
   ],
   "source": [
    "for user_id in tqdm(user_positive_items.keys(), desc=\"Generating hard negatives (FAISS)\", file=sys.stdout):\n",
    "    pos_items = user_positive_items[user_id]\n",
    "\n",
    "    if len(pos_items) < 1:\n",
    "        continue\n",
    "\n",
    "    try:\n",
    "        pos_vectors = df_meta_sample.loc[list(pos_items)].values.astype(\"float32\")\n",
    "    except KeyError:\n",
    "        continue\n",
    "\n",
    "    # Средний вектор интересов пользователя\n",
    "    user_vec = np.mean(pos_vectors, axis=0).reshape(1, -1).astype(\"float32\")\n",
    "    faiss.normalize_L2(user_vec)\n",
    "\n",
    "    # Поиск ближайших top-100 кандидатов\n",
    "    D, I = index.search(user_vec, 100)\n",
    "\n",
    "    # Отбираем top-N, исключая позитивные\n",
    "    count = 0\n",
    "    for idx in I[0]:\n",
    "        candidate_item = item_ids_all[idx]\n",
    "        if candidate_item not in pos_items:\n",
    "            hard_negatives.append((user_id, candidate_item, 0))\n",
    "            count += 1\n",
    "        if count >= n_neg:\n",
    "            break"
   ]
  },
  {
   "cell_type": "code",
   "execution_count": 43,
   "id": "ba3591a6",
   "metadata": {},
   "outputs": [],
   "source": [
    "# Создание датафрейма с хард-негативами\n",
    "df_hard_negatives_rating = pd.DataFrame(hard_negatives, columns=[\"user_id\", \"item_id\", \"label\"])"
   ]
  },
  {
   "cell_type": "code",
   "execution_count": 44,
   "id": "ef65dc4c",
   "metadata": {},
   "outputs": [
    {
     "name": "stdout",
     "output_type": "stream",
     "text": [
      "Hard negatives (rating-based): 1,655,559 строк\n"
     ]
    },
    {
     "data": {
      "text/html": [
       "<div>\n",
       "<style scoped>\n",
       "    .dataframe tbody tr th:only-of-type {\n",
       "        vertical-align: middle;\n",
       "    }\n",
       "\n",
       "    .dataframe tbody tr th {\n",
       "        vertical-align: top;\n",
       "    }\n",
       "\n",
       "    .dataframe thead th {\n",
       "        text-align: right;\n",
       "    }\n",
       "</style>\n",
       "<table border=\"1\" class=\"dataframe\">\n",
       "  <thead>\n",
       "    <tr style=\"text-align: right;\">\n",
       "      <th></th>\n",
       "      <th>user_id</th>\n",
       "      <th>item_id</th>\n",
       "      <th>label</th>\n",
       "    </tr>\n",
       "  </thead>\n",
       "  <tbody>\n",
       "    <tr>\n",
       "      <th>0</th>\n",
       "      <td>A000013090ZI3HIT9N5V</td>\n",
       "      <td>B00OOJM0LA</td>\n",
       "      <td>0</td>\n",
       "    </tr>\n",
       "    <tr>\n",
       "      <th>1</th>\n",
       "      <td>A000013090ZI3HIT9N5V</td>\n",
       "      <td>B01G68JPQ4</td>\n",
       "      <td>0</td>\n",
       "    </tr>\n",
       "    <tr>\n",
       "      <th>2</th>\n",
       "      <td>A000013090ZI3HIT9N5V</td>\n",
       "      <td>B0059AP67S</td>\n",
       "      <td>0</td>\n",
       "    </tr>\n",
       "    <tr>\n",
       "      <th>3</th>\n",
       "      <td>A00408825PVJW7GFLEGU</td>\n",
       "      <td>B00COBZGMU</td>\n",
       "      <td>0</td>\n",
       "    </tr>\n",
       "    <tr>\n",
       "      <th>4</th>\n",
       "      <td>A00408825PVJW7GFLEGU</td>\n",
       "      <td>B012XC8FYU</td>\n",
       "      <td>0</td>\n",
       "    </tr>\n",
       "  </tbody>\n",
       "</table>\n",
       "</div>"
      ],
      "text/plain": [
       "                user_id     item_id  label\n",
       "0  A000013090ZI3HIT9N5V  B00OOJM0LA      0\n",
       "1  A000013090ZI3HIT9N5V  B01G68JPQ4      0\n",
       "2  A000013090ZI3HIT9N5V  B0059AP67S      0\n",
       "3  A00408825PVJW7GFLEGU  B00COBZGMU      0\n",
       "4  A00408825PVJW7GFLEGU  B012XC8FYU      0"
      ]
     },
     "execution_count": 44,
     "metadata": {},
     "output_type": "execute_result"
    }
   ],
   "source": [
    "# Проверим размер и немного примеров\n",
    "print(f\"Hard negatives (rating-based): {len(df_hard_negatives_rating):,} строк\")\n",
    "df_hard_negatives_rating.head()"
   ]
  },
  {
   "cell_type": "code",
   "execution_count": 45,
   "id": "cb16c5ef",
   "metadata": {},
   "outputs": [],
   "source": [
    "# Отбираем только положительные примеры\n",
    "df_positive_rating = df_train_rating_merged[df_train_rating_merged[\"label\"] == 1][[\"user_id\", \"item_id\", \"label\"]].copy()"
   ]
  },
  {
   "cell_type": "code",
   "execution_count": 46,
   "id": "41ed19aa",
   "metadata": {},
   "outputs": [],
   "source": [
    "# Объединяем\n",
    "df_train_rating_hard = pd.concat([df_positive_rating, df_hard_negatives_rating], ignore_index=True)"
   ]
  },
  {
   "cell_type": "code",
   "execution_count": 47,
   "id": "c0deb213",
   "metadata": {},
   "outputs": [
    {
     "name": "stdout",
     "output_type": "stream",
     "text": [
      "Финальный датасет (rating-based):\n",
      "label\n",
      "0    1655559\n",
      "1    1374168\n",
      "Name: count, dtype: int64\n"
     ]
    }
   ],
   "source": [
    "# Проверим финальный баланс классов\n",
    "print(\"Финальный датасет (rating-based):\")\n",
    "print(df_train_rating_hard[\"label\"].value_counts())"
   ]
  },
  {
   "cell_type": "code",
   "execution_count": 48,
   "id": "eea980d2",
   "metadata": {},
   "outputs": [],
   "source": [
    "df_train_rating_hard.to_csv(\"data/df_train_rating_hard.csv\", index=False)"
   ]
  },
  {
   "cell_type": "markdown",
   "id": "5d3d1d91",
   "metadata": {},
   "source": [
    "### intersection"
   ]
  },
  {
   "cell_type": "code",
   "execution_count": 49,
   "id": "1577bf61",
   "metadata": {},
   "outputs": [],
   "source": [
    "# Готовим item-векторы (уже должен быть сформирован df_meta_sample)\n",
    "item_embeddings = df_meta_sample.copy()"
   ]
  },
  {
   "cell_type": "code",
   "execution_count": 50,
   "id": "172802dd",
   "metadata": {},
   "outputs": [],
   "source": [
    "# Преобразуем в матрицу float32\n",
    "item_matrix = np.ascontiguousarray(item_embeddings.values.astype(\"float32\"))\n",
    "item_ids_all = item_embeddings.index.tolist()"
   ]
  },
  {
   "cell_type": "code",
   "execution_count": 51,
   "id": "fd7ae77e",
   "metadata": {},
   "outputs": [],
   "source": [
    "# Нормализуем item-векторы\n",
    "faiss.normalize_L2(item_matrix)"
   ]
  },
  {
   "cell_type": "code",
   "execution_count": 52,
   "id": "fddf4cab",
   "metadata": {},
   "outputs": [],
   "source": [
    "# Создаем FAISS index\n",
    "index = faiss.IndexFlatIP(item_matrix.shape[1])\n",
    "index.add(item_matrix)"
   ]
  },
  {
   "cell_type": "code",
   "execution_count": 53,
   "id": "e510d924",
   "metadata": {},
   "outputs": [],
   "source": [
    "# Словарь: user_id → список положительных item_id\n",
    "positive_items_by_user = (\n",
    "    df_train_interaction_merged[df_train_interaction_merged[\"label\"] == 1]\n",
    "    .groupby(\"user_id\")[\"item_id\"]\n",
    "    .apply(set)\n",
    "    .to_dict()\n",
    ")"
   ]
  },
  {
   "cell_type": "code",
   "execution_count": 54,
   "id": "1e00a00d",
   "metadata": {},
   "outputs": [],
   "source": [
    "# Выбираем только пользователей с положительными примерами\n",
    "selected_users = list(positive_users_interaction)"
   ]
  },
  {
   "cell_type": "code",
   "execution_count": 55,
   "id": "17aea3c8",
   "metadata": {},
   "outputs": [],
   "source": [
    "# Генерация хард-негативов\n",
    "hard_negatives_interaction = []"
   ]
  },
  {
   "cell_type": "code",
   "execution_count": 56,
   "id": "b0eeb641",
   "metadata": {},
   "outputs": [
    {
     "name": "stdout",
     "output_type": "stream",
     "text": [
      "Generating hard negatives (FAISS-interaction): 100%|██████████| 611334/611334 [1:13:23<00:00, 138.83it/s]\n"
     ]
    }
   ],
   "source": [
    "for user_id in tqdm(selected_users, desc=\"Generating hard negatives (FAISS-interaction)\", file=sys.stdout):\n",
    "    pos_items = positive_items_by_user.get(user_id, set())\n",
    "    \n",
    "    if len(pos_items) == 0:\n",
    "        continue\n",
    "\n",
    "    try:\n",
    "        pos_vectors = item_embeddings.loc[list(pos_items)].values.astype(\"float32\")\n",
    "    except KeyError:\n",
    "        continue\n",
    "\n",
    "    user_vec = np.mean(pos_vectors, axis=0).reshape(1, -1)\n",
    "    faiss.normalize_L2(user_vec)\n",
    "\n",
    "    D, I = index.search(user_vec, 100)\n",
    "\n",
    "    count = 0\n",
    "    for idx in I[0]:\n",
    "        candidate_item = item_ids_all[idx]\n",
    "        if candidate_item not in pos_items:\n",
    "            hard_negatives_interaction.append({\n",
    "                \"user_id\": user_id,\n",
    "                \"item_id\": candidate_item,\n",
    "                \"label\": 0\n",
    "            })\n",
    "            count += 1\n",
    "        if count >= n_neg:\n",
    "            break"
   ]
  },
  {
   "cell_type": "code",
   "execution_count": 57,
   "id": "c607d259",
   "metadata": {},
   "outputs": [],
   "source": [
    "# Финализируем датафрейм\n",
    "df_hard_negatives_interaction = pd.DataFrame(hard_negatives_interaction)"
   ]
  },
  {
   "cell_type": "code",
   "execution_count": 58,
   "id": "cfff499a",
   "metadata": {},
   "outputs": [],
   "source": [
    "# Выбираем позитивы из interaction-merged\n",
    "df_positive_interaction = df_train_interaction_merged[df_train_interaction_merged[\"label\"] == 1][[\"user_id\", \"item_id\", \"label\"]].copy()"
   ]
  },
  {
   "cell_type": "code",
   "execution_count": 59,
   "id": "8a6cc08c",
   "metadata": {},
   "outputs": [],
   "source": [
    "# Объединяем\n",
    "df_train_interaction_hard = pd.concat([df_positive_interaction, df_hard_negatives_interaction], ignore_index=True)"
   ]
  },
  {
   "cell_type": "code",
   "execution_count": 60,
   "id": "35db19ac",
   "metadata": {},
   "outputs": [
    {
     "name": "stdout",
     "output_type": "stream",
     "text": [
      "Финальный датасет (interaction-based): (3469091, 3)\n",
      "label\n",
      "0    1834002\n",
      "1    1635089\n",
      "Name: count, dtype: int64\n"
     ]
    }
   ],
   "source": [
    "print(f\"Финальный датасет (interaction-based): {df_train_interaction_hard.shape}\")\n",
    "print(df_train_interaction_hard['label'].value_counts())"
   ]
  },
  {
   "cell_type": "code",
   "execution_count": 61,
   "id": "66b01e44",
   "metadata": {},
   "outputs": [],
   "source": [
    "df_train_interaction_hard.to_csv(\"data/df_train_interaction_hard.csv\", index=False)"
   ]
  },
  {
   "cell_type": "markdown",
   "id": "e6a8b3fe",
   "metadata": {},
   "source": [
    "## Contrustive learning InfoNCE"
   ]
  },
  {
   "cell_type": "code",
   "execution_count": 167,
   "id": "83516ff4",
   "metadata": {},
   "outputs": [],
   "source": [
    "df_train_rating_hard = pd.read_csv(\"data/df_train_rating_hard.csv\")\n",
    "df_train_interaction_hard = pd.read_csv(\"data/df_train_interaction_hard.csv\")"
   ]
  },
  {
   "cell_type": "code",
   "execution_count": 168,
   "id": "67ccf80f",
   "metadata": {},
   "outputs": [],
   "source": [
    "import torch"
   ]
  },
  {
   "cell_type": "code",
   "execution_count": 169,
   "id": "d9aa3055",
   "metadata": {},
   "outputs": [],
   "source": [
    "device = torch.device(\"cuda\" if torch.cuda.is_available() else \"cpu\")"
   ]
  },
  {
   "cell_type": "code",
   "execution_count": 170,
   "id": "f94ec992",
   "metadata": {},
   "outputs": [],
   "source": [
    "# Установка детерминированного поведения для воспроизводимости результатов\n",
    "def seed_everything(seed=42):\n",
    "    random.seed(seed)\n",
    "    np.random.seed(seed)\n",
    "    torch.manual_seed(seed)\n",
    "    torch.cuda.manual_seed_all(seed)\n",
    "    torch.backends.cudnn.deterministic = True\n",
    "    torch.backends.cudnn.benchmark = False\n",
    "\n",
    "seed_everything(42)"
   ]
  },
  {
   "cell_type": "code",
   "execution_count": 171,
   "id": "be1d3ef7",
   "metadata": {},
   "outputs": [],
   "source": [
    "import numpy as np\n",
    "import pandas as pd\n",
    "from tqdm import tqdm\n",
    "import sys\n",
    "import torch\n",
    "import torch.nn as nn\n",
    "from torch.utils.data import Dataset, DataLoader, random_split"
   ]
  },
  {
   "cell_type": "code",
   "execution_count": 172,
   "id": "a37e6c11",
   "metadata": {},
   "outputs": [],
   "source": [
    "class ContrastiveTripletDataset(torch.utils.data.Dataset):\n",
    "    def __init__(self, df, df_meta_sample):\n",
    "        self.df = df\n",
    "        self.df_meta_sample = df_meta_sample\n",
    "\n",
    "        # item_id → vector\n",
    "        self.item_vectors = df_meta_sample.copy()\n",
    "\n",
    "        # user_id → список положительных item_id\n",
    "        self.user_pos_items = (\n",
    "            df[df[\"label\"] == 1]\n",
    "            .groupby(\"user_id\")[\"item_id\"]\n",
    "            .apply(list)\n",
    "            .to_dict()\n",
    "        )\n",
    "\n",
    "        # user_id → список отрицательных item_id\n",
    "        self.user_neg_items = (\n",
    "            df[df[\"label\"] == 0]\n",
    "            .groupby(\"user_id\")[\"item_id\"]\n",
    "            .apply(list)\n",
    "            .to_dict()\n",
    "        )\n",
    "\n",
    "        self.user_ids = [u for u in self.user_pos_items if u in self.user_neg_items]\n",
    "\n",
    "    def __len__(self):\n",
    "        return len(self.user_ids)\n",
    "\n",
    "    def __getitem__(self, idx):\n",
    "        user_id = self.user_ids[idx]\n",
    "\n",
    "        pos_items = self.user_pos_items[user_id]\n",
    "        neg_items = self.user_neg_items[user_id]\n",
    "\n",
    "        # Выбираем положительный и отрицательный item_id\n",
    "        pos_item_id = random.choice(pos_items)\n",
    "        neg_item_id = random.choice(neg_items)\n",
    "\n",
    "        # Строим user_vec как среднее по всем положительным\n",
    "        user_vec = np.mean([\n",
    "            self.item_vectors.loc[i].values for i in pos_items if i in self.item_vectors.index\n",
    "        ], axis=0)\n",
    "\n",
    "        pos_vec = self.item_vectors.loc[pos_item_id].values\n",
    "        neg_vec = self.item_vectors.loc[neg_item_id].values\n",
    "\n",
    "        return (\n",
    "            torch.tensor(user_vec, dtype=torch.float32),\n",
    "            torch.tensor(pos_vec, dtype=torch.float32),\n",
    "            torch.tensor(neg_vec, dtype=torch.float32),\n",
    "        )"
   ]
  },
  {
   "cell_type": "code",
   "execution_count": 173,
   "id": "a3a524fb",
   "metadata": {},
   "outputs": [],
   "source": [
    "triplet_dataset_rating = ContrastiveTripletDataset(df_train_rating_hard, df_meta_sample)\n",
    "triplet_dataset_interaction = ContrastiveTripletDataset(df_train_interaction_hard, df_meta_sample)"
   ]
  },
  {
   "cell_type": "code",
   "execution_count": 174,
   "id": "ee62a552",
   "metadata": {},
   "outputs": [],
   "source": [
    "triplet_loader_rating = DataLoader(triplet_dataset_rating, batch_size=2048, shuffle=True)\n",
    "triplet_loader_interaction = DataLoader(triplet_dataset_interaction, batch_size=2048, shuffle=True)"
   ]
  },
  {
   "cell_type": "code",
   "execution_count": 175,
   "id": "5331abaf",
   "metadata": {},
   "outputs": [],
   "source": [
    "class ContrastiveDotModel(nn.Module):\n",
    "    def __init__(self, embedding_dim):\n",
    "        super().__init__()\n",
    "        self.user_projection = nn.Linear(embedding_dim, embedding_dim)\n",
    "        self.item_projection = nn.Linear(embedding_dim, embedding_dim)\n",
    "\n",
    "    def forward(self, user_vecs, item_vecs):\n",
    "        user_proj = nn.functional.normalize(self.user_projection(user_vecs), dim=1)\n",
    "        item_proj = nn.functional.normalize(self.item_projection(item_vecs), dim=1)\n",
    "        return user_proj, item_proj"
   ]
  },
  {
   "cell_type": "code",
   "execution_count": 176,
   "id": "ae55b045",
   "metadata": {},
   "outputs": [],
   "source": [
    "def info_nce_loss(user_proj, pos_proj, neg_proj=None, temperature=0.07):\n",
    "    # user_proj: (B, D)\n",
    "    # pos_proj: (B, D)\n",
    "    # Негативы берём из батча: все pos других юзеров\n",
    "\n",
    "    # Compute logits: (B, B)\n",
    "    logits = torch.matmul(user_proj, pos_proj.T) / temperature\n",
    "\n",
    "    # Labels: i-й пользователь должен совпадать с i-м положительным\n",
    "    labels = torch.arange(logits.size(0)).to(logits.device)\n",
    "\n",
    "    loss_fn = nn.CrossEntropyLoss()\n",
    "    return loss_fn(logits, labels)"
   ]
  },
  {
   "cell_type": "code",
   "execution_count": 177,
   "id": "78c4e67b",
   "metadata": {},
   "outputs": [],
   "source": [
    "def train_contrastive_model(dataloader, embedding_dim, device, epochs=10, lr=1e-3):\n",
    "    model = ContrastiveDotModel(embedding_dim).to(device)\n",
    "    optimizer = torch.optim.Adam(model.parameters(), lr=lr)\n",
    "\n",
    "    for epoch in range(epochs):\n",
    "        model.train()\n",
    "        total_loss = 0\n",
    "\n",
    "        loop = tqdm(dataloader, desc=f\"Epoch {epoch+1}/{epochs}\", leave=False)\n",
    "        for user_vecs, pos_vecs, neg_vecs in loop:\n",
    "            user_vecs = user_vecs.to(device)\n",
    "            pos_vecs = pos_vecs.to(device)\n",
    "\n",
    "            user_proj, pos_proj = model(user_vecs, pos_vecs)\n",
    "            loss = info_nce_loss(user_proj, pos_proj, temperature=0.07)\n",
    "\n",
    "            optimizer.zero_grad()\n",
    "            loss.backward()\n",
    "            optimizer.step()\n",
    "\n",
    "            total_loss += loss.item()\n",
    "            loop.set_postfix(loss=loss.item())\n",
    "\n",
    "        avg_loss = total_loss / len(dataloader)\n",
    "        print(f\"Epoch {epoch+1}: Avg Loss = {avg_loss:.4f}\")\n",
    "\n",
    "    return model"
   ]
  },
  {
   "cell_type": "code",
   "execution_count": 178,
   "id": "0b824ebf",
   "metadata": {},
   "outputs": [],
   "source": [
    "embedding_dim = df_meta_sample.shape[1]"
   ]
  },
  {
   "cell_type": "code",
   "execution_count": 179,
   "id": "aa2c236a",
   "metadata": {},
   "outputs": [
    {
     "name": "stderr",
     "output_type": "stream",
     "text": [
      "                                                                         \r"
     ]
    },
    {
     "name": "stdout",
     "output_type": "stream",
     "text": [
      "Epoch 1: Avg Loss = 1.3520\n"
     ]
    },
    {
     "name": "stderr",
     "output_type": "stream",
     "text": [
      "                                                                         \r"
     ]
    },
    {
     "name": "stdout",
     "output_type": "stream",
     "text": [
      "Epoch 2: Avg Loss = 0.7735\n"
     ]
    },
    {
     "name": "stderr",
     "output_type": "stream",
     "text": [
      "                                                                         \r"
     ]
    },
    {
     "name": "stdout",
     "output_type": "stream",
     "text": [
      "Epoch 3: Avg Loss = 0.7510\n"
     ]
    },
    {
     "name": "stderr",
     "output_type": "stream",
     "text": [
      "                                                                         \r"
     ]
    },
    {
     "name": "stdout",
     "output_type": "stream",
     "text": [
      "Epoch 4: Avg Loss = 0.7405\n"
     ]
    },
    {
     "name": "stderr",
     "output_type": "stream",
     "text": [
      "                                                                         \r"
     ]
    },
    {
     "name": "stdout",
     "output_type": "stream",
     "text": [
      "Epoch 5: Avg Loss = 0.7361\n"
     ]
    },
    {
     "name": "stderr",
     "output_type": "stream",
     "text": [
      "                                                                         \r"
     ]
    },
    {
     "name": "stdout",
     "output_type": "stream",
     "text": [
      "Epoch 6: Avg Loss = 0.7327\n"
     ]
    },
    {
     "name": "stderr",
     "output_type": "stream",
     "text": [
      "                                                                         \r"
     ]
    },
    {
     "name": "stdout",
     "output_type": "stream",
     "text": [
      "Epoch 7: Avg Loss = 0.7299\n"
     ]
    },
    {
     "name": "stderr",
     "output_type": "stream",
     "text": [
      "                                                                         \r"
     ]
    },
    {
     "name": "stdout",
     "output_type": "stream",
     "text": [
      "Epoch 8: Avg Loss = 0.7308\n"
     ]
    },
    {
     "name": "stderr",
     "output_type": "stream",
     "text": [
      "                                                                         \r"
     ]
    },
    {
     "name": "stdout",
     "output_type": "stream",
     "text": [
      "Epoch 9: Avg Loss = 0.7272\n"
     ]
    },
    {
     "name": "stderr",
     "output_type": "stream",
     "text": [
      "                                                                          \r"
     ]
    },
    {
     "name": "stdout",
     "output_type": "stream",
     "text": [
      "Epoch 10: Avg Loss = 0.7275\n"
     ]
    },
    {
     "name": "stderr",
     "output_type": "stream",
     "text": [
      "                                                                          \r"
     ]
    },
    {
     "name": "stdout",
     "output_type": "stream",
     "text": [
      "Epoch 11: Avg Loss = 0.7249\n"
     ]
    },
    {
     "name": "stderr",
     "output_type": "stream",
     "text": [
      "                                                                          \r"
     ]
    },
    {
     "name": "stdout",
     "output_type": "stream",
     "text": [
      "Epoch 12: Avg Loss = 0.7253\n"
     ]
    },
    {
     "name": "stderr",
     "output_type": "stream",
     "text": [
      "                                                                          \r"
     ]
    },
    {
     "name": "stdout",
     "output_type": "stream",
     "text": [
      "Epoch 13: Avg Loss = 0.7256\n"
     ]
    },
    {
     "name": "stderr",
     "output_type": "stream",
     "text": [
      "                                                                          \r"
     ]
    },
    {
     "name": "stdout",
     "output_type": "stream",
     "text": [
      "Epoch 14: Avg Loss = 0.7245\n"
     ]
    },
    {
     "name": "stderr",
     "output_type": "stream",
     "text": [
      "                                                                          \r"
     ]
    },
    {
     "name": "stdout",
     "output_type": "stream",
     "text": [
      "Epoch 15: Avg Loss = 0.7257\n"
     ]
    },
    {
     "name": "stderr",
     "output_type": "stream",
     "text": [
      "                                                                          \r"
     ]
    },
    {
     "name": "stdout",
     "output_type": "stream",
     "text": [
      "Epoch 16: Avg Loss = 0.7253\n"
     ]
    },
    {
     "name": "stderr",
     "output_type": "stream",
     "text": [
      "                                                                          \r"
     ]
    },
    {
     "name": "stdout",
     "output_type": "stream",
     "text": [
      "Epoch 17: Avg Loss = 0.7241\n"
     ]
    },
    {
     "name": "stderr",
     "output_type": "stream",
     "text": [
      "                                                                          \r"
     ]
    },
    {
     "name": "stdout",
     "output_type": "stream",
     "text": [
      "Epoch 18: Avg Loss = 0.7229\n"
     ]
    },
    {
     "name": "stderr",
     "output_type": "stream",
     "text": [
      "                                                                          \r"
     ]
    },
    {
     "name": "stdout",
     "output_type": "stream",
     "text": [
      "Epoch 19: Avg Loss = 0.7234\n"
     ]
    },
    {
     "name": "stderr",
     "output_type": "stream",
     "text": [
      "                                                                          "
     ]
    },
    {
     "name": "stdout",
     "output_type": "stream",
     "text": [
      "Epoch 20: Avg Loss = 0.7231\n"
     ]
    },
    {
     "name": "stderr",
     "output_type": "stream",
     "text": [
      "\r"
     ]
    }
   ],
   "source": [
    "model_contrastive_rating = train_contrastive_model(\n",
    "    triplet_loader_rating,\n",
    "    embedding_dim=embedding_dim,\n",
    "    device=device,\n",
    "    epochs=20,\n",
    "    lr=1e-3\n",
    ")"
   ]
  },
  {
   "cell_type": "code",
   "execution_count": 181,
   "id": "beffa5ea",
   "metadata": {},
   "outputs": [
    {
     "name": "stdout",
     "output_type": "stream",
     "text": [
      "Модель успешно сохранена в models/contrastive_rating_best.pth\n"
     ]
    }
   ],
   "source": [
    "# Сохраняем лучшую модель на диск\n",
    "torch.save(model_contrastive_rating.state_dict(), \"models/contrastive_rating_best.pth\")\n",
    "print(\"Модель успешно сохранена в models/contrastive_rating_best.pth\")"
   ]
  },
  {
   "cell_type": "code",
   "execution_count": 51,
   "id": "3852a67e",
   "metadata": {},
   "outputs": [
    {
     "name": "stderr",
     "output_type": "stream",
     "text": [
      "                                                                         \r"
     ]
    },
    {
     "name": "stdout",
     "output_type": "stream",
     "text": [
      "Epoch 1: Avg Loss = 1.3801\n"
     ]
    },
    {
     "name": "stderr",
     "output_type": "stream",
     "text": [
      "                                                                         \r"
     ]
    },
    {
     "name": "stdout",
     "output_type": "stream",
     "text": [
      "Epoch 2: Avg Loss = 0.8250\n"
     ]
    },
    {
     "name": "stderr",
     "output_type": "stream",
     "text": [
      "                                                                         \r"
     ]
    },
    {
     "name": "stdout",
     "output_type": "stream",
     "text": [
      "Epoch 3: Avg Loss = 0.8027\n"
     ]
    },
    {
     "name": "stderr",
     "output_type": "stream",
     "text": [
      "                                                                         \r"
     ]
    },
    {
     "name": "stdout",
     "output_type": "stream",
     "text": [
      "Epoch 4: Avg Loss = 0.7909\n"
     ]
    },
    {
     "name": "stderr",
     "output_type": "stream",
     "text": [
      "                                                                         \r"
     ]
    },
    {
     "name": "stdout",
     "output_type": "stream",
     "text": [
      "Epoch 5: Avg Loss = 0.7876\n"
     ]
    },
    {
     "name": "stderr",
     "output_type": "stream",
     "text": [
      "                                                                         \r"
     ]
    },
    {
     "name": "stdout",
     "output_type": "stream",
     "text": [
      "Epoch 6: Avg Loss = 0.7850\n"
     ]
    },
    {
     "name": "stderr",
     "output_type": "stream",
     "text": [
      "                                                                         \r"
     ]
    },
    {
     "name": "stdout",
     "output_type": "stream",
     "text": [
      "Epoch 7: Avg Loss = 0.7830\n"
     ]
    },
    {
     "name": "stderr",
     "output_type": "stream",
     "text": [
      "                                                                         \r"
     ]
    },
    {
     "name": "stdout",
     "output_type": "stream",
     "text": [
      "Epoch 8: Avg Loss = 0.7822\n"
     ]
    },
    {
     "name": "stderr",
     "output_type": "stream",
     "text": [
      "                                                                         \r"
     ]
    },
    {
     "name": "stdout",
     "output_type": "stream",
     "text": [
      "Epoch 9: Avg Loss = 0.7794\n"
     ]
    },
    {
     "name": "stderr",
     "output_type": "stream",
     "text": [
      "                                                                          \r"
     ]
    },
    {
     "name": "stdout",
     "output_type": "stream",
     "text": [
      "Epoch 10: Avg Loss = 0.7787\n"
     ]
    },
    {
     "name": "stderr",
     "output_type": "stream",
     "text": [
      "                                                                          \r"
     ]
    },
    {
     "name": "stdout",
     "output_type": "stream",
     "text": [
      "Epoch 11: Avg Loss = 0.7802\n"
     ]
    },
    {
     "name": "stderr",
     "output_type": "stream",
     "text": [
      "                                                                          \r"
     ]
    },
    {
     "name": "stdout",
     "output_type": "stream",
     "text": [
      "Epoch 12: Avg Loss = 0.7798\n"
     ]
    },
    {
     "name": "stderr",
     "output_type": "stream",
     "text": [
      "                                                                          \r"
     ]
    },
    {
     "name": "stdout",
     "output_type": "stream",
     "text": [
      "Epoch 13: Avg Loss = 0.7793\n"
     ]
    },
    {
     "name": "stderr",
     "output_type": "stream",
     "text": [
      "                                                                          \r"
     ]
    },
    {
     "name": "stdout",
     "output_type": "stream",
     "text": [
      "Epoch 14: Avg Loss = 0.7796\n"
     ]
    },
    {
     "name": "stderr",
     "output_type": "stream",
     "text": [
      "                                                                          \r"
     ]
    },
    {
     "name": "stdout",
     "output_type": "stream",
     "text": [
      "Epoch 15: Avg Loss = 0.7778\n"
     ]
    },
    {
     "name": "stderr",
     "output_type": "stream",
     "text": [
      "                                                                          \r"
     ]
    },
    {
     "name": "stdout",
     "output_type": "stream",
     "text": [
      "Epoch 16: Avg Loss = 0.7776\n"
     ]
    },
    {
     "name": "stderr",
     "output_type": "stream",
     "text": [
      "                                                                          \r"
     ]
    },
    {
     "name": "stdout",
     "output_type": "stream",
     "text": [
      "Epoch 17: Avg Loss = 0.7773\n"
     ]
    },
    {
     "name": "stderr",
     "output_type": "stream",
     "text": [
      "                                                                          \r"
     ]
    },
    {
     "name": "stdout",
     "output_type": "stream",
     "text": [
      "Epoch 18: Avg Loss = 0.7779\n"
     ]
    },
    {
     "name": "stderr",
     "output_type": "stream",
     "text": [
      "                                                                          \r"
     ]
    },
    {
     "name": "stdout",
     "output_type": "stream",
     "text": [
      "Epoch 19: Avg Loss = 0.7762\n"
     ]
    },
    {
     "name": "stderr",
     "output_type": "stream",
     "text": [
      "                                                                          "
     ]
    },
    {
     "name": "stdout",
     "output_type": "stream",
     "text": [
      "Epoch 20: Avg Loss = 0.7773\n"
     ]
    },
    {
     "name": "stderr",
     "output_type": "stream",
     "text": [
      "\r"
     ]
    }
   ],
   "source": [
    "model_contrastive_interaction = train_contrastive_model(\n",
    "    triplet_loader_interaction,\n",
    "    embedding_dim=embedding_dim,\n",
    "    device=device,\n",
    "    epochs=20,\n",
    "    lr=1e-3\n",
    ")"
   ]
  },
  {
   "cell_type": "code",
   "execution_count": 52,
   "id": "95b27a9b",
   "metadata": {},
   "outputs": [],
   "source": [
    "# Получаем эмбеддинги всех item'ов с помощью обученной проекции\n",
    "def get_projected_item_vectors(model, df_meta_sample, device):\n",
    "    model.eval()\n",
    "    item_ids = df_meta_sample.index.tolist()\n",
    "    item_vecs = torch.tensor(df_meta_sample.values, dtype=torch.float32).to(device)\n",
    "\n",
    "    with torch.no_grad():\n",
    "        # Только item-проекция\n",
    "        item_proj = model.item_projection(item_vecs)\n",
    "        item_proj = nn.functional.normalize(item_proj, dim=1)\n",
    "\n",
    "    item_proj = item_proj.cpu().numpy()\n",
    "    return item_ids, item_proj"
   ]
  },
  {
   "cell_type": "code",
   "execution_count": 53,
   "id": "4cec2c44",
   "metadata": {},
   "outputs": [],
   "source": [
    "# Получаем item_dict заранее\n",
    "candidate_ids_rating, candidate_embs_rating = get_projected_item_vectors(model_contrastive_rating, df_meta_sample, device)\n",
    "item_dict_rating = dict(zip(candidate_ids_rating, candidate_embs_rating))"
   ]
  },
  {
   "cell_type": "code",
   "execution_count": 54,
   "id": "f90aaa0c",
   "metadata": {},
   "outputs": [],
   "source": [
    "candidate_ids_interaction, candidate_embs_interaction = get_projected_item_vectors(model_contrastive_interaction, df_meta_sample, device)\n",
    "item_dict_interaction = dict(zip(candidate_ids_interaction, candidate_embs_interaction))"
   ]
  },
  {
   "cell_type": "code",
   "execution_count": 55,
   "id": "5285a1be",
   "metadata": {},
   "outputs": [],
   "source": [
    "# Упрощённый build_user_vectors_contrastive\n",
    "def build_user_vectors_contrastive(df_hard, item_dict, ground_truth):\n",
    "    user_vectors = {}\n",
    "    for user_id, group in df_hard[df_hard[\"label\"] == 1].groupby(\"user_id\"):\n",
    "        if user_id not in ground_truth:\n",
    "            continue\n",
    "        vectors = [item_dict[iid] for iid in group[\"item_id\"] if iid in item_dict]\n",
    "        if vectors:\n",
    "            user_vectors[user_id] = np.mean(vectors, axis=0)\n",
    "    return user_vectors"
   ]
  },
  {
   "cell_type": "code",
   "execution_count": 56,
   "id": "ca8cbdd4",
   "metadata": {},
   "outputs": [],
   "source": [
    "# Строим user_vecs без повторной проекции\n",
    "user_vectors_rating = build_user_vectors_contrastive(df_train_rating_hard, item_dict_rating, ground_truth_rating)\n",
    "user_vectors_interaction = build_user_vectors_contrastive(df_train_interaction_hard, item_dict_interaction, ground_truth_interaction)"
   ]
  },
  {
   "cell_type": "code",
   "execution_count": 57,
   "id": "3aed03ef",
   "metadata": {},
   "outputs": [],
   "source": [
    "import faiss"
   ]
  },
  {
   "cell_type": "code",
   "execution_count": 58,
   "id": "1403dc28",
   "metadata": {},
   "outputs": [],
   "source": [
    "# FAISS-индексация и инференс\n",
    "def run_faiss_inference(user_vectors, item_dict, ground_truth, top_k=10):\n",
    "    # Подготовка item-векторов\n",
    "    item_ids = list(item_dict.keys())\n",
    "    item_matrix = np.stack([item_dict[iid] for iid in item_ids]).astype(\"float32\")\n",
    "\n",
    "    # FAISS index (нормализованный для cosine similarity)\n",
    "    faiss.normalize_L2(item_matrix)\n",
    "    index = faiss.IndexFlatIP(item_matrix.shape[1])\n",
    "    index.add(item_matrix)\n",
    "\n",
    "    preds = {}\n",
    "    for user_id, user_vec in tqdm(user_vectors.items(), desc=\"FAISS inference\"):\n",
    "        user_vec = user_vec.astype(\"float32\").reshape(1, -1)\n",
    "        faiss.normalize_L2(user_vec)\n",
    "\n",
    "        D, I = index.search(user_vec, top_k)\n",
    "        top_items = [item_ids[i] for i in I[0]]\n",
    "        preds[user_id] = top_items\n",
    "\n",
    "    return preds"
   ]
  },
  {
   "cell_type": "code",
   "execution_count": 59,
   "id": "16b12162",
   "metadata": {},
   "outputs": [],
   "source": [
    "# Расчёт метрик\n",
    "def precision_at_k(preds, ground_truth, k=10):\n",
    "    scores = []\n",
    "    for user, pred_items in preds.items():\n",
    "        if user not in ground_truth:\n",
    "            continue\n",
    "        hits = sum([1 for item in pred_items[:k] if item in ground_truth[user]])\n",
    "        scores.append(hits / k)\n",
    "    return round(np.mean(scores), 4)\n",
    "\n",
    "def apk(pred, actual, k=10):\n",
    "    if not actual:\n",
    "        return 0.0\n",
    "    pred = pred[:k]\n",
    "    score, num_hits = 0.0, 0.0\n",
    "    for i, p in enumerate(pred):\n",
    "        if p in actual and p not in pred[:i]:\n",
    "            num_hits += 1.0\n",
    "            score += num_hits / (i + 1.0)\n",
    "    return score / min(len(actual), k)\n",
    "\n",
    "def map_at_k(preds, ground_truth, k=10):\n",
    "    return round(np.mean([\n",
    "        apk(preds[u], ground_truth[u], k)\n",
    "        for u in preds if u in ground_truth\n",
    "    ]), 4)"
   ]
  },
  {
   "cell_type": "code",
   "execution_count": 60,
   "id": "9562b0d7",
   "metadata": {},
   "outputs": [
    {
     "name": "stderr",
     "output_type": "stream",
     "text": [
      "FAISS inference: 100%|██████████| 72249/72249 [08:18<00:00, 144.82it/s]\n"
     ]
    },
    {
     "name": "stdout",
     "output_type": "stream",
     "text": [
      "\n",
      "[Rating-based Contrastive Model]\n",
      "precision@5: 0.004\n",
      "map@5: 0.0066\n",
      "precision@10: 0.003\n",
      "map@10: 0.0075\n"
     ]
    }
   ],
   "source": [
    "# Запуск инференса и оценка\n",
    "# Rating-based\n",
    "preds_rating = run_faiss_inference(user_vectors_rating, item_dict_rating, ground_truth_rating, top_k=10)\n",
    "metrics_rating = {\n",
    "    \"precision@5\": precision_at_k(preds_rating, ground_truth_rating, k=5),\n",
    "    \"map@5\": map_at_k(preds_rating, ground_truth_rating, k=5),\n",
    "    \"precision@10\": precision_at_k(preds_rating, ground_truth_rating, k=10),\n",
    "    \"map@10\": map_at_k(preds_rating, ground_truth_rating, k=10),\n",
    "}\n",
    "print(\"\\n[Rating-based Contrastive Model]\")\n",
    "for k, v in metrics_rating.items():\n",
    "    print(f\"{k}: {v}\")"
   ]
  },
  {
   "cell_type": "code",
   "execution_count": 61,
   "id": "6f9001f7",
   "metadata": {},
   "outputs": [
    {
     "name": "stderr",
     "output_type": "stream",
     "text": [
      "FAISS inference: 100%|██████████| 94443/94443 [10:52<00:00, 144.82it/s]\n"
     ]
    },
    {
     "name": "stdout",
     "output_type": "stream",
     "text": [
      "\n",
      "[Interaction-based Contrastive Model]\n",
      "precision@5: 0.0035\n",
      "map@5: 0.0056\n",
      "precision@10: 0.0027\n",
      "map@10: 0.0064\n"
     ]
    }
   ],
   "source": [
    "# Interaction-based\n",
    "preds_interaction = run_faiss_inference(user_vectors_interaction, item_dict_interaction, ground_truth_interaction, top_k=10)\n",
    "metrics_interaction = {\n",
    "    \"precision@5\": precision_at_k(preds_interaction, ground_truth_interaction, k=5),\n",
    "    \"map@5\": map_at_k(preds_interaction, ground_truth_interaction, k=5),\n",
    "    \"precision@10\": precision_at_k(preds_interaction, ground_truth_interaction, k=10),\n",
    "    \"map@10\": map_at_k(preds_interaction, ground_truth_interaction, k=10),\n",
    "}\n",
    "print(\"\\n[Interaction-based Contrastive Model]\")\n",
    "for k, v in metrics_interaction.items():\n",
    "    print(f\"{k}: {v}\")"
   ]
  },
  {
   "cell_type": "markdown",
   "id": "aff5aa55",
   "metadata": {},
   "source": [
    "## Использование user projection в инференсе"
   ]
  },
  {
   "cell_type": "code",
   "execution_count": 62,
   "id": "ccd18fc2",
   "metadata": {},
   "outputs": [],
   "source": [
    "def build_user_vectors_with_projection(df_hard, df_meta_sample, model, device, ground_truth):\n",
    "    model.eval()\n",
    "    user_vectors = {}\n",
    "\n",
    "    for user_id, group in df_hard[df_hard[\"label\"] == 1].groupby(\"user_id\"):\n",
    "        if user_id not in ground_truth:\n",
    "            continue\n",
    "\n",
    "        # Сырые item-вектора, НЕ проецированные\n",
    "        item_vecs = [\n",
    "            df_meta_sample.loc[iid].values\n",
    "            for iid in group[\"item_id\"]\n",
    "            if iid in df_meta_sample.index\n",
    "        ]\n",
    "        if not item_vecs:\n",
    "            continue\n",
    "\n",
    "        user_vec = np.mean(item_vecs, axis=0)\n",
    "        user_vec_tensor = torch.tensor(user_vec, dtype=torch.float32).unsqueeze(0).to(device)\n",
    "\n",
    "        with torch.no_grad():\n",
    "            user_proj = model.user_projection(user_vec_tensor)\n",
    "            user_proj = nn.functional.normalize(user_proj, dim=1)\n",
    "\n",
    "        user_vectors[user_id] = user_proj.cpu().numpy().flatten()\n",
    "\n",
    "    return user_vectors\n"
   ]
  },
  {
   "cell_type": "code",
   "execution_count": 63,
   "id": "7ac844b8",
   "metadata": {},
   "outputs": [],
   "source": [
    "# Rating-based user projection\n",
    "user_vectors_rating_proj = build_user_vectors_with_projection(\n",
    "    df_train_rating_hard, df_meta_sample, model_contrastive_rating, device, ground_truth_rating\n",
    ")"
   ]
  },
  {
   "cell_type": "code",
   "execution_count": 64,
   "id": "32fb26c4",
   "metadata": {},
   "outputs": [],
   "source": [
    "# Interaction-based user projection\n",
    "user_vectors_interaction_proj = build_user_vectors_with_projection(\n",
    "    df_train_interaction_hard, df_meta_sample, model_contrastive_interaction, device, ground_truth_interaction\n",
    ")"
   ]
  },
  {
   "cell_type": "code",
   "execution_count": 65,
   "id": "297dd5a0",
   "metadata": {},
   "outputs": [
    {
     "name": "stderr",
     "output_type": "stream",
     "text": [
      "FAISS inference: 100%|██████████| 72249/72249 [08:15<00:00, 145.93it/s]\n"
     ]
    },
    {
     "name": "stdout",
     "output_type": "stream",
     "text": [
      "\n",
      "[Rating-based Contrastive Model w/ User Projection]\n",
      "precision@5: 0.0039\n",
      "map@5: 0.0063\n",
      "precision@10: 0.0029\n",
      "map@10: 0.0072\n"
     ]
    }
   ],
   "source": [
    "# Rating\n",
    "preds_rating_proj = run_faiss_inference(user_vectors_rating_proj, item_dict_rating, ground_truth_rating)\n",
    "metrics_rating_proj = {\n",
    "    \"precision@5\": precision_at_k(preds_rating_proj, ground_truth_rating, k=5),\n",
    "    \"map@5\": map_at_k(preds_rating_proj, ground_truth_rating, k=5),\n",
    "    \"precision@10\": precision_at_k(preds_rating_proj, ground_truth_rating, k=10),\n",
    "    \"map@10\": map_at_k(preds_rating_proj, ground_truth_rating, k=10),\n",
    "}\n",
    "print(\"\\n[Rating-based Contrastive Model w/ User Projection]\")\n",
    "for k, v in metrics_rating_proj.items():\n",
    "    print(f\"{k}: {v}\")"
   ]
  },
  {
   "cell_type": "code",
   "execution_count": 66,
   "id": "a6520260",
   "metadata": {},
   "outputs": [
    {
     "name": "stderr",
     "output_type": "stream",
     "text": [
      "FAISS inference: 100%|██████████| 94443/94443 [10:40<00:00, 147.34it/s]\n"
     ]
    },
    {
     "name": "stdout",
     "output_type": "stream",
     "text": [
      "\n",
      "[Interaction-based Contrastive Model w/ User Projection]\n",
      "precision@5: 0.0034\n",
      "map@5: 0.0054\n",
      "precision@10: 0.0025\n",
      "map@10: 0.0062\n"
     ]
    }
   ],
   "source": [
    "# Interaction\n",
    "preds_interaction_proj = run_faiss_inference(user_vectors_interaction_proj, item_dict_interaction, ground_truth_interaction)\n",
    "metrics_interaction_proj = {\n",
    "    \"precision@5\": precision_at_k(preds_interaction_proj, ground_truth_interaction, k=5),\n",
    "    \"map@5\": map_at_k(preds_interaction_proj, ground_truth_interaction, k=5),\n",
    "    \"precision@10\": precision_at_k(preds_interaction_proj, ground_truth_interaction, k=10),\n",
    "    \"map@10\": map_at_k(preds_interaction_proj, ground_truth_interaction, k=10),\n",
    "}\n",
    "print(\"\\n[Interaction-based Contrastive Model w/ User Projection]\")\n",
    "for k, v in metrics_interaction_proj.items():\n",
    "    print(f\"{k}: {v}\")"
   ]
  },
  {
   "cell_type": "markdown",
   "id": "ba239051",
   "metadata": {},
   "source": [
    "## Contrustive learning без слоев"
   ]
  },
  {
   "cell_type": "code",
   "execution_count": 67,
   "id": "885e50e0",
   "metadata": {},
   "outputs": [],
   "source": [
    "df_train_rating_hard = pd.read_csv(\"data/df_train_rating_hard.csv\")\n",
    "df_train_interaction_hard = pd.read_csv(\"data/df_train_interaction_hard.csv\")"
   ]
  },
  {
   "cell_type": "code",
   "execution_count": 68,
   "id": "62f9d14d",
   "metadata": {},
   "outputs": [],
   "source": [
    "import torch"
   ]
  },
  {
   "cell_type": "code",
   "execution_count": 69,
   "id": "ca68993d",
   "metadata": {},
   "outputs": [],
   "source": [
    "device = torch.device(\"cuda\" if torch.cuda.is_available() else \"cpu\")"
   ]
  },
  {
   "cell_type": "code",
   "execution_count": 70,
   "id": "f8a5bcd7",
   "metadata": {},
   "outputs": [],
   "source": [
    "# Установка детерминированного поведения для воспроизводимости результатов\n",
    "def seed_everything(seed=42):\n",
    "    random.seed(seed)\n",
    "    np.random.seed(seed)\n",
    "    torch.manual_seed(seed)\n",
    "    torch.cuda.manual_seed_all(seed)\n",
    "    torch.backends.cudnn.deterministic = True\n",
    "    torch.backends.cudnn.benchmark = False\n",
    "\n",
    "seed_everything(42)"
   ]
  },
  {
   "cell_type": "code",
   "execution_count": 71,
   "id": "f7f4b5ed",
   "metadata": {},
   "outputs": [],
   "source": [
    "import numpy as np\n",
    "import pandas as pd\n",
    "from tqdm import tqdm\n",
    "import sys\n",
    "import torch\n",
    "import torch.nn as nn\n",
    "from torch.utils.data import Dataset, DataLoader, random_split"
   ]
  },
  {
   "cell_type": "code",
   "execution_count": 72,
   "id": "b53ca629",
   "metadata": {},
   "outputs": [],
   "source": [
    "class ContrastiveTripletDataset(torch.utils.data.Dataset):\n",
    "    def __init__(self, df, df_meta_sample):\n",
    "        self.df = df\n",
    "        self.df_meta_sample = df_meta_sample\n",
    "\n",
    "        # item_id → vector\n",
    "        self.item_vectors = df_meta_sample.copy()\n",
    "\n",
    "        # user_id → список положительных item_id\n",
    "        self.user_pos_items = (\n",
    "            df[df[\"label\"] == 1]\n",
    "            .groupby(\"user_id\")[\"item_id\"]\n",
    "            .apply(list)\n",
    "            .to_dict()\n",
    "        )\n",
    "\n",
    "        # user_id → список отрицательных item_id\n",
    "        self.user_neg_items = (\n",
    "            df[df[\"label\"] == 0]\n",
    "            .groupby(\"user_id\")[\"item_id\"]\n",
    "            .apply(list)\n",
    "            .to_dict()\n",
    "        )\n",
    "\n",
    "        self.user_ids = [u for u in self.user_pos_items if u in self.user_neg_items]\n",
    "\n",
    "    def __len__(self):\n",
    "        return len(self.user_ids)\n",
    "\n",
    "    def __getitem__(self, idx):\n",
    "        user_id = self.user_ids[idx]\n",
    "\n",
    "        pos_items = self.user_pos_items[user_id]\n",
    "        neg_items = self.user_neg_items[user_id]\n",
    "\n",
    "        # Выбираем положительный и отрицательный item_id\n",
    "        pos_item_id = random.choice(pos_items)\n",
    "        neg_item_id = random.choice(neg_items)\n",
    "\n",
    "        # Строим user_vec как среднее по всем положительным\n",
    "        user_vec = np.mean([\n",
    "            self.item_vectors.loc[i].values for i in pos_items if i in self.item_vectors.index\n",
    "        ], axis=0)\n",
    "\n",
    "        pos_vec = self.item_vectors.loc[pos_item_id].values\n",
    "        neg_vec = self.item_vectors.loc[neg_item_id].values\n",
    "\n",
    "        return (\n",
    "            torch.tensor(user_vec, dtype=torch.float32),\n",
    "            torch.tensor(pos_vec, dtype=torch.float32),\n",
    "            torch.tensor(neg_vec, dtype=torch.float32),\n",
    "        )"
   ]
  },
  {
   "cell_type": "code",
   "execution_count": 73,
   "id": "41fe5586",
   "metadata": {},
   "outputs": [],
   "source": [
    "triplet_dataset_rating = ContrastiveTripletDataset(df_train_rating_hard, df_meta_sample)\n",
    "triplet_dataset_interaction = ContrastiveTripletDataset(df_train_interaction_hard, df_meta_sample)"
   ]
  },
  {
   "cell_type": "code",
   "execution_count": 74,
   "id": "57b07359",
   "metadata": {},
   "outputs": [],
   "source": [
    "triplet_loader_rating = DataLoader(triplet_dataset_rating, batch_size=2048, shuffle=True)\n",
    "triplet_loader_interaction = DataLoader(triplet_dataset_interaction, batch_size=2048, shuffle=True)"
   ]
  },
  {
   "cell_type": "code",
   "execution_count": 75,
   "id": "eeac2fd1",
   "metadata": {},
   "outputs": [],
   "source": [
    "class ContrastiveSimpleModel(nn.Module):\n",
    "    def __init__(self):\n",
    "        super().__init__()\n",
    "\n",
    "    def forward(self, user_vecs, item_vecs):\n",
    "        user_proj = nn.functional.normalize(user_vecs, dim=1)\n",
    "        item_proj = nn.functional.normalize(item_vecs, dim=1)\n",
    "        return user_proj, item_proj"
   ]
  },
  {
   "cell_type": "code",
   "execution_count": 76,
   "id": "61109214",
   "metadata": {},
   "outputs": [],
   "source": [
    "def info_nce_loss(user_proj, pos_proj, neg_proj=None, temperature=0.07):\n",
    "    # user_proj: (B, D)\n",
    "    # pos_proj: (B, D)\n",
    "    # Негативы берём из батча: все pos других юзеров\n",
    "\n",
    "    # Compute logits: (B, B)\n",
    "    logits = torch.matmul(user_proj, pos_proj.T) / temperature\n",
    "\n",
    "    # Labels: i-й пользователь должен совпадать с i-м положительным\n",
    "    labels = torch.arange(logits.size(0)).to(logits.device)\n",
    "\n",
    "    loss_fn = nn.CrossEntropyLoss()\n",
    "    return loss_fn(logits, labels)"
   ]
  },
  {
   "cell_type": "code",
   "execution_count": 80,
   "id": "18215cd6",
   "metadata": {},
   "outputs": [],
   "source": [
    "def train_contrastive_model(dataloader, embedding_dim, device, epochs=10, lr=1e-3):\n",
    "    model = ContrastiveSimpleModel().to(device)\n",
    "\n",
    "    for epoch in range(epochs):\n",
    "        model.train()\n",
    "        total_loss = 0\n",
    "\n",
    "        loop = tqdm(dataloader, desc=f\"Epoch {epoch+1}/{epochs}\", leave=False)\n",
    "        for user_vecs, pos_vecs, neg_vecs in loop:\n",
    "            user_vecs = user_vecs.to(device)\n",
    "            pos_vecs = pos_vecs.to(device)\n",
    "\n",
    "            user_proj, pos_proj = model(user_vecs, pos_vecs)\n",
    "            loss = info_nce_loss(user_proj, pos_proj, temperature=0.07)\n",
    "\n",
    "            # ↓ Без градиентов и оптимизации\n",
    "            # optimizer.zero_grad()\n",
    "            # loss.backward()\n",
    "            # optimizer.step()\n",
    "\n",
    "            total_loss += loss.item()\n",
    "            loop.set_postfix(loss=loss.item())\n",
    "\n",
    "        avg_loss = total_loss / len(dataloader)\n",
    "        print(f\"Epoch {epoch+1}: Avg Loss = {avg_loss:.4f}\")\n",
    "\n",
    "    return model"
   ]
  },
  {
   "cell_type": "code",
   "execution_count": 81,
   "id": "17eec372",
   "metadata": {},
   "outputs": [],
   "source": [
    "embedding_dim = df_meta_sample.shape[1]"
   ]
  },
  {
   "cell_type": "code",
   "execution_count": 82,
   "id": "7c91bb20",
   "metadata": {},
   "outputs": [
    {
     "name": "stderr",
     "output_type": "stream",
     "text": [
      "                                                                        "
     ]
    },
    {
     "name": "stdout",
     "output_type": "stream",
     "text": [
      "Epoch 1: Avg Loss = 1.0443\n"
     ]
    },
    {
     "name": "stderr",
     "output_type": "stream",
     "text": [
      "\r"
     ]
    }
   ],
   "source": [
    "model_contrastive_rating = train_contrastive_model(\n",
    "    triplet_loader_rating,\n",
    "    embedding_dim=embedding_dim,\n",
    "    device=device,\n",
    "    epochs=1,\n",
    "    lr=1e-3\n",
    ")"
   ]
  },
  {
   "cell_type": "code",
   "execution_count": 83,
   "id": "a5bdd451",
   "metadata": {},
   "outputs": [
    {
     "name": "stderr",
     "output_type": "stream",
     "text": [
      "                                                                        "
     ]
    },
    {
     "name": "stdout",
     "output_type": "stream",
     "text": [
      "Epoch 1: Avg Loss = 1.1305\n"
     ]
    },
    {
     "name": "stderr",
     "output_type": "stream",
     "text": [
      "\r"
     ]
    }
   ],
   "source": [
    "model_contrastive_interaction = train_contrastive_model(\n",
    "    triplet_loader_interaction,\n",
    "    embedding_dim=embedding_dim,\n",
    "    device=device,\n",
    "    epochs=1,\n",
    "    lr=1e-3\n",
    ")"
   ]
  },
  {
   "cell_type": "code",
   "execution_count": 84,
   "id": "ce8819fc",
   "metadata": {},
   "outputs": [],
   "source": [
    "# Получаем эмбеддинги всех item'ов с помощью обученной проекции\n",
    "def get_projected_item_vectors(df_meta_sample, device):\n",
    "    item_ids = df_meta_sample.index.tolist()\n",
    "    item_vecs = torch.tensor(df_meta_sample.values, dtype=torch.float32).to(device)\n",
    "\n",
    "    with torch.no_grad():\n",
    "        item_proj = nn.functional.normalize(item_vecs, dim=1)\n",
    "\n",
    "    item_proj = item_proj.cpu().numpy()\n",
    "    return item_ids, item_proj"
   ]
  },
  {
   "cell_type": "code",
   "execution_count": 86,
   "id": "c20036c8",
   "metadata": {},
   "outputs": [],
   "source": [
    "# Получаем item_dict заранее\n",
    "candidate_ids_rating, candidate_embs_rating = get_projected_item_vectors(df_meta_sample, device)\n",
    "item_dict_rating = dict(zip(candidate_ids_rating, candidate_embs_rating))"
   ]
  },
  {
   "cell_type": "code",
   "execution_count": 87,
   "id": "bc76488f",
   "metadata": {},
   "outputs": [],
   "source": [
    "candidate_ids_interaction, candidate_embs_interaction = get_projected_item_vectors(df_meta_sample, device)\n",
    "item_dict_interaction = dict(zip(candidate_ids_interaction, candidate_embs_interaction))"
   ]
  },
  {
   "cell_type": "code",
   "execution_count": 88,
   "id": "25b72d1e",
   "metadata": {},
   "outputs": [],
   "source": [
    "# Упрощённый build_user_vectors_contrastive\n",
    "def build_user_vectors_contrastive(df_hard, item_dict, ground_truth):\n",
    "    user_vectors = {}\n",
    "    for user_id, group in df_hard[df_hard[\"label\"] == 1].groupby(\"user_id\"):\n",
    "        if user_id not in ground_truth:\n",
    "            continue\n",
    "        vectors = [item_dict[iid] for iid in group[\"item_id\"] if iid in item_dict]\n",
    "        if vectors:\n",
    "            user_vectors[user_id] = np.mean(vectors, axis=0)\n",
    "    return user_vectors"
   ]
  },
  {
   "cell_type": "code",
   "execution_count": 89,
   "id": "3989003b",
   "metadata": {},
   "outputs": [],
   "source": [
    "# Строим user_vecs без повторной проекции\n",
    "user_vectors_rating = build_user_vectors_contrastive(df_train_rating_hard, item_dict_rating, ground_truth_rating)\n",
    "user_vectors_interaction = build_user_vectors_contrastive(df_train_interaction_hard, item_dict_interaction, ground_truth_interaction)"
   ]
  },
  {
   "cell_type": "code",
   "execution_count": 90,
   "id": "a6f4b23c",
   "metadata": {},
   "outputs": [],
   "source": [
    "import faiss"
   ]
  },
  {
   "cell_type": "code",
   "execution_count": 91,
   "id": "e0ddd067",
   "metadata": {},
   "outputs": [],
   "source": [
    "# FAISS-индексация и инференс\n",
    "def run_faiss_inference(user_vectors, item_dict, ground_truth, top_k=10):\n",
    "    # Подготовка item-векторов\n",
    "    item_ids = list(item_dict.keys())\n",
    "    item_matrix = np.stack([item_dict[iid] for iid in item_ids]).astype(\"float32\")\n",
    "\n",
    "    # FAISS index (нормализованный для cosine similarity)\n",
    "    faiss.normalize_L2(item_matrix)\n",
    "    index = faiss.IndexFlatIP(item_matrix.shape[1])\n",
    "    index.add(item_matrix)\n",
    "\n",
    "    preds = {}\n",
    "    for user_id, user_vec in tqdm(user_vectors.items(), desc=\"FAISS inference\"):\n",
    "        user_vec = user_vec.astype(\"float32\").reshape(1, -1)\n",
    "        faiss.normalize_L2(user_vec)\n",
    "\n",
    "        D, I = index.search(user_vec, top_k)\n",
    "        top_items = [item_ids[i] for i in I[0]]\n",
    "        preds[user_id] = top_items\n",
    "\n",
    "    return preds"
   ]
  },
  {
   "cell_type": "code",
   "execution_count": 92,
   "id": "3156a169",
   "metadata": {},
   "outputs": [],
   "source": [
    "# Расчёт метрик\n",
    "def precision_at_k(preds, ground_truth, k=10):\n",
    "    scores = []\n",
    "    for user, pred_items in preds.items():\n",
    "        if user not in ground_truth:\n",
    "            continue\n",
    "        hits = sum([1 for item in pred_items[:k] if item in ground_truth[user]])\n",
    "        scores.append(hits / k)\n",
    "    return round(np.mean(scores), 4)\n",
    "\n",
    "def apk(pred, actual, k=10):\n",
    "    if not actual:\n",
    "        return 0.0\n",
    "    pred = pred[:k]\n",
    "    score, num_hits = 0.0, 0.0\n",
    "    for i, p in enumerate(pred):\n",
    "        if p in actual and p not in pred[:i]:\n",
    "            num_hits += 1.0\n",
    "            score += num_hits / (i + 1.0)\n",
    "    return score / min(len(actual), k)\n",
    "\n",
    "def map_at_k(preds, ground_truth, k=10):\n",
    "    return round(np.mean([\n",
    "        apk(preds[u], ground_truth[u], k)\n",
    "        for u in preds if u in ground_truth\n",
    "    ]), 4)"
   ]
  },
  {
   "cell_type": "code",
   "execution_count": 93,
   "id": "2b82dfa0",
   "metadata": {},
   "outputs": [
    {
     "name": "stderr",
     "output_type": "stream",
     "text": [
      "FAISS inference: 100%|██████████| 72249/72249 [08:00<00:00, 150.21it/s]\n"
     ]
    },
    {
     "name": "stdout",
     "output_type": "stream",
     "text": [
      "\n",
      "[Rating-based Contrastive Model]\n",
      "precision@5: 0.0039\n",
      "map@5: 0.0065\n",
      "precision@10: 0.0028\n",
      "map@10: 0.0073\n"
     ]
    }
   ],
   "source": [
    "# Запуск инференса и оценка\n",
    "# Rating-based\n",
    "preds_rating = run_faiss_inference(user_vectors_rating, item_dict_rating, ground_truth_rating, top_k=10)\n",
    "metrics_rating = {\n",
    "    \"precision@5\": precision_at_k(preds_rating, ground_truth_rating, k=5),\n",
    "    \"map@5\": map_at_k(preds_rating, ground_truth_rating, k=5),\n",
    "    \"precision@10\": precision_at_k(preds_rating, ground_truth_rating, k=10),\n",
    "    \"map@10\": map_at_k(preds_rating, ground_truth_rating, k=10),\n",
    "}\n",
    "print(\"\\n[Rating-based Contrastive Model]\")\n",
    "for k, v in metrics_rating.items():\n",
    "    print(f\"{k}: {v}\")"
   ]
  },
  {
   "cell_type": "code",
   "execution_count": 94,
   "id": "2e686c20",
   "metadata": {},
   "outputs": [
    {
     "name": "stderr",
     "output_type": "stream",
     "text": [
      "FAISS inference: 100%|██████████| 94443/94443 [10:25<00:00, 150.89it/s]\n"
     ]
    },
    {
     "name": "stdout",
     "output_type": "stream",
     "text": [
      "\n",
      "[Interaction-based Contrastive Model]\n",
      "precision@5: 0.0034\n",
      "map@5: 0.0056\n",
      "precision@10: 0.0025\n",
      "map@10: 0.0062\n"
     ]
    }
   ],
   "source": [
    "# Interaction-based\n",
    "preds_interaction = run_faiss_inference(user_vectors_interaction, item_dict_interaction, ground_truth_interaction, top_k=10)\n",
    "metrics_interaction = {\n",
    "    \"precision@5\": precision_at_k(preds_interaction, ground_truth_interaction, k=5),\n",
    "    \"map@5\": map_at_k(preds_interaction, ground_truth_interaction, k=5),\n",
    "    \"precision@10\": precision_at_k(preds_interaction, ground_truth_interaction, k=10),\n",
    "    \"map@10\": map_at_k(preds_interaction, ground_truth_interaction, k=10),\n",
    "}\n",
    "print(\"\\n[Interaction-based Contrastive Model]\")\n",
    "for k, v in metrics_interaction.items():\n",
    "    print(f\"{k}: {v}\")"
   ]
  },
  {
   "cell_type": "markdown",
   "id": "3a78a309",
   "metadata": {},
   "source": [
    "## Использование user projection в инференсе"
   ]
  },
  {
   "cell_type": "code",
   "execution_count": 95,
   "id": "8d3159d5",
   "metadata": {},
   "outputs": [],
   "source": [
    "def build_user_vectors_with_projection(df_hard, df_meta_sample, ground_truth):\n",
    "    user_vectors = {}\n",
    "\n",
    "    for user_id, group in df_hard[df_hard[\"label\"] == 1].groupby(\"user_id\"):\n",
    "        if user_id not in ground_truth:\n",
    "            continue\n",
    "\n",
    "        item_vecs = [\n",
    "            df_meta_sample.loc[iid].values\n",
    "            for iid in group[\"item_id\"]\n",
    "            if iid in df_meta_sample.index\n",
    "        ]\n",
    "        if not item_vecs:\n",
    "            continue\n",
    "\n",
    "        user_vec = np.mean(item_vecs, axis=0)\n",
    "        user_vec = user_vec / np.linalg.norm(user_vec)  # L2-нормализация\n",
    "\n",
    "        user_vectors[user_id] = user_vec\n",
    "\n",
    "    return user_vectors\n"
   ]
  },
  {
   "cell_type": "code",
   "execution_count": 96,
   "id": "cb417c70",
   "metadata": {},
   "outputs": [],
   "source": [
    "# Rating-based user projection\n",
    "user_vectors_rating_proj = build_user_vectors_with_projection(\n",
    "    df_train_rating_hard, df_meta_sample, ground_truth_rating\n",
    ")"
   ]
  },
  {
   "cell_type": "code",
   "execution_count": 97,
   "id": "3a9e63ea",
   "metadata": {},
   "outputs": [],
   "source": [
    "# Interaction-based user projection\n",
    "user_vectors_interaction_proj = build_user_vectors_with_projection(\n",
    "    df_train_interaction_hard, df_meta_sample, ground_truth_interaction\n",
    ")"
   ]
  },
  {
   "cell_type": "code",
   "execution_count": 98,
   "id": "7ea8cca5",
   "metadata": {},
   "outputs": [
    {
     "name": "stderr",
     "output_type": "stream",
     "text": [
      "FAISS inference: 100%|██████████| 72249/72249 [07:54<00:00, 152.28it/s]\n"
     ]
    },
    {
     "name": "stdout",
     "output_type": "stream",
     "text": [
      "\n",
      "[Rating-based Contrastive Model w/ User Projection]\n",
      "precision@5: 0.0039\n",
      "map@5: 0.0064\n",
      "precision@10: 0.0028\n",
      "map@10: 0.0072\n"
     ]
    }
   ],
   "source": [
    "# Rating\n",
    "preds_rating_proj = run_faiss_inference(user_vectors_rating_proj, item_dict_rating, ground_truth_rating)\n",
    "metrics_rating_proj = {\n",
    "    \"precision@5\": precision_at_k(preds_rating_proj, ground_truth_rating, k=5),\n",
    "    \"map@5\": map_at_k(preds_rating_proj, ground_truth_rating, k=5),\n",
    "    \"precision@10\": precision_at_k(preds_rating_proj, ground_truth_rating, k=10),\n",
    "    \"map@10\": map_at_k(preds_rating_proj, ground_truth_rating, k=10),\n",
    "}\n",
    "print(\"\\n[Rating-based Contrastive Model w/ User Projection]\")\n",
    "for k, v in metrics_rating_proj.items():\n",
    "    print(f\"{k}: {v}\")"
   ]
  },
  {
   "cell_type": "code",
   "execution_count": 99,
   "id": "eafb93c3",
   "metadata": {},
   "outputs": [
    {
     "name": "stderr",
     "output_type": "stream",
     "text": [
      "FAISS inference: 100%|██████████| 94443/94443 [10:32<00:00, 149.37it/s]\n"
     ]
    },
    {
     "name": "stdout",
     "output_type": "stream",
     "text": [
      "\n",
      "[Interaction-based Contrastive Model w/ User Projection]\n",
      "precision@5: 0.0034\n",
      "map@5: 0.0056\n",
      "precision@10: 0.0025\n",
      "map@10: 0.0062\n"
     ]
    }
   ],
   "source": [
    "# Interaction\n",
    "preds_interaction_proj = run_faiss_inference(user_vectors_interaction_proj, item_dict_interaction, ground_truth_interaction)\n",
    "metrics_interaction_proj = {\n",
    "    \"precision@5\": precision_at_k(preds_interaction_proj, ground_truth_interaction, k=5),\n",
    "    \"map@5\": map_at_k(preds_interaction_proj, ground_truth_interaction, k=5),\n",
    "    \"precision@10\": precision_at_k(preds_interaction_proj, ground_truth_interaction, k=10),\n",
    "    \"map@10\": map_at_k(preds_interaction_proj, ground_truth_interaction, k=10),\n",
    "}\n",
    "print(\"\\n[Interaction-based Contrastive Model w/ User Projection]\")\n",
    "for k, v in metrics_interaction_proj.items():\n",
    "    print(f\"{k}: {v}\")"
   ]
  },
  {
   "cell_type": "markdown",
   "id": "c89c2702",
   "metadata": {},
   "source": [
    "## Contrustive learning TripletLoss"
   ]
  },
  {
   "cell_type": "code",
   "execution_count": 100,
   "id": "01d4d73c",
   "metadata": {},
   "outputs": [],
   "source": [
    "df_train_rating_hard = pd.read_csv(\"data/df_train_rating_hard.csv\")\n",
    "df_train_interaction_hard = pd.read_csv(\"data/df_train_interaction_hard.csv\")"
   ]
  },
  {
   "cell_type": "code",
   "execution_count": 101,
   "id": "0257518d",
   "metadata": {},
   "outputs": [],
   "source": [
    "import torch"
   ]
  },
  {
   "cell_type": "code",
   "execution_count": 102,
   "id": "1a986ea0",
   "metadata": {},
   "outputs": [],
   "source": [
    "device = torch.device(\"cuda\" if torch.cuda.is_available() else \"cpu\")"
   ]
  },
  {
   "cell_type": "code",
   "execution_count": 103,
   "id": "82177fdb",
   "metadata": {},
   "outputs": [],
   "source": [
    "# Установка детерминированного поведения для воспроизводимости результатов\n",
    "def seed_everything(seed=42):\n",
    "    random.seed(seed)\n",
    "    np.random.seed(seed)\n",
    "    torch.manual_seed(seed)\n",
    "    torch.cuda.manual_seed_all(seed)\n",
    "    torch.backends.cudnn.deterministic = True\n",
    "    torch.backends.cudnn.benchmark = False\n",
    "\n",
    "seed_everything(42)"
   ]
  },
  {
   "cell_type": "code",
   "execution_count": 104,
   "id": "e57ee45f",
   "metadata": {},
   "outputs": [],
   "source": [
    "import numpy as np\n",
    "import pandas as pd\n",
    "from tqdm import tqdm\n",
    "import sys\n",
    "import torch\n",
    "import torch.nn as nn\n",
    "from torch.utils.data import Dataset, DataLoader, random_split"
   ]
  },
  {
   "cell_type": "code",
   "execution_count": 105,
   "id": "9ae38210",
   "metadata": {},
   "outputs": [],
   "source": [
    "class ContrastiveTripletDataset(torch.utils.data.Dataset):\n",
    "    def __init__(self, df, df_meta_sample):\n",
    "        self.df = df\n",
    "        self.df_meta_sample = df_meta_sample\n",
    "\n",
    "        # item_id → vector\n",
    "        self.item_vectors = df_meta_sample.copy()\n",
    "\n",
    "        # user_id → список положительных item_id\n",
    "        self.user_pos_items = (\n",
    "            df[df[\"label\"] == 1]\n",
    "            .groupby(\"user_id\")[\"item_id\"]\n",
    "            .apply(list)\n",
    "            .to_dict()\n",
    "        )\n",
    "\n",
    "        # user_id → список отрицательных item_id\n",
    "        self.user_neg_items = (\n",
    "            df[df[\"label\"] == 0]\n",
    "            .groupby(\"user_id\")[\"item_id\"]\n",
    "            .apply(list)\n",
    "            .to_dict()\n",
    "        )\n",
    "\n",
    "        self.user_ids = [u for u in self.user_pos_items if u in self.user_neg_items]\n",
    "\n",
    "    def __len__(self):\n",
    "        return len(self.user_ids)\n",
    "\n",
    "    def __getitem__(self, idx):\n",
    "        user_id = self.user_ids[idx]\n",
    "\n",
    "        pos_items = self.user_pos_items[user_id]\n",
    "        neg_items = self.user_neg_items[user_id]\n",
    "\n",
    "        # Выбираем положительный и отрицательный item_id\n",
    "        pos_item_id = random.choice(pos_items)\n",
    "        neg_item_id = random.choice(neg_items)\n",
    "\n",
    "        # Строим user_vec как среднее по всем положительным\n",
    "        user_vec = np.mean([\n",
    "            self.item_vectors.loc[i].values for i in pos_items if i in self.item_vectors.index\n",
    "        ], axis=0)\n",
    "\n",
    "        pos_vec = self.item_vectors.loc[pos_item_id].values\n",
    "        neg_vec = self.item_vectors.loc[neg_item_id].values\n",
    "\n",
    "        return (\n",
    "            torch.tensor(user_vec, dtype=torch.float32),\n",
    "            torch.tensor(pos_vec, dtype=torch.float32),\n",
    "            torch.tensor(neg_vec, dtype=torch.float32),\n",
    "        )"
   ]
  },
  {
   "cell_type": "code",
   "execution_count": 106,
   "id": "e29dfded",
   "metadata": {},
   "outputs": [],
   "source": [
    "triplet_dataset_rating = ContrastiveTripletDataset(df_train_rating_hard, df_meta_sample)\n",
    "triplet_dataset_interaction = ContrastiveTripletDataset(df_train_interaction_hard, df_meta_sample)"
   ]
  },
  {
   "cell_type": "code",
   "execution_count": 107,
   "id": "902c5903",
   "metadata": {},
   "outputs": [],
   "source": [
    "triplet_loader_rating = DataLoader(triplet_dataset_rating, batch_size=2048, shuffle=True)\n",
    "triplet_loader_interaction = DataLoader(triplet_dataset_interaction, batch_size=2048, shuffle=True)"
   ]
  },
  {
   "cell_type": "code",
   "execution_count": 108,
   "id": "86be3bdb",
   "metadata": {},
   "outputs": [],
   "source": [
    "class TripletDotModel(nn.Module):\n",
    "    def __init__(self, embedding_dim):\n",
    "        super().__init__()\n",
    "        self.user_projection = nn.Linear(embedding_dim, embedding_dim)\n",
    "        self.item_projection = nn.Linear(embedding_dim, embedding_dim)\n",
    "\n",
    "    def forward(self, user_vecs, pos_vecs, neg_vecs):\n",
    "        user_proj = nn.functional.normalize(self.user_projection(user_vecs), dim=1)\n",
    "        pos_proj = nn.functional.normalize(self.item_projection(pos_vecs), dim=1)\n",
    "        neg_proj = nn.functional.normalize(self.item_projection(neg_vecs), dim=1)\n",
    "        return user_proj, pos_proj, neg_proj"
   ]
  },
  {
   "cell_type": "code",
   "execution_count": 109,
   "id": "e6691836",
   "metadata": {},
   "outputs": [],
   "source": [
    "def triplet_loss(user_proj, pos_proj, neg_proj, margin=0.2):\n",
    "    pos_scores = (user_proj * pos_proj).sum(dim=1)\n",
    "    neg_scores = (user_proj * neg_proj).sum(dim=1)\n",
    "    losses = torch.relu(neg_scores - pos_scores + margin)\n",
    "    return losses.mean()"
   ]
  },
  {
   "cell_type": "code",
   "execution_count": 110,
   "id": "0f2ed619",
   "metadata": {},
   "outputs": [],
   "source": [
    "def train_triplet_model(dataloader, embedding_dim, device, epochs=10, lr=1e-3):\n",
    "    model = TripletDotModel(embedding_dim).to(device)\n",
    "    optimizer = torch.optim.Adam(model.parameters(), lr=lr)\n",
    "\n",
    "    for epoch in range(epochs):\n",
    "        model.train()\n",
    "        total_loss = 0\n",
    "\n",
    "        loop = tqdm(dataloader, desc=f\"Epoch {epoch+1}/{epochs}\", leave=False)\n",
    "        for user_vecs, pos_vecs, neg_vecs in loop:\n",
    "            user_vecs = user_vecs.to(device)\n",
    "            pos_vecs = pos_vecs.to(device)\n",
    "            neg_vecs = neg_vecs.to(device)\n",
    "\n",
    "            user_proj, pos_proj, neg_proj = model(user_vecs, pos_vecs, neg_vecs)\n",
    "            loss = triplet_loss(user_proj, pos_proj, neg_proj)\n",
    "\n",
    "            optimizer.zero_grad()\n",
    "            loss.backward()\n",
    "            optimizer.step()\n",
    "\n",
    "            total_loss += loss.item()\n",
    "            loop.set_postfix(loss=loss.item())\n",
    "\n",
    "        avg_loss = total_loss / len(dataloader)\n",
    "        print(f\"Epoch {epoch+1}: Avg Loss = {avg_loss:.4f}\")\n",
    "\n",
    "    return model"
   ]
  },
  {
   "cell_type": "code",
   "execution_count": 111,
   "id": "bcddf5e1",
   "metadata": {},
   "outputs": [],
   "source": [
    "embedding_dim = df_meta_sample.shape[1]"
   ]
  },
  {
   "cell_type": "code",
   "execution_count": 112,
   "id": "f8ee7563",
   "metadata": {},
   "outputs": [
    {
     "name": "stderr",
     "output_type": "stream",
     "text": [
      "                                                                          \r"
     ]
    },
    {
     "name": "stdout",
     "output_type": "stream",
     "text": [
      "Epoch 1: Avg Loss = 0.0532\n"
     ]
    },
    {
     "name": "stderr",
     "output_type": "stream",
     "text": [
      "                                                                          \r"
     ]
    },
    {
     "name": "stdout",
     "output_type": "stream",
     "text": [
      "Epoch 2: Avg Loss = 0.0250\n"
     ]
    },
    {
     "name": "stderr",
     "output_type": "stream",
     "text": [
      "                                                                          \r"
     ]
    },
    {
     "name": "stdout",
     "output_type": "stream",
     "text": [
      "Epoch 3: Avg Loss = 0.0227\n"
     ]
    },
    {
     "name": "stderr",
     "output_type": "stream",
     "text": [
      "                                                                          \r"
     ]
    },
    {
     "name": "stdout",
     "output_type": "stream",
     "text": [
      "Epoch 4: Avg Loss = 0.0218\n"
     ]
    },
    {
     "name": "stderr",
     "output_type": "stream",
     "text": [
      "                                                                          \r"
     ]
    },
    {
     "name": "stdout",
     "output_type": "stream",
     "text": [
      "Epoch 5: Avg Loss = 0.0213\n"
     ]
    },
    {
     "name": "stderr",
     "output_type": "stream",
     "text": [
      "                                                                          \r"
     ]
    },
    {
     "name": "stdout",
     "output_type": "stream",
     "text": [
      "Epoch 6: Avg Loss = 0.0212\n"
     ]
    },
    {
     "name": "stderr",
     "output_type": "stream",
     "text": [
      "                                                                          \r"
     ]
    },
    {
     "name": "stdout",
     "output_type": "stream",
     "text": [
      "Epoch 7: Avg Loss = 0.0210\n"
     ]
    },
    {
     "name": "stderr",
     "output_type": "stream",
     "text": [
      "                                                                          \r"
     ]
    },
    {
     "name": "stdout",
     "output_type": "stream",
     "text": [
      "Epoch 8: Avg Loss = 0.0209\n"
     ]
    },
    {
     "name": "stderr",
     "output_type": "stream",
     "text": [
      "                                                                          \r"
     ]
    },
    {
     "name": "stdout",
     "output_type": "stream",
     "text": [
      "Epoch 9: Avg Loss = 0.0208\n"
     ]
    },
    {
     "name": "stderr",
     "output_type": "stream",
     "text": [
      "                                                                           \r"
     ]
    },
    {
     "name": "stdout",
     "output_type": "stream",
     "text": [
      "Epoch 10: Avg Loss = 0.0208\n"
     ]
    },
    {
     "name": "stderr",
     "output_type": "stream",
     "text": [
      "                                                                           \r"
     ]
    },
    {
     "name": "stdout",
     "output_type": "stream",
     "text": [
      "Epoch 11: Avg Loss = 0.0207\n"
     ]
    },
    {
     "name": "stderr",
     "output_type": "stream",
     "text": [
      "                                                                           \r"
     ]
    },
    {
     "name": "stdout",
     "output_type": "stream",
     "text": [
      "Epoch 12: Avg Loss = 0.0206\n"
     ]
    },
    {
     "name": "stderr",
     "output_type": "stream",
     "text": [
      "                                                                           \r"
     ]
    },
    {
     "name": "stdout",
     "output_type": "stream",
     "text": [
      "Epoch 13: Avg Loss = 0.0207\n"
     ]
    },
    {
     "name": "stderr",
     "output_type": "stream",
     "text": [
      "                                                                           \r"
     ]
    },
    {
     "name": "stdout",
     "output_type": "stream",
     "text": [
      "Epoch 14: Avg Loss = 0.0206\n"
     ]
    },
    {
     "name": "stderr",
     "output_type": "stream",
     "text": [
      "                                                                           \r"
     ]
    },
    {
     "name": "stdout",
     "output_type": "stream",
     "text": [
      "Epoch 15: Avg Loss = 0.0205\n"
     ]
    },
    {
     "name": "stderr",
     "output_type": "stream",
     "text": [
      "                                                                           \r"
     ]
    },
    {
     "name": "stdout",
     "output_type": "stream",
     "text": [
      "Epoch 16: Avg Loss = 0.0205\n"
     ]
    },
    {
     "name": "stderr",
     "output_type": "stream",
     "text": [
      "                                                                           \r"
     ]
    },
    {
     "name": "stdout",
     "output_type": "stream",
     "text": [
      "Epoch 17: Avg Loss = 0.0205\n"
     ]
    },
    {
     "name": "stderr",
     "output_type": "stream",
     "text": [
      "                                                                           \r"
     ]
    },
    {
     "name": "stdout",
     "output_type": "stream",
     "text": [
      "Epoch 18: Avg Loss = 0.0203\n"
     ]
    },
    {
     "name": "stderr",
     "output_type": "stream",
     "text": [
      "                                                                           \r"
     ]
    },
    {
     "name": "stdout",
     "output_type": "stream",
     "text": [
      "Epoch 19: Avg Loss = 0.0204\n"
     ]
    },
    {
     "name": "stderr",
     "output_type": "stream",
     "text": [
      "                                                                           "
     ]
    },
    {
     "name": "stdout",
     "output_type": "stream",
     "text": [
      "Epoch 20: Avg Loss = 0.0203\n"
     ]
    },
    {
     "name": "stderr",
     "output_type": "stream",
     "text": [
      "\r"
     ]
    }
   ],
   "source": [
    "model_triplet_rating = train_triplet_model(\n",
    "    triplet_loader_rating,\n",
    "    embedding_dim=embedding_dim,\n",
    "    device=device,\n",
    "    epochs=20,\n",
    "    lr=1e-3\n",
    ")"
   ]
  },
  {
   "cell_type": "code",
   "execution_count": 113,
   "id": "9d8ed4a2",
   "metadata": {},
   "outputs": [
    {
     "name": "stderr",
     "output_type": "stream",
     "text": [
      "                                                                          \r"
     ]
    },
    {
     "name": "stdout",
     "output_type": "stream",
     "text": [
      "Epoch 1: Avg Loss = 0.0537\n"
     ]
    },
    {
     "name": "stderr",
     "output_type": "stream",
     "text": [
      "                                                                          \r"
     ]
    },
    {
     "name": "stdout",
     "output_type": "stream",
     "text": [
      "Epoch 2: Avg Loss = 0.0266\n"
     ]
    },
    {
     "name": "stderr",
     "output_type": "stream",
     "text": [
      "                                                                          \r"
     ]
    },
    {
     "name": "stdout",
     "output_type": "stream",
     "text": [
      "Epoch 3: Avg Loss = 0.0244\n"
     ]
    },
    {
     "name": "stderr",
     "output_type": "stream",
     "text": [
      "                                                                          \r"
     ]
    },
    {
     "name": "stdout",
     "output_type": "stream",
     "text": [
      "Epoch 4: Avg Loss = 0.0238\n"
     ]
    },
    {
     "name": "stderr",
     "output_type": "stream",
     "text": [
      "                                                                          \r"
     ]
    },
    {
     "name": "stdout",
     "output_type": "stream",
     "text": [
      "Epoch 5: Avg Loss = 0.0234\n"
     ]
    },
    {
     "name": "stderr",
     "output_type": "stream",
     "text": [
      "                                                                          \r"
     ]
    },
    {
     "name": "stdout",
     "output_type": "stream",
     "text": [
      "Epoch 6: Avg Loss = 0.0232\n"
     ]
    },
    {
     "name": "stderr",
     "output_type": "stream",
     "text": [
      "                                                                          \r"
     ]
    },
    {
     "name": "stdout",
     "output_type": "stream",
     "text": [
      "Epoch 7: Avg Loss = 0.0229\n"
     ]
    },
    {
     "name": "stderr",
     "output_type": "stream",
     "text": [
      "                                                                          \r"
     ]
    },
    {
     "name": "stdout",
     "output_type": "stream",
     "text": [
      "Epoch 8: Avg Loss = 0.0229\n"
     ]
    },
    {
     "name": "stderr",
     "output_type": "stream",
     "text": [
      "                                                                          \r"
     ]
    },
    {
     "name": "stdout",
     "output_type": "stream",
     "text": [
      "Epoch 9: Avg Loss = 0.0228\n"
     ]
    },
    {
     "name": "stderr",
     "output_type": "stream",
     "text": [
      "                                                                           \r"
     ]
    },
    {
     "name": "stdout",
     "output_type": "stream",
     "text": [
      "Epoch 10: Avg Loss = 0.0228\n"
     ]
    },
    {
     "name": "stderr",
     "output_type": "stream",
     "text": [
      "                                                                           \r"
     ]
    },
    {
     "name": "stdout",
     "output_type": "stream",
     "text": [
      "Epoch 11: Avg Loss = 0.0226\n"
     ]
    },
    {
     "name": "stderr",
     "output_type": "stream",
     "text": [
      "                                                                           \r"
     ]
    },
    {
     "name": "stdout",
     "output_type": "stream",
     "text": [
      "Epoch 12: Avg Loss = 0.0225\n"
     ]
    },
    {
     "name": "stderr",
     "output_type": "stream",
     "text": [
      "                                                                           \r"
     ]
    },
    {
     "name": "stdout",
     "output_type": "stream",
     "text": [
      "Epoch 13: Avg Loss = 0.0225\n"
     ]
    },
    {
     "name": "stderr",
     "output_type": "stream",
     "text": [
      "                                                                           \r"
     ]
    },
    {
     "name": "stdout",
     "output_type": "stream",
     "text": [
      "Epoch 14: Avg Loss = 0.0225\n"
     ]
    },
    {
     "name": "stderr",
     "output_type": "stream",
     "text": [
      "                                                                           \r"
     ]
    },
    {
     "name": "stdout",
     "output_type": "stream",
     "text": [
      "Epoch 15: Avg Loss = 0.0224\n"
     ]
    },
    {
     "name": "stderr",
     "output_type": "stream",
     "text": [
      "                                                                           \r"
     ]
    },
    {
     "name": "stdout",
     "output_type": "stream",
     "text": [
      "Epoch 16: Avg Loss = 0.0227\n"
     ]
    },
    {
     "name": "stderr",
     "output_type": "stream",
     "text": [
      "                                                                           \r"
     ]
    },
    {
     "name": "stdout",
     "output_type": "stream",
     "text": [
      "Epoch 17: Avg Loss = 0.0225\n"
     ]
    },
    {
     "name": "stderr",
     "output_type": "stream",
     "text": [
      "                                                                           \r"
     ]
    },
    {
     "name": "stdout",
     "output_type": "stream",
     "text": [
      "Epoch 18: Avg Loss = 0.0225\n"
     ]
    },
    {
     "name": "stderr",
     "output_type": "stream",
     "text": [
      "                                                                           \r"
     ]
    },
    {
     "name": "stdout",
     "output_type": "stream",
     "text": [
      "Epoch 19: Avg Loss = 0.0224\n"
     ]
    },
    {
     "name": "stderr",
     "output_type": "stream",
     "text": [
      "                                                                           "
     ]
    },
    {
     "name": "stdout",
     "output_type": "stream",
     "text": [
      "Epoch 20: Avg Loss = 0.0223\n"
     ]
    },
    {
     "name": "stderr",
     "output_type": "stream",
     "text": [
      "\r"
     ]
    }
   ],
   "source": [
    "model_triplet_interaction = train_triplet_model(\n",
    "    triplet_loader_interaction,\n",
    "    embedding_dim=embedding_dim,\n",
    "    device=device,\n",
    "    epochs=20,\n",
    "    lr=1e-3\n",
    ")"
   ]
  },
  {
   "cell_type": "code",
   "execution_count": 114,
   "id": "3123eb47",
   "metadata": {},
   "outputs": [],
   "source": [
    "# Получаем эмбеддинги всех item'ов с помощью обученной проекции\n",
    "def get_projected_item_vectors(model, df_meta_sample, device):\n",
    "    model.eval()\n",
    "    item_ids = df_meta_sample.index.tolist()\n",
    "    item_vecs = torch.tensor(df_meta_sample.values, dtype=torch.float32).to(device)\n",
    "\n",
    "    with torch.no_grad():\n",
    "        # Только item-проекция\n",
    "        item_proj = model.item_projection(item_vecs)\n",
    "        item_proj = nn.functional.normalize(item_proj, dim=1)\n",
    "\n",
    "    item_proj = item_proj.cpu().numpy()\n",
    "    return item_ids, item_proj"
   ]
  },
  {
   "cell_type": "code",
   "execution_count": 115,
   "id": "b491a3e7",
   "metadata": {},
   "outputs": [],
   "source": [
    "# Получаем item_dict заранее\n",
    "candidate_ids_rating, candidate_embs_rating = get_projected_item_vectors(model_triplet_rating, df_meta_sample, device)\n",
    "item_dict_rating = dict(zip(candidate_ids_rating, candidate_embs_rating))"
   ]
  },
  {
   "cell_type": "code",
   "execution_count": 116,
   "id": "31dfa427",
   "metadata": {},
   "outputs": [],
   "source": [
    "candidate_ids_interaction, candidate_embs_interaction = get_projected_item_vectors(model_triplet_interaction, df_meta_sample, device)\n",
    "item_dict_interaction = dict(zip(candidate_ids_interaction, candidate_embs_interaction))"
   ]
  },
  {
   "cell_type": "code",
   "execution_count": 117,
   "id": "541b1914",
   "metadata": {},
   "outputs": [],
   "source": [
    "# Упрощённый build_user_vectors_contrastive\n",
    "def build_user_vectors_contrastive(df_hard, item_dict, ground_truth):\n",
    "    user_vectors = {}\n",
    "    for user_id, group in df_hard[df_hard[\"label\"] == 1].groupby(\"user_id\"):\n",
    "        if user_id not in ground_truth:\n",
    "            continue\n",
    "        vectors = [item_dict[iid] for iid in group[\"item_id\"] if iid in item_dict]\n",
    "        if vectors:\n",
    "            user_vectors[user_id] = np.mean(vectors, axis=0)\n",
    "    return user_vectors"
   ]
  },
  {
   "cell_type": "code",
   "execution_count": 118,
   "id": "0eff812f",
   "metadata": {},
   "outputs": [],
   "source": [
    "# Строим user_vecs без повторной проекции\n",
    "user_vectors_rating = build_user_vectors_contrastive(df_train_rating_hard, item_dict_rating, ground_truth_rating)\n",
    "user_vectors_interaction = build_user_vectors_contrastive(df_train_interaction_hard, item_dict_interaction, ground_truth_interaction)"
   ]
  },
  {
   "cell_type": "code",
   "execution_count": 119,
   "id": "63f812c2",
   "metadata": {},
   "outputs": [],
   "source": [
    "import faiss"
   ]
  },
  {
   "cell_type": "code",
   "execution_count": 120,
   "id": "9958ea29",
   "metadata": {},
   "outputs": [],
   "source": [
    "# FAISS-индексация и инференс\n",
    "def run_faiss_inference(user_vectors, item_dict, ground_truth, top_k=10):\n",
    "    # Подготовка item-векторов\n",
    "    item_ids = list(item_dict.keys())\n",
    "    item_matrix = np.stack([item_dict[iid] for iid in item_ids]).astype(\"float32\")\n",
    "\n",
    "    # FAISS index (нормализованный для cosine similarity)\n",
    "    faiss.normalize_L2(item_matrix)\n",
    "    index = faiss.IndexFlatIP(item_matrix.shape[1])\n",
    "    index.add(item_matrix)\n",
    "\n",
    "    preds = {}\n",
    "    for user_id, user_vec in tqdm(user_vectors.items(), desc=\"FAISS inference\"):\n",
    "        user_vec = user_vec.astype(\"float32\").reshape(1, -1)\n",
    "        faiss.normalize_L2(user_vec)\n",
    "\n",
    "        D, I = index.search(user_vec, top_k)\n",
    "        top_items = [item_ids[i] for i in I[0]]\n",
    "        preds[user_id] = top_items\n",
    "\n",
    "    return preds"
   ]
  },
  {
   "cell_type": "code",
   "execution_count": 121,
   "id": "8d35132d",
   "metadata": {},
   "outputs": [],
   "source": [
    "# Расчёт метрик\n",
    "def precision_at_k(preds, ground_truth, k=10):\n",
    "    scores = []\n",
    "    for user, pred_items in preds.items():\n",
    "        if user not in ground_truth:\n",
    "            continue\n",
    "        hits = sum([1 for item in pred_items[:k] if item in ground_truth[user]])\n",
    "        scores.append(hits / k)\n",
    "    return round(np.mean(scores), 4)\n",
    "\n",
    "def apk(pred, actual, k=10):\n",
    "    if not actual:\n",
    "        return 0.0\n",
    "    pred = pred[:k]\n",
    "    score, num_hits = 0.0, 0.0\n",
    "    for i, p in enumerate(pred):\n",
    "        if p in actual and p not in pred[:i]:\n",
    "            num_hits += 1.0\n",
    "            score += num_hits / (i + 1.0)\n",
    "    return score / min(len(actual), k)\n",
    "\n",
    "def map_at_k(preds, ground_truth, k=10):\n",
    "    return round(np.mean([\n",
    "        apk(preds[u], ground_truth[u], k)\n",
    "        for u in preds if u in ground_truth\n",
    "    ]), 4)"
   ]
  },
  {
   "cell_type": "code",
   "execution_count": 122,
   "id": "badf7dff",
   "metadata": {},
   "outputs": [
    {
     "name": "stderr",
     "output_type": "stream",
     "text": [
      "FAISS inference: 100%|██████████| 72249/72249 [08:08<00:00, 147.98it/s]\n"
     ]
    },
    {
     "name": "stdout",
     "output_type": "stream",
     "text": [
      "\n",
      "[Rating-based Triplet Loss Model]\n",
      "precision@5: 0.0024\n",
      "map@5: 0.0046\n",
      "precision@10: 0.0015\n",
      "map@10: 0.005\n"
     ]
    }
   ],
   "source": [
    "# Запуск инференса и оценка\n",
    "# Rating-based\n",
    "preds_rating = run_faiss_inference(user_vectors_rating, item_dict_rating, ground_truth_rating, top_k=10)\n",
    "metrics_rating = {\n",
    "    \"precision@5\": precision_at_k(preds_rating, ground_truth_rating, k=5),\n",
    "    \"map@5\": map_at_k(preds_rating, ground_truth_rating, k=5),\n",
    "    \"precision@10\": precision_at_k(preds_rating, ground_truth_rating, k=10),\n",
    "    \"map@10\": map_at_k(preds_rating, ground_truth_rating, k=10),\n",
    "}\n",
    "print(\"\\n[Rating-based Triplet Loss Model]\")\n",
    "for k, v in metrics_rating.items():\n",
    "    print(f\"{k}: {v}\")"
   ]
  },
  {
   "cell_type": "code",
   "execution_count": 123,
   "id": "86633eda",
   "metadata": {},
   "outputs": [
    {
     "name": "stderr",
     "output_type": "stream",
     "text": [
      "FAISS inference: 100%|██████████| 94443/94443 [10:24<00:00, 151.24it/s]\n"
     ]
    },
    {
     "name": "stdout",
     "output_type": "stream",
     "text": [
      "\n",
      "[Interaction-based Triplet Loss Model]\n",
      "precision@5: 0.0021\n",
      "map@5: 0.004\n",
      "precision@10: 0.0014\n",
      "map@10: 0.0042\n"
     ]
    }
   ],
   "source": [
    "# Interaction-based\n",
    "preds_interaction = run_faiss_inference(user_vectors_interaction, item_dict_interaction, ground_truth_interaction, top_k=10)\n",
    "metrics_interaction = {\n",
    "    \"precision@5\": precision_at_k(preds_interaction, ground_truth_interaction, k=5),\n",
    "    \"map@5\": map_at_k(preds_interaction, ground_truth_interaction, k=5),\n",
    "    \"precision@10\": precision_at_k(preds_interaction, ground_truth_interaction, k=10),\n",
    "    \"map@10\": map_at_k(preds_interaction, ground_truth_interaction, k=10),\n",
    "}\n",
    "print(\"\\n[Interaction-based Triplet Loss Model]\")\n",
    "for k, v in metrics_interaction.items():\n",
    "    print(f\"{k}: {v}\")"
   ]
  },
  {
   "cell_type": "markdown",
   "id": "dd1d3248",
   "metadata": {},
   "source": [
    "## Использование user projection в инференсе"
   ]
  },
  {
   "cell_type": "code",
   "execution_count": 124,
   "id": "d893b19d",
   "metadata": {},
   "outputs": [],
   "source": [
    "def build_user_vectors_with_projection(df_hard, df_meta_sample, model, device, ground_truth):\n",
    "    model.eval()\n",
    "    user_vectors = {}\n",
    "\n",
    "    for user_id, group in df_hard[df_hard[\"label\"] == 1].groupby(\"user_id\"):\n",
    "        if user_id not in ground_truth:\n",
    "            continue\n",
    "\n",
    "        # Сырые item-вектора, НЕ проецированные\n",
    "        item_vecs = [\n",
    "            df_meta_sample.loc[iid].values\n",
    "            for iid in group[\"item_id\"]\n",
    "            if iid in df_meta_sample.index\n",
    "        ]\n",
    "        if not item_vecs:\n",
    "            continue\n",
    "\n",
    "        user_vec = np.mean(item_vecs, axis=0)\n",
    "        user_vec_tensor = torch.tensor(user_vec, dtype=torch.float32).unsqueeze(0).to(device)\n",
    "\n",
    "        with torch.no_grad():\n",
    "            user_proj = model.user_projection(user_vec_tensor)\n",
    "            user_proj = nn.functional.normalize(user_proj, dim=1)\n",
    "\n",
    "        user_vectors[user_id] = user_proj.cpu().numpy().flatten()\n",
    "\n",
    "    return user_vectors\n"
   ]
  },
  {
   "cell_type": "code",
   "execution_count": 125,
   "id": "5688eeac",
   "metadata": {},
   "outputs": [],
   "source": [
    "# Rating-based user projection\n",
    "user_vectors_rating_proj = build_user_vectors_with_projection(\n",
    "    df_train_rating_hard, df_meta_sample, model_triplet_rating, device, ground_truth_rating\n",
    ")"
   ]
  },
  {
   "cell_type": "code",
   "execution_count": 126,
   "id": "a2585b48",
   "metadata": {},
   "outputs": [],
   "source": [
    "# Interaction-based user projection\n",
    "user_vectors_interaction_proj = build_user_vectors_with_projection(\n",
    "    df_train_interaction_hard, df_meta_sample, model_triplet_interaction, device, ground_truth_interaction\n",
    ")"
   ]
  },
  {
   "cell_type": "code",
   "execution_count": 127,
   "id": "bdc23623",
   "metadata": {},
   "outputs": [
    {
     "name": "stderr",
     "output_type": "stream",
     "text": [
      "FAISS inference: 100%|██████████| 72249/72249 [07:57<00:00, 151.30it/s]\n"
     ]
    },
    {
     "name": "stdout",
     "output_type": "stream",
     "text": [
      "\n",
      "[Rating-based Triplet Loss Model w/ User Projection]\n",
      "precision@5: 0.0016\n",
      "map@5: 0.0034\n",
      "precision@10: 0.0009\n",
      "map@10: 0.0035\n"
     ]
    }
   ],
   "source": [
    "# Rating\n",
    "preds_rating_proj = run_faiss_inference(user_vectors_rating_proj, item_dict_rating, ground_truth_rating)\n",
    "metrics_rating_proj = {\n",
    "    \"precision@5\": precision_at_k(preds_rating_proj, ground_truth_rating, k=5),\n",
    "    \"map@5\": map_at_k(preds_rating_proj, ground_truth_rating, k=5),\n",
    "    \"precision@10\": precision_at_k(preds_rating_proj, ground_truth_rating, k=10),\n",
    "    \"map@10\": map_at_k(preds_rating_proj, ground_truth_rating, k=10),\n",
    "}\n",
    "print(\"\\n[Rating-based Triplet Loss Model w/ User Projection]\")\n",
    "for k, v in metrics_rating_proj.items():\n",
    "    print(f\"{k}: {v}\")"
   ]
  },
  {
   "cell_type": "code",
   "execution_count": 128,
   "id": "034d43e4",
   "metadata": {},
   "outputs": [
    {
     "name": "stderr",
     "output_type": "stream",
     "text": [
      "FAISS inference: 100%|██████████| 94443/94443 [10:24<00:00, 151.35it/s]\n"
     ]
    },
    {
     "name": "stdout",
     "output_type": "stream",
     "text": [
      "\n",
      "[Interaction-based Triplet Loss Model w/ User Projection]\n",
      "precision@5: 0.0014\n",
      "map@5: 0.003\n",
      "precision@10: 0.0008\n",
      "map@10: 0.0031\n"
     ]
    }
   ],
   "source": [
    "# Interaction\n",
    "preds_interaction_proj = run_faiss_inference(user_vectors_interaction_proj, item_dict_interaction, ground_truth_interaction)\n",
    "metrics_interaction_proj = {\n",
    "    \"precision@5\": precision_at_k(preds_interaction_proj, ground_truth_interaction, k=5),\n",
    "    \"map@5\": map_at_k(preds_interaction_proj, ground_truth_interaction, k=5),\n",
    "    \"precision@10\": precision_at_k(preds_interaction_proj, ground_truth_interaction, k=10),\n",
    "    \"map@10\": map_at_k(preds_interaction_proj, ground_truth_interaction, k=10),\n",
    "}\n",
    "print(\"\\n[Interaction-based Triplet Loss Model w/ User Projection]\")\n",
    "for k, v in metrics_interaction_proj.items():\n",
    "    print(f\"{k}: {v}\")"
   ]
  },
  {
   "cell_type": "markdown",
   "id": "15fcc284",
   "metadata": {},
   "source": [
    "## BPRMF"
   ]
  },
  {
   "cell_type": "code",
   "execution_count": 142,
   "id": "79aa071f",
   "metadata": {},
   "outputs": [],
   "source": [
    "df_train_rating_hard = pd.read_csv(\"data/df_train_rating_hard.csv\")\n",
    "df_train_interaction_hard = pd.read_csv(\"data/df_train_interaction_hard.csv\")"
   ]
  },
  {
   "cell_type": "code",
   "execution_count": 143,
   "id": "db4720e7",
   "metadata": {},
   "outputs": [],
   "source": [
    "# Собираем уникальные пользователи и товары\n",
    "unique_users = pd.concat([\n",
    "    df_train_rating_hard[\"user_id\"], df_train_interaction_hard[\"user_id\"]\n",
    "]).unique()\n",
    "unique_items = pd.concat([\n",
    "    df_train_rating_hard[\"item_id\"], df_train_interaction_hard[\"item_id\"]\n",
    "]).unique()"
   ]
  },
  {
   "cell_type": "code",
   "execution_count": 144,
   "id": "2efbab66",
   "metadata": {},
   "outputs": [],
   "source": [
    "# Словари для индексирования\n",
    "user2idx = {uid: idx for idx, uid in enumerate(unique_users)}\n",
    "item2idx = {iid: idx for idx, iid in enumerate(unique_items)}"
   ]
  },
  {
   "cell_type": "code",
   "execution_count": 145,
   "id": "6389cd21",
   "metadata": {},
   "outputs": [],
   "source": [
    "# Обратные словари можно создать позже при инференсе, если потребуется\n",
    "num_users = len(user2idx)\n",
    "num_items = len(item2idx)"
   ]
  },
  {
   "cell_type": "code",
   "execution_count": 146,
   "id": "4b2a8e22",
   "metadata": {},
   "outputs": [],
   "source": [
    "import torch"
   ]
  },
  {
   "cell_type": "code",
   "execution_count": 147,
   "id": "8ea1c4ed",
   "metadata": {},
   "outputs": [],
   "source": [
    "device = torch.device(\"cuda\" if torch.cuda.is_available() else \"cpu\")"
   ]
  },
  {
   "cell_type": "code",
   "execution_count": 148,
   "id": "fb34a9c0",
   "metadata": {},
   "outputs": [],
   "source": [
    "# Установка детерминированного поведения для воспроизводимости результатов\n",
    "def seed_everything(seed=42):\n",
    "    random.seed(seed)\n",
    "    np.random.seed(seed)\n",
    "    torch.manual_seed(seed)\n",
    "    torch.cuda.manual_seed_all(seed)\n",
    "    torch.backends.cudnn.deterministic = True\n",
    "    torch.backends.cudnn.benchmark = False\n",
    "\n",
    "seed_everything(42)"
   ]
  },
  {
   "cell_type": "code",
   "execution_count": 149,
   "id": "662ca713",
   "metadata": {},
   "outputs": [],
   "source": [
    "import numpy as np\n",
    "import pandas as pd\n",
    "from tqdm import tqdm\n",
    "import sys\n",
    "import torch\n",
    "import torch.nn as nn\n",
    "from torch.utils.data import Dataset, DataLoader, random_split"
   ]
  },
  {
   "cell_type": "code",
   "execution_count": 150,
   "id": "b52ce4a4",
   "metadata": {},
   "outputs": [],
   "source": [
    "class BPRDataset(torch.utils.data.Dataset):\n",
    "    def __init__(self, df, user2idx, item2idx):\n",
    "        self.user_pos_items = (\n",
    "            df[df[\"label\"] == 1]\n",
    "            .groupby(\"user_id\")[\"item_id\"]\n",
    "            .apply(set)\n",
    "            .to_dict()\n",
    "        )\n",
    "        self.user_neg_items = (\n",
    "            df[df[\"label\"] == 0]\n",
    "            .groupby(\"user_id\")[\"item_id\"]\n",
    "            .apply(set)\n",
    "            .to_dict()\n",
    "        )\n",
    "        self.user_ids = [u for u in self.user_pos_items if u in self.user_neg_items]\n",
    "        self.user2idx = user2idx\n",
    "        self.item2idx = item2idx\n",
    "\n",
    "    def __len__(self):\n",
    "        return len(self.user_ids)\n",
    "\n",
    "    def __getitem__(self, idx):\n",
    "        user_id = self.user_ids[idx]\n",
    "        pos_item = random.choice(list(self.user_pos_items[user_id]))\n",
    "        neg_item = random.choice(list(self.user_neg_items[user_id]))\n",
    "\n",
    "        return (\n",
    "            torch.tensor(self.user2idx[user_id], dtype=torch.long),\n",
    "            torch.tensor(self.item2idx[pos_item], dtype=torch.long),\n",
    "            torch.tensor(self.item2idx[neg_item], dtype=torch.long),\n",
    "        )"
   ]
  },
  {
   "cell_type": "code",
   "execution_count": 151,
   "id": "a8025fc2",
   "metadata": {},
   "outputs": [],
   "source": [
    "bpr_dataset_rating = BPRDataset(df_train_rating_hard, user2idx, item2idx)\n",
    "bpr_dataset_interaction = BPRDataset(df_train_interaction_hard, user2idx, item2idx)"
   ]
  },
  {
   "cell_type": "code",
   "execution_count": 152,
   "id": "2e27e8d8",
   "metadata": {},
   "outputs": [],
   "source": [
    "bpr_loader_rating = DataLoader(bpr_dataset_rating, batch_size=2048, shuffle=True)\n",
    "bpr_loader_interaction = DataLoader(bpr_dataset_interaction, batch_size=2048, shuffle=True)"
   ]
  },
  {
   "cell_type": "code",
   "execution_count": 153,
   "id": "ce822c6a",
   "metadata": {},
   "outputs": [],
   "source": [
    "class BPRMF(nn.Module):\n",
    "    def __init__(self, num_users, num_items, embedding_dim=64):\n",
    "        super().__init__()\n",
    "        self.user_embedding = nn.Embedding(num_users, embedding_dim)\n",
    "        self.item_embedding = nn.Embedding(num_items, embedding_dim)\n",
    "\n",
    "        nn.init.xavier_uniform_(self.user_embedding.weight)\n",
    "        nn.init.xavier_uniform_(self.item_embedding.weight)\n",
    "\n",
    "    def forward(self, user_ids, pos_item_ids, neg_item_ids):\n",
    "        user_vecs = self.user_embedding(user_ids)\n",
    "        pos_vecs = self.item_embedding(pos_item_ids)\n",
    "        neg_vecs = self.item_embedding(neg_item_ids)\n",
    "\n",
    "        pos_scores = (user_vecs * pos_vecs).sum(dim=1)\n",
    "        neg_scores = (user_vecs * neg_vecs).sum(dim=1)\n",
    "        return pos_scores, neg_scores"
   ]
  },
  {
   "cell_type": "code",
   "execution_count": 154,
   "id": "e1efaf47",
   "metadata": {},
   "outputs": [],
   "source": [
    "def bpr_loss(pos_scores, neg_scores):\n",
    "    return -torch.log(torch.sigmoid(pos_scores - neg_scores)).mean()"
   ]
  },
  {
   "cell_type": "code",
   "execution_count": 155,
   "id": "6de632f8",
   "metadata": {},
   "outputs": [],
   "source": [
    "def train_bpr_model(dataloader, num_users, num_items, device, embedding_dim=64, epochs=10, lr=1e-3):\n",
    "    model = BPRMF(num_users, num_items, embedding_dim).to(device)\n",
    "    optimizer = torch.optim.Adam(model.parameters(), lr=lr)\n",
    "\n",
    "    for epoch in range(epochs):\n",
    "        model.train()\n",
    "        total_loss = 0\n",
    "\n",
    "        loop = tqdm(dataloader, desc=f\"BPRMF Epoch {epoch+1}/{epochs}\", leave=False)\n",
    "        for user_ids, pos_item_ids, neg_item_ids in loop:\n",
    "            user_ids = user_ids.to(device)\n",
    "            pos_item_ids = pos_item_ids.to(device)\n",
    "            neg_item_ids = neg_item_ids.to(device)\n",
    "\n",
    "            pos_scores, neg_scores = model(user_ids, pos_item_ids, neg_item_ids)\n",
    "            loss = bpr_loss(pos_scores, neg_scores)\n",
    "\n",
    "            optimizer.zero_grad()\n",
    "            loss.backward()\n",
    "            optimizer.step()\n",
    "\n",
    "            total_loss += loss.item()\n",
    "            loop.set_postfix(loss=loss.item())\n",
    "\n",
    "        print(f\"Epoch {epoch+1}: Avg Loss = {total_loss / len(dataloader):.4f}\")\n",
    "\n",
    "    return model\n"
   ]
  },
  {
   "cell_type": "code",
   "execution_count": 156,
   "id": "7734ef91",
   "metadata": {},
   "outputs": [],
   "source": [
    "embedding_dim = df_meta_sample.shape[1]"
   ]
  },
  {
   "cell_type": "code",
   "execution_count": 157,
   "id": "b4590f02",
   "metadata": {},
   "outputs": [
    {
     "name": "stderr",
     "output_type": "stream",
     "text": [
      "                                                                               \r"
     ]
    },
    {
     "name": "stdout",
     "output_type": "stream",
     "text": [
      "Epoch 1: Avg Loss = 0.6931\n"
     ]
    },
    {
     "name": "stderr",
     "output_type": "stream",
     "text": [
      "                                                                               \r"
     ]
    },
    {
     "name": "stdout",
     "output_type": "stream",
     "text": [
      "Epoch 2: Avg Loss = 0.6795\n"
     ]
    },
    {
     "name": "stderr",
     "output_type": "stream",
     "text": [
      "                                                                               \r"
     ]
    },
    {
     "name": "stdout",
     "output_type": "stream",
     "text": [
      "Epoch 3: Avg Loss = 0.5868\n"
     ]
    },
    {
     "name": "stderr",
     "output_type": "stream",
     "text": [
      "                                                                               \r"
     ]
    },
    {
     "name": "stdout",
     "output_type": "stream",
     "text": [
      "Epoch 4: Avg Loss = 0.4446\n"
     ]
    },
    {
     "name": "stderr",
     "output_type": "stream",
     "text": [
      "                                                                               \r"
     ]
    },
    {
     "name": "stdout",
     "output_type": "stream",
     "text": [
      "Epoch 5: Avg Loss = 0.3310\n"
     ]
    },
    {
     "name": "stderr",
     "output_type": "stream",
     "text": [
      "                                                                               \r"
     ]
    },
    {
     "name": "stdout",
     "output_type": "stream",
     "text": [
      "Epoch 6: Avg Loss = 0.2519\n"
     ]
    },
    {
     "name": "stderr",
     "output_type": "stream",
     "text": [
      "                                                                               \r"
     ]
    },
    {
     "name": "stdout",
     "output_type": "stream",
     "text": [
      "Epoch 7: Avg Loss = 0.1958\n"
     ]
    },
    {
     "name": "stderr",
     "output_type": "stream",
     "text": [
      "                                                                               \r"
     ]
    },
    {
     "name": "stdout",
     "output_type": "stream",
     "text": [
      "Epoch 8: Avg Loss = 0.1561\n"
     ]
    },
    {
     "name": "stderr",
     "output_type": "stream",
     "text": [
      "                                                                               \r"
     ]
    },
    {
     "name": "stdout",
     "output_type": "stream",
     "text": [
      "Epoch 9: Avg Loss = 0.1260\n"
     ]
    },
    {
     "name": "stderr",
     "output_type": "stream",
     "text": [
      "                                                                                 \r"
     ]
    },
    {
     "name": "stdout",
     "output_type": "stream",
     "text": [
      "Epoch 10: Avg Loss = 0.1041\n"
     ]
    },
    {
     "name": "stderr",
     "output_type": "stream",
     "text": [
      "                                                                                 \r"
     ]
    },
    {
     "name": "stdout",
     "output_type": "stream",
     "text": [
      "Epoch 11: Avg Loss = 0.0865\n"
     ]
    },
    {
     "name": "stderr",
     "output_type": "stream",
     "text": [
      "                                                                                 \r"
     ]
    },
    {
     "name": "stdout",
     "output_type": "stream",
     "text": [
      "Epoch 12: Avg Loss = 0.0724\n"
     ]
    },
    {
     "name": "stderr",
     "output_type": "stream",
     "text": [
      "                                                                                 \r"
     ]
    },
    {
     "name": "stdout",
     "output_type": "stream",
     "text": [
      "Epoch 13: Avg Loss = 0.0613\n"
     ]
    },
    {
     "name": "stderr",
     "output_type": "stream",
     "text": [
      "                                                                                 \r"
     ]
    },
    {
     "name": "stdout",
     "output_type": "stream",
     "text": [
      "Epoch 14: Avg Loss = 0.0520\n"
     ]
    },
    {
     "name": "stderr",
     "output_type": "stream",
     "text": [
      "                                                                                 \r"
     ]
    },
    {
     "name": "stdout",
     "output_type": "stream",
     "text": [
      "Epoch 15: Avg Loss = 0.0447\n"
     ]
    },
    {
     "name": "stderr",
     "output_type": "stream",
     "text": [
      "                                                                                 \r"
     ]
    },
    {
     "name": "stdout",
     "output_type": "stream",
     "text": [
      "Epoch 16: Avg Loss = 0.0383\n"
     ]
    },
    {
     "name": "stderr",
     "output_type": "stream",
     "text": [
      "                                                                                 \r"
     ]
    },
    {
     "name": "stdout",
     "output_type": "stream",
     "text": [
      "Epoch 17: Avg Loss = 0.0332\n"
     ]
    },
    {
     "name": "stderr",
     "output_type": "stream",
     "text": [
      "                                                                                 \r"
     ]
    },
    {
     "name": "stdout",
     "output_type": "stream",
     "text": [
      "Epoch 18: Avg Loss = 0.0288\n"
     ]
    },
    {
     "name": "stderr",
     "output_type": "stream",
     "text": [
      "                                                                                 \r"
     ]
    },
    {
     "name": "stdout",
     "output_type": "stream",
     "text": [
      "Epoch 19: Avg Loss = 0.0251\n"
     ]
    },
    {
     "name": "stderr",
     "output_type": "stream",
     "text": [
      "                                                                                 "
     ]
    },
    {
     "name": "stdout",
     "output_type": "stream",
     "text": [
      "Epoch 20: Avg Loss = 0.0219\n"
     ]
    },
    {
     "name": "stderr",
     "output_type": "stream",
     "text": [
      "\r"
     ]
    }
   ],
   "source": [
    "model_bpr_rating = train_bpr_model(\n",
    "    bpr_loader_rating,\n",
    "    num_users=len(user2idx),\n",
    "    num_items=len(item2idx),\n",
    "    device=device,\n",
    "    embedding_dim=64,\n",
    "    epochs=20,\n",
    "    lr=1e-3\n",
    ")"
   ]
  },
  {
   "cell_type": "code",
   "execution_count": 158,
   "id": "77f90fac",
   "metadata": {},
   "outputs": [
    {
     "name": "stderr",
     "output_type": "stream",
     "text": [
      "                                                                               \r"
     ]
    },
    {
     "name": "stdout",
     "output_type": "stream",
     "text": [
      "Epoch 1: Avg Loss = 0.6931\n"
     ]
    },
    {
     "name": "stderr",
     "output_type": "stream",
     "text": [
      "                                                                               \r"
     ]
    },
    {
     "name": "stdout",
     "output_type": "stream",
     "text": [
      "Epoch 2: Avg Loss = 0.6790\n"
     ]
    },
    {
     "name": "stderr",
     "output_type": "stream",
     "text": [
      "                                                                               \r"
     ]
    },
    {
     "name": "stdout",
     "output_type": "stream",
     "text": [
      "Epoch 3: Avg Loss = 0.5837\n"
     ]
    },
    {
     "name": "stderr",
     "output_type": "stream",
     "text": [
      "                                                                               \r"
     ]
    },
    {
     "name": "stdout",
     "output_type": "stream",
     "text": [
      "Epoch 4: Avg Loss = 0.4429\n"
     ]
    },
    {
     "name": "stderr",
     "output_type": "stream",
     "text": [
      "                                                                               \r"
     ]
    },
    {
     "name": "stdout",
     "output_type": "stream",
     "text": [
      "Epoch 5: Avg Loss = 0.3315\n"
     ]
    },
    {
     "name": "stderr",
     "output_type": "stream",
     "text": [
      "                                                                               \r"
     ]
    },
    {
     "name": "stdout",
     "output_type": "stream",
     "text": [
      "Epoch 6: Avg Loss = 0.2534\n"
     ]
    },
    {
     "name": "stderr",
     "output_type": "stream",
     "text": [
      "                                                                               \r"
     ]
    },
    {
     "name": "stdout",
     "output_type": "stream",
     "text": [
      "Epoch 7: Avg Loss = 0.1978\n"
     ]
    },
    {
     "name": "stderr",
     "output_type": "stream",
     "text": [
      "                                                                               \r"
     ]
    },
    {
     "name": "stdout",
     "output_type": "stream",
     "text": [
      "Epoch 8: Avg Loss = 0.1577\n"
     ]
    },
    {
     "name": "stderr",
     "output_type": "stream",
     "text": [
      "                                                                               \r"
     ]
    },
    {
     "name": "stdout",
     "output_type": "stream",
     "text": [
      "Epoch 9: Avg Loss = 0.1279\n"
     ]
    },
    {
     "name": "stderr",
     "output_type": "stream",
     "text": [
      "                                                                                 \r"
     ]
    },
    {
     "name": "stdout",
     "output_type": "stream",
     "text": [
      "Epoch 10: Avg Loss = 0.1052\n"
     ]
    },
    {
     "name": "stderr",
     "output_type": "stream",
     "text": [
      "                                                                                 \r"
     ]
    },
    {
     "name": "stdout",
     "output_type": "stream",
     "text": [
      "Epoch 11: Avg Loss = 0.0872\n"
     ]
    },
    {
     "name": "stderr",
     "output_type": "stream",
     "text": [
      "                                                                                 \r"
     ]
    },
    {
     "name": "stdout",
     "output_type": "stream",
     "text": [
      "Epoch 12: Avg Loss = 0.0729\n"
     ]
    },
    {
     "name": "stderr",
     "output_type": "stream",
     "text": [
      "                                                                                 \r"
     ]
    },
    {
     "name": "stdout",
     "output_type": "stream",
     "text": [
      "Epoch 13: Avg Loss = 0.0617\n"
     ]
    },
    {
     "name": "stderr",
     "output_type": "stream",
     "text": [
      "                                                                                 \r"
     ]
    },
    {
     "name": "stdout",
     "output_type": "stream",
     "text": [
      "Epoch 14: Avg Loss = 0.0526\n"
     ]
    },
    {
     "name": "stderr",
     "output_type": "stream",
     "text": [
      "                                                                                 \r"
     ]
    },
    {
     "name": "stdout",
     "output_type": "stream",
     "text": [
      "Epoch 15: Avg Loss = 0.0449\n"
     ]
    },
    {
     "name": "stderr",
     "output_type": "stream",
     "text": [
      "                                                                                 \r"
     ]
    },
    {
     "name": "stdout",
     "output_type": "stream",
     "text": [
      "Epoch 16: Avg Loss = 0.0384\n"
     ]
    },
    {
     "name": "stderr",
     "output_type": "stream",
     "text": [
      "                                                                                 \r"
     ]
    },
    {
     "name": "stdout",
     "output_type": "stream",
     "text": [
      "Epoch 17: Avg Loss = 0.0332\n"
     ]
    },
    {
     "name": "stderr",
     "output_type": "stream",
     "text": [
      "                                                                                 \r"
     ]
    },
    {
     "name": "stdout",
     "output_type": "stream",
     "text": [
      "Epoch 18: Avg Loss = 0.0288\n"
     ]
    },
    {
     "name": "stderr",
     "output_type": "stream",
     "text": [
      "                                                                                 \r"
     ]
    },
    {
     "name": "stdout",
     "output_type": "stream",
     "text": [
      "Epoch 19: Avg Loss = 0.0248\n"
     ]
    },
    {
     "name": "stderr",
     "output_type": "stream",
     "text": [
      "                                                                                 "
     ]
    },
    {
     "name": "stdout",
     "output_type": "stream",
     "text": [
      "Epoch 20: Avg Loss = 0.0216\n"
     ]
    },
    {
     "name": "stderr",
     "output_type": "stream",
     "text": [
      "\r"
     ]
    }
   ],
   "source": [
    "model_bpr_interaction = train_bpr_model(\n",
    "    bpr_loader_interaction,\n",
    "    num_users=len(user2idx),\n",
    "    num_items=len(item2idx),\n",
    "    device=device,\n",
    "    embedding_dim=64,\n",
    "    epochs=20,\n",
    "    lr=1e-3\n",
    ")"
   ]
  },
  {
   "cell_type": "code",
   "execution_count": 159,
   "id": "84c40fa1",
   "metadata": {},
   "outputs": [],
   "source": [
    "# Получение item-векторов и user-векторов из обученной BPRMF-модели\n",
    "def extract_user_item_embeddings(model, device):\n",
    "    model.eval()\n",
    "    with torch.no_grad():\n",
    "        user_embeddings = model.user_embedding.weight.detach().cpu().numpy()\n",
    "        item_embeddings = model.item_embedding.weight.detach().cpu().numpy()\n",
    "    return user_embeddings, item_embeddings"
   ]
  },
  {
   "cell_type": "code",
   "execution_count": 160,
   "id": "89c284a0",
   "metadata": {},
   "outputs": [],
   "source": [
    "# Получаем эмбеддинги из модели\n",
    "user_embs_rating, item_embs_rating = extract_user_item_embeddings(model_bpr_rating, device)\n",
    "\n",
    "# Создаем словари id → эмбеддинг\n",
    "item_dict_rating = {item: item_embs_rating[idx] for item, idx in item2idx.items()}\n",
    "user_vectors_rating = {user: user_embs_rating[idx] for user, idx in user2idx.items()}\n"
   ]
  },
  {
   "cell_type": "code",
   "execution_count": 161,
   "id": "3e953541",
   "metadata": {},
   "outputs": [],
   "source": [
    "# Получаем эмбеддинги из модели\n",
    "user_embs_interaction, item_embs_interaction = extract_user_item_embeddings(model_bpr_interaction, device)\n",
    "\n",
    "# Создаем словари id → эмбеддинг\n",
    "item_dict_interaction = {item: item_embs_interaction[idx] for item, idx in item2idx.items()}\n",
    "user_vectors_interaction = {user: user_embs_interaction[idx] for user, idx in user2idx.items()}"
   ]
  },
  {
   "cell_type": "code",
   "execution_count": 162,
   "id": "2f7745a4",
   "metadata": {},
   "outputs": [],
   "source": [
    "import faiss"
   ]
  },
  {
   "cell_type": "code",
   "execution_count": 163,
   "id": "963c5d90",
   "metadata": {},
   "outputs": [],
   "source": [
    "# FAISS-индексация и инференс\n",
    "def run_faiss_inference(user_vectors, item_dict, ground_truth, top_k=10):\n",
    "    # Подготовка item-векторов\n",
    "    item_ids = list(item_dict.keys())\n",
    "    item_matrix = np.stack([item_dict[iid] for iid in item_ids]).astype(\"float32\")\n",
    "\n",
    "    # FAISS index (нормализованный для cosine similarity)\n",
    "    faiss.normalize_L2(item_matrix)\n",
    "    index = faiss.IndexFlatIP(item_matrix.shape[1])\n",
    "    index.add(item_matrix)\n",
    "\n",
    "    preds = {}\n",
    "    for user_id, user_vec in tqdm(user_vectors.items(), desc=\"FAISS inference\"):\n",
    "        user_vec = user_vec.astype(\"float32\").reshape(1, -1)\n",
    "        faiss.normalize_L2(user_vec)\n",
    "\n",
    "        D, I = index.search(user_vec, top_k)\n",
    "        top_items = [item_ids[i] for i in I[0]]\n",
    "        preds[user_id] = top_items\n",
    "\n",
    "    return preds"
   ]
  },
  {
   "cell_type": "code",
   "execution_count": 164,
   "id": "06baaea3",
   "metadata": {},
   "outputs": [],
   "source": [
    "# Расчёт метрик\n",
    "def precision_at_k(preds, ground_truth, k=10):\n",
    "    scores = []\n",
    "    for user, pred_items in preds.items():\n",
    "        if user not in ground_truth:\n",
    "            continue\n",
    "        hits = sum([1 for item in pred_items[:k] if item in ground_truth[user]])\n",
    "        scores.append(hits / k)\n",
    "    return round(np.mean(scores), 4)\n",
    "\n",
    "def apk(pred, actual, k=10):\n",
    "    if not actual:\n",
    "        return 0.0\n",
    "    pred = pred[:k]\n",
    "    score, num_hits = 0.0, 0.0\n",
    "    for i, p in enumerate(pred):\n",
    "        if p in actual and p not in pred[:i]:\n",
    "            num_hits += 1.0\n",
    "            score += num_hits / (i + 1.0)\n",
    "    return score / min(len(actual), k)\n",
    "\n",
    "def map_at_k(preds, ground_truth, k=10):\n",
    "    return round(np.mean([\n",
    "        apk(preds[u], ground_truth[u], k)\n",
    "        for u in preds if u in ground_truth\n",
    "    ]), 4)"
   ]
  },
  {
   "cell_type": "code",
   "execution_count": 165,
   "id": "c58106b3",
   "metadata": {},
   "outputs": [
    {
     "name": "stderr",
     "output_type": "stream",
     "text": [
      "FAISS inference: 100%|██████████| 611334/611334 [18:30<00:00, 550.37it/s]\n"
     ]
    },
    {
     "name": "stdout",
     "output_type": "stream",
     "text": [
      "\n",
      "[Rating-based BPRMF Model]\n",
      "precision@5: 0.0009\n",
      "map@5: 0.0021\n",
      "precision@10: 0.0005\n",
      "map@10: 0.0022\n"
     ]
    }
   ],
   "source": [
    "# Запуск инференса и оценка\n",
    "# Rating-based\n",
    "preds_rating = run_faiss_inference(user_vectors_rating, item_dict_rating, ground_truth_rating, top_k=10)\n",
    "metrics_rating = {\n",
    "    \"precision@5\": precision_at_k(preds_rating, ground_truth_rating, k=5),\n",
    "    \"map@5\": map_at_k(preds_rating, ground_truth_rating, k=5),\n",
    "    \"precision@10\": precision_at_k(preds_rating, ground_truth_rating, k=10),\n",
    "    \"map@10\": map_at_k(preds_rating, ground_truth_rating, k=10),\n",
    "}\n",
    "print(\"\\n[Rating-based BPRMF Model]\")\n",
    "for k, v in metrics_rating.items():\n",
    "    print(f\"{k}: {v}\")"
   ]
  },
  {
   "cell_type": "code",
   "execution_count": 166,
   "id": "fcd1c673",
   "metadata": {},
   "outputs": [
    {
     "name": "stderr",
     "output_type": "stream",
     "text": [
      "FAISS inference: 100%|██████████| 611334/611334 [18:54<00:00, 538.87it/s]\n"
     ]
    },
    {
     "name": "stdout",
     "output_type": "stream",
     "text": [
      "\n",
      "[Interaction-based BPRMF Model]\n",
      "precision@5: 0.0007\n",
      "map@5: 0.0019\n",
      "precision@10: 0.0004\n",
      "map@10: 0.0019\n"
     ]
    }
   ],
   "source": [
    "# Interaction-based\n",
    "preds_interaction = run_faiss_inference(user_vectors_interaction, item_dict_interaction, ground_truth_interaction, top_k=10)\n",
    "metrics_interaction = {\n",
    "    \"precision@5\": precision_at_k(preds_interaction, ground_truth_interaction, k=5),\n",
    "    \"map@5\": map_at_k(preds_interaction, ground_truth_interaction, k=5),\n",
    "    \"precision@10\": precision_at_k(preds_interaction, ground_truth_interaction, k=10),\n",
    "    \"map@10\": map_at_k(preds_interaction, ground_truth_interaction, k=10),\n",
    "}\n",
    "print(\"\\n[Interaction-based BPRMF Model]\")\n",
    "for k, v in metrics_interaction.items():\n",
    "    print(f\"{k}: {v}\")"
   ]
  }
 ],
 "metadata": {
  "kernelspec": {
   "display_name": "venv",
   "language": "python",
   "name": "python3"
  },
  "language_info": {
   "codemirror_mode": {
    "name": "ipython",
    "version": 3
   },
   "file_extension": ".py",
   "mimetype": "text/x-python",
   "name": "python",
   "nbconvert_exporter": "python",
   "pygments_lexer": "ipython3",
   "version": "3.12.7"
  }
 },
 "nbformat": 4,
 "nbformat_minor": 5
}
