{
 "cells": [
  {
   "cell_type": "markdown",
   "id": "7380fd81",
   "metadata": {},
   "source": [
    "### Метрики MLP бейзлайн модели\n",
    "\n",
    "| Модель                  | Precision@10 | MAP@10  |\n",
    "|-------------------------|--------------|---------|\n",
    "| **Matching MLP (CLIP)** | **0.0015**       | **0.0047** |"
   ]
  },
  {
   "cell_type": "code",
   "execution_count": null,
   "id": "31d60464",
   "metadata": {},
   "outputs": [],
   "source": [
    "# Импортируем основные библиотеки для работы с данными и Torch\n",
    "import pandas as pd\n",
    "import numpy as np\n",
    "import datetime\n",
    "import random\n",
    "import torch"
   ]
  },
  {
   "cell_type": "markdown",
   "id": "4475f9b8",
   "metadata": {},
   "source": [
    "### Matching MLP с user-based признаками\n",
    "\n",
    "В этом блоке мы обучаем базовую модель MatchingMLP на конкатенации эмбеддингов пользователя и товара, а также агрегированных признаков по пользователю.  \n",
    "Цель — понять, насколько табличные признаки пользователя помогают в задаче рекомендации и могут ли они улучшить метрики Precision@10 и MAP@10."
   ]
  },
  {
   "cell_type": "code",
   "execution_count": null,
   "id": "e016d925",
   "metadata": {},
   "outputs": [],
   "source": [
    "# Установка детерминированного поведения для воспроизводимости результатов\n",
    "def seed_everything(seed=42):\n",
    "    random.seed(seed)\n",
    "    np.random.seed(seed)\n",
    "    torch.manual_seed(seed)\n",
    "    torch.cuda.manual_seed_all(seed)\n",
    "    torch.backends.cudnn.deterministic = True\n",
    "    torch.backends.cudnn.benchmark = False\n",
    "\n",
    "seed_everything(42)"
   ]
  },
  {
   "cell_type": "code",
   "execution_count": null,
   "id": "4cc773d2",
   "metadata": {},
   "outputs": [],
   "source": [
    "# Загрузка отфильтрованного датасета с пользовательскими взаимодействиями\n",
    "df = pd.read_csv(\"data/amazon_interactions_filtered.csv\")"
   ]
  },
  {
   "cell_type": "code",
   "execution_count": null,
   "id": "000ff119",
   "metadata": {},
   "outputs": [],
   "source": [
    "# Фильтрация по времени и разбиение на обучающую и тестовую выборки по таймстемпам\n",
    "df = df[df[\"timestamp\"] >= pd.Timestamp(\"2015-01-01\").timestamp()].copy()\n",
    "\n",
    "# Сортировка по времени\n",
    "df = df.sort_values(\"timestamp\")\n",
    "\n",
    "# Формируем train/test сплит:\n",
    "df_train = df[df[\"timestamp\"] < pd.Timestamp(\"2018-01-01\").timestamp()]\n",
    "df_test = df[(df[\"timestamp\"] >= pd.Timestamp(\"2018-01-01\").timestamp()) &\n",
    "             (df[\"timestamp\"] < pd.Timestamp(\"2018-10-01\").timestamp())]"
   ]
  },
  {
   "cell_type": "code",
   "execution_count": 5,
   "id": "bef3a8e5",
   "metadata": {},
   "outputs": [
    {
     "name": "stderr",
     "output_type": "stream",
     "text": [
      "C:\\Users\\Администратор\\AppData\\Local\\Temp\\ipykernel_2228\\1089353448.py:2: SettingWithCopyWarning: \n",
      "A value is trying to be set on a copy of a slice from a DataFrame.\n",
      "Try using .loc[row_indexer,col_indexer] = value instead\n",
      "\n",
      "See the caveats in the documentation: https://pandas.pydata.org/pandas-docs/stable/user_guide/indexing.html#returning-a-view-versus-a-copy\n",
      "  df_train[\"label\"] = (df_train[\"rating\"] >= 4).astype(int)\n",
      "C:\\Users\\Администратор\\AppData\\Local\\Temp\\ipykernel_2228\\1089353448.py:3: SettingWithCopyWarning: \n",
      "A value is trying to be set on a copy of a slice from a DataFrame.\n",
      "Try using .loc[row_indexer,col_indexer] = value instead\n",
      "\n",
      "See the caveats in the documentation: https://pandas.pydata.org/pandas-docs/stable/user_guide/indexing.html#returning-a-view-versus-a-copy\n",
      "  df_test[\"label\"] = (df_test[\"rating\"] >= 4).astype(int)\n"
     ]
    }
   ],
   "source": [
    "# Формируем бинарную метку: label = 1, если рейтинг >= 4\n",
    "df_train[\"label\"] = (df_train[\"rating\"] >= 4).astype(int)\n",
    "df_test[\"label\"] = (df_test[\"rating\"] >= 4).astype(int)"
   ]
  },
  {
   "cell_type": "code",
   "execution_count": 6,
   "id": "19895089",
   "metadata": {},
   "outputs": [],
   "source": [
    "# Подгружаем эмбеддинги и мета-фичи\n",
    "df_meta_clip = pd.read_csv(\n",
    "    \"data/amazon_meta_clean.csv\",\n",
    "    na_values=[\"\"],\n",
    "    keep_default_na=False\n",
    ")\n",
    "# Переименуем asin в item_id\n",
    "df_meta_clip.rename(columns={\"asin\": \"item_id\"}, inplace=True)"
   ]
  },
  {
   "cell_type": "code",
   "execution_count": 7,
   "id": "e171a311",
   "metadata": {},
   "outputs": [],
   "source": [
    "# Удалим tfidf-фичи (они здесь не нужны)\n",
    "tfidf_cols = [col for col in df_meta_clip.columns if col.startswith(\"tfidf_\")]\n",
    "df_meta_clip = df_meta_clip.drop(columns=tfidf_cols)"
   ]
  },
  {
   "cell_type": "code",
   "execution_count": null,
   "id": "2dced1f6",
   "metadata": {},
   "outputs": [],
   "source": [
    "# Мерджим трейн с фичами товаров после CLIP-энкодера\n",
    "df_train_merged_clip = df_train.merge(\n",
    "    df_meta_clip,\n",
    "    on=\"item_id\",\n",
    "    how=\"left\"\n",
    ")"
   ]
  },
  {
   "cell_type": "code",
   "execution_count": 9,
   "id": "80e8d491",
   "metadata": {},
   "outputs": [
    {
     "name": "stdout",
     "output_type": "stream",
     "text": [
      "После удаления строк без критичных признаков: 1,635,089 строк\n"
     ]
    }
   ],
   "source": [
    "# Отфильтруем данные с пропусками в нижеупомянутых полях\n",
    "required_fields = [\"text_full\", \"image_main\", \"brand\"]\n",
    "df_train_clip_clean = df_train_merged_clip.dropna(subset=required_fields).copy()\n",
    "print(f\"После удаления строк без критичных признаков: {len(df_train_clip_clean):,} строк\")"
   ]
  },
  {
   "cell_type": "code",
   "execution_count": 10,
   "id": "d4b70982",
   "metadata": {},
   "outputs": [],
   "source": [
    "# Удалим текст и картинки (они уже в эмбеддингах)\n",
    "df_train_clip_clean.drop(columns=[\"text_full\", \"image_main\"], inplace=True)"
   ]
  },
  {
   "cell_type": "code",
   "execution_count": 11,
   "id": "4cee9170",
   "metadata": {},
   "outputs": [
    {
     "name": "stderr",
     "output_type": "stream",
     "text": [
      "c:\\Users\\Администратор\\Desktop\\START_ML\\Проект\\MFDP\\venv\\Lib\\site-packages\\numpy\\_core\\fromnumeric.py:3860: RuntimeWarning: Mean of empty slice.\n",
      "  return _methods._mean(a, axis=axis, dtype=dtype,\n",
      "c:\\Users\\Администратор\\Desktop\\START_ML\\Проект\\MFDP\\venv\\Lib\\site-packages\\numpy\\_core\\_methods.py:145: RuntimeWarning: invalid value encountered in scalar divide\n",
      "  ret = ret.dtype.type(ret / rcount)\n"
     ]
    }
   ],
   "source": [
    "# Группировка и агрегаты по user_id\n",
    "user_features = df_train_clip_clean.groupby(\"user_id\").agg({\n",
    "    \"item_id\": \"count\",                                # user_total_interactions\n",
    "    \"rating\": \"mean\",                                  # user_avg_rating\n",
    "    \"timestamp\": lambda x: np.mean(np.diff(np.sort(x))),  # user_interaction_freq\n",
    "    \"category_main\": pd.Series.nunique,                # user_category_diversity\n",
    "    \"brand\": pd.Series.nunique                         # user_brand_diversity\n",
    "}).rename(columns={\n",
    "    \"item_id\": \"user_total_interactions\",\n",
    "    \"rating\": \"user_avg_rating\",\n",
    "    \"timestamp\": \"user_interaction_freq\",\n",
    "    \"category_main\": \"user_category_diversity\",\n",
    "    \"brand\": \"user_brand_diversity\"\n",
    "})"
   ]
  },
  {
   "cell_type": "code",
   "execution_count": 12,
   "id": "d9ec34e6",
   "metadata": {},
   "outputs": [],
   "source": [
    "# Сбросим индекс\n",
    "user_features = user_features.reset_index()"
   ]
  },
  {
   "cell_type": "code",
   "execution_count": null,
   "id": "af7f7ca3",
   "metadata": {},
   "outputs": [],
   "source": [
    "# Масштабируем числовые признаки, полученные от юзера\n",
    "from sklearn.preprocessing import StandardScaler\n",
    "\n",
    "user_features_scaled = user_features.copy()\n",
    "feature_cols = [\n",
    "    \"user_total_interactions\",\n",
    "    \"user_avg_rating\",\n",
    "    \"user_interaction_freq\",\n",
    "    \"user_category_diversity\",\n",
    "    \"user_brand_diversity\"\n",
    "]"
   ]
  },
  {
   "cell_type": "code",
   "execution_count": 14,
   "id": "169707c9",
   "metadata": {},
   "outputs": [],
   "source": [
    "scaler = StandardScaler()\n",
    "user_features_scaled[feature_cols] = scaler.fit_transform(user_features_scaled[feature_cols])"
   ]
  },
  {
   "cell_type": "code",
   "execution_count": null,
   "id": "0be1d94f",
   "metadata": {},
   "outputs": [
    {
     "data": {
      "text/html": [
       "<div>\n",
       "<style scoped>\n",
       "    .dataframe tbody tr th:only-of-type {\n",
       "        vertical-align: middle;\n",
       "    }\n",
       "\n",
       "    .dataframe tbody tr th {\n",
       "        vertical-align: top;\n",
       "    }\n",
       "\n",
       "    .dataframe thead th {\n",
       "        text-align: right;\n",
       "    }\n",
       "</style>\n",
       "<table border=\"1\" class=\"dataframe\">\n",
       "  <thead>\n",
       "    <tr style=\"text-align: right;\">\n",
       "      <th></th>\n",
       "      <th>user_id</th>\n",
       "      <th>user_total_interactions</th>\n",
       "      <th>user_avg_rating</th>\n",
       "      <th>user_interaction_freq</th>\n",
       "      <th>user_category_diversity</th>\n",
       "      <th>user_brand_diversity</th>\n",
       "    </tr>\n",
       "  </thead>\n",
       "  <tbody>\n",
       "    <tr>\n",
       "      <th>0</th>\n",
       "      <td>A000013090ZI3HIT9N5V</td>\n",
       "      <td>0.103259</td>\n",
       "      <td>0.277802</td>\n",
       "      <td>-0.642299</td>\n",
       "      <td>0.255287</td>\n",
       "      <td>0.333894</td>\n",
       "    </tr>\n",
       "    <tr>\n",
       "      <th>1</th>\n",
       "      <td>A0029492Q0J08SOETKZ8</td>\n",
       "      <td>-0.531448</td>\n",
       "      <td>-2.312326</td>\n",
       "      <td>NaN</td>\n",
       "      <td>-0.619433</td>\n",
       "      <td>-0.511305</td>\n",
       "    </tr>\n",
       "    <tr>\n",
       "      <th>2</th>\n",
       "      <td>A00408825PVJW7GFLEGU</td>\n",
       "      <td>0.103259</td>\n",
       "      <td>0.277802</td>\n",
       "      <td>0.278635</td>\n",
       "      <td>0.255287</td>\n",
       "      <td>0.333894</td>\n",
       "    </tr>\n",
       "    <tr>\n",
       "      <th>3</th>\n",
       "      <td>A0052686GPQNCX2VAZ10</td>\n",
       "      <td>-0.214095</td>\n",
       "      <td>0.601568</td>\n",
       "      <td>-0.645232</td>\n",
       "      <td>-0.619433</td>\n",
       "      <td>-0.088706</td>\n",
       "    </tr>\n",
       "    <tr>\n",
       "      <th>4</th>\n",
       "      <td>A0060774I98SJ0AICYQ7</td>\n",
       "      <td>-0.214095</td>\n",
       "      <td>0.115919</td>\n",
       "      <td>2.510580</td>\n",
       "      <td>0.255287</td>\n",
       "      <td>-0.088706</td>\n",
       "    </tr>\n",
       "  </tbody>\n",
       "</table>\n",
       "</div>"
      ],
      "text/plain": [
       "                user_id  user_total_interactions  user_avg_rating  \\\n",
       "0  A000013090ZI3HIT9N5V                 0.103259         0.277802   \n",
       "1  A0029492Q0J08SOETKZ8                -0.531448        -2.312326   \n",
       "2  A00408825PVJW7GFLEGU                 0.103259         0.277802   \n",
       "3  A0052686GPQNCX2VAZ10                -0.214095         0.601568   \n",
       "4  A0060774I98SJ0AICYQ7                -0.214095         0.115919   \n",
       "\n",
       "   user_interaction_freq  user_category_diversity  user_brand_diversity  \n",
       "0              -0.642299                 0.255287              0.333894  \n",
       "1                    NaN                -0.619433             -0.511305  \n",
       "2               0.278635                 0.255287              0.333894  \n",
       "3              -0.645232                -0.619433             -0.088706  \n",
       "4               2.510580                 0.255287             -0.088706  "
      ]
     },
     "execution_count": 15,
     "metadata": {},
     "output_type": "execute_result"
    }
   ],
   "source": [
    "# Посмотрим на результат генерации юзер-фичей\n",
    "user_features_scaled.head()"
   ]
  },
  {
   "cell_type": "code",
   "execution_count": 16,
   "id": "557a760f",
   "metadata": {},
   "outputs": [
    {
     "name": "stdout",
     "output_type": "stream",
     "text": [
      "<class 'pandas.core.frame.DataFrame'>\n",
      "RangeIndex: 611334 entries, 0 to 611333\n",
      "Data columns (total 6 columns):\n",
      " #   Column                   Non-Null Count   Dtype  \n",
      "---  ------                   --------------   -----  \n",
      " 0   user_id                  611334 non-null  object \n",
      " 1   user_total_interactions  611334 non-null  float64\n",
      " 2   user_avg_rating          611334 non-null  float64\n",
      " 3   user_interaction_freq    426520 non-null  float64\n",
      " 4   user_category_diversity  611334 non-null  float64\n",
      " 5   user_brand_diversity     611334 non-null  float64\n",
      "dtypes: float64(5), object(1)\n",
      "memory usage: 28.0+ MB\n"
     ]
    }
   ],
   "source": [
    "user_features_scaled.info()"
   ]
  },
  {
   "cell_type": "code",
   "execution_count": null,
   "id": "dfd17c26",
   "metadata": {},
   "outputs": [],
   "source": [
    "# Заполнение пропусков медианой\n",
    "user_features_scaled[\"user_interaction_freq\"] = user_features_scaled[\"user_interaction_freq\"].fillna(\n",
    "    user_features_scaled[\"user_interaction_freq\"].median()\n",
    ")"
   ]
  },
  {
   "cell_type": "code",
   "execution_count": 18,
   "id": "4da99aff",
   "metadata": {},
   "outputs": [],
   "source": [
    "# Объединяем user_features с основным train-фреймом\n",
    "df_train_clip_final = df_train_clip_clean.merge(\n",
    "    user_features_scaled,\n",
    "    on=\"user_id\",\n",
    "    how=\"left\"\n",
    ")"
   ]
  },
  {
   "cell_type": "code",
   "execution_count": null,
   "id": "dacd259d",
   "metadata": {},
   "outputs": [
    {
     "name": "stdout",
     "output_type": "stream",
     "text": [
      "Есть ли пропуски после merge: False\n"
     ]
    }
   ],
   "source": [
    "# Проверка на пропуски\n",
    "print(\"Есть ли пропуски после merge:\", df_train_clip_final.isna().any().any())"
   ]
  },
  {
   "cell_type": "code",
   "execution_count": 20,
   "id": "92262c2b",
   "metadata": {},
   "outputs": [],
   "source": [
    "from tqdm import tqdm\n",
    "import sys\n",
    "import os\n",
    "\n",
    "\n",
    "disable_tqdm = os.getenv(\"TQDM_DISABLE\", \"0\") == \"1\""
   ]
  },
  {
   "cell_type": "code",
   "execution_count": null,
   "id": "6eb7b35d",
   "metadata": {},
   "outputs": [],
   "source": [
    "# Загружаем тестовый датасет и обучающую выборку (rating-based sampling)\n",
    "# для последующего формирования ground truth\n",
    "df_test = pd.read_csv(\"data/df_test_ground_truth_rating_based.csv\")"
   ]
  },
  {
   "cell_type": "code",
   "execution_count": null,
   "id": "35bc0498",
   "metadata": {},
   "outputs": [],
   "source": [
    "# Функция Precision@K — средняя доля релевантных товаров среди top-K рекомендаций\n",
    "def precision_at_k(preds, ground_truth, k=10):\n",
    "    scores = []\n",
    "    for user, pred_items in preds.items():\n",
    "        if user not in ground_truth:\n",
    "            continue\n",
    "        gt_items = ground_truth[user]\n",
    "        hits = sum([1 for item in pred_items[:k] if item in gt_items])\n",
    "        scores.append(hits / k)\n",
    "    return round(np.mean(scores), 4)\n",
    "# Функция average precision для одного пользователя\n",
    "def apk(pred, actual, k=10):\n",
    "    if not actual:\n",
    "        return 0.0\n",
    "    pred = pred[:k]\n",
    "    score, num_hits = 0.0, 0.0\n",
    "    for i, p in enumerate(pred):\n",
    "        if p in actual and p not in pred[:i]:\n",
    "            num_hits += 1.0\n",
    "            score += num_hits / (i + 1.0)\n",
    "    return score / min(len(actual), k)\n",
    "# Средняя average precision по всем пользователям\n",
    "def map_at_k(preds, ground_truth, k=10):\n",
    "    return round(\n",
    "        np.mean([\n",
    "            apk(preds[u], ground_truth[u], k)\n",
    "            for u in preds if u in ground_truth\n",
    "        ]),\n",
    "        4\n",
    "    )"
   ]
  },
  {
   "cell_type": "code",
   "execution_count": 23,
   "id": "3ea73b9b",
   "metadata": {},
   "outputs": [],
   "source": [
    "# Загружаем тренировочную выборку с CLIP-эмбеддингами (текст + изображение)\n",
    "df_train = df_train_clip_final.copy()"
   ]
  },
  {
   "cell_type": "code",
   "execution_count": 24,
   "id": "d597acad",
   "metadata": {},
   "outputs": [],
   "source": [
    "# Выбираем CLIP-эмбеддинги (текст + изображение)\n",
    "item_vector_cols = [col for col in df_train.columns if col.startswith(\"clip_text_\") or col.startswith(\"clip_img_\")]\n",
    "user_ids = df_train[\"user_id\"].unique()"
   ]
  },
  {
   "cell_type": "code",
   "execution_count": 25,
   "id": "81b8f884",
   "metadata": {},
   "outputs": [],
   "source": [
    "# Указываем дополнительные табличные признаки, которые добавим к CLIP-вектору\n",
    "extra_vec_cols = [\n",
    "    \"title_len\",\n",
    "    \"description_text_len\",\n",
    "    \"is_top20_brand\",\n",
    "    \"has_price\",\n",
    "    \"is_top9_category_main\",\n",
    "    \"price_clean\"\n",
    "]"
   ]
  },
  {
   "cell_type": "code",
   "execution_count": 26,
   "id": "a2282915",
   "metadata": {},
   "outputs": [],
   "source": [
    "# Избавляемся от дубликатов товаров и нормализуем числовые признаки\n",
    "df_item_extra = df_train.drop_duplicates(\"item_id\")[[\"item_id\"] + extra_vec_cols].copy()"
   ]
  },
  {
   "cell_type": "code",
   "execution_count": null,
   "id": "ae28c3f1",
   "metadata": {},
   "outputs": [],
   "source": [
    "# Заполним пропуски в price_clean \n",
    "df_item_extra[\"price_clean\"] = df_item_extra[\"price_clean\"].fillna(-1)"
   ]
  },
  {
   "cell_type": "code",
   "execution_count": null,
   "id": "587ed821",
   "metadata": {},
   "outputs": [],
   "source": [
    "# Масштабируем некоторые табличные фичи товара\n",
    "from sklearn.preprocessing import StandardScaler\n",
    "scaler = StandardScaler()\n",
    "df_item_extra[[\"title_len\", \"description_text_len\", \"price_clean\"]] = scaler.fit_transform(\n",
    "    df_item_extra[[\"title_len\", \"description_text_len\", \"price_clean\"]]\n",
    ")"
   ]
  },
  {
   "cell_type": "code",
   "execution_count": 29,
   "id": "6454c07b",
   "metadata": {},
   "outputs": [],
   "source": [
    "# Переводим в индекс item_id для удобного объединения\n",
    "df_item_extra = df_item_extra.set_index(\"item_id\")"
   ]
  },
  {
   "cell_type": "code",
   "execution_count": 30,
   "id": "fb652c64",
   "metadata": {},
   "outputs": [],
   "source": [
    "# Извлекаем CLIP-эмбеддинги и объединяем с табличными признаками\n",
    "clip_vectors  = df_train.drop_duplicates(\"item_id\")[[\"item_id\"] + item_vector_cols].set_index(\"item_id\")"
   ]
  },
  {
   "cell_type": "code",
   "execution_count": 31,
   "id": "f30b929b",
   "metadata": {},
   "outputs": [],
   "source": [
    "item_vectors = pd.concat([clip_vectors, df_item_extra], axis=1)"
   ]
  },
  {
   "cell_type": "code",
   "execution_count": 32,
   "id": "5f54ddc0",
   "metadata": {},
   "outputs": [
    {
     "name": "stdout",
     "output_type": "stream",
     "text": [
      "extra_vectors shape: (67706, 6)\n",
      "clip_vectors shape: (67706, 200)\n",
      "item_vectors shape: (67706, 206)\n"
     ]
    }
   ],
   "source": [
    "print(\"extra_vectors shape:\", df_item_extra.shape)\n",
    "print(\"clip_vectors shape:\", clip_vectors.shape)\n",
    "print(\"item_vectors shape:\", item_vectors.shape)"
   ]
  },
  {
   "cell_type": "code",
   "execution_count": null,
   "id": "c5c2b6ee",
   "metadata": {},
   "outputs": [],
   "source": [
    "# Установим в датасете с агрегированными фичами юзера user_id в качестве индекса\n",
    "user_features_indexed = user_features_scaled.set_index(\"user_id\")"
   ]
  },
  {
   "cell_type": "code",
   "execution_count": null,
   "id": "4d88e57b",
   "metadata": {},
   "outputs": [],
   "source": [
    "# Формируем вектор интересов пользователя как \n",
    "# среднее среднее по эмбеддингам товаров с label = 1\n",
    "user_vectors = {}"
   ]
  },
  {
   "cell_type": "code",
   "execution_count": null,
   "id": "52471a89",
   "metadata": {},
   "outputs": [
    {
     "name": "stdout",
     "output_type": "stream",
     "text": [
      "User vector aggregation: 100%|██████████| 551853/551853 [03:08<00:00, 2935.29it/s]\n"
     ]
    }
   ],
   "source": [
    "# Агрегируем признаки по пользователям\n",
    "for user_id, group in tqdm(df_train[df_train[\"label\"] == 1].groupby(\"user_id\"), desc=\"User vector aggregation\", file=sys.stdout):\n",
    "    item_ids = group[\"item_id\"].values\n",
    "    \n",
    "    # Фильтруем только те item_id, которые есть в item_vectors\n",
    "    existing_items = [item for item in item_ids if item in item_vectors.index]\n",
    "    if not existing_items:\n",
    "        continue\n",
    "\n",
    "    # Вектор интересов пользователя (только CLIP + item-фичи)\n",
    "    item_vec_mean = np.mean(item_vectors.loc[item_ids].values, axis=0)\n",
    "    \n",
    "    # Подгружаем user-based признаки\n",
    "    if user_id in user_features_indexed.index:\n",
    "        user_vec_extra = user_features_indexed.loc[user_id].values\n",
    "    else:\n",
    "        user_vec_extra = np.zeros(user_features.shape[1])\n",
    "\n",
    "    user_vec = np.concatenate([item_vec_mean, user_vec_extra])\n",
    "    user_vectors[user_id] = user_vec"
   ]
  },
  {
   "cell_type": "code",
   "execution_count": 36,
   "id": "3b96fab3",
   "metadata": {},
   "outputs": [],
   "source": [
    "# Строим датасет: конкатенируем векторы пользователя и товара\n",
    "X = []\n",
    "y = []"
   ]
  },
  {
   "cell_type": "code",
   "execution_count": null,
   "id": "086f38bd",
   "metadata": {},
   "outputs": [
    {
     "name": "stdout",
     "output_type": "stream",
     "text": [
      "Building training pairs: 100%|██████████| 1635089/1635089 [02:54<00:00, 9377.72it/s]\n"
     ]
    }
   ],
   "source": [
    "# Формируем обучающие пары юзеров и товаров\n",
    "for row in tqdm(df_train.itertuples(), total=len(df_train), desc=\"Building training pairs\", file=sys.stdout):\n",
    "    item_id = row.item_id\n",
    "    user_id = row.user_id\n",
    "    label = row.label\n",
    "\n",
    "    if user_id not in user_vectors or item_id not in item_vectors.index:\n",
    "        continue\n",
    "\n",
    "    user_vec = user_vectors[user_id]\n",
    "    item_vec = item_vectors.loc[item_id].values\n",
    "\n",
    "    concat_vec = np.concatenate([user_vec, item_vec])\n",
    "    X.append(concat_vec)\n",
    "    y.append(label)"
   ]
  },
  {
   "cell_type": "code",
   "execution_count": 38,
   "id": "826ba1aa",
   "metadata": {},
   "outputs": [
    {
     "name": "stdout",
     "output_type": "stream",
     "text": [
      "X shape: (1542533, 417)\n",
      "y shape: (1542533,)\n"
     ]
    }
   ],
   "source": [
    "# Преобразуем списки в массивы для дальнейшей подачи в PyTorch\n",
    "X = np.array(X)\n",
    "y = np.array(y)\n",
    "print(\"X shape:\", X.shape)\n",
    "print(\"y shape:\", y.shape)"
   ]
  },
  {
   "cell_type": "code",
   "execution_count": 39,
   "id": "0e675bc2",
   "metadata": {},
   "outputs": [],
   "source": [
    "# Импортируем PyTorch и определяем, использовать ли GPU\n",
    "import torch.nn as nn\n",
    "from torch.utils.data import Dataset, DataLoader, random_split"
   ]
  },
  {
   "cell_type": "code",
   "execution_count": 40,
   "id": "52dca5b5",
   "metadata": {},
   "outputs": [
    {
     "name": "stdout",
     "output_type": "stream",
     "text": [
      "Device: cuda\n"
     ]
    }
   ],
   "source": [
    "device = torch.device(\"cuda\" if torch.cuda.is_available() else \"cpu\")\n",
    "print(\"Device:\", device)"
   ]
  },
  {
   "cell_type": "code",
   "execution_count": 41,
   "id": "17f7aad8",
   "metadata": {},
   "outputs": [],
   "source": [
    "# Определяем Dataset\n",
    "class MatchingDataset(Dataset):\n",
    "    def __init__(self, X, y):\n",
    "        self.X = torch.tensor(X, dtype=torch.float32)\n",
    "        self.y = torch.tensor(y, dtype=torch.float32)\n",
    "\n",
    "    def __len__(self):\n",
    "        return len(self.X)\n",
    "\n",
    "    def __getitem__(self, idx):\n",
    "        return self.X[idx], self.y[idx]"
   ]
  },
  {
   "cell_type": "code",
   "execution_count": 42,
   "id": "829226ba",
   "metadata": {},
   "outputs": [],
   "source": [
    "# Создаём датасет и делим его на обучающую и валидационную части\n",
    "full_dataset = MatchingDataset(X, y)"
   ]
  },
  {
   "cell_type": "code",
   "execution_count": 43,
   "id": "cfda76eb",
   "metadata": {},
   "outputs": [],
   "source": [
    "train_size = int(0.9 * len(full_dataset))\n",
    "val_size = len(full_dataset) - train_size\n",
    "train_dataset, val_dataset = random_split(full_dataset, [train_size, val_size])"
   ]
  },
  {
   "cell_type": "code",
   "execution_count": 44,
   "id": "68b4871f",
   "metadata": {},
   "outputs": [],
   "source": [
    "# Оборачиваем датасеты в DataLoader для удобной подачи батчами\n",
    "train_loader = DataLoader(train_dataset, batch_size=2048, shuffle=True)\n",
    "val_loader = DataLoader(val_dataset, batch_size=2048)"
   ]
  },
  {
   "cell_type": "markdown",
   "id": "62454c90",
   "metadata": {},
   "source": [
    "**MatchingMLP**  \n",
    "Базовая модель: многослойный перцептрон, обучаемый на конкатенированных эмбеддингах пользователя и товара.  \n",
    "Используется как точка отсчёта (baseline) в бинарной классификации релевантности."
   ]
  },
  {
   "cell_type": "code",
   "execution_count": null,
   "id": "55f5ea08",
   "metadata": {},
   "outputs": [],
   "source": [
    "# Определяем архитектуру бейзлайн MLP модели\n",
    "class MatchingMLP(nn.Module):\n",
    "    def __init__(self, input_dim=400):\n",
    "        super().__init__()\n",
    "        self.model = nn.Sequential(\n",
    "            nn.Linear(input_dim, 256),\n",
    "            nn.ReLU(),\n",
    "            nn.Dropout(0.2),\n",
    "            nn.Linear(256, 64),\n",
    "            nn.ReLU(),\n",
    "            nn.Linear(64, 1),\n",
    "            nn.Sigmoid()\n",
    "        )\n",
    "\n",
    "    def forward(self, x):\n",
    "        return self.model(x)"
   ]
  },
  {
   "cell_type": "code",
   "execution_count": 46,
   "id": "5b81aedc",
   "metadata": {},
   "outputs": [],
   "source": [
    "# Создаём экземпляр модели\n",
    "model = MatchingMLP(input_dim=X.shape[1]).to(device)"
   ]
  },
  {
   "cell_type": "code",
   "execution_count": 47,
   "id": "cce94eec",
   "metadata": {},
   "outputs": [],
   "source": [
    "# Используем бинарную кросс-энтропию в качестве функции потерь\n",
    "# и Adam как оптимизатор с learning rate 0.001\n",
    "criterion = nn.BCELoss()\n",
    "optimizer = torch.optim.Adam(model.parameters(), lr=1e-3)"
   ]
  },
  {
   "cell_type": "code",
   "execution_count": 48,
   "id": "74750353",
   "metadata": {},
   "outputs": [],
   "source": [
    "from sklearn.metrics import accuracy_score\n",
    "# Обучаем модель в течение 10 эпох, отслеживая loss и accuracy на валидации\n",
    "num_epochs = 10"
   ]
  },
  {
   "cell_type": "code",
   "execution_count": null,
   "id": "30e94ffa",
   "metadata": {},
   "outputs": [
    {
     "name": "stdout",
     "output_type": "stream",
     "text": [
      "Training: 100%|██████████| 678/678 [00:14<00:00, 47.55it/s]\n",
      "Validating: 100%|██████████| 76/76 [00:01<00:00, 58.14it/s]\n",
      "Epoch 1/10 | Train Loss: 0.1888 | Val Loss: 0.1276 | Val Accuracy: 0.9495\n",
      "Training: 100%|██████████| 678/678 [00:14<00:00, 45.51it/s]\n",
      "Validating: 100%|██████████| 76/76 [00:01<00:00, 50.87it/s]\n",
      "Epoch 2/10 | Train Loss: 0.1161 | Val Loss: 0.0973 | Val Accuracy: 0.9624\n",
      "Training: 100%|██████████| 678/678 [00:14<00:00, 45.79it/s]\n",
      "Validating: 100%|██████████| 76/76 [00:01<00:00, 50.87it/s]\n",
      "Epoch 3/10 | Train Loss: 0.0959 | Val Loss: 0.0864 | Val Accuracy: 0.9666\n",
      "Training: 100%|██████████| 678/678 [00:14<00:00, 46.05it/s]\n",
      "Validating: 100%|██████████| 76/76 [00:01<00:00, 53.30it/s]\n",
      "Epoch 4/10 | Train Loss: 0.0860 | Val Loss: 0.0807 | Val Accuracy: 0.9690\n",
      "Training: 100%|██████████| 678/678 [00:15<00:00, 43.97it/s]\n",
      "Validating: 100%|██████████| 76/76 [00:01<00:00, 54.53it/s]\n",
      "Epoch 5/10 | Train Loss: 0.0794 | Val Loss: 0.0769 | Val Accuracy: 0.9705\n",
      "Training: 100%|██████████| 678/678 [00:14<00:00, 45.94it/s]\n",
      "Validating: 100%|██████████| 76/76 [00:01<00:00, 54.78it/s]\n",
      "Epoch 6/10 | Train Loss: 0.0744 | Val Loss: 0.0716 | Val Accuracy: 0.9727\n",
      "Training: 100%|██████████| 678/678 [00:14<00:00, 45.26it/s]\n",
      "Validating: 100%|██████████| 76/76 [00:01<00:00, 54.81it/s]\n",
      "Epoch 7/10 | Train Loss: 0.0706 | Val Loss: 0.0715 | Val Accuracy: 0.9727\n",
      "Training: 100%|██████████| 678/678 [00:15<00:00, 44.94it/s]\n",
      "Validating: 100%|██████████| 76/76 [00:01<00:00, 53.47it/s]\n",
      "Epoch 8/10 | Train Loss: 0.0675 | Val Loss: 0.0722 | Val Accuracy: 0.9727\n",
      "Training: 100%|██████████| 678/678 [00:15<00:00, 44.43it/s]\n",
      "Validating: 100%|██████████| 76/76 [00:01<00:00, 49.65it/s]\n",
      "Epoch 9/10 | Train Loss: 0.0647 | Val Loss: 0.0666 | Val Accuracy: 0.9747\n",
      "Training: 100%|██████████| 678/678 [00:14<00:00, 46.17it/s]\n",
      "Validating: 100%|██████████| 76/76 [00:01<00:00, 49.98it/s]\n",
      "Epoch 10/10 | Train Loss: 0.0627 | Val Loss: 0.0665 | Val Accuracy: 0.9748\n"
     ]
    }
   ],
   "source": [
    "# Обучение и валидация\n",
    "for epoch in range(num_epochs):\n",
    "    model.train()\n",
    "    train_losses = []\n",
    "\n",
    "    for X_batch, y_batch in tqdm(train_loader, desc=\"Training\", file=sys.stdout):\n",
    "        X_batch, y_batch = X_batch.to(device), y_batch.to(device).view(-1, 1)\n",
    "\n",
    "        preds = model(X_batch)\n",
    "        loss = criterion(preds, y_batch)\n",
    "\n",
    "        optimizer.zero_grad()\n",
    "        loss.backward()\n",
    "        optimizer.step()\n",
    "\n",
    "        train_losses.append(loss.item())\n",
    "\n",
    "    # Валидация\n",
    "    model.eval()\n",
    "    val_losses = []\n",
    "    all_preds = []\n",
    "    all_targets = []\n",
    "\n",
    "    for X_batch, y_batch in tqdm(val_loader, desc=\"Validating\", file=sys.stdout):\n",
    "        X_batch, y_batch = X_batch.to(device), y_batch.to(device).view(-1, 1)\n",
    "        with torch.no_grad():\n",
    "            preds = model(X_batch)\n",
    "            loss = criterion(preds, y_batch)\n",
    "        val_losses.append(loss.item())\n",
    "        all_preds.extend(preds.cpu().numpy())\n",
    "        all_targets.extend(y_batch.cpu().numpy())\n",
    "\n",
    "    # Бинаризуем предсказания, считаем accuracy и выводим метрики за эпоху\n",
    "    all_preds_bin = (np.array(all_preds) >= 0.5).astype(int)\n",
    "    val_acc = accuracy_score(all_targets, all_preds_bin)\n",
    "\n",
    "    tqdm.write(\n",
    "        f\"Epoch {epoch+1}/{num_epochs} | \"\n",
    "        f\"Train Loss: {np.mean(train_losses):.4f} | \"\n",
    "        f\"Val Loss: {np.mean(val_losses):.4f} | \"\n",
    "        f\"Val Accuracy: {val_acc:.4f}\"\n",
    "    )"
   ]
  },
  {
   "cell_type": "code",
   "execution_count": 50,
   "id": "f4584760",
   "metadata": {},
   "outputs": [
    {
     "name": "stdout",
     "output_type": "stream",
     "text": [
      "Test shape: (138023, 5), unique users: 85083\n"
     ]
    }
   ],
   "source": [
    "# Проверяем размер и разнообразие тестового сета перед инференсом\n",
    "print(f\"Test shape: {df_test.shape}, unique users: {df_test['user_id'].nunique()}\")"
   ]
  },
  {
   "cell_type": "code",
   "execution_count": 51,
   "id": "d136e9c1",
   "metadata": {},
   "outputs": [],
   "source": [
    "# Создаём словарь ground truth: реальные товары, \n",
    "# с которыми взаимодействовал пользователь\n",
    "ground_truth = df_test.groupby(\"user_id\")[\"item_id\"].apply(set).to_dict()"
   ]
  },
  {
   "cell_type": "code",
   "execution_count": 52,
   "id": "b93bcf90",
   "metadata": {},
   "outputs": [
    {
     "data": {
      "text/plain": [
       "MatchingMLP(\n",
       "  (model): Sequential(\n",
       "    (0): Linear(in_features=417, out_features=256, bias=True)\n",
       "    (1): ReLU()\n",
       "    (2): Dropout(p=0.2, inplace=False)\n",
       "    (3): Linear(in_features=256, out_features=64, bias=True)\n",
       "    (4): ReLU()\n",
       "    (5): Linear(in_features=64, out_features=1, bias=True)\n",
       "    (6): Sigmoid()\n",
       "  )\n",
       ")"
      ]
     },
     "execution_count": 52,
     "metadata": {},
     "output_type": "execute_result"
    }
   ],
   "source": [
    "# Переводим модель в режим инференса\n",
    "model.eval()"
   ]
  },
  {
   "cell_type": "code",
   "execution_count": 53,
   "id": "6d720e2b",
   "metadata": {},
   "outputs": [
    {
     "data": {
      "text/plain": [
       "(67706, 206)"
      ]
     },
     "execution_count": 53,
     "metadata": {},
     "output_type": "execute_result"
    }
   ],
   "source": [
    "# Подготавливаем список кандидатов и их эмбеддинги для инференса\n",
    "candidate_items = item_vectors.index.tolist()\n",
    "candidate_vectors = item_vectors.values\n",
    "candidate_vectors.shape"
   ]
  },
  {
   "cell_type": "code",
   "execution_count": null,
   "id": "9ffbf7cd",
   "metadata": {},
   "outputs": [],
   "source": [
    "# Для каждого пользователя генерируем top-N рекомендаций\n",
    "# Сортировка кандидатов по вероятности релевантности (score)\n",
    "top_k = 10\n",
    "predictions = {}"
   ]
  },
  {
   "cell_type": "code",
   "execution_count": null,
   "id": "98f98625",
   "metadata": {},
   "outputs": [
    {
     "name": "stdout",
     "output_type": "stream",
     "text": [
      "Generating top-N: 100%|██████████| 85083/85083 [5:57:02<00:00,  3.97it/s]  \n"
     ]
    }
   ],
   "source": [
    "# Формируем топы рекомендаций для каждого юзера\n",
    "for user_id in tqdm(ground_truth.keys(), desc=\"Generating top-N\", file=sys.stdout):\n",
    "    if user_id not in user_vectors:\n",
    "        continue\n",
    "\n",
    "    user_vec = user_vectors[user_id]\n",
    "    user_vec_batch = np.tile(user_vec, (candidate_vectors.shape[0], 1))\n",
    "    concat = np.hstack([user_vec_batch, candidate_vectors])\n",
    "\n",
    "    with torch.no_grad():\n",
    "        scores = model(torch.tensor(concat, dtype=torch.float32).to(device)).cpu().numpy().flatten()\n",
    "\n",
    "    sorted_items = np.array(candidate_items)[np.argsort(scores)[::-1]]\n",
    "    predictions[user_id] = sorted_items[:10].tolist()"
   ]
  },
  {
   "cell_type": "code",
   "execution_count": null,
   "id": "15f3582f",
   "metadata": {},
   "outputs": [
    {
     "name": "stdout",
     "output_type": "stream",
     "text": [
      "Matching MLP with user-based features (top-10)\n",
      "Precision@10: 0.0003\n",
      "MAP@10: 0.0008\n"
     ]
    }
   ],
   "source": [
    "# Считаем метрики на всём списке рекомендаций для случая\n",
    "# с user-based фичами\n",
    "print(\"Matching MLP with user-based features (top-10)\")\n",
    "print(\"Precision@10:\", precision_at_k(predictions, ground_truth))\n",
    "print(\"MAP@10:\", map_at_k(predictions, ground_truth))"
   ]
  },
  {
   "cell_type": "markdown",
   "id": "db663f53",
   "metadata": {},
   "source": [
    "### Вывод: Matching MLP с user-based признаками\n",
    "\n",
    "- Улучшение не дало прироста по сравнению с CLIP + табличными item-фичами.\n",
    "- Precision@10 и MAP@10 упали ниже базового уровня.\n",
    "- Возможно, признаки пользователей были недостаточно информативны.\n",
    "- Не рекомендуется как основная модель."
   ]
  },
  {
   "cell_type": "markdown",
   "id": "ec1f7b41",
   "metadata": {},
   "source": [
    "## Удаление табличных item-фичей и item-векторов"
   ]
  },
  {
   "cell_type": "markdown",
   "id": "d464671f",
   "metadata": {},
   "source": [
    "### Matching MLP только на CLIP-эмбеддингах\n",
    "\n",
    "Здесь мы обучаем MatchingMLP без дополнительных признаков, используя только эмбеддинги из CLIP (текст + изображение).  \n",
    "Цель — сравнить чисто мультимодальное представление товаров с табличным и оценить его эффективность в модели."
   ]
  },
  {
   "cell_type": "code",
   "execution_count": 55,
   "id": "cb432b45",
   "metadata": {},
   "outputs": [],
   "source": [
    "# Импорт необходимых библиотек\n",
    "import pandas as pd\n",
    "import numpy as np\n",
    "from tqdm import tqdm\n",
    "import sys\n",
    "import os\n",
    "import random\n",
    "import torch\n",
    "\n",
    "disable_tqdm = os.getenv(\"TQDM_DISABLE\", \"0\") == \"1\""
   ]
  },
  {
   "cell_type": "code",
   "execution_count": null,
   "id": "f7d06ed2",
   "metadata": {},
   "outputs": [],
   "source": [
    "# Устанавливаем seed для воспроизводимости\n",
    "seed_everything(42)"
   ]
  },
  {
   "cell_type": "code",
   "execution_count": 57,
   "id": "a239db4b",
   "metadata": {},
   "outputs": [],
   "source": [
    "# Загружаем тестовый датасет и обучающую выборку (rating-based sampling)\n",
    "df_test = pd.read_csv(\"data/df_test_ground_truth_rating_based.csv\")"
   ]
  },
  {
   "cell_type": "code",
   "execution_count": 61,
   "id": "fdb530eb",
   "metadata": {},
   "outputs": [],
   "source": [
    "# Загружаем тренировочную выборку с CLIP-эмбеддингами (текст + изображение)\n",
    "df_train = pd.read_csv(\n",
    "    \"data/df_train_CLIP_rating_based.csv\",\n",
    "    na_values=[\"\"],  # исключаем \"Unknown\"\n",
    "    keep_default_na=False\n",
    ")"
   ]
  },
  {
   "cell_type": "code",
   "execution_count": 62,
   "id": "5bd59563",
   "metadata": {},
   "outputs": [],
   "source": [
    "# Выбираем CLIP-эмбеддинги (текст + изображение)\n",
    "item_vector_cols = [col for col in df_train.columns if col.startswith(\"clip_text_\") or col.startswith(\"clip_img_\")]\n",
    "user_ids = df_train[\"user_id\"].unique()"
   ]
  },
  {
   "cell_type": "code",
   "execution_count": null,
   "id": "47470175",
   "metadata": {},
   "outputs": [],
   "source": [
    "# Извлекаем CLIP-эмбеддинги\n",
    "clip_vectors  = df_train.drop_duplicates(\"item_id\")[[\"item_id\"] + item_vector_cols].set_index(\"item_id\")"
   ]
  },
  {
   "cell_type": "code",
   "execution_count": null,
   "id": "53869f9d",
   "metadata": {},
   "outputs": [],
   "source": [
    "# Здесь item_vectors будет представлять собой только CLIP-эмбеддинги\n",
    "item_vectors = clip_vectors.copy()"
   ]
  },
  {
   "cell_type": "code",
   "execution_count": 65,
   "id": "b7bed47b",
   "metadata": {},
   "outputs": [
    {
     "name": "stdout",
     "output_type": "stream",
     "text": [
      "clip_vectors shape: (67706, 200)\n",
      "item_vectors shape: (67706, 200)\n"
     ]
    }
   ],
   "source": [
    "print(\"clip_vectors shape:\", clip_vectors.shape)\n",
    "print(\"item_vectors shape:\", item_vectors.shape)"
   ]
  },
  {
   "cell_type": "code",
   "execution_count": 66,
   "id": "ea847037",
   "metadata": {},
   "outputs": [],
   "source": [
    "# Формируем вектор интересов пользователя как среднее по позитивным item-векторам\n",
    "user_vectors = {}"
   ]
  },
  {
   "cell_type": "code",
   "execution_count": null,
   "id": "a6c4a537",
   "metadata": {},
   "outputs": [
    {
     "name": "stdout",
     "output_type": "stream",
     "text": [
      "User vector aggregation: 100%|██████████| 551853/551853 [02:30<00:00, 3668.75it/s]\n"
     ]
    }
   ],
   "source": [
    "# Создаем вектор юзера по тому же принципу, что и ранее\n",
    "for user_id, group in tqdm(df_train[df_train[\"label\"] == 1].groupby(\"user_id\"), desc=\"User vector aggregation\", file=sys.stdout):\n",
    "    item_ids = group[\"item_id\"].values\n",
    "    vectors = item_vectors.loc[item_ids].values\n",
    "    user_vectors[user_id] = np.mean(vectors, axis=0)"
   ]
  },
  {
   "cell_type": "code",
   "execution_count": 68,
   "id": "79de2ce2",
   "metadata": {},
   "outputs": [],
   "source": [
    "# Строим датасет: конкатенируем векторы пользователя и товара\n",
    "X = []\n",
    "y = []"
   ]
  },
  {
   "cell_type": "code",
   "execution_count": null,
   "id": "a51cfc7a",
   "metadata": {},
   "outputs": [
    {
     "name": "stdout",
     "output_type": "stream",
     "text": [
      "Building training pairs: 100%|██████████| 1635089/1635089 [01:21<00:00, 19953.46it/s]\n"
     ]
    }
   ],
   "source": [
    "# Формируем обучающие пары юзер-товар\n",
    "for row in tqdm(df_train.itertuples(), total=len(df_train), desc=\"Building training pairs\", file=sys.stdout):\n",
    "    item_id = row.item_id\n",
    "    user_id = row.user_id\n",
    "    label = row.label\n",
    "\n",
    "    if user_id not in user_vectors or item_id not in item_vectors.index:\n",
    "        continue\n",
    "\n",
    "    user_vec = user_vectors[user_id]\n",
    "    item_vec = item_vectors.loc[item_id].values\n",
    "\n",
    "    concat_vec = np.concatenate([user_vec, item_vec])\n",
    "    X.append(concat_vec)\n",
    "    y.append(label)"
   ]
  },
  {
   "cell_type": "code",
   "execution_count": 70,
   "id": "282f7ebd",
   "metadata": {},
   "outputs": [
    {
     "name": "stdout",
     "output_type": "stream",
     "text": [
      "X shape: (1542533, 400)\n",
      "y shape: (1542533,)\n"
     ]
    }
   ],
   "source": [
    "# Преобразуем списки в массивы для дальнейшей подачи в PyTorch\n",
    "X = np.array(X)\n",
    "y = np.array(y)\n",
    "print(\"X shape:\", X.shape)\n",
    "print(\"y shape:\", y.shape)"
   ]
  },
  {
   "cell_type": "code",
   "execution_count": 71,
   "id": "ddde5a3a",
   "metadata": {},
   "outputs": [],
   "source": [
    "# Импортируем PyTorch и определяем, использовать ли GPU\n",
    "import torch.nn as nn\n",
    "from torch.utils.data import Dataset, DataLoader, random_split"
   ]
  },
  {
   "cell_type": "code",
   "execution_count": 72,
   "id": "e3dd21a8",
   "metadata": {},
   "outputs": [
    {
     "name": "stdout",
     "output_type": "stream",
     "text": [
      "Device: cuda\n"
     ]
    }
   ],
   "source": [
    "device = torch.device(\"cuda\" if torch.cuda.is_available() else \"cpu\")\n",
    "print(\"Device:\", device)"
   ]
  },
  {
   "cell_type": "code",
   "execution_count": 73,
   "id": "d6f24972",
   "metadata": {},
   "outputs": [],
   "source": [
    "# Определяем Dataset\n",
    "class MatchingDataset(Dataset):\n",
    "    def __init__(self, X, y):\n",
    "        self.X = torch.tensor(X, dtype=torch.float32)\n",
    "        self.y = torch.tensor(y, dtype=torch.float32)\n",
    "\n",
    "    def __len__(self):\n",
    "        return len(self.X)\n",
    "\n",
    "    def __getitem__(self, idx):\n",
    "        return self.X[idx], self.y[idx]"
   ]
  },
  {
   "cell_type": "code",
   "execution_count": 74,
   "id": "9f2d1250",
   "metadata": {},
   "outputs": [],
   "source": [
    "# Создаём датасет и делим его на обучающую и валидационную части\n",
    "full_dataset = MatchingDataset(X, y)"
   ]
  },
  {
   "cell_type": "code",
   "execution_count": 75,
   "id": "304a66b8",
   "metadata": {},
   "outputs": [],
   "source": [
    "train_size = int(0.9 * len(full_dataset))\n",
    "val_size = len(full_dataset) - train_size\n",
    "train_dataset, val_dataset = random_split(full_dataset, [train_size, val_size])"
   ]
  },
  {
   "cell_type": "code",
   "execution_count": 76,
   "id": "d680ae98",
   "metadata": {},
   "outputs": [],
   "source": [
    "# Оборачиваем датасеты в DataLoader для удобной подачи батчами\n",
    "train_loader = DataLoader(train_dataset, batch_size=2048, shuffle=True)\n",
    "val_loader = DataLoader(val_dataset, batch_size=2048)"
   ]
  },
  {
   "cell_type": "markdown",
   "id": "5de40f28",
   "metadata": {},
   "source": [
    "**MatchingMLP**  \n",
    "Базовая модель: многослойный перцептрон, обучаемый на конкатенированных эмбеддингах пользователя и товара.  \n",
    "Используется как точка отсчёта (baseline) в бинарной классификации релевантности."
   ]
  },
  {
   "cell_type": "code",
   "execution_count": null,
   "id": "45ebaadd",
   "metadata": {},
   "outputs": [],
   "source": [
    "# Определяем архитектуру MLP модели\n",
    "class MatchingMLP(nn.Module):\n",
    "    def __init__(self, input_dim=400):\n",
    "        super().__init__()\n",
    "        self.model = nn.Sequential(\n",
    "            nn.Linear(input_dim, 256),\n",
    "            nn.ReLU(),\n",
    "            nn.Dropout(0.2),\n",
    "            nn.Linear(256, 64),\n",
    "            nn.ReLU(),\n",
    "            nn.Linear(64, 1),\n",
    "            nn.Sigmoid()\n",
    "        )\n",
    "\n",
    "    def forward(self, x):\n",
    "        return self.model(x)"
   ]
  },
  {
   "cell_type": "code",
   "execution_count": 78,
   "id": "5cc8f090",
   "metadata": {},
   "outputs": [],
   "source": [
    "# Создаём экземпляр модели\n",
    "model = MatchingMLP(input_dim=X.shape[1]).to(device)"
   ]
  },
  {
   "cell_type": "code",
   "execution_count": 79,
   "id": "4386fbba",
   "metadata": {},
   "outputs": [],
   "source": [
    "# Используем бинарную кросс-энтропию в качестве функции потерь\n",
    "# и Adam как оптимизатор с learning rate 0.001\n",
    "criterion = nn.BCELoss()\n",
    "optimizer = torch.optim.Adam(model.parameters(), lr=1e-3)"
   ]
  },
  {
   "cell_type": "code",
   "execution_count": 80,
   "id": "63aa2a3d",
   "metadata": {},
   "outputs": [],
   "source": [
    "from sklearn.metrics import accuracy_score\n",
    "# Обучаем модель в течение 10 эпох, отслеживая loss и accuracy на валидации\n",
    "num_epochs = 10"
   ]
  },
  {
   "cell_type": "code",
   "execution_count": null,
   "id": "5eb17b69",
   "metadata": {},
   "outputs": [
    {
     "name": "stdout",
     "output_type": "stream",
     "text": [
      "Training: 100%|██████████| 678/678 [00:15<00:00, 42.65it/s]\n",
      "Validating: 100%|██████████| 76/76 [00:01<00:00, 51.10it/s]\n",
      "Epoch 1/10 | Train Loss: 0.3089 | Val Loss: 0.2434 | Val Accuracy: 0.9052\n",
      "Training: 100%|██████████| 678/678 [00:17<00:00, 39.71it/s]\n",
      "Validating: 100%|██████████| 76/76 [00:01<00:00, 47.31it/s]\n",
      "Epoch 2/10 | Train Loss: 0.1735 | Val Loss: 0.1215 | Val Accuracy: 0.9576\n",
      "Training: 100%|██████████| 678/678 [00:16<00:00, 40.58it/s]\n",
      "Validating: 100%|██████████| 76/76 [00:01<00:00, 45.45it/s]\n",
      "Epoch 3/10 | Train Loss: 0.1244 | Val Loss: 0.1056 | Val Accuracy: 0.9635\n",
      "Training: 100%|██████████| 678/678 [00:16<00:00, 41.48it/s]\n",
      "Validating: 100%|██████████| 76/76 [00:01<00:00, 47.09it/s]\n",
      "Epoch 4/10 | Train Loss: 0.1122 | Val Loss: 0.1007 | Val Accuracy: 0.9646\n",
      "Training: 100%|██████████| 678/678 [00:16<00:00, 40.25it/s]\n",
      "Validating: 100%|██████████| 76/76 [00:01<00:00, 47.49it/s]\n",
      "Epoch 5/10 | Train Loss: 0.1051 | Val Loss: 0.0960 | Val Accuracy: 0.9665\n",
      "Training: 100%|██████████| 678/678 [00:16<00:00, 40.72it/s]\n",
      "Validating: 100%|██████████| 76/76 [00:01<00:00, 47.28it/s]\n",
      "Epoch 6/10 | Train Loss: 0.1005 | Val Loss: 0.0932 | Val Accuracy: 0.9676\n",
      "Training: 100%|██████████| 678/678 [00:16<00:00, 40.37it/s]\n",
      "Validating: 100%|██████████| 76/76 [00:01<00:00, 44.51it/s]\n",
      "Epoch 7/10 | Train Loss: 0.0967 | Val Loss: 0.0908 | Val Accuracy: 0.9684\n",
      "Training: 100%|██████████| 678/678 [00:16<00:00, 41.38it/s]\n",
      "Validating: 100%|██████████| 76/76 [00:01<00:00, 48.79it/s]\n",
      "Epoch 8/10 | Train Loss: 0.0934 | Val Loss: 0.0903 | Val Accuracy: 0.9685\n",
      "Training: 100%|██████████| 678/678 [00:16<00:00, 40.72it/s]\n",
      "Validating: 100%|██████████| 76/76 [00:01<00:00, 48.28it/s]\n",
      "Epoch 9/10 | Train Loss: 0.0912 | Val Loss: 0.0898 | Val Accuracy: 0.9684\n",
      "Training: 100%|██████████| 678/678 [00:16<00:00, 41.07it/s]\n",
      "Validating: 100%|██████████| 76/76 [00:01<00:00, 48.29it/s]\n",
      "Epoch 10/10 | Train Loss: 0.0892 | Val Loss: 0.0862 | Val Accuracy: 0.9702\n"
     ]
    }
   ],
   "source": [
    "# Обучение\n",
    "for epoch in range(num_epochs):\n",
    "    model.train()\n",
    "    train_losses = []\n",
    "\n",
    "    for X_batch, y_batch in tqdm(train_loader, desc=\"Training\", file=sys.stdout):\n",
    "        X_batch, y_batch = X_batch.to(device), y_batch.to(device).view(-1, 1)\n",
    "\n",
    "        preds = model(X_batch)\n",
    "        loss = criterion(preds, y_batch)\n",
    "\n",
    "        optimizer.zero_grad()\n",
    "        loss.backward()\n",
    "        optimizer.step()\n",
    "\n",
    "        train_losses.append(loss.item())\n",
    "\n",
    "    # Валидация\n",
    "    model.eval()\n",
    "    val_losses = []\n",
    "    all_preds = []\n",
    "    all_targets = []\n",
    "\n",
    "    for X_batch, y_batch in tqdm(val_loader, desc=\"Validating\", file=sys.stdout):\n",
    "        X_batch, y_batch = X_batch.to(device), y_batch.to(device).view(-1, 1)\n",
    "        with torch.no_grad():\n",
    "            preds = model(X_batch)\n",
    "            loss = criterion(preds, y_batch)\n",
    "        val_losses.append(loss.item())\n",
    "        all_preds.extend(preds.cpu().numpy())\n",
    "        all_targets.extend(y_batch.cpu().numpy())\n",
    "\n",
    "    # Бинаризуем предсказания, считаем accuracy и выводим метрики за эпоху\n",
    "    all_preds_bin = (np.array(all_preds) >= 0.5).astype(int)\n",
    "    val_acc = accuracy_score(all_targets, all_preds_bin)\n",
    "\n",
    "    tqdm.write(\n",
    "        f\"Epoch {epoch+1}/{num_epochs} | \"\n",
    "        f\"Train Loss: {np.mean(train_losses):.4f} | \"\n",
    "        f\"Val Loss: {np.mean(val_losses):.4f} | \"\n",
    "        f\"Val Accuracy: {val_acc:.4f}\"\n",
    "    )"
   ]
  },
  {
   "cell_type": "code",
   "execution_count": 82,
   "id": "90c2db7f",
   "metadata": {},
   "outputs": [
    {
     "name": "stdout",
     "output_type": "stream",
     "text": [
      "Test shape: (138023, 5), unique users: 85083\n"
     ]
    }
   ],
   "source": [
    "# Проверяем размер и разнообразие тестового сета перед инференсом\n",
    "print(f\"Test shape: {df_test.shape}, unique users: {df_test['user_id'].nunique()}\")"
   ]
  },
  {
   "cell_type": "code",
   "execution_count": 83,
   "id": "32776937",
   "metadata": {},
   "outputs": [],
   "source": [
    "# Создаём словарь ground truth: реальные товары, \n",
    "# с которыми взаимодействовал пользователь\n",
    "ground_truth = df_test.groupby(\"user_id\")[\"item_id\"].apply(set).to_dict()"
   ]
  },
  {
   "cell_type": "code",
   "execution_count": 84,
   "id": "709d59f6",
   "metadata": {},
   "outputs": [
    {
     "data": {
      "text/plain": [
       "MatchingMLP(\n",
       "  (model): Sequential(\n",
       "    (0): Linear(in_features=400, out_features=256, bias=True)\n",
       "    (1): ReLU()\n",
       "    (2): Dropout(p=0.2, inplace=False)\n",
       "    (3): Linear(in_features=256, out_features=64, bias=True)\n",
       "    (4): ReLU()\n",
       "    (5): Linear(in_features=64, out_features=1, bias=True)\n",
       "    (6): Sigmoid()\n",
       "  )\n",
       ")"
      ]
     },
     "execution_count": 84,
     "metadata": {},
     "output_type": "execute_result"
    }
   ],
   "source": [
    "# Переводим модель в режим инференса\n",
    "model.eval()"
   ]
  },
  {
   "cell_type": "code",
   "execution_count": 85,
   "id": "e69e6976",
   "metadata": {},
   "outputs": [
    {
     "data": {
      "text/plain": [
       "(67706, 200)"
      ]
     },
     "execution_count": 85,
     "metadata": {},
     "output_type": "execute_result"
    }
   ],
   "source": [
    "# Подготавливаем список кандидатов и их эмбеддинги для инференса\n",
    "candidate_items = item_vectors.index.tolist()\n",
    "candidate_vectors = item_vectors.values\n",
    "candidate_vectors.shape"
   ]
  },
  {
   "cell_type": "code",
   "execution_count": null,
   "id": "4f35a060",
   "metadata": {},
   "outputs": [],
   "source": [
    "# Для каждого пользователя генерируем top-N рекомендаций\n",
    "# Сортировка кандидатов по вероятности релевантности (score)\n",
    "top_k = 10\n",
    "predictions = {}"
   ]
  },
  {
   "cell_type": "code",
   "execution_count": null,
   "id": "eaa88ec4",
   "metadata": {},
   "outputs": [
    {
     "name": "stdout",
     "output_type": "stream",
     "text": [
      "Generating top-N: 100%|██████████| 85083/85083 [4:38:09<00:00,  5.10it/s]  \n"
     ]
    }
   ],
   "source": [
    "# Формируем топы рекомендаций для каждого юзера\n",
    "for user_id in tqdm(ground_truth.keys(), desc=\"Generating top-N\", file=sys.stdout):\n",
    "    if user_id not in user_vectors:\n",
    "        continue\n",
    "\n",
    "    user_vec = user_vectors[user_id]\n",
    "    user_vec_batch = np.tile(user_vec, (candidate_vectors.shape[0], 1))\n",
    "    concat = np.hstack([user_vec_batch, candidate_vectors])\n",
    "\n",
    "    with torch.no_grad():\n",
    "        scores = model(torch.tensor(concat, dtype=torch.float32).to(device)).cpu().numpy().flatten()\n",
    "\n",
    "    sorted_items = np.array(candidate_items)[np.argsort(scores)[::-1]]\n",
    "    predictions[user_id] = sorted_items[:10].tolist()"
   ]
  },
  {
   "cell_type": "code",
   "execution_count": null,
   "id": "301ad8de",
   "metadata": {},
   "outputs": [
    {
     "name": "stdout",
     "output_type": "stream",
     "text": [
      "Matching MLP (top-10)\n",
      "Precision@10: 0.0016\n",
      "MAP@10: 0.0051\n"
     ]
    }
   ],
   "source": [
    "# Считаем метрики на всём списке рекомендаций для\n",
    "# случая, когда иы используем только CLIP-фичи\n",
    "print(\"Matching MLP (top-10)\")\n",
    "print(\"Precision@10:\", precision_at_k(predictions, ground_truth))\n",
    "print(\"MAP@10:\", map_at_k(predictions, ground_truth))"
   ]
  },
  {
   "cell_type": "markdown",
   "id": "a3bf49fa",
   "metadata": {},
   "source": [
    "### Вывод: Matching MLP только на CLIP-эмбеддингах\n",
    "\n",
    "- Использование только мультимодальных CLIP-эмбеддингов дало лучшее, пусть и незначительно, качество среди простых моделей.\n",
    "- Метрики: Precision@10 ≈ 0.0016, MAP@10 ≈ 0.0051.\n",
    "- Берем за baseline среди простых архитектур."
   ]
  },
  {
   "cell_type": "markdown",
   "id": "9f6a10ba",
   "metadata": {},
   "source": [
    "## Stratified split"
   ]
  },
  {
   "cell_type": "markdown",
   "id": "727cb91c",
   "metadata": {},
   "source": [
    "### Учёт дисбаланса классов: стратификация и sample weights\n",
    "\n",
    "Данный блок посвящён корректной работе с сильным дисбалансом в целевой переменной (положительных примеров в 5 раз больше).  \n",
    "Мы добавляем sample weights и сравниваем два способа учёта: BCEWithLogitsLoss и BCELoss с ручными весами."
   ]
  },
  {
   "cell_type": "code",
   "execution_count": null,
   "id": "97cd57c5",
   "metadata": {},
   "outputs": [],
   "source": [
    "# Устанавливаем seed для воспроизводимости\n",
    "seed_everything(42)"
   ]
  },
  {
   "cell_type": "code",
   "execution_count": 90,
   "id": "5ae73891",
   "metadata": {},
   "outputs": [],
   "source": [
    "# Загружаем тренировочную выборку с CLIP-эмбеддингами (текст + изображение)\n",
    "df_train = pd.read_csv(\n",
    "    \"data/df_train_CLIP_rating_based.csv\",\n",
    "    na_values=[\"\"],  # исключаем \"Unknown\"\n",
    "    keep_default_na=False\n",
    ")"
   ]
  },
  {
   "cell_type": "code",
   "execution_count": 91,
   "id": "2195eb58",
   "metadata": {},
   "outputs": [],
   "source": [
    "# Выбираем CLIP-эмбеддинги (текст + изображение)\n",
    "item_vector_cols = [col for col in df_train.columns if col.startswith(\"clip_text_\") or col.startswith(\"clip_img_\")]\n",
    "user_ids = df_train[\"user_id\"].unique()"
   ]
  },
  {
   "cell_type": "code",
   "execution_count": 92,
   "id": "c353811f",
   "metadata": {},
   "outputs": [],
   "source": [
    "# Извлекаем CLIP-эмбеддинги\n",
    "clip_vectors  = df_train.drop_duplicates(\"item_id\")[[\"item_id\"] + item_vector_cols].set_index(\"item_id\")"
   ]
  },
  {
   "cell_type": "code",
   "execution_count": 93,
   "id": "53ace4e2",
   "metadata": {},
   "outputs": [],
   "source": [
    "item_vectors = clip_vectors.copy()"
   ]
  },
  {
   "cell_type": "code",
   "execution_count": 94,
   "id": "52800358",
   "metadata": {},
   "outputs": [
    {
     "name": "stdout",
     "output_type": "stream",
     "text": [
      "clip_vectors shape: (67706, 200)\n",
      "item_vectors shape: (67706, 200)\n"
     ]
    }
   ],
   "source": [
    "print(\"clip_vectors shape:\", clip_vectors.shape)\n",
    "print(\"item_vectors shape:\", item_vectors.shape)"
   ]
  },
  {
   "cell_type": "code",
   "execution_count": 95,
   "id": "d458ba0d",
   "metadata": {},
   "outputs": [],
   "source": [
    "# Формируем вектор интересов пользователя как среднее по позитивным item-векторам\n",
    "user_vectors = {}"
   ]
  },
  {
   "cell_type": "code",
   "execution_count": null,
   "id": "bbfa4089",
   "metadata": {},
   "outputs": [
    {
     "name": "stdout",
     "output_type": "stream",
     "text": [
      "User vector aggregation: 100%|██████████| 551853/551853 [02:30<00:00, 3675.05it/s]\n"
     ]
    }
   ],
   "source": [
    "# Создаем вектор юзера по тому же принципу, что и ранее\n",
    "for user_id, group in tqdm(df_train[df_train[\"label\"] == 1].groupby(\"user_id\"), desc=\"User vector aggregation\", file=sys.stdout):\n",
    "    item_ids = group[\"item_id\"].values\n",
    "    vectors = item_vectors.loc[item_ids].values\n",
    "    user_vectors[user_id] = np.mean(vectors, axis=0)"
   ]
  },
  {
   "cell_type": "code",
   "execution_count": 97,
   "id": "91086fd2",
   "metadata": {},
   "outputs": [],
   "source": [
    "# Строим датасет: конкатенируем векторы пользователя и товара\n",
    "X = []\n",
    "y = []"
   ]
  },
  {
   "cell_type": "code",
   "execution_count": null,
   "id": "10cc5b28",
   "metadata": {},
   "outputs": [
    {
     "name": "stdout",
     "output_type": "stream",
     "text": [
      "Building training pairs: 100%|██████████| 1635089/1635089 [01:22<00:00, 19762.48it/s]\n"
     ]
    }
   ],
   "source": [
    "# Формируем обучающие пары\n",
    "for row in tqdm(df_train.itertuples(), total=len(df_train), desc=\"Building training pairs\", file=sys.stdout):\n",
    "    item_id = row.item_id\n",
    "    user_id = row.user_id\n",
    "    label = row.label\n",
    "\n",
    "    if user_id not in user_vectors or item_id not in item_vectors.index:\n",
    "        continue\n",
    "\n",
    "    user_vec = user_vectors[user_id]\n",
    "    item_vec = item_vectors.loc[item_id].values\n",
    "\n",
    "    concat_vec = np.concatenate([user_vec, item_vec])\n",
    "    X.append(concat_vec)\n",
    "    y.append(label)"
   ]
  },
  {
   "cell_type": "code",
   "execution_count": 99,
   "id": "42c6bde0",
   "metadata": {},
   "outputs": [
    {
     "name": "stdout",
     "output_type": "stream",
     "text": [
      "X shape: (1542533, 400)\n",
      "y shape: (1542533,)\n"
     ]
    }
   ],
   "source": [
    "# Преобразуем списки в массивы для дальнейшей подачи в PyTorch\n",
    "X = np.array(X)\n",
    "y = np.array(y)\n",
    "print(\"X shape:\", X.shape)\n",
    "print(\"y shape:\", y.shape)"
   ]
  },
  {
   "cell_type": "code",
   "execution_count": null,
   "id": "94653e1b",
   "metadata": {},
   "outputs": [],
   "source": [
    "from sklearn.model_selection import train_test_split\n",
    "\n",
    "# Стратифицированное разбиение по label, он же y\n",
    "X_train_np, X_val_np, y_train_np, y_val_np = train_test_split(\n",
    "    X, y, test_size=0.1, random_state=42, stratify=y\n",
    ")"
   ]
  },
  {
   "cell_type": "code",
   "execution_count": null,
   "id": "da7dd872",
   "metadata": {},
   "outputs": [],
   "source": [
    "# Формируем облучающие и валидационный Dataset-ы\n",
    "# для оборачивания их в DataLoader для удобной подачи батчами\n",
    "train_dataset = MatchingDataset(X_train_np, y_train_np)\n",
    "val_dataset   = MatchingDataset(X_val_np, y_val_np)"
   ]
  },
  {
   "cell_type": "code",
   "execution_count": 102,
   "id": "2936529e",
   "metadata": {},
   "outputs": [],
   "source": [
    "train_loader = DataLoader(train_dataset, batch_size=2048, shuffle=True)\n",
    "val_loader   = DataLoader(val_dataset, batch_size=2048)"
   ]
  },
  {
   "cell_type": "code",
   "execution_count": 103,
   "id": "68cf1693",
   "metadata": {},
   "outputs": [],
   "source": [
    "# Подсчет веса классов\n",
    "n_pos = np.sum(y == 1)\n",
    "n_neg = np.sum(y == 0)\n",
    "\n",
    "# Для BCEWithLogitsLoss\n",
    "pos_weight_tensor = torch.tensor([n_neg / n_pos], dtype=torch.float32).to(device)\n",
    "\n",
    "# Для BCELoss — веса отдельно на каждый sample\n",
    "# Предварительно рассчитаем class weights\n",
    "pos_weight = (n_neg + n_pos) / (2 * n_pos)\n",
    "neg_weight = (n_neg + n_pos) / (2 * n_neg)"
   ]
  },
  {
   "cell_type": "markdown",
   "id": "20e7de2a",
   "metadata": {},
   "source": [
    "**MatchingMLP_Logits**  \n",
    "Та же архитектура, что и MatchingMLP, но без финального Sigmoid.  \n",
    "Используется вместе с функцией потерь `BCEWithLogitsLoss`, позволяющей корректно учитывать дисбаланс классов."
   ]
  },
  {
   "cell_type": "code",
   "execution_count": null,
   "id": "53965912",
   "metadata": {},
   "outputs": [],
   "source": [
    "# MLP модель с loss - BCEWithLogits\n",
    "# убираем Sigmoid\n",
    "class MatchingMLP_Logits(nn.Module):\n",
    "    def __init__(self, input_dim):\n",
    "        super().__init__()\n",
    "        self.model = nn.Sequential(\n",
    "            nn.Linear(input_dim, 256),\n",
    "            nn.ReLU(),\n",
    "            nn.Dropout(0.2),\n",
    "            nn.Linear(256, 64),\n",
    "            nn.ReLU(),\n",
    "            nn.Linear(64, 1)\n",
    "        )\n",
    "\n",
    "    def forward(self, x):\n",
    "        return self.model(x)"
   ]
  },
  {
   "cell_type": "markdown",
   "id": "edcdb985",
   "metadata": {},
   "source": [
    "**MatchingMLP_Sigmoid**  \n",
    "Версия модели MatchingMLP с финальным Sigmoid.  \n",
    "Совместима с функцией потерь `BCELoss` и позволяет применять sample weights вручную."
   ]
  },
  {
   "cell_type": "code",
   "execution_count": 105,
   "id": "d1703615",
   "metadata": {},
   "outputs": [],
   "source": [
    "# Модель с BCELoss (оставляем Sigmoid)\n",
    "class MatchingMLP_Sigmoid(nn.Module):\n",
    "    def __init__(self, input_dim):\n",
    "        super().__init__()\n",
    "        self.model = nn.Sequential(\n",
    "            nn.Linear(input_dim, 256),\n",
    "            nn.ReLU(),\n",
    "            nn.Dropout(0.2),\n",
    "            nn.Linear(256, 64),\n",
    "            nn.ReLU(),\n",
    "            nn.Linear(64, 1),\n",
    "            nn.Sigmoid()\n",
    "        )\n",
    "\n",
    "    def forward(self, x):\n",
    "        return self.model(x)"
   ]
  },
  {
   "cell_type": "code",
   "execution_count": 106,
   "id": "c9e48ae4",
   "metadata": {},
   "outputs": [],
   "source": [
    "# BCE with logits\n",
    "model_logits = MatchingMLP_Logits(input_dim=X.shape[1]).to(device)\n",
    "criterion_logits = nn.BCEWithLogitsLoss(pos_weight=pos_weight_tensor)\n",
    "optimizer_logits = torch.optim.Adam(model_logits.parameters(), lr=1e-3)"
   ]
  },
  {
   "cell_type": "code",
   "execution_count": 107,
   "id": "cda0b60d",
   "metadata": {},
   "outputs": [],
   "source": [
    "# BCE\n",
    "model_sigmoid = MatchingMLP_Sigmoid(input_dim=X.shape[1]).to(device)\n",
    "criterion_sigmoid = nn.BCELoss(reduction=\"none\")\n",
    "optimizer_sigmoid = torch.optim.Adam(model_sigmoid.parameters(), lr=1e-3)"
   ]
  },
  {
   "cell_type": "code",
   "execution_count": 108,
   "id": "ded8d86b",
   "metadata": {},
   "outputs": [],
   "source": [
    "from sklearn.metrics import accuracy_score\n",
    "# Обучаем модель в течение 10 эпох, отслеживая loss и accuracy на валидации\n",
    "num_epochs = 10"
   ]
  },
  {
   "cell_type": "code",
   "execution_count": null,
   "id": "a37f1746",
   "metadata": {},
   "outputs": [
    {
     "name": "stdout",
     "output_type": "stream",
     "text": [
      "Training: 100%|██████████| 678/678 [00:15<00:00, 43.86it/s]\n",
      "Validating: 100%|██████████| 76/76 [00:01<00:00, 48.70it/s]\n",
      "Epoch 1/10 | Train Loss: 0.0688 | Val Loss: 0.0429 | Val Accuracy: 0.8915\n",
      "Training: 100%|██████████| 678/678 [00:16<00:00, 41.43it/s]\n",
      "Validating: 100%|██████████| 76/76 [00:01<00:00, 49.54it/s]\n",
      "Epoch 2/10 | Train Loss: 0.0407 | Val Loss: 0.0366 | Val Accuracy: 0.9124\n",
      "Training: 100%|██████████| 678/678 [00:15<00:00, 42.61it/s]\n",
      "Validating: 100%|██████████| 76/76 [00:01<00:00, 49.22it/s]\n",
      "Epoch 3/10 | Train Loss: 0.0350 | Val Loss: 0.0341 | Val Accuracy: 0.9296\n",
      "Training: 100%|██████████| 678/678 [00:15<00:00, 42.75it/s]\n",
      "Validating: 100%|██████████| 76/76 [00:01<00:00, 49.54it/s]\n",
      "Epoch 4/10 | Train Loss: 0.0319 | Val Loss: 0.0331 | Val Accuracy: 0.9333\n",
      "Training: 100%|██████████| 678/678 [00:15<00:00, 42.72it/s]\n",
      "Validating: 100%|██████████| 76/76 [00:01<00:00, 49.54it/s]\n",
      "Epoch 5/10 | Train Loss: 0.0296 | Val Loss: 0.0334 | Val Accuracy: 0.9485\n",
      "Training: 100%|██████████| 678/678 [00:15<00:00, 42.71it/s]\n",
      "Validating: 100%|██████████| 76/76 [00:01<00:00, 49.12it/s]\n",
      "Epoch 6/10 | Train Loss: 0.0279 | Val Loss: 0.0311 | Val Accuracy: 0.9424\n",
      "Training: 100%|██████████| 678/678 [00:15<00:00, 43.16it/s]\n",
      "Validating: 100%|██████████| 76/76 [00:01<00:00, 45.58it/s]\n",
      "Epoch 7/10 | Train Loss: 0.0264 | Val Loss: 0.0316 | Val Accuracy: 0.9482\n",
      "Training: 100%|██████████| 678/678 [00:15<00:00, 43.22it/s]\n",
      "Validating: 100%|██████████| 76/76 [00:01<00:00, 49.98it/s]\n",
      "Epoch 8/10 | Train Loss: 0.0254 | Val Loss: 0.0305 | Val Accuracy: 0.9449\n",
      "Training: 100%|██████████| 678/678 [00:15<00:00, 42.57it/s]\n",
      "Validating: 100%|██████████| 76/76 [00:01<00:00, 49.97it/s]\n",
      "Epoch 9/10 | Train Loss: 0.0242 | Val Loss: 0.0306 | Val Accuracy: 0.9430\n",
      "Training: 100%|██████████| 678/678 [00:16<00:00, 41.77it/s]\n",
      "Validating: 100%|██████████| 76/76 [00:01<00:00, 49.54it/s]\n",
      "Epoch 10/10 | Train Loss: 0.0234 | Val Loss: 0.0308 | Val Accuracy: 0.9546\n"
     ]
    }
   ],
   "source": [
    "# Обучение модели MatchingMLP_Logits\n",
    "for epoch in range(num_epochs):\n",
    "    model_logits.train()\n",
    "    train_losses = []\n",
    "\n",
    "    for X_batch, y_batch in tqdm(train_loader, desc=\"Training\", file=sys.stdout):\n",
    "        X_batch, y_batch = X_batch.to(device), y_batch.to(device).view(-1, 1)\n",
    "\n",
    "        preds = model_logits(X_batch)\n",
    "        loss = criterion_logits(preds, y_batch)\n",
    "\n",
    "        optimizer_logits.zero_grad()\n",
    "        loss.backward()\n",
    "        optimizer_logits.step()\n",
    "\n",
    "        train_losses.append(loss.item())\n",
    "\n",
    "    # Валидация\n",
    "    model_logits.eval()\n",
    "    val_losses = []\n",
    "    all_preds = []\n",
    "    all_targets = []\n",
    "\n",
    "    for X_batch, y_batch in tqdm(val_loader, desc=\"Validating\", file=sys.stdout):\n",
    "        X_batch, y_batch = X_batch.to(device), y_batch.to(device).view(-1, 1)\n",
    "        with torch.no_grad():\n",
    "            preds = model_logits(X_batch)\n",
    "            loss = criterion_logits(preds, y_batch)\n",
    "        val_losses.append(loss.item())\n",
    "        all_preds.extend(preds.cpu().numpy())\n",
    "        all_targets.extend(y_batch.cpu().numpy())\n",
    "\n",
    "    # Бинаризуем предсказания, считаем accuracy и выводим метрики за эпоху\n",
    "    all_preds_bin = (np.array(all_preds) >= 0.5).astype(int)\n",
    "    val_acc = accuracy_score(all_targets, all_preds_bin)\n",
    "\n",
    "    tqdm.write(\n",
    "        f\"Epoch {epoch+1}/{num_epochs} | \"\n",
    "        f\"Train Loss: {np.mean(train_losses):.4f} | \"\n",
    "        f\"Val Loss: {np.mean(val_losses):.4f} | \"\n",
    "        f\"Val Accuracy: {val_acc:.4f}\"\n",
    "    )"
   ]
  },
  {
   "cell_type": "code",
   "execution_count": null,
   "id": "9899bb7d",
   "metadata": {},
   "outputs": [
    {
     "name": "stdout",
     "output_type": "stream",
     "text": [
      "Training: 100%|██████████| 678/678 [00:16<00:00, 42.12it/s]\n",
      "Validating: 100%|██████████| 76/76 [00:01<00:00, 49.76it/s]\n",
      "Epoch 1/10 | Train Loss: 0.3091 | Val Loss: 0.1913 | Val Accuracy: 0.9276\n",
      "Training: 100%|██████████| 678/678 [00:16<00:00, 41.91it/s]\n",
      "Validating: 100%|██████████| 76/76 [00:01<00:00, 49.45it/s]\n",
      "Epoch 2/10 | Train Loss: 0.1806 | Val Loss: 0.1662 | Val Accuracy: 0.9309\n",
      "Training: 100%|██████████| 678/678 [00:15<00:00, 42.76it/s]\n",
      "Validating: 100%|██████████| 76/76 [00:01<00:00, 49.81it/s]\n",
      "Epoch 3/10 | Train Loss: 0.1543 | Val Loss: 0.1540 | Val Accuracy: 0.9516\n",
      "Training: 100%|██████████| 678/678 [00:15<00:00, 42.64it/s]\n",
      "Validating: 100%|██████████| 76/76 [00:01<00:00, 45.27it/s]\n",
      "Epoch 4/10 | Train Loss: 0.1401 | Val Loss: 0.1478 | Val Accuracy: 0.9540\n",
      "Training: 100%|██████████| 678/678 [00:15<00:00, 43.23it/s]\n",
      "Validating: 100%|██████████| 76/76 [00:01<00:00, 49.83it/s]\n",
      "Epoch 5/10 | Train Loss: 0.1290 | Val Loss: 0.1459 | Val Accuracy: 0.9575\n",
      "Training: 100%|██████████| 678/678 [00:15<00:00, 42.61it/s]\n",
      "Validating: 100%|██████████| 76/76 [00:01<00:00, 49.54it/s]\n",
      "Epoch 6/10 | Train Loss: 0.1211 | Val Loss: 0.1409 | Val Accuracy: 0.9559\n",
      "Training: 100%|██████████| 678/678 [00:15<00:00, 42.75it/s]\n",
      "Validating: 100%|██████████| 76/76 [00:01<00:00, 49.38it/s]\n",
      "Epoch 7/10 | Train Loss: 0.1148 | Val Loss: 0.1412 | Val Accuracy: 0.9630\n",
      "Training: 100%|██████████| 678/678 [00:15<00:00, 42.70it/s]\n",
      "Validating: 100%|██████████| 76/76 [00:01<00:00, 49.89it/s]\n",
      "Epoch 8/10 | Train Loss: 0.1105 | Val Loss: 0.1408 | Val Accuracy: 0.9633\n",
      "Training: 100%|██████████| 678/678 [00:15<00:00, 42.72it/s]\n",
      "Validating: 100%|██████████| 76/76 [00:01<00:00, 49.73it/s]\n",
      "Epoch 9/10 | Train Loss: 0.1056 | Val Loss: 0.1359 | Val Accuracy: 0.9631\n",
      "Training: 100%|██████████| 678/678 [00:15<00:00, 42.72it/s]\n",
      "Validating: 100%|██████████| 76/76 [00:01<00:00, 49.86it/s]\n",
      "Epoch 10/10 | Train Loss: 0.1021 | Val Loss: 0.1372 | Val Accuracy: 0.9649\n"
     ]
    }
   ],
   "source": [
    "# Обучение модели MatchingMLP_Sigmoid\n",
    "for epoch in range(num_epochs):\n",
    "    model_sigmoid.train()\n",
    "    train_losses = []\n",
    "\n",
    "    for X_batch, y_batch in tqdm(train_loader, desc=\"Training\", file=sys.stdout):\n",
    "        X_batch, y_batch = X_batch.to(device), y_batch.to(device).view(-1, 1)\n",
    "\n",
    "        preds = model_sigmoid(X_batch)\n",
    "        loss_raw = criterion_sigmoid(preds, y_batch)\n",
    "\n",
    "        # Применим sample weights по классам\n",
    "        weights = torch.where(y_batch == 1, pos_weight, neg_weight).to(device)\n",
    "        loss = (loss_raw * weights).mean()\n",
    "        \n",
    "        optimizer_sigmoid.zero_grad()\n",
    "        loss.backward()\n",
    "        optimizer_sigmoid.step()\n",
    "\n",
    "        train_losses.append(loss.item())\n",
    "\n",
    "    # Валидация\n",
    "    model_sigmoid.eval()\n",
    "    val_losses = []\n",
    "    all_preds = []\n",
    "    all_targets = []\n",
    "\n",
    "    for X_batch, y_batch in tqdm(val_loader, desc=\"Validating\", file=sys.stdout):\n",
    "        X_batch, y_batch = X_batch.to(device), y_batch.to(device).view(-1, 1)\n",
    "        with torch.no_grad():\n",
    "            preds = model_sigmoid(X_batch)\n",
    "            loss_raw = criterion_sigmoid(preds, y_batch)\n",
    "            weights = torch.where(y_batch == 1, pos_weight, neg_weight).to(device)\n",
    "            loss = (loss_raw * weights).mean()\n",
    "\n",
    "        val_losses.append(loss.item())\n",
    "        all_preds.extend(preds.cpu().numpy())\n",
    "        all_targets.extend(y_batch.cpu().numpy())\n",
    "\n",
    "    # Бинаризуем предсказания, считаем accuracy и выводим метрики за эпоху\n",
    "    all_preds_bin = (np.array(all_preds) >= 0.5).astype(int)\n",
    "    val_acc = accuracy_score(all_targets, all_preds_bin)\n",
    "\n",
    "    tqdm.write(\n",
    "        f\"Epoch {epoch+1}/{num_epochs} | \"\n",
    "        f\"Train Loss: {np.mean(train_losses):.4f} | \"\n",
    "        f\"Val Loss: {np.mean(val_losses):.4f} | \"\n",
    "        f\"Val Accuracy: {val_acc:.4f}\"\n",
    "    )"
   ]
  },
  {
   "cell_type": "code",
   "execution_count": 111,
   "id": "9039c173",
   "metadata": {},
   "outputs": [
    {
     "name": "stdout",
     "output_type": "stream",
     "text": [
      "Test shape: (138023, 5), unique users: 85083\n"
     ]
    }
   ],
   "source": [
    "# Проверяем размер и разнообразие тестового сета перед инференсом\n",
    "print(f\"Test shape: {df_test.shape}, unique users: {df_test['user_id'].nunique()}\")"
   ]
  },
  {
   "cell_type": "code",
   "execution_count": 112,
   "id": "389b886f",
   "metadata": {},
   "outputs": [
    {
     "data": {
      "text/plain": [
       "MatchingMLP_Sigmoid(\n",
       "  (model): Sequential(\n",
       "    (0): Linear(in_features=400, out_features=256, bias=True)\n",
       "    (1): ReLU()\n",
       "    (2): Dropout(p=0.2, inplace=False)\n",
       "    (3): Linear(in_features=256, out_features=64, bias=True)\n",
       "    (4): ReLU()\n",
       "    (5): Linear(in_features=64, out_features=1, bias=True)\n",
       "    (6): Sigmoid()\n",
       "  )\n",
       ")"
      ]
     },
     "execution_count": 112,
     "metadata": {},
     "output_type": "execute_result"
    }
   ],
   "source": [
    "# Переводим модели в режим инференса\n",
    "model_logits.eval()\n",
    "model_sigmoid.eval()"
   ]
  },
  {
   "cell_type": "code",
   "execution_count": 113,
   "id": "683c5fbd",
   "metadata": {},
   "outputs": [
    {
     "data": {
      "text/plain": [
       "(67706, 200)"
      ]
     },
     "execution_count": 113,
     "metadata": {},
     "output_type": "execute_result"
    }
   ],
   "source": [
    "# Подготавливаем список кандидатов и их эмбеддинги для инференса\n",
    "candidate_items = item_vectors.index.tolist()\n",
    "candidate_vectors = item_vectors.values\n",
    "candidate_vectors.shape"
   ]
  },
  {
   "cell_type": "code",
   "execution_count": null,
   "id": "b4e59731",
   "metadata": {},
   "outputs": [],
   "source": [
    "# Для каждого пользователя генерируем top-N рекомендаций\n",
    "# Сортировка кандидатов по вероятности релевантности (score)\n",
    "top_k = 10\n",
    "predictions_logits = {}\n",
    "predictions_sigmoid = {}"
   ]
  },
  {
   "cell_type": "code",
   "execution_count": null,
   "id": "c8ebcf9b",
   "metadata": {},
   "outputs": [
    {
     "name": "stdout",
     "output_type": "stream",
     "text": [
      "Generating top-N: 100%|██████████| 85083/85083 [5:06:17<00:00,  4.63it/s]  \n"
     ]
    }
   ],
   "source": [
    "# Формируем топы рекомендаций для каждого юзера\n",
    "for user_id in tqdm(ground_truth.keys(), desc=\"Generating top-N\", file=sys.stdout):\n",
    "    if user_id not in user_vectors:\n",
    "        continue\n",
    "\n",
    "    user_vec = user_vectors[user_id]\n",
    "    user_vec_batch = np.tile(user_vec, (candidate_vectors.shape[0], 1))\n",
    "    concat = np.hstack([user_vec_batch, candidate_vectors])\n",
    "    concat_tensor = torch.tensor(concat, dtype=torch.float32).to(device)\n",
    "\n",
    "    with torch.no_grad():\n",
    "        scores_logits = model_logits(concat_tensor).cpu().numpy().flatten()\n",
    "        scores_sigmoid = model_sigmoid(concat_tensor).cpu().numpy().flatten()\n",
    "\n",
    "    sorted_items_logits = np.array(candidate_items)[np.argsort(scores_logits)[::-1]]\n",
    "    sorted_items_sigmoid = np.array(candidate_items)[np.argsort(scores_sigmoid)[::-1]]\n",
    "\n",
    "    predictions_logits[user_id] = sorted_items_logits[:10].tolist()\n",
    "    predictions_sigmoid[user_id] = sorted_items_sigmoid[:10].tolist()"
   ]
  },
  {
   "cell_type": "code",
   "execution_count": null,
   "id": "19ce9369",
   "metadata": {},
   "outputs": [
    {
     "name": "stdout",
     "output_type": "stream",
     "text": [
      "=== Matching MLP with BCEWithLogitsLoss (без табличных item-фичей)===\n",
      "Precision@10: 0.0022\n",
      "MAP@10: 0.0063\n",
      "\n",
      "=== Matching MLP with BCELoss (без табличных item-фичей)===\n",
      "Precision@10: 0.0022\n",
      "MAP@10: 0.0063\n"
     ]
    }
   ],
   "source": [
    "# Считаем метрики на всём списке рекомендаций для обеих моделей\n",
    "print(\"=== Matching MLP with BCEWithLogitsLoss (без табличных item-фичей)===\")\n",
    "print(\"Precision@10:\", precision_at_k(predictions_logits, ground_truth))\n",
    "print(\"MAP@10:\", map_at_k(predictions_logits, ground_truth))\n",
    "\n",
    "print(\"\\n=== Matching MLP with BCELoss (без табличных item-фичей)===\")\n",
    "print(\"Precision@10:\", precision_at_k(predictions_sigmoid, ground_truth))\n",
    "print(\"MAP@10:\", map_at_k(predictions_sigmoid, ground_truth))\n"
   ]
  },
  {
   "cell_type": "markdown",
   "id": "6d9e1090",
   "metadata": {},
   "source": [
    "### Вывод: Стратификация + sample weights\n",
    "\n",
    "- Корректный учёт дисбаланса немного стабилизировал обучение.\n",
    "- Метрики увеличились в сравнении с прошлым улучшением.\n",
    "- Метод полезен для корректности, он улучшает метрику, возьмем в дальнейшем в качестве фнукции потерь BCELoss."
   ]
  },
  {
   "cell_type": "markdown",
   "id": "3cdcd509",
   "metadata": {},
   "source": [
    "## Другие архитектуры моделей, работающих с отбором товаров из всего латентого пространства взаимодействий"
   ]
  },
  {
   "cell_type": "markdown",
   "id": "aa02d28d",
   "metadata": {},
   "source": [
    "### Альтернативные архитектуры моделей\n",
    "\n",
    "В этом блоке мы сравниваем несколько архитектур:\n",
    "- Learnable Dot-product\n",
    "- DSSM (ReLU / LeakyReLU)\n",
    "- Enhanced MLP\n",
    "- CLIP-style cosine\n",
    "\n",
    "Цель — определить, какая модель наиболее эффективна при заданных признаках, и стоит ли использовать более простые/специализированные архитектуры вместо общей MLP."
   ]
  },
  {
   "cell_type": "code",
   "execution_count": null,
   "id": "2f1a7203",
   "metadata": {},
   "outputs": [],
   "source": [
    "# Устанавливаем seed для воспроизводимости\n",
    "seed_everything(42)"
   ]
  },
  {
   "cell_type": "code",
   "execution_count": 163,
   "id": "ab78630e",
   "metadata": {},
   "outputs": [],
   "source": [
    "# Загружаем тренировочную выборку с CLIP-эмбеддингами (текст + изображение)\n",
    "df_train = pd.read_csv(\n",
    "    \"data/df_train_CLIP_rating_based.csv\",\n",
    "    na_values=[\"\"],  # исключаем \"Unknown\"\n",
    "    keep_default_na=False\n",
    ")"
   ]
  },
  {
   "cell_type": "code",
   "execution_count": 164,
   "id": "e025338e",
   "metadata": {},
   "outputs": [],
   "source": [
    "# Выбираем CLIP-эмбеддинги (текст + изображение)\n",
    "item_vector_cols = [col for col in df_train.columns if col.startswith(\"clip_text_\") or col.startswith(\"clip_img_\")]\n",
    "user_ids = df_train[\"user_id\"].unique()"
   ]
  },
  {
   "cell_type": "code",
   "execution_count": 165,
   "id": "c05a1fa7",
   "metadata": {},
   "outputs": [],
   "source": [
    "# Извлекаем CLIP-эмбеддинги\n",
    "clip_vectors  = df_train.drop_duplicates(\"item_id\")[[\"item_id\"] + item_vector_cols].set_index(\"item_id\")"
   ]
  },
  {
   "cell_type": "code",
   "execution_count": 166,
   "id": "c992d8b8",
   "metadata": {},
   "outputs": [],
   "source": [
    "item_vectors = clip_vectors.copy()"
   ]
  },
  {
   "cell_type": "code",
   "execution_count": 167,
   "id": "0baf44c3",
   "metadata": {},
   "outputs": [
    {
     "name": "stdout",
     "output_type": "stream",
     "text": [
      "clip_vectors shape: (67706, 200)\n",
      "item_vectors shape: (67706, 200)\n"
     ]
    }
   ],
   "source": [
    "print(\"clip_vectors shape:\", clip_vectors.shape)\n",
    "print(\"item_vectors shape:\", item_vectors.shape)"
   ]
  },
  {
   "cell_type": "code",
   "execution_count": 168,
   "id": "a5268411",
   "metadata": {},
   "outputs": [],
   "source": [
    "# Формируем вектор интересов пользователя как среднее по позитивным item-векторам\n",
    "user_vectors = {}"
   ]
  },
  {
   "cell_type": "code",
   "execution_count": null,
   "id": "d161fd05",
   "metadata": {},
   "outputs": [
    {
     "name": "stdout",
     "output_type": "stream",
     "text": [
      "User vector aggregation: 100%|██████████| 551853/551853 [02:31<00:00, 3642.88it/s]\n"
     ]
    }
   ],
   "source": [
    "for user_id, group in tqdm(df_train[df_train[\"label\"] == 1].groupby(\"user_id\"), desc=\"User vector aggregation\", file=sys.stdout):\n",
    "    item_ids = group[\"item_id\"].values\n",
    "    vectors = item_vectors.loc[item_ids].values\n",
    "    user_vectors[user_id] = np.mean(vectors, axis=0)"
   ]
  },
  {
   "cell_type": "code",
   "execution_count": 170,
   "id": "c2644c43",
   "metadata": {},
   "outputs": [],
   "source": [
    "# Строим датасет: конкатенируем векторы пользователя и товара\n",
    "X = []\n",
    "y = []"
   ]
  },
  {
   "cell_type": "code",
   "execution_count": null,
   "id": "feea3ff5",
   "metadata": {},
   "outputs": [
    {
     "name": "stdout",
     "output_type": "stream",
     "text": [
      "Building training pairs: 100%|██████████| 1635089/1635089 [01:28<00:00, 18546.42it/s]\n"
     ]
    }
   ],
   "source": [
    "# Формируем обучающие пары\n",
    "for row in tqdm(df_train.itertuples(), total=len(df_train), desc=\"Building training pairs\", file=sys.stdout):\n",
    "    item_id = row.item_id\n",
    "    user_id = row.user_id\n",
    "    label = row.label\n",
    "\n",
    "    if user_id not in user_vectors or item_id not in item_vectors.index:\n",
    "        continue\n",
    "\n",
    "    user_vec = user_vectors[user_id]\n",
    "    item_vec = item_vectors.loc[item_id].values\n",
    "\n",
    "    concat_vec = np.concatenate([user_vec, item_vec])\n",
    "    X.append(concat_vec)\n",
    "    y.append(label)"
   ]
  },
  {
   "cell_type": "code",
   "execution_count": 172,
   "id": "4fb0297e",
   "metadata": {},
   "outputs": [
    {
     "name": "stdout",
     "output_type": "stream",
     "text": [
      "X shape: (1542533, 400)\n",
      "y shape: (1542533,)\n"
     ]
    }
   ],
   "source": [
    "# Преобразуем списки в массивы для дальнейшей подачи в PyTorch\n",
    "X = np.array(X)\n",
    "y = np.array(y)\n",
    "print(\"X shape:\", X.shape)\n",
    "print(\"y shape:\", y.shape)"
   ]
  },
  {
   "cell_type": "code",
   "execution_count": null,
   "id": "c425391e",
   "metadata": {},
   "outputs": [],
   "source": [
    "# Создадим пользовательский датасет\n",
    "# в него подаем раздельные вектора юзера и товара\n",
    "class MatchingDataset(Dataset):\n",
    "    def __init__(self, user_vecs, item_vecs, labels):\n",
    "        self.user_vecs = torch.tensor(user_vecs, dtype=torch.float32)\n",
    "        self.item_vecs = torch.tensor(item_vecs, dtype=torch.float32)\n",
    "        self.labels = torch.tensor(labels, dtype=torch.float32)\n",
    "\n",
    "    def __len__(self):\n",
    "        return len(self.labels)\n",
    "\n",
    "    def __getitem__(self, idx):\n",
    "        return self.user_vecs[idx], self.item_vecs[idx], self.labels[idx]\n"
   ]
  },
  {
   "cell_type": "markdown",
   "id": "f8de2c46",
   "metadata": {},
   "source": [
    "**LearnableDotProduct**  \n",
    "Минималистичная модель, реализующая dot-product между user и item эмбеддингами,  \n",
    "умноженный на обучаемый коэффициент. Простая и интерпретируемая baseline-архитектура."
   ]
  },
  {
   "cell_type": "code",
   "execution_count": null,
   "id": "b49fb88f",
   "metadata": {},
   "outputs": [],
   "source": [
    "# Архитектура Dot-product модели с обучаемым параметром\n",
    "class LearnableDotProduct(nn.Module):\n",
    "    def __init__(self):\n",
    "        super().__init__()\n",
    "        self.scale = nn.Parameter(torch.tensor(1.0))  # обучаемый коэффициент\n",
    "\n",
    "    def forward(self, user_vec, item_vec):\n",
    "        dot = (user_vec * item_vec).sum(dim=1, keepdim=True)\n",
    "        return torch.sigmoid(self.scale * dot)\n"
   ]
  },
  {
   "cell_type": "markdown",
   "id": "e58a087a",
   "metadata": {},
   "source": [
    "**DSSM (ReLU)**  \n",
    "Deep Structured Semantic Model. Имеет отдельные энкодеры для пользователей и товаров.  \n",
    "Использует ReLU и Dropout. Обучается через dot-product между полученными эмбеддингами."
   ]
  },
  {
   "cell_type": "code",
   "execution_count": null,
   "id": "bb35e93f",
   "metadata": {},
   "outputs": [],
   "source": [
    "# Архитектура DSSM модели с ReLU\n",
    "class DSSM_ReLU(nn.Module):\n",
    "    def __init__(self, input_dim, hidden_dim=128):\n",
    "        super().__init__()\n",
    "        self.user_encoder = nn.Sequential(\n",
    "            nn.Linear(input_dim, hidden_dim),\n",
    "            nn.ReLU(),\n",
    "            nn.Dropout(0.2),\n",
    "            nn.Linear(hidden_dim, hidden_dim // 2),\n",
    "            nn.ReLU()\n",
    "        )\n",
    "        self.item_encoder = nn.Sequential(\n",
    "            nn.Linear(input_dim, hidden_dim),\n",
    "            nn.ReLU(),\n",
    "            nn.Dropout(0.2),\n",
    "            nn.Linear(hidden_dim, hidden_dim // 2),\n",
    "            nn.ReLU()\n",
    "        )\n",
    "\n",
    "    def forward(self, user_vec, item_vec):\n",
    "        user_emb = self.user_encoder(user_vec)\n",
    "        item_emb = self.item_encoder(item_vec)\n",
    "        return torch.sigmoid((user_emb * item_emb).sum(dim=1, keepdim=True))"
   ]
  },
  {
   "cell_type": "markdown",
   "id": "ea28640a",
   "metadata": {},
   "source": [
    "**DSSM (LeakyReLU)**  \n",
    "Альтернатива DSSM с LeakyReLU активациями. Может быть более устойчивой на разреженных данных."
   ]
  },
  {
   "cell_type": "code",
   "execution_count": null,
   "id": "3b7f2be2",
   "metadata": {},
   "outputs": [],
   "source": [
    "# Архитектура DSSM модели с LeakyReLU\n",
    "class DSSM_LeakyReLU(nn.Module):\n",
    "    def __init__(self, input_dim, hidden_dim=128):\n",
    "        super().__init__()\n",
    "        self.user_encoder = nn.Sequential(\n",
    "            nn.Linear(input_dim, hidden_dim),\n",
    "            nn.LeakyReLU(),\n",
    "            nn.Dropout(0.2),\n",
    "            nn.Linear(hidden_dim, hidden_dim // 2),\n",
    "            nn.LeakyReLU()\n",
    "        )\n",
    "        self.item_encoder = nn.Sequential(\n",
    "            nn.Linear(input_dim, hidden_dim),\n",
    "            nn.LeakyReLU(),\n",
    "            nn.Dropout(0.2),\n",
    "            nn.Linear(hidden_dim, hidden_dim // 2),\n",
    "            nn.LeakyReLU()\n",
    "        )\n",
    "\n",
    "    def forward(self, user_vec, item_vec):\n",
    "        user_emb = self.user_encoder(user_vec)\n",
    "        item_emb = self.item_encoder(item_vec)\n",
    "        return torch.sigmoid((user_emb * item_emb).sum(dim=1, keepdim=True))"
   ]
  },
  {
   "cell_type": "markdown",
   "id": "fdb81041",
   "metadata": {},
   "source": [
    "**Enhanced MLP**  \n",
    "Улучшенная версия MLP: включает BatchNorm, Dropout, GELU.  \n",
    "Обучается на конкатенированных user/item эмбеддингах. Используется как более мощный baseline."
   ]
  },
  {
   "cell_type": "code",
   "execution_count": null,
   "id": "629d67a8",
   "metadata": {},
   "outputs": [],
   "source": [
    "# Усложненная (расширенная) архитектура бейзлайн MLP модели\n",
    "class EnhancedMLP(nn.Module):\n",
    "    def __init__(self, input_dim):\n",
    "        super().__init__()\n",
    "        self.model = nn.Sequential(\n",
    "            nn.BatchNorm1d(input_dim),\n",
    "            nn.Linear(input_dim, 256),\n",
    "            nn.GELU(),\n",
    "            nn.Dropout(0.2),\n",
    "            nn.Linear(256, 64),\n",
    "            nn.GELU(),\n",
    "            nn.Linear(64, 1),\n",
    "            nn.Sigmoid()\n",
    "        )\n",
    "\n",
    "    def forward(self, x):\n",
    "        return self.model(x)"
   ]
  },
  {
   "cell_type": "code",
   "execution_count": 178,
   "id": "16c11692",
   "metadata": {},
   "outputs": [],
   "source": [
    "import torch.nn.functional as F"
   ]
  },
  {
   "cell_type": "markdown",
   "id": "6120963f",
   "metadata": {},
   "source": [
    "**CLIP-style Cosine Model**  \n",
    "Модель реализует косинусное сходство между нормализованными эмбеддингами пользователя и товара.  \n",
    "Вводится обучаемый коэффициент `scale`, усиливающий чувствительность к различиям.  \n",
    "Аналог retrieval-компоненты в оригинальной архитектуре CLIP."
   ]
  },
  {
   "cell_type": "markdown",
   "id": "eeac7e0b",
   "metadata": {},
   "source": [
    "В нашей CLIP-style cosine model мы используем уже готовые векторы пользователей и товаров (средние по CLIP-эмбеддингам) вместо энкодеров, потому что у нас нет мультимодальности и этапа предварительного контрастивного обучения. Это:\n",
    "\n",
    "- приближённая реализация архитектуры CLIP;\n",
    "\n",
    "- используется только последний шаг CLIP — нормализация + косинусное сходство между векторами;\n",
    "\n",
    "- энкодеры опущены, потому что в нашем пайплайне уже есть эмбеддинги товаров (и аггрегированные эмбеддинги пользователей).\n",
    "\n",
    "Такой вариант всё равно позволяет сравнивать эффективность косинусного мэтчинга против dot-product, DSSM и Enhanced MLP, даже если он не полная реализация подобная CLIP.\n",
    "\n",
    "Если позже будет время, можно попробовать настоящую CLIP-архитектуру:\n",
    "\n",
    "- обучить модели для f_user() и f_item() (например, маленькие MLP);\n",
    "\n",
    "- применить контрастивную функцию потерь (например, InfoNCE или Triplet Loss);\n",
    "\n",
    "- нормализовать выходы и обучать примерно как в оригинальном CLIP."
   ]
  },
  {
   "cell_type": "code",
   "execution_count": null,
   "id": "50c34071",
   "metadata": {},
   "outputs": [],
   "source": [
    "# Упрощенная CLIP-подобная модель \n",
    "# использущая cosine similarity с обучаемым параметром\n",
    "class CLIPCosineModel(nn.Module):\n",
    "    def __init__(self):\n",
    "        super().__init__()\n",
    "        self.scale = nn.Parameter(torch.tensor(1.0))  # обучаемый параметр масштаба\n",
    "\n",
    "    def forward(self, user_vec, item_vec):\n",
    "        user_norm = F.normalize(user_vec, p=2, dim=1)\n",
    "        item_norm = F.normalize(item_vec, p=2, dim=1)\n",
    "        cosine = (user_norm * item_norm).sum(dim=1, keepdim=True)\n",
    "        return torch.sigmoid(self.scale * cosine)"
   ]
  },
  {
   "cell_type": "code",
   "execution_count": null,
   "id": "e117241a",
   "metadata": {},
   "outputs": [],
   "source": [
    "# Сплит X на вектора юзера и товара\n",
    "user_dim = item_dim = X.shape[1] // 2\n",
    "X_user = X[:, :user_dim]\n",
    "X_item = X[:, user_dim:]"
   ]
  },
  {
   "cell_type": "code",
   "execution_count": null,
   "id": "47967329",
   "metadata": {},
   "outputs": [],
   "source": [
    "# train-test split\n",
    "X_user_train, X_user_val, X_item_train, X_item_val, y_train_np, y_val_np = train_test_split(\n",
    "    X_user, X_item, y, test_size=0.1, random_state=42, stratify=y\n",
    ")"
   ]
  },
  {
   "cell_type": "code",
   "execution_count": 182,
   "id": "702cbf9a",
   "metadata": {},
   "outputs": [],
   "source": [
    "train_dataset = MatchingDataset(X_user_train, X_item_train, y_train_np)\n",
    "val_dataset = MatchingDataset(X_user_val, X_item_val, y_val_np)\n",
    "train_loader = DataLoader(train_dataset, batch_size=2048, shuffle=True)\n",
    "val_loader = DataLoader(val_dataset, batch_size=2048)"
   ]
  },
  {
   "cell_type": "code",
   "execution_count": null,
   "id": "66f7e075",
   "metadata": {},
   "outputs": [],
   "source": [
    "# Учет дисбаланса классов\n",
    "n_pos = np.sum(y == 1)\n",
    "n_neg = np.sum(y == 0)\n",
    "pos_weight = (n_neg + n_pos) / (2 * n_pos)\n",
    "neg_weight = (n_neg + n_pos) / (2 * n_neg)"
   ]
  },
  {
   "cell_type": "code",
   "execution_count": null,
   "id": "adbfa189",
   "metadata": {},
   "outputs": [],
   "source": [
    "# Инициация моделей, их лосса и оптимайзеров\n",
    "device = torch.device(\"cuda\" if torch.cuda.is_available() else \"cpu\")"
   ]
  },
  {
   "cell_type": "code",
   "execution_count": 185,
   "id": "3aa36ef0",
   "metadata": {},
   "outputs": [],
   "source": [
    "model_dot = LearnableDotProduct().to(device)\n",
    "model_dssm_relu = DSSM_ReLU(user_dim).to(device)\n",
    "model_dssm_leaky_relu = DSSM_LeakyReLU(user_dim).to(device)\n",
    "model_enhanced = EnhancedMLP(X.shape[1]).to(device)\n",
    "model_clip = CLIPCosineModel().to(device)"
   ]
  },
  {
   "cell_type": "code",
   "execution_count": 186,
   "id": "dfa90a26",
   "metadata": {},
   "outputs": [],
   "source": [
    "criterion = nn.BCELoss(reduction=\"none\")\n",
    "optimizer_dot = torch.optim.Adam(model_dot.parameters(), lr=1e-3)\n",
    "optimizer_dssm_relu = torch.optim.Adam(model_dssm_relu.parameters(), lr=1e-3)\n",
    "optimizer_dssm_leaky_relu = torch.optim.Adam(model_dssm_leaky_relu.parameters(), lr=1e-3)\n",
    "optimizer_enhanced = torch.optim.Adam(model_enhanced.parameters(), lr=1e-3)\n",
    "optimizer_clip = torch.optim.Adam(model_clip.parameters(), lr=1e-3)"
   ]
  },
  {
   "cell_type": "code",
   "execution_count": null,
   "id": "becc1217",
   "metadata": {},
   "outputs": [],
   "source": [
    "# Функция для обучения моделей\n",
    "def train_model(model, optimizer, name):\n",
    "    for epoch in range(10):\n",
    "        model.train()\n",
    "        train_losses = []\n",
    "        for u_vec, i_vec, labels in tqdm(train_loader, desc=f\"Training {name}\", file=sys.stdout):\n",
    "            u_vec, i_vec, labels = u_vec.to(device), i_vec.to(device), labels.to(device).view(-1, 1)\n",
    "            inputs = torch.cat([u_vec, i_vec], dim=1) if name == \"MLP\" else (u_vec, i_vec)\n",
    "            preds = model(inputs) if name == \"MLP\" else model(u_vec, i_vec)\n",
    "            loss_raw = criterion(preds, labels)\n",
    "            weights = torch.where(labels == 1, pos_weight, neg_weight).to(device)\n",
    "            loss = (loss_raw * weights).mean()\n",
    "\n",
    "            optimizer.zero_grad()\n",
    "            loss.backward()\n",
    "            optimizer.step()\n",
    "            train_losses.append(loss.item())\n",
    "\n",
    "        model.eval()\n",
    "        val_losses, all_preds, all_targets = [], [], []\n",
    "        for u_vec, i_vec, labels in tqdm(val_loader, desc=f\"Validating {name}\", file=sys.stdout):\n",
    "            u_vec, i_vec, labels = u_vec.to(device), i_vec.to(device), labels.to(device).view(-1, 1)\n",
    "            with torch.no_grad():\n",
    "                inputs = torch.cat([u_vec, i_vec], dim=1) if name == \"MLP\" else (u_vec, i_vec)\n",
    "                preds = model(inputs) if name == \"MLP\" else model(u_vec, i_vec)\n",
    "                loss_raw = criterion(preds, labels)\n",
    "                weights = torch.where(labels == 1, pos_weight, neg_weight).to(device)\n",
    "                loss = (loss_raw * weights).mean()\n",
    "            val_losses.append(loss.item())\n",
    "            all_preds.extend(preds.cpu().numpy())\n",
    "            all_targets.extend(labels.cpu().numpy())\n",
    "\n",
    "        all_preds_bin = (np.array(all_preds) >= 0.5).astype(int)\n",
    "        val_acc = accuracy_score(all_targets, all_preds_bin)\n",
    "        tqdm.write(f\"{name} Epoch {epoch+1}/10 | Train Loss: {np.mean(train_losses):.4f} | \"\n",
    "                   f\"Val Loss: {np.mean(val_losses):.4f} | Val Accuracy: {val_acc:.4f}\")"
   ]
  },
  {
   "cell_type": "code",
   "execution_count": null,
   "id": "601235b3",
   "metadata": {},
   "outputs": [
    {
     "name": "stdout",
     "output_type": "stream",
     "text": [
      "Training DotProduct: 100%|██████████| 678/678 [00:19<00:00, 34.31it/s]\n",
      "Validating DotProduct: 100%|██████████| 76/76 [00:02<00:00, 37.50it/s]\n",
      "DotProduct Epoch 1/10 | Train Loss: 0.6076 | Val Loss: 0.5958 | Val Accuracy: 0.9180\n",
      "Training DotProduct: 100%|██████████| 678/678 [00:19<00:00, 35.43it/s]\n",
      "Validating DotProduct: 100%|██████████| 76/76 [00:02<00:00, 34.23it/s]\n",
      "DotProduct Epoch 2/10 | Train Loss: 0.5876 | Val Loss: 0.5819 | Val Accuracy: 0.9180\n",
      "Training DotProduct: 100%|██████████| 678/678 [00:18<00:00, 36.02it/s]\n",
      "Validating DotProduct: 100%|██████████| 76/76 [00:02<00:00, 34.24it/s]\n",
      "DotProduct Epoch 3/10 | Train Loss: 0.5773 | Val Loss: 0.5749 | Val Accuracy: 0.9180\n",
      "Training DotProduct: 100%|██████████| 678/678 [00:19<00:00, 34.98it/s]\n",
      "Validating DotProduct: 100%|██████████| 76/76 [00:02<00:00, 36.75it/s]\n",
      "DotProduct Epoch 4/10 | Train Loss: 0.5722 | Val Loss: 0.5718 | Val Accuracy: 0.9180\n",
      "Training DotProduct: 100%|██████████| 678/678 [00:19<00:00, 34.78it/s]\n",
      "Validating DotProduct: 100%|██████████| 76/76 [00:02<00:00, 33.14it/s]\n",
      "DotProduct Epoch 5/10 | Train Loss: 0.5700 | Val Loss: 0.5706 | Val Accuracy: 0.9180\n",
      "Training DotProduct: 100%|██████████| 678/678 [00:19<00:00, 35.19it/s]\n",
      "Validating DotProduct: 100%|██████████| 76/76 [00:02<00:00, 33.92it/s]\n",
      "DotProduct Epoch 6/10 | Train Loss: 0.5692 | Val Loss: 0.5703 | Val Accuracy: 0.9180\n",
      "Training DotProduct: 100%|██████████| 678/678 [00:19<00:00, 34.98it/s]\n",
      "Validating DotProduct: 100%|██████████| 76/76 [00:02<00:00, 37.66it/s]\n",
      "DotProduct Epoch 7/10 | Train Loss: 0.5690 | Val Loss: 0.5703 | Val Accuracy: 0.9180\n",
      "Training DotProduct: 100%|██████████| 678/678 [00:19<00:00, 35.39it/s]\n",
      "Validating DotProduct: 100%|██████████| 76/76 [00:02<00:00, 34.24it/s]\n",
      "DotProduct Epoch 8/10 | Train Loss: 0.5689 | Val Loss: 0.5703 | Val Accuracy: 0.9180\n",
      "Training DotProduct: 100%|██████████| 678/678 [00:19<00:00, 35.67it/s]\n",
      "Validating DotProduct: 100%|██████████| 76/76 [00:02<00:00, 34.07it/s]\n",
      "DotProduct Epoch 9/10 | Train Loss: 0.5689 | Val Loss: 0.5703 | Val Accuracy: 0.9180\n",
      "Training DotProduct: 100%|██████████| 678/678 [00:19<00:00, 35.46it/s]\n",
      "Validating DotProduct: 100%|██████████| 76/76 [00:01<00:00, 38.17it/s]\n",
      "DotProduct Epoch 10/10 | Train Loss: 0.5689 | Val Loss: 0.5703 | Val Accuracy: 0.9180\n"
     ]
    }
   ],
   "source": [
    "# Обучение Dot-Product модели\n",
    "train_model(model_dot, optimizer_dot, \"DotProduct\")"
   ]
  },
  {
   "cell_type": "code",
   "execution_count": null,
   "id": "7519e0cc",
   "metadata": {},
   "outputs": [
    {
     "name": "stdout",
     "output_type": "stream",
     "text": [
      "Training DSSM_ReLU: 100%|██████████| 678/678 [00:21<00:00, 31.39it/s]\n",
      "Validating DSSM_ReLU: 100%|██████████| 76/76 [00:02<00:00, 33.13it/s]\n",
      "DSSM_ReLU Epoch 1/10 | Train Loss: 0.6576 | Val Loss: 0.6367 | Val Accuracy: 0.8908\n",
      "Training DSSM_ReLU: 100%|██████████| 678/678 [00:21<00:00, 31.68it/s]\n",
      "Validating DSSM_ReLU: 100%|██████████| 76/76 [00:02<00:00, 33.21it/s]\n",
      "DSSM_ReLU Epoch 2/10 | Train Loss: 0.6271 | Val Loss: 0.6179 | Val Accuracy: 0.8908\n",
      "Training DSSM_ReLU: 100%|██████████| 678/678 [00:21<00:00, 31.28it/s]\n",
      "Validating DSSM_ReLU: 100%|██████████| 76/76 [00:02<00:00, 36.73it/s]\n",
      "DSSM_ReLU Epoch 3/10 | Train Loss: 0.6116 | Val Loss: 0.6078 | Val Accuracy: 0.8908\n",
      "Training DSSM_ReLU: 100%|██████████| 678/678 [00:21<00:00, 31.46it/s]\n",
      "Validating DSSM_ReLU: 100%|██████████| 76/76 [00:02<00:00, 33.13it/s]\n",
      "DSSM_ReLU Epoch 4/10 | Train Loss: 0.6013 | Val Loss: 0.5997 | Val Accuracy: 0.8908\n",
      "Training DSSM_ReLU: 100%|██████████| 678/678 [00:21<00:00, 31.75it/s]\n",
      "Validating DSSM_ReLU: 100%|██████████| 76/76 [00:02<00:00, 33.34it/s]\n",
      "DSSM_ReLU Epoch 5/10 | Train Loss: 0.5938 | Val Loss: 0.5944 | Val Accuracy: 0.8908\n",
      "Training DSSM_ReLU: 100%|██████████| 678/678 [00:21<00:00, 31.37it/s]\n",
      "Validating DSSM_ReLU: 100%|██████████| 76/76 [00:02<00:00, 37.05it/s]\n",
      "DSSM_ReLU Epoch 6/10 | Train Loss: 0.5878 | Val Loss: 0.5901 | Val Accuracy: 0.8908\n",
      "Training DSSM_ReLU: 100%|██████████| 678/678 [00:21<00:00, 31.40it/s]\n",
      "Validating DSSM_ReLU: 100%|██████████| 76/76 [00:02<00:00, 33.43it/s]\n",
      "DSSM_ReLU Epoch 7/10 | Train Loss: 0.5823 | Val Loss: 0.5867 | Val Accuracy: 0.8908\n",
      "Training DSSM_ReLU: 100%|██████████| 678/678 [00:21<00:00, 31.65it/s]\n",
      "Validating DSSM_ReLU: 100%|██████████| 76/76 [00:02<00:00, 33.61it/s]\n",
      "DSSM_ReLU Epoch 8/10 | Train Loss: 0.5782 | Val Loss: 0.5834 | Val Accuracy: 0.8908\n",
      "Training DSSM_ReLU: 100%|██████████| 678/678 [00:21<00:00, 31.52it/s]\n",
      "Validating DSSM_ReLU: 100%|██████████| 76/76 [00:02<00:00, 36.93it/s]\n",
      "DSSM_ReLU Epoch 9/10 | Train Loss: 0.5739 | Val Loss: 0.5803 | Val Accuracy: 0.8908\n",
      "Training DSSM_ReLU: 100%|██████████| 678/678 [00:21<00:00, 31.46it/s]\n",
      "Validating DSSM_ReLU: 100%|██████████| 76/76 [00:02<00:00, 33.44it/s]\n",
      "DSSM_ReLU Epoch 10/10 | Train Loss: 0.5706 | Val Loss: 0.5784 | Val Accuracy: 0.8908\n"
     ]
    }
   ],
   "source": [
    "# Обучение DSSM модели с ReLU в качестве функции активации\n",
    "train_model(model_dssm_relu, optimizer_dssm_relu, \"DSSM_ReLU\")"
   ]
  },
  {
   "cell_type": "code",
   "execution_count": null,
   "id": "1b628497",
   "metadata": {},
   "outputs": [
    {
     "name": "stdout",
     "output_type": "stream",
     "text": [
      "Training DSSM_Leaky_ReLU: 100%|██████████| 678/678 [00:21<00:00, 31.82it/s]\n",
      "Validating DSSM_Leaky_ReLU: 100%|██████████| 76/76 [00:02<00:00, 33.32it/s]\n",
      "DSSM_Leaky_ReLU Epoch 1/10 | Train Loss: 0.5871 | Val Loss: 0.4971 | Val Accuracy: 0.7729\n",
      "Training DSSM_Leaky_ReLU: 100%|██████████| 678/678 [00:21<00:00, 31.63it/s]\n",
      "Validating DSSM_Leaky_ReLU: 100%|██████████| 76/76 [00:02<00:00, 37.11it/s]\n",
      "DSSM_Leaky_ReLU Epoch 2/10 | Train Loss: 0.4713 | Val Loss: 0.4288 | Val Accuracy: 0.8192\n",
      "Training DSSM_Leaky_ReLU: 100%|██████████| 678/678 [00:21<00:00, 31.39it/s]\n",
      "Validating DSSM_Leaky_ReLU: 100%|██████████| 76/76 [00:02<00:00, 33.92it/s]\n",
      "DSSM_Leaky_ReLU Epoch 3/10 | Train Loss: 0.4288 | Val Loss: 0.4093 | Val Accuracy: 0.8159\n",
      "Training DSSM_Leaky_ReLU: 100%|██████████| 678/678 [00:20<00:00, 32.39it/s]\n",
      "Validating DSSM_Leaky_ReLU: 100%|██████████| 76/76 [00:02<00:00, 33.70it/s]\n",
      "DSSM_Leaky_ReLU Epoch 4/10 | Train Loss: 0.4074 | Val Loss: 0.3884 | Val Accuracy: 0.8509\n",
      "Training DSSM_Leaky_ReLU: 100%|██████████| 678/678 [00:21<00:00, 32.00it/s]\n",
      "Validating DSSM_Leaky_ReLU: 100%|██████████| 76/76 [00:02<00:00, 37.62it/s]\n",
      "DSSM_Leaky_ReLU Epoch 5/10 | Train Loss: 0.3890 | Val Loss: 0.3727 | Val Accuracy: 0.8446\n",
      "Training DSSM_Leaky_ReLU: 100%|██████████| 678/678 [00:21<00:00, 32.00it/s]\n",
      "Validating DSSM_Leaky_ReLU: 100%|██████████| 76/76 [00:02<00:00, 33.91it/s]\n",
      "DSSM_Leaky_ReLU Epoch 6/10 | Train Loss: 0.3735 | Val Loss: 0.3603 | Val Accuracy: 0.8523\n",
      "Training DSSM_Leaky_ReLU: 100%|██████████| 678/678 [00:20<00:00, 32.38it/s]\n",
      "Validating DSSM_Leaky_ReLU: 100%|██████████| 76/76 [00:02<00:00, 33.94it/s]\n",
      "DSSM_Leaky_ReLU Epoch 7/10 | Train Loss: 0.3603 | Val Loss: 0.3523 | Val Accuracy: 0.8439\n",
      "Training DSSM_Leaky_ReLU: 100%|██████████| 678/678 [00:21<00:00, 32.01it/s]\n",
      "Validating DSSM_Leaky_ReLU: 100%|██████████| 76/76 [00:02<00:00, 37.92it/s]\n",
      "DSSM_Leaky_ReLU Epoch 8/10 | Train Loss: 0.3485 | Val Loss: 0.3373 | Val Accuracy: 0.8765\n",
      "Training DSSM_Leaky_ReLU: 100%|██████████| 678/678 [00:21<00:00, 32.01it/s]\n",
      "Validating DSSM_Leaky_ReLU: 100%|██████████| 76/76 [00:02<00:00, 33.51it/s]\n",
      "DSSM_Leaky_ReLU Epoch 9/10 | Train Loss: 0.3385 | Val Loss: 0.3314 | Val Accuracy: 0.8869\n",
      "Training DSSM_Leaky_ReLU: 100%|██████████| 678/678 [00:20<00:00, 32.34it/s]\n",
      "Validating DSSM_Leaky_ReLU: 100%|██████████| 76/76 [00:02<00:00, 33.90it/s]\n",
      "DSSM_Leaky_ReLU Epoch 10/10 | Train Loss: 0.3307 | Val Loss: 0.3250 | Val Accuracy: 0.8875\n"
     ]
    }
   ],
   "source": [
    "# Обучение DSSM модели с LeakyReLU в качестве функции активации\n",
    "train_model(model_dssm_leaky_relu, optimizer_dssm_leaky_relu, \"DSSM_Leaky_ReLU\")"
   ]
  },
  {
   "cell_type": "code",
   "execution_count": null,
   "id": "5dec5230",
   "metadata": {},
   "outputs": [
    {
     "name": "stdout",
     "output_type": "stream",
     "text": [
      "Training MLP: 100%|██████████| 678/678 [00:23<00:00, 29.04it/s]\n",
      "Validating MLP: 100%|██████████| 76/76 [00:02<00:00, 36.10it/s]\n",
      "MLP Epoch 1/10 | Train Loss: 0.2369 | Val Loss: 0.1567 | Val Accuracy: 0.9475\n",
      "Training MLP: 100%|██████████| 678/678 [00:23<00:00, 29.05it/s]\n",
      "Validating MLP: 100%|██████████| 76/76 [00:02<00:00, 32.74it/s]\n",
      "MLP Epoch 2/10 | Train Loss: 0.1441 | Val Loss: 0.1325 | Val Accuracy: 0.9581\n",
      "Training MLP: 100%|██████████| 678/678 [00:23<00:00, 29.37it/s]\n",
      "Validating MLP: 100%|██████████| 76/76 [00:02<00:00, 32.74it/s]\n",
      "MLP Epoch 3/10 | Train Loss: 0.1228 | Val Loss: 0.1265 | Val Accuracy: 0.9640\n",
      "Training MLP: 100%|██████████| 678/678 [00:23<00:00, 29.06it/s]\n",
      "Validating MLP: 100%|██████████| 76/76 [00:02<00:00, 36.52it/s]\n",
      "MLP Epoch 4/10 | Train Loss: 0.1106 | Val Loss: 0.1257 | Val Accuracy: 0.9641\n",
      "Training MLP: 100%|██████████| 678/678 [00:23<00:00, 29.03it/s]\n",
      "Validating MLP: 100%|██████████| 76/76 [00:02<00:00, 32.78it/s]\n",
      "MLP Epoch 5/10 | Train Loss: 0.1029 | Val Loss: 0.1235 | Val Accuracy: 0.9664\n",
      "Training MLP: 100%|██████████| 678/678 [00:23<00:00, 29.33it/s]\n",
      "Validating MLP: 100%|██████████| 76/76 [00:02<00:00, 32.93it/s]\n",
      "MLP Epoch 6/10 | Train Loss: 0.0963 | Val Loss: 0.1259 | Val Accuracy: 0.9674\n",
      "Training MLP: 100%|██████████| 678/678 [00:23<00:00, 29.05it/s]\n",
      "Validating MLP: 100%|██████████| 76/76 [00:02<00:00, 36.48it/s]\n",
      "MLP Epoch 7/10 | Train Loss: 0.0920 | Val Loss: 0.1262 | Val Accuracy: 0.9689\n",
      "Training MLP: 100%|██████████| 678/678 [00:23<00:00, 29.01it/s]\n",
      "Validating MLP: 100%|██████████| 76/76 [00:02<00:00, 32.62it/s]\n",
      "MLP Epoch 8/10 | Train Loss: 0.0875 | Val Loss: 0.1272 | Val Accuracy: 0.9713\n",
      "Training MLP: 100%|██████████| 678/678 [00:23<00:00, 28.70it/s]\n",
      "Validating MLP: 100%|██████████| 76/76 [00:02<00:00, 31.69it/s]\n",
      "MLP Epoch 9/10 | Train Loss: 0.0842 | Val Loss: 0.1293 | Val Accuracy: 0.9710\n",
      "Training MLP: 100%|██████████| 678/678 [00:23<00:00, 28.69it/s]\n",
      "Validating MLP: 100%|██████████| 76/76 [00:02<00:00, 35.81it/s]\n",
      "MLP Epoch 10/10 | Train Loss: 0.0816 | Val Loss: 0.1296 | Val Accuracy: 0.9720\n"
     ]
    }
   ],
   "source": [
    "# Обучение усложненной MLP модели\n",
    "train_model(model_enhanced, optimizer_enhanced, \"MLP\")"
   ]
  },
  {
   "cell_type": "code",
   "execution_count": null,
   "id": "64aee8ba",
   "metadata": {},
   "outputs": [
    {
     "name": "stdout",
     "output_type": "stream",
     "text": [
      "Training CLIP: 100%|██████████| 678/678 [00:19<00:00, 34.95it/s]\n",
      "Validating CLIP: 100%|██████████| 76/76 [00:02<00:00, 33.91it/s]\n",
      "CLIP Epoch 1/10 | Train Loss: 0.5743 | Val Loss: 0.5631 | Val Accuracy: 0.9180\n",
      "Training CLIP: 100%|██████████| 678/678 [00:19<00:00, 35.46it/s]\n",
      "Validating CLIP: 100%|██████████| 76/76 [00:02<00:00, 34.11it/s]\n",
      "CLIP Epoch 2/10 | Train Loss: 0.5569 | Val Loss: 0.5541 | Val Accuracy: 0.9180\n",
      "Training CLIP: 100%|██████████| 678/678 [00:19<00:00, 35.09it/s]\n",
      "Validating CLIP: 100%|██████████| 76/76 [00:02<00:00, 37.82it/s]\n",
      "CLIP Epoch 3/10 | Train Loss: 0.5517 | Val Loss: 0.5520 | Val Accuracy: 0.9180\n",
      "Training CLIP: 100%|██████████| 678/678 [00:19<00:00, 35.06it/s]\n",
      "Validating CLIP: 100%|██████████| 76/76 [00:02<00:00, 33.76it/s]\n",
      "CLIP Epoch 4/10 | Train Loss: 0.5506 | Val Loss: 0.5517 | Val Accuracy: 0.9180\n",
      "Training CLIP: 100%|██████████| 678/678 [00:19<00:00, 35.49it/s]\n",
      "Validating CLIP: 100%|██████████| 76/76 [00:02<00:00, 33.86it/s]\n",
      "CLIP Epoch 5/10 | Train Loss: 0.5504 | Val Loss: 0.5517 | Val Accuracy: 0.9180\n",
      "Training CLIP: 100%|██████████| 678/678 [00:19<00:00, 35.01it/s]\n",
      "Validating CLIP: 100%|██████████| 76/76 [00:02<00:00, 37.73it/s]\n",
      "CLIP Epoch 6/10 | Train Loss: 0.5504 | Val Loss: 0.5517 | Val Accuracy: 0.9180\n",
      "Training CLIP: 100%|██████████| 678/678 [00:19<00:00, 35.02it/s]\n",
      "Validating CLIP: 100%|██████████| 76/76 [00:02<00:00, 33.96it/s]\n",
      "CLIP Epoch 7/10 | Train Loss: 0.5504 | Val Loss: 0.5517 | Val Accuracy: 0.9180\n",
      "Training CLIP: 100%|██████████| 678/678 [00:19<00:00, 35.47it/s]\n",
      "Validating CLIP: 100%|██████████| 76/76 [00:02<00:00, 33.83it/s]\n",
      "CLIP Epoch 8/10 | Train Loss: 0.5504 | Val Loss: 0.5517 | Val Accuracy: 0.9180\n",
      "Training CLIP: 100%|██████████| 678/678 [00:19<00:00, 34.86it/s]\n",
      "Validating CLIP: 100%|██████████| 76/76 [00:02<00:00, 37.25it/s]\n",
      "CLIP Epoch 9/10 | Train Loss: 0.5504 | Val Loss: 0.5517 | Val Accuracy: 0.9180\n",
      "Training CLIP: 100%|██████████| 678/678 [00:19<00:00, 34.98it/s]\n",
      "Validating CLIP: 100%|██████████| 76/76 [00:02<00:00, 33.52it/s]\n",
      "CLIP Epoch 10/10 | Train Loss: 0.5504 | Val Loss: 0.5517 | Val Accuracy: 0.9180\n"
     ]
    }
   ],
   "source": [
    "# Обучение упрощенной CLIP-подобной модели\n",
    "train_model(model_clip, optimizer_clip, \"CLIP\")"
   ]
  },
  {
   "cell_type": "code",
   "execution_count": null,
   "id": "45e2ab33",
   "metadata": {},
   "outputs": [
    {
     "data": {
      "text/plain": [
       "CLIPCosineModel()"
      ]
     },
     "execution_count": 313,
     "metadata": {},
     "output_type": "execute_result"
    }
   ],
   "source": [
    "# Переведем модели в режим инференса\n",
    "model_dot.eval()\n",
    "model_dssm_relu.eval()\n",
    "model_dssm_leaky_relu.eval()\n",
    "model_enhanced.eval()\n",
    "model_clip.eval()"
   ]
  },
  {
   "cell_type": "code",
   "execution_count": null,
   "id": "99b2c885",
   "metadata": {},
   "outputs": [],
   "source": [
    "# Подготавливаем список кандидатов и их эмбеддинги для инференса\n",
    "candidate_items = item_vectors.index.tolist()\n",
    "candidate_vectors = item_vectors.values"
   ]
  },
  {
   "cell_type": "code",
   "execution_count": null,
   "id": "29b36069",
   "metadata": {},
   "outputs": [],
   "source": [
    "# Словари для хранение топов предсказаний\n",
    "predictions_dot = {}\n",
    "predictions_dssm_relu = {}\n",
    "predictions_dssm_leaky_relu = {}\n",
    "predictions_enhanced = {}\n",
    "predictions_clip = {}"
   ]
  },
  {
   "cell_type": "code",
   "execution_count": null,
   "id": "c7418005",
   "metadata": {},
   "outputs": [
    {
     "name": "stdout",
     "output_type": "stream",
     "text": [
      "Top-N generation: 100%|██████████| 85083/85083 [4:56:27<00:00,  4.78it/s]  \n"
     ]
    }
   ],
   "source": [
    "# Формирвование топов рекомендаций для каждого юзера\n",
    "for user_id in tqdm(ground_truth.keys(), desc=\"Top-N generation\", file=sys.stdout):\n",
    "    if user_id not in user_vectors:\n",
    "        continue\n",
    "    user_vec = user_vectors[user_id]\n",
    "    user_vec_batch = np.tile(user_vec, (candidate_vectors.shape[0], 1))\n",
    "    user_tensor = torch.tensor(user_vec_batch, dtype=torch.float32).to(device)\n",
    "    item_tensor = torch.tensor(candidate_vectors, dtype=torch.float32).to(device)\n",
    "\n",
    "    with torch.no_grad():\n",
    "        scores_dot = model_dot(user_tensor, item_tensor).cpu().numpy().flatten()\n",
    "        scores_dssm_relu = model_dssm_relu(user_tensor, item_tensor).cpu().numpy().flatten()\n",
    "        scores_dssm_leaky_relu = model_dssm_leaky_relu(user_tensor, item_tensor).cpu().numpy().flatten()\n",
    "        concat_input = torch.cat([user_tensor, item_tensor], dim=1)\n",
    "        scores_enhanced = model_enhanced(concat_input).cpu().numpy().flatten()\n",
    "        scores_clip = model_clip(user_tensor, item_tensor).cpu().numpy().flatten()\n",
    "\n",
    "    sorted_items_dot = np.array(candidate_items)[np.argsort(scores_dot)[::-1]]\n",
    "    sorted_items_dssm_relu = np.array(candidate_items)[np.argsort(scores_dssm_relu)[::-1]]\n",
    "    sorted_items_dssm_leaky_relu = np.array(candidate_items)[np.argsort(scores_dssm_leaky_relu)[::-1]]\n",
    "    sorted_items_enhanced = np.array(candidate_items)[np.argsort(scores_enhanced)[::-1]]\n",
    "    sorted_items_clip = np.array(candidate_items)[np.argsort(scores_clip)[::-1]]\n",
    "\n",
    "    predictions_dot[user_id] = sorted_items_dot[:10].tolist()\n",
    "    predictions_dssm_relu[user_id] = sorted_items_dssm_relu[:10].tolist()\n",
    "    predictions_dssm_leaky_relu[user_id] = sorted_items_dssm_leaky_relu[:10].tolist()\n",
    "    predictions_enhanced[user_id] = sorted_items_enhanced[:10].tolist()\n",
    "    predictions_clip[user_id] = sorted_items_clip[:10].tolist()"
   ]
  },
  {
   "cell_type": "code",
   "execution_count": null,
   "id": "4eb993ad",
   "metadata": {},
   "outputs": [
    {
     "name": "stdout",
     "output_type": "stream",
     "text": [
      "\n",
      "Dot-product model (top-10)\n",
      "Precision@10: 0.0031\n",
      "MAP@10: 0.0079\n",
      "\n",
      "DSSM_ReLU model (top-10)\n",
      "Precision@10: 0.0002\n",
      "MAP@10: 0.0003\n",
      "\n",
      "DSSM_Leaky_ReLU model (top-10)\n",
      "Precision@10: 0.0003\n",
      "MAP@10: 0.0009\n",
      "\n",
      "Enhanced MLP model (top-10)\n",
      "Precision@10: 0.0022\n",
      "MAP@10: 0.0062\n",
      "\n",
      "CLIP-style cosine model (top-10)\n",
      "Precision@10: 0.0032\n",
      "MAP@10: 0.008\n"
     ]
    }
   ],
   "source": [
    "# Метрики для всех новых 5 моделей\n",
    "print(\"\\nDot-product model (top-10)\")\n",
    "print(\"Precision@10:\", precision_at_k(predictions_dot, ground_truth))\n",
    "print(\"MAP@10:\", map_at_k(predictions_dot, ground_truth))\n",
    "\n",
    "print(\"\\nDSSM_ReLU model (top-10)\")\n",
    "print(\"Precision@10:\", precision_at_k(predictions_dssm_relu, ground_truth))\n",
    "print(\"MAP@10:\", map_at_k(predictions_dssm_relu, ground_truth))\n",
    "\n",
    "print(\"\\nDSSM_Leaky_ReLU model (top-10)\")\n",
    "print(\"Precision@10:\", precision_at_k(predictions_dssm_leaky_relu, ground_truth))\n",
    "print(\"MAP@10:\", map_at_k(predictions_dssm_leaky_relu, ground_truth))\n",
    "\n",
    "print(\"\\nEnhanced MLP model (top-10)\")\n",
    "print(\"Precision@10:\", precision_at_k(predictions_enhanced, ground_truth))\n",
    "print(\"MAP@10:\", map_at_k(predictions_enhanced, ground_truth))\n",
    "\n",
    "print(\"\\nCLIP-style cosine model (top-10)\")\n",
    "print(\"Precision@10:\", precision_at_k(predictions_clip, ground_truth))\n",
    "print(\"MAP@10:\", map_at_k(predictions_clip, ground_truth))"
   ]
  },
  {
   "cell_type": "markdown",
   "id": "a2cec741",
   "metadata": {},
   "source": [
    "### Вывод: Альтернативные архитектуры\n",
    "\n",
    "- CLIP-style Cosine и Dot-product model показали лучшие метрики среди группы.\n",
    "- Простые модели (Enhanced MLP, DSSM) уступили и по Precision, и по MAP.\n",
    "- Победитель: CLIP-style Cosine — стабильный и интерпретируемый retrieval-блок."
   ]
  },
  {
   "cell_type": "markdown",
   "id": "34c68fe4",
   "metadata": {},
   "source": [
    "## Модели с фичами по датам"
   ]
  },
  {
   "cell_type": "markdown",
   "id": "8dc14336",
   "metadata": {},
   "source": [
    "### Модели с временными признаками\n",
    "\n",
    "В этом блоке мы расширяем входные признаки временными (сезонными) фичами: день недели, неделя года, месяц и т.п.,  \n",
    "а также агрегациями меток по этим фичам. Используем две архитектуры: one-head и two-head модели.  \n",
    "Цель — учесть поведение пользователей, зависящее от времени (праздники, сезонность, всплески)."
   ]
  },
  {
   "cell_type": "code",
   "execution_count": null,
   "id": "96671a00",
   "metadata": {},
   "outputs": [],
   "source": [
    "# Устанавливаем seed для воспроизводимости\n",
    "seed_everything(42)"
   ]
  },
  {
   "cell_type": "code",
   "execution_count": 201,
   "id": "de2d37a7",
   "metadata": {},
   "outputs": [],
   "source": [
    "# Загрузка отфильтрованного датасета\n",
    "df = pd.read_csv(\"data/amazon_interactions_filtered.csv\")"
   ]
  },
  {
   "cell_type": "code",
   "execution_count": 202,
   "id": "58571c3a",
   "metadata": {},
   "outputs": [],
   "source": [
    "# Ограничим временной диапазон: только 2015–2018\n",
    "df = df[df[\"timestamp\"] >= pd.Timestamp(\"2015-01-01\").timestamp()].copy()\n",
    "\n",
    "# Сортировка по времени\n",
    "df = df.sort_values(\"timestamp\")\n",
    "\n",
    "# Формируем train/test сплит:\n",
    "df_train = df[df[\"timestamp\"] < pd.Timestamp(\"2018-01-01\").timestamp()]\n",
    "df_test = df[(df[\"timestamp\"] >= pd.Timestamp(\"2018-01-01\").timestamp()) &\n",
    "             (df[\"timestamp\"] < pd.Timestamp(\"2018-10-01\").timestamp())]"
   ]
  },
  {
   "cell_type": "code",
   "execution_count": 203,
   "id": "f3d27d73",
   "metadata": {},
   "outputs": [
    {
     "name": "stderr",
     "output_type": "stream",
     "text": [
      "C:\\Users\\Администратор\\AppData\\Local\\Temp\\ipykernel_2228\\1089353448.py:2: SettingWithCopyWarning: \n",
      "A value is trying to be set on a copy of a slice from a DataFrame.\n",
      "Try using .loc[row_indexer,col_indexer] = value instead\n",
      "\n",
      "See the caveats in the documentation: https://pandas.pydata.org/pandas-docs/stable/user_guide/indexing.html#returning-a-view-versus-a-copy\n",
      "  df_train[\"label\"] = (df_train[\"rating\"] >= 4).astype(int)\n",
      "C:\\Users\\Администратор\\AppData\\Local\\Temp\\ipykernel_2228\\1089353448.py:3: SettingWithCopyWarning: \n",
      "A value is trying to be set on a copy of a slice from a DataFrame.\n",
      "Try using .loc[row_indexer,col_indexer] = value instead\n",
      "\n",
      "See the caveats in the documentation: https://pandas.pydata.org/pandas-docs/stable/user_guide/indexing.html#returning-a-view-versus-a-copy\n",
      "  df_test[\"label\"] = (df_test[\"rating\"] >= 4).astype(int)\n"
     ]
    }
   ],
   "source": [
    "# Формируем бинарную метку: label = 1, если рейтинг >= 4\n",
    "df_train[\"label\"] = (df_train[\"rating\"] >= 4).astype(int)\n",
    "df_test[\"label\"] = (df_test[\"rating\"] >= 4).astype(int)"
   ]
  },
  {
   "cell_type": "code",
   "execution_count": 204,
   "id": "2b717ff0",
   "metadata": {},
   "outputs": [],
   "source": [
    "# Подгружаем эмбеддинги и мета-фичи\n",
    "df_meta_clip = pd.read_csv(\n",
    "    \"data/amazon_meta_clean.csv\",\n",
    "    na_values=[\"\"],\n",
    "    keep_default_na=False\n",
    ")\n",
    "# Переименуем asin в item_id\n",
    "df_meta_clip.rename(columns={\"asin\": \"item_id\"}, inplace=True)"
   ]
  },
  {
   "cell_type": "code",
   "execution_count": 205,
   "id": "fbf1c2e5",
   "metadata": {},
   "outputs": [],
   "source": [
    "# Удалим tfidf-фичи (они здесь не нужны)\n",
    "tfidf_cols = [col for col in df_meta_clip.columns if col.startswith(\"tfidf_\")]\n",
    "df_meta_clip = df_meta_clip.drop(columns=tfidf_cols)"
   ]
  },
  {
   "cell_type": "code",
   "execution_count": 206,
   "id": "cb2307e2",
   "metadata": {},
   "outputs": [],
   "source": [
    "# Мерджим трейн с фичами товаров после CLIP-энкодера\n",
    "# для мэтчинговой модели\n",
    "df_train_merged_clip = df_train.merge(\n",
    "    df_meta_clip,\n",
    "    on=\"item_id\",\n",
    "    how=\"left\"\n",
    ")"
   ]
  },
  {
   "cell_type": "code",
   "execution_count": 207,
   "id": "903e64cc",
   "metadata": {},
   "outputs": [
    {
     "name": "stdout",
     "output_type": "stream",
     "text": [
      "После удаления строк без критичных признаков: 1,635,089 строк\n"
     ]
    }
   ],
   "source": [
    "# Отфильтруем данные с пропусками в нижеупомянутых полях\n",
    "required_fields = [\"text_full\", \"image_main\", \"brand\"]\n",
    "df_train_clip_clean = df_train_merged_clip.dropna(subset=required_fields).copy()\n",
    "print(f\"После удаления строк без критичных признаков: {len(df_train_clip_clean):,} строк\")"
   ]
  },
  {
   "cell_type": "code",
   "execution_count": 208,
   "id": "c575c540",
   "metadata": {},
   "outputs": [],
   "source": [
    "# Удалим текст и картинки (они уже в эмбеддингах)\n",
    "df_train_clip_clean.drop(columns=[\"text_full\", \"image_main\"], inplace=True)"
   ]
  },
  {
   "cell_type": "code",
   "execution_count": 211,
   "id": "aff547da",
   "metadata": {},
   "outputs": [],
   "source": [
    "# --- Извлечение временных признаков ---\n",
    "df_train_clip_clean[\"datetime\"] = pd.to_datetime(df_train_clip_clean[\"timestamp\"], unit=\"s\")"
   ]
  },
  {
   "cell_type": "code",
   "execution_count": 229,
   "id": "827d3b39",
   "metadata": {},
   "outputs": [],
   "source": [
    "df_train_clip_clean[\"year\"] = df_train_clip_clean[\"datetime\"].dt.year\n",
    "df_train_clip_clean[\"month\"] = df_train_clip_clean[\"datetime\"].dt.month\n",
    "df_train_clip_clean[\"weekofyear\"] = df_train_clip_clean[\"datetime\"].dt.isocalendar().week\n",
    "df_train_clip_clean[\"dayofweek\"] = df_train_clip_clean[\"datetime\"].dt.dayofweek\n",
    "df_train_clip_clean[\"day\"] = df_train_clip_clean[\"datetime\"].dt.day\n",
    "df_train_clip_clean[\"hour\"] = df_train_clip_clean[\"datetime\"].dt.hour"
   ]
  },
  {
   "cell_type": "code",
   "execution_count": 230,
   "id": "89bd2e7c",
   "metadata": {},
   "outputs": [
    {
     "name": "stdout",
     "output_type": "stream",
     "text": [
      "Пример строк с базовыми временными признаками:\n",
      "        timestamp   datetime  year  month  weekofyear  dayofweek  day  hour\n",
      "11777  1420502400 2015-01-06  2015      1           2          1    6     0\n",
      "11778  1420502400 2015-01-06  2015      1           2          1    6     0\n",
      "11779  1420502400 2015-01-06  2015      1           2          1    6     0\n",
      "11780  1420502400 2015-01-06  2015      1           2          1    6     0\n",
      "11781  1420502400 2015-01-06  2015      1           2          1    6     0\n",
      "11782  1420502400 2015-01-06  2015      1           2          1    6     0\n"
     ]
    }
   ],
   "source": [
    "print(\"Пример строк с базовыми временными признаками:\")\n",
    "print(df_train_clip_clean[[\"timestamp\", \"datetime\", \"year\", \"month\", \"weekofyear\", \"dayofweek\", \"day\", \"hour\"]].iloc[10000:10006, :])"
   ]
  },
  {
   "cell_type": "code",
   "execution_count": 231,
   "id": "0b5c387e",
   "metadata": {},
   "outputs": [],
   "source": [
    "import matplotlib.pyplot as plt"
   ]
  },
  {
   "cell_type": "code",
   "execution_count": 233,
   "id": "25f89000",
   "metadata": {},
   "outputs": [
    {
     "data": {
      "image/png": "[encoded data removed]",
      "text/plain": [
       "<Figure size 1600x1800 with 6 Axes>"
      ]
     },
     "metadata": {},
     "output_type": "display_data"
    }
   ],
   "source": [
    "# Графики распределения\n",
    "fig, axes = plt.subplots(3, 2, figsize=(16, 18))\n",
    "df_train_clip_clean[\"year\"].value_counts().sort_index().plot(kind=\"bar\", ax=axes[0, 0], title=\"Year distribution\")\n",
    "df_train_clip_clean[\"month\"].value_counts().sort_index().plot(kind=\"bar\", ax=axes[0, 1], title=\"Month distribution\")\n",
    "df_train_clip_clean[\"weekofyear\"].value_counts().sort_index().plot(kind=\"bar\", ax=axes[1, 0], title=\"Week of Year distribution\")\n",
    "df_train_clip_clean[\"dayofweek\"].value_counts().sort_index().plot(kind=\"bar\", ax=axes[1, 1], title=\"Day of Week distribution\")\n",
    "df_train_clip_clean[\"day\"].value_counts().sort_index().plot(kind=\"bar\", ax=axes[2, 0], title=\"Day distribution\")\n",
    "df_train_clip_clean[\"hour\"].value_counts().sort_index().plot(kind=\"bar\", ax=axes[2, 1], title=\"Hour distribution\")\n",
    "plt.tight_layout()\n",
    "plt.show()"
   ]
  },
  {
   "cell_type": "code",
   "execution_count": 234,
   "id": "55026b9d",
   "metadata": {},
   "outputs": [],
   "source": [
    "# Удалим поле hour, т.к. он не несёт полезной информации\n",
    "df_train_clip_clean.drop(\"hour\", axis=1, inplace=True)"
   ]
  },
  {
   "cell_type": "code",
   "execution_count": 235,
   "id": "36ee34fb",
   "metadata": {},
   "outputs": [],
   "source": [
    "# Циклическое кодирование признаков\n",
    "def encode_cyclical(df, column, period):\n",
    "    df[f\"{column}_sin\"] = np.sin(2 * np.pi * df[column] / period)\n",
    "    df[f\"{column}_cos\"] = np.cos(2 * np.pi * df[column] / period)"
   ]
  },
  {
   "cell_type": "code",
   "execution_count": 236,
   "id": "22aeab92",
   "metadata": {},
   "outputs": [],
   "source": [
    "encode_cyclical(df_train_clip_clean, \"month\", 12)\n",
    "encode_cyclical(df_train_clip_clean, \"weekofyear\", 52)\n",
    "encode_cyclical(df_train_clip_clean, \"dayofweek\", 7)\n",
    "encode_cyclical(df_train_clip_clean, \"day\", 31)"
   ]
  },
  {
   "cell_type": "code",
   "execution_count": 237,
   "id": "1522721b",
   "metadata": {},
   "outputs": [
    {
     "data": {
      "text/html": [
       "<div>\n",
       "<style scoped>\n",
       "    .dataframe tbody tr th:only-of-type {\n",
       "        vertical-align: middle;\n",
       "    }\n",
       "\n",
       "    .dataframe tbody tr th {\n",
       "        vertical-align: top;\n",
       "    }\n",
       "\n",
       "    .dataframe thead th {\n",
       "        text-align: right;\n",
       "    }\n",
       "</style>\n",
       "<table border=\"1\" class=\"dataframe\">\n",
       "  <thead>\n",
       "    <tr style=\"text-align: right;\">\n",
       "      <th></th>\n",
       "      <th>month_sin</th>\n",
       "      <th>month_cos</th>\n",
       "      <th>weekofyear_sin</th>\n",
       "      <th>weekofyear_cos</th>\n",
       "    </tr>\n",
       "  </thead>\n",
       "  <tbody>\n",
       "    <tr>\n",
       "      <th>0</th>\n",
       "      <td>0.5</td>\n",
       "      <td>0.866025</td>\n",
       "      <td>0.120537</td>\n",
       "      <td>0.992709</td>\n",
       "    </tr>\n",
       "    <tr>\n",
       "      <th>2</th>\n",
       "      <td>0.5</td>\n",
       "      <td>0.866025</td>\n",
       "      <td>0.120537</td>\n",
       "      <td>0.992709</td>\n",
       "    </tr>\n",
       "    <tr>\n",
       "      <th>3</th>\n",
       "      <td>0.5</td>\n",
       "      <td>0.866025</td>\n",
       "      <td>0.120537</td>\n",
       "      <td>0.992709</td>\n",
       "    </tr>\n",
       "    <tr>\n",
       "      <th>4</th>\n",
       "      <td>0.5</td>\n",
       "      <td>0.866025</td>\n",
       "      <td>0.120537</td>\n",
       "      <td>0.992709</td>\n",
       "    </tr>\n",
       "    <tr>\n",
       "      <th>5</th>\n",
       "      <td>0.5</td>\n",
       "      <td>0.866025</td>\n",
       "      <td>0.120537</td>\n",
       "      <td>0.992709</td>\n",
       "    </tr>\n",
       "  </tbody>\n",
       "</table>\n",
       "</div>"
      ],
      "text/plain": [
       "   month_sin  month_cos  weekofyear_sin  weekofyear_cos\n",
       "0        0.5   0.866025        0.120537        0.992709\n",
       "2        0.5   0.866025        0.120537        0.992709\n",
       "3        0.5   0.866025        0.120537        0.992709\n",
       "4        0.5   0.866025        0.120537        0.992709\n",
       "5        0.5   0.866025        0.120537        0.992709"
      ]
     },
     "execution_count": 237,
     "metadata": {},
     "output_type": "execute_result"
    }
   ],
   "source": [
    "# Посмотрим пример результата\n",
    "df_train_clip_clean[[\"month_sin\", \"month_cos\", \"weekofyear_sin\", \"weekofyear_cos\"]].head()"
   ]
  },
  {
   "cell_type": "code",
   "execution_count": 238,
   "id": "5e8cae2b",
   "metadata": {},
   "outputs": [],
   "source": [
    "# Также сделаем агрегации по отдельным фичам\n",
    "mean_label_by_month = df_train_clip_clean.groupby(\"month\")[\"label\"].mean().rename(\"month_mean_label\")\n",
    "mean_label_by_week = df_train_clip_clean.groupby(\"weekofyear\")[\"label\"].mean().rename(\"weekofyear_mean_label\")\n",
    "mean_label_by_dayofweek = df_train_clip_clean.groupby(\"dayofweek\")[\"label\"].mean().rename(\"dayofweek_mean_label\")"
   ]
  },
  {
   "cell_type": "code",
   "execution_count": 239,
   "id": "ff564c5a",
   "metadata": {},
   "outputs": [],
   "source": [
    "# И агрегацию по группировке месяца и дня\n",
    "mean_label_by_month_day = (\n",
    "    df_train_clip_clean.groupby([\"month\", \"day\"])[\"label\"]\n",
    "    .mean().rename(\"month_day_mean_label\")\n",
    "    .reset_index()\n",
    ")"
   ]
  },
  {
   "cell_type": "code",
   "execution_count": null,
   "id": "aa16c85f",
   "metadata": {},
   "outputs": [],
   "source": [
    "# Мерджим mean_label_by_month\n",
    "df_train_clip_clean = df_train_clip_clean.merge(\n",
    "    mean_label_by_month, on=\"month\", how=\"left\"\n",
    ")"
   ]
  },
  {
   "cell_type": "code",
   "execution_count": null,
   "id": "99e369e7",
   "metadata": {},
   "outputs": [],
   "source": [
    "# Мерджим mean_label_by_week\n",
    "df_train_clip_clean = df_train_clip_clean.merge(\n",
    "    mean_label_by_week, on=\"weekofyear\", how=\"left\"\n",
    ")"
   ]
  },
  {
   "cell_type": "code",
   "execution_count": null,
   "id": "52112e24",
   "metadata": {},
   "outputs": [],
   "source": [
    "# Мерджим mean_label_by_dayofweek\n",
    "df_train_clip_clean = df_train_clip_clean.merge(\n",
    "    mean_label_by_dayofweek, on=\"dayofweek\", how=\"left\"\n",
    ")"
   ]
  },
  {
   "cell_type": "code",
   "execution_count": null,
   "id": "ff2e13ca",
   "metadata": {},
   "outputs": [],
   "source": [
    "# Мерджим по паре (month, day)\n",
    "df_train_clip_clean = df_train_clip_clean.merge(\n",
    "    mean_label_by_month_day, on=[\"month\", \"day\"], how=\"left\"\n",
    ")"
   ]
  },
  {
   "cell_type": "code",
   "execution_count": null,
   "id": "a3112d84",
   "metadata": {},
   "outputs": [
    {
     "name": "stdout",
     "output_type": "stream",
     "text": [
      "Итоговые колонки: ['datetime', 'year', 'month', 'day_of_week', 'day', 'weekofyear', 'dayofweek', 'month_sin', 'month_cos', 'weekofyear_sin', 'weekofyear_cos', 'dayofweek_sin', 'dayofweek_cos', 'day_sin', 'day_cos', 'month_mean_label', 'weekofyear_mean_label', 'dayofweek_mean_label', 'month_day_mean_label']\n",
      "Есть ли NaN:\n",
      "month_mean_label         0\n",
      "weekofyear_mean_label    0\n",
      "dayofweek_mean_label     0\n",
      "month_day_mean_label     0\n",
      "dtype: int64\n"
     ]
    }
   ],
   "source": [
    "# Проверим итоги извлечения фичей по датам\n",
    "print(\"Итоговые колонки:\", df_train_clip_clean.columns.tolist()[-19:])\n",
    "print(\"Есть ли NaN:\\n\" + f\"{df_train_clip_clean[[\n",
    "    \"month_mean_label\",\n",
    "    \"weekofyear_mean_label\",\n",
    "    \"dayofweek_mean_label\",\n",
    "    \"month_day_mean_label\"\n",
    "]].isnull().sum()}\")"
   ]
  },
  {
   "cell_type": "code",
   "execution_count": null,
   "id": "ab701d06",
   "metadata": {},
   "outputs": [],
   "source": [
    "from sklearn.preprocessing import StandardScaler\n",
    "\n",
    "# Выбираем только признаки, которым нужно масштабирование\n",
    "time_agg_cols = [\n",
    "    \"month_mean_label\",\n",
    "    \"weekofyear_mean_label\",\n",
    "    \"dayofweek_mean_label\",\n",
    "    \"month_day_mean_label\"\n",
    "]"
   ]
  },
  {
   "cell_type": "code",
   "execution_count": 253,
   "id": "5039c96e",
   "metadata": {},
   "outputs": [],
   "source": [
    "scaler = StandardScaler()\n",
    "df_train_clip_clean[time_agg_cols] = scaler.fit_transform(df_train_clip_clean[time_agg_cols])"
   ]
  },
  {
   "cell_type": "code",
   "execution_count": null,
   "id": "362f39a9",
   "metadata": {},
   "outputs": [
    {
     "name": "stdout",
     "output_type": "stream",
     "text": [
      "                           count          mean  std       min       25%  \\\n",
      "month_mean_label       1635089.0  7.628215e-15  1.0 -1.685119 -0.616408   \n",
      "weekofyear_mean_label  1635089.0  3.390645e-14  1.0 -2.398647 -0.693816   \n",
      "dayofweek_mean_label   1635089.0  5.337470e-14  1.0 -0.978565 -0.654905   \n",
      "month_day_mean_label   1635089.0  3.654968e-14  1.0 -3.990564 -0.618746   \n",
      "\n",
      "                            50%       75%       max  \n",
      "month_mean_label       0.374393  0.954283  1.159998  \n",
      "weekofyear_mean_label  0.101899  0.796791  1.903079  \n",
      "dayofweek_mean_label  -0.332282  0.367760  2.142411  \n",
      "month_day_mean_label   0.080028  0.734942  2.399291  \n"
     ]
    }
   ],
   "source": [
    "# Проверим статистики по временным колонкам\n",
    "print(df_train_clip_clean[time_agg_cols].describe().T)"
   ]
  },
  {
   "cell_type": "code",
   "execution_count": 270,
   "id": "cc111768",
   "metadata": {},
   "outputs": [],
   "source": [
    "df_train_time_final = df_train_clip_clean.copy()"
   ]
  },
  {
   "cell_type": "code",
   "execution_count": 271,
   "id": "9add849f",
   "metadata": {},
   "outputs": [],
   "source": [
    "# Загружаем тестовый датасет и обучающую выборку (rating-based sampling)\n",
    "df_test = pd.read_csv(\"data/df_test_ground_truth_rating_based.csv\")"
   ]
  },
  {
   "cell_type": "code",
   "execution_count": 272,
   "id": "8cb38346",
   "metadata": {},
   "outputs": [],
   "source": [
    "# Выбираем CLIP-эмбеддинги (текст + изображение)\n",
    "item_vector_cols = [col for col in df_train_time_final.columns if col.startswith(\"clip_text_\") or col.startswith(\"clip_img_\")]\n",
    "user_ids = df_train_time_final[\"user_id\"].unique()"
   ]
  },
  {
   "cell_type": "code",
   "execution_count": 273,
   "id": "aafd83fa",
   "metadata": {},
   "outputs": [],
   "source": [
    "# Извлекаем CLIP-эмбеддинги\n",
    "clip_vectors  = df_train_time_final.drop_duplicates(\"item_id\")[[\"item_id\"] + item_vector_cols].set_index(\"item_id\")"
   ]
  },
  {
   "cell_type": "code",
   "execution_count": 274,
   "id": "4b12b285",
   "metadata": {},
   "outputs": [],
   "source": [
    "item_vectors = clip_vectors.copy()"
   ]
  },
  {
   "cell_type": "code",
   "execution_count": 275,
   "id": "5368a463",
   "metadata": {},
   "outputs": [
    {
     "name": "stdout",
     "output_type": "stream",
     "text": [
      "clip_vectors shape: (67706, 200)\n",
      "item_vectors shape: (67706, 200)\n"
     ]
    }
   ],
   "source": [
    "print(\"clip_vectors shape:\", clip_vectors.shape)\n",
    "print(\"item_vectors shape:\", item_vectors.shape)"
   ]
  },
  {
   "cell_type": "code",
   "execution_count": 276,
   "id": "d61428b5",
   "metadata": {},
   "outputs": [],
   "source": [
    "# Формируем вектор интересов пользователя как среднее по позитивным item-векторам\n",
    "user_vectors = {}"
   ]
  },
  {
   "cell_type": "code",
   "execution_count": 278,
   "id": "8d9d6c47",
   "metadata": {},
   "outputs": [
    {
     "name": "stdout",
     "output_type": "stream",
     "text": [
      "User vector aggregation: 100%|██████████| 551853/551853 [02:49<00:00, 3252.76it/s]\n"
     ]
    }
   ],
   "source": [
    "for user_id, group in tqdm(df_train_time_final[df_train_time_final[\"label\"] == 1].groupby(\"user_id\"), desc=\"User vector aggregation\", file=sys.stdout):\n",
    "    item_ids = group[\"item_id\"].values\n",
    "    vectors = item_vectors.loc[item_ids].values\n",
    "    user_vectors[user_id] = np.mean(vectors, axis=0)"
   ]
  },
  {
   "cell_type": "code",
   "execution_count": 279,
   "id": "61b7da14",
   "metadata": {},
   "outputs": [],
   "source": [
    "# Строим датасет: конкатенируем векторы пользователя и товара\n",
    "X = []\n",
    "y = []"
   ]
  },
  {
   "cell_type": "code",
   "execution_count": null,
   "id": "1cf84660",
   "metadata": {},
   "outputs": [],
   "source": [
    "# Выбираем все фичи по времени, кроме datetime и исходных признаков\n",
    "time_cols = [\n",
    "    'month_sin', 'month_cos',\n",
    "    'weekofyear_sin', 'weekofyear_cos',\n",
    "    'dayofweek_sin', 'dayofweek_cos',\n",
    "    'day_sin', 'day_cos',\n",
    "    'month_mean_label', 'weekofyear_mean_label',\n",
    "    'dayofweek_mean_label', 'month_day_mean_label'\n",
    "]"
   ]
  },
  {
   "cell_type": "code",
   "execution_count": null,
   "id": "ea25bb1e",
   "metadata": {},
   "outputs": [
    {
     "name": "stderr",
     "output_type": "stream",
     "text": [
      "Building training vectors: 100%|██████████| 1635089/1635089 [01:45<00:00, 15496.55it/s]\n"
     ]
    }
   ],
   "source": [
    "# Формируем обучающие пары\n",
    "for row in tqdm(df_train_time_final.itertuples(), total=len(df_train_time_final), desc=\"Building training vectors\"):\n",
    "    user_id = row.user_id\n",
    "    item_id = row.item_id\n",
    "    label = row.label\n",
    "\n",
    "    if user_id not in user_vectors or item_id not in item_vectors.index:\n",
    "        continue\n",
    "\n",
    "    user_vec = user_vectors[user_id]\n",
    "    item_vec = item_vectors.loc[item_id].values\n",
    "\n",
    "    # Извлекаем фичи по времени из строки\n",
    "    time_vec = np.array([getattr(row, col) for col in time_cols], dtype=np.float32)\n",
    "\n",
    "    # Финальный вектор\n",
    "    concat_vec = np.concatenate([user_vec, item_vec, time_vec])\n",
    "    X.append(concat_vec)\n",
    "    y.append(label)"
   ]
  },
  {
   "cell_type": "code",
   "execution_count": 282,
   "id": "f0ef4803",
   "metadata": {},
   "outputs": [
    {
     "name": "stdout",
     "output_type": "stream",
     "text": [
      "X shape: (1542533, 412)\n",
      "y shape: (1542533,)\n"
     ]
    }
   ],
   "source": [
    "# Преобразуем списки в numpy-массивы\n",
    "X = np.array(X, dtype=np.float32)\n",
    "y = np.array(y, dtype=np.float32)\n",
    "print(\"X shape:\", X.shape)\n",
    "print(\"y shape:\", y.shape)"
   ]
  },
  {
   "cell_type": "code",
   "execution_count": 284,
   "id": "1eb473e3",
   "metadata": {},
   "outputs": [],
   "source": [
    "from sklearn.model_selection import train_test_split"
   ]
  },
  {
   "cell_type": "code",
   "execution_count": null,
   "id": "afa35ba5",
   "metadata": {},
   "outputs": [],
   "source": [
    "# Также произведем стратифицированный сплит\n",
    "X_train, X_val, y_train, y_val = train_test_split(\n",
    "    X, y, test_size=0.1, random_state=42, stratify=y\n",
    ")"
   ]
  },
  {
   "cell_type": "code",
   "execution_count": 286,
   "id": "e849b23f",
   "metadata": {},
   "outputs": [
    {
     "name": "stdout",
     "output_type": "stream",
     "text": [
      "Train shape: (1388279, 412)\n",
      "Val shape: (154254, 412)\n"
     ]
    }
   ],
   "source": [
    "print(\"Train shape:\", X_train.shape)\n",
    "print(\"Val shape:\", X_val.shape)"
   ]
  },
  {
   "cell_type": "code",
   "execution_count": null,
   "id": "1053e564",
   "metadata": {},
   "outputs": [],
   "source": [
    "# Сплитим X на user/item/time вектора\n",
    "user_dim = item_dim = 200  # 100 clip_text + 100 clip_img\n",
    "time_dim = len(time_cols)  # число фичей, связанных с датой"
   ]
  },
  {
   "cell_type": "code",
   "execution_count": 289,
   "id": "83005393",
   "metadata": {},
   "outputs": [],
   "source": [
    "X_user_train = X_train[:, :user_dim]\n",
    "X_item_train = X_train[:, user_dim:user_dim*2]\n",
    "X_time_train = X_train[:, -time_dim:]"
   ]
  },
  {
   "cell_type": "code",
   "execution_count": 294,
   "id": "3f1d8d6c",
   "metadata": {},
   "outputs": [],
   "source": [
    "X_user_val = X_val[:, :user_dim]\n",
    "X_item_val = X_val[:, user_dim:user_dim*2]\n",
    "X_time_val = X_val[:, -time_dim:]"
   ]
  },
  {
   "cell_type": "code",
   "execution_count": 298,
   "id": "7114005e",
   "metadata": {},
   "outputs": [
    {
     "name": "stdout",
     "output_type": "stream",
     "text": [
      "User vector dim: 200\n",
      "Time feature dim: 12\n"
     ]
    }
   ],
   "source": [
    "print(\"User vector dim:\", user_dim)\n",
    "print(\"Time feature dim:\", time_dim)"
   ]
  },
  {
   "cell_type": "code",
   "execution_count": null,
   "id": "918db741",
   "metadata": {},
   "outputs": [],
   "source": [
    "# Пользовательский Dataset с временными фичами\n",
    "class TimeAwareMatchingDataset(Dataset):\n",
    "    def __init__(self, user_vecs, item_vecs, time_feats, labels):\n",
    "        self.user_vecs = torch.tensor(user_vecs, dtype=torch.float32)\n",
    "        self.item_vecs = torch.tensor(item_vecs, dtype=torch.float32)\n",
    "        self.time_feats = torch.tensor(time_feats, dtype=torch.float32)\n",
    "        self.labels = torch.tensor(labels, dtype=torch.float32)\n",
    "\n",
    "    def __len__(self):\n",
    "        return len(self.labels)\n",
    "\n",
    "    def __getitem__(self, idx):\n",
    "        return (\n",
    "            self.user_vecs[idx],\n",
    "            self.item_vecs[idx],\n",
    "            self.time_feats[idx],\n",
    "            self.labels[idx]\n",
    "        )"
   ]
  },
  {
   "cell_type": "code",
   "execution_count": null,
   "id": "7cd7cd98",
   "metadata": {},
   "outputs": [],
   "source": [
    "# Создание Dataset и DataLoader\n",
    "train_dataset = TimeAwareMatchingDataset(X_user_train, X_item_train, X_time_train, y_train)\n",
    "val_dataset = TimeAwareMatchingDataset(X_user_val, X_item_val, X_time_val, y_val)"
   ]
  },
  {
   "cell_type": "code",
   "execution_count": 301,
   "id": "fbf58598",
   "metadata": {},
   "outputs": [],
   "source": [
    "train_loader = DataLoader(train_dataset, batch_size=2048, shuffle=True)\n",
    "val_loader = DataLoader(val_dataset, batch_size=2048, shuffle=False)"
   ]
  },
  {
   "cell_type": "code",
   "execution_count": 302,
   "id": "e5f30d2a",
   "metadata": {},
   "outputs": [
    {
     "name": "stdout",
     "output_type": "stream",
     "text": [
      "Train size: 1388279, Val size: 154254\n"
     ]
    }
   ],
   "source": [
    "print(f\"Train size: {len(train_dataset)}, Val size: {len(val_dataset)}\")"
   ]
  },
  {
   "cell_type": "markdown",
   "id": "8908a749",
   "metadata": {},
   "source": [
    "**MLPWithTimeFeatures**  \n",
    "Модель обучается на объединении эмбеддингов пользователя, товара и временных признаков.  \n",
    "Позволяет учитывать сезонность и поведение во времени."
   ]
  },
  {
   "cell_type": "code",
   "execution_count": null,
   "id": "9a806384",
   "metadata": {},
   "outputs": [],
   "source": [
    "# Архитектура one-head MLP модели\n",
    "class MLPWithTimeFeatures(nn.Module):\n",
    "    def __init__(self, user_dim, item_dim, time_dim):\n",
    "        super().__init__()\n",
    "        input_dim = user_dim + item_dim + time_dim\n",
    "        self.model = nn.Sequential(\n",
    "            nn.BatchNorm1d(input_dim),\n",
    "            nn.Linear(input_dim, 256),\n",
    "            nn.GELU(),\n",
    "            nn.Dropout(0.2),\n",
    "            nn.Linear(256, 64),\n",
    "            nn.GELU(),\n",
    "            nn.Linear(64, 1),\n",
    "            nn.Sigmoid()\n",
    "        )\n",
    "\n",
    "    def forward(self, user_vec, item_vec, time_vec):\n",
    "        x = torch.cat([user_vec, item_vec, time_vec], dim=1)\n",
    "        return self.model(x)"
   ]
  },
  {
   "cell_type": "markdown",
   "id": "10070545",
   "metadata": {},
   "source": [
    "**TwoHeadMLPWithTimeFeatures**  \n",
    "Раздельные энкодеры для пользователя и товара, объединённые с временными фичами в единую архитектуру.  \n",
    "Гибридный подход, сочетающий мультимодальность и временную компоненту."
   ]
  },
  {
   "cell_type": "code",
   "execution_count": null,
   "id": "8161d00e",
   "metadata": {},
   "outputs": [],
   "source": [
    "# Архитектура two-head MLP модели\n",
    "# которая предобрабатывает вектора юзеров и товаров\n",
    "class TwoHeadMLPWithTimeFeatures(nn.Module):\n",
    "    def __init__(self, user_dim, item_dim, time_dim):\n",
    "        super().__init__()\n",
    "        self.user_encoder = nn.Sequential(\n",
    "            nn.Linear(user_dim, 128),\n",
    "            nn.ReLU()\n",
    "        )\n",
    "        self.item_encoder = nn.Sequential(\n",
    "            nn.Linear(item_dim, 128),\n",
    "            nn.ReLU()\n",
    "        )\n",
    "        self.final_mlp = nn.Sequential(\n",
    "            nn.BatchNorm1d(128 * 2 + time_dim),\n",
    "            nn.Linear(128 * 2 + time_dim, 256),\n",
    "            nn.GELU(),\n",
    "            nn.Dropout(0.2),\n",
    "            nn.Linear(256, 64),\n",
    "            nn.GELU(),\n",
    "            nn.Linear(64, 1),\n",
    "            nn.Sigmoid()\n",
    "        )\n",
    "\n",
    "    def forward(self, user_vec, item_vec, time_vec):\n",
    "        user_emb = self.user_encoder(user_vec)\n",
    "        item_emb = self.item_encoder(item_vec)\n",
    "        x = torch.cat([user_emb, item_emb, time_vec], dim=1)\n",
    "        return self.final_mlp(x)"
   ]
  },
  {
   "cell_type": "code",
   "execution_count": null,
   "id": "c3f66c93",
   "metadata": {},
   "outputs": [],
   "source": [
    "# Не забудем также учесть дисбаланс классов\n",
    "n_pos = np.sum(y == 1)\n",
    "n_neg = np.sum(y == 0)\n",
    "pos_weight = (n_neg + n_pos) / (2 * n_pos)\n",
    "neg_weight = (n_neg + n_pos) / (2 * n_neg)"
   ]
  },
  {
   "cell_type": "code",
   "execution_count": null,
   "id": "bab5d5df",
   "metadata": {},
   "outputs": [],
   "source": [
    "# Инициируем модели, лосс и оптимайзеры\n",
    "device = torch.device(\"cuda\" if torch.cuda.is_available() else \"cpu\")"
   ]
  },
  {
   "cell_type": "code",
   "execution_count": 308,
   "id": "96ddc698",
   "metadata": {},
   "outputs": [],
   "source": [
    "model_one_head = MLPWithTimeFeatures(user_dim, item_dim, time_dim).to(device)\n",
    "model_two_head = TwoHeadMLPWithTimeFeatures(user_dim, item_dim, time_dim).to(device)"
   ]
  },
  {
   "cell_type": "code",
   "execution_count": 309,
   "id": "f38e7d7e",
   "metadata": {},
   "outputs": [],
   "source": [
    "criterion = nn.BCELoss(reduction=\"none\")\n",
    "optimizer_one_head = torch.optim.Adam(model_one_head.parameters(), lr=1e-3)\n",
    "optimizer_two_head = torch.optim.Adam(model_two_head.parameters(), lr=1e-3)"
   ]
  },
  {
   "cell_type": "code",
   "execution_count": null,
   "id": "b8fdad4d",
   "metadata": {},
   "outputs": [],
   "source": [
    "# Функция обучения модели\n",
    "def train_model(model, optimizer, name):\n",
    "    for epoch in range(10):\n",
    "        model.train()\n",
    "        train_losses = []\n",
    "        for u_vec, i_vec, t_vec, labels in tqdm(train_loader, desc=f\"Training {name}\", file=sys.stdout):\n",
    "            u_vec = u_vec.to(device)\n",
    "            i_vec = i_vec.to(device)\n",
    "            t_vec = t_vec.to(device)\n",
    "            labels = labels.to(device).view(-1, 1)\n",
    "\n",
    "            preds = model(u_vec, i_vec, t_vec)\n",
    "            loss_raw = criterion(preds, labels)\n",
    "            weights = torch.where(labels == 1, pos_weight, neg_weight).to(device)\n",
    "            loss = (loss_raw * weights).mean()\n",
    "\n",
    "            optimizer.zero_grad()\n",
    "            loss.backward()\n",
    "            optimizer.step()\n",
    "            train_losses.append(loss.item())\n",
    "\n",
    "        # --- Validation ---\n",
    "        model.eval()\n",
    "        val_losses, all_preds, all_targets = [], [], []\n",
    "        for u_vec, i_vec, t_vec, labels in tqdm(val_loader, desc=f\"Validating {name}\", file=sys.stdout):\n",
    "            u_vec = u_vec.to(device)\n",
    "            i_vec = i_vec.to(device)\n",
    "            t_vec = t_vec.to(device)\n",
    "            labels = labels.to(device).view(-1, 1)\n",
    "\n",
    "            with torch.no_grad():\n",
    "                preds = model(u_vec, i_vec, t_vec)\n",
    "                loss_raw = criterion(preds, labels)\n",
    "                weights = torch.where(labels == 1, pos_weight, neg_weight).to(device)\n",
    "                loss = (loss_raw * weights).mean()\n",
    "\n",
    "            val_losses.append(loss.item())\n",
    "            all_preds.extend(preds.cpu().numpy())\n",
    "            all_targets.extend(labels.cpu().numpy())\n",
    "\n",
    "        all_preds_bin = (np.array(all_preds) >= 0.5).astype(int)\n",
    "        val_acc = accuracy_score(all_targets, all_preds_bin)\n",
    "        tqdm.write(f\"{name} Epoch {epoch+1}/10 | \"\n",
    "                   f\"Train Loss: {np.mean(train_losses):.4f} | \"\n",
    "                   f\"Val Loss: {np.mean(val_losses):.4f} | \"\n",
    "                   f\"Val Accuracy: {val_acc:.4f}\")"
   ]
  },
  {
   "cell_type": "code",
   "execution_count": null,
   "id": "0bd24a10",
   "metadata": {},
   "outputs": [
    {
     "name": "stdout",
     "output_type": "stream",
     "text": [
      "Training MLP+Time: 100%|██████████| 678/678 [00:34<00:00, 19.70it/s]\n",
      "Validating MLP+Time: 100%|██████████| 76/76 [00:03<00:00, 20.27it/s]\n",
      "MLP+Time Epoch 1/10 | Train Loss: 0.2427 | Val Loss: 0.1591 | Val Accuracy: 0.9418\n",
      "Training MLP+Time: 100%|██████████| 678/678 [00:30<00:00, 22.23it/s]\n",
      "Validating MLP+Time: 100%|██████████| 76/76 [00:02<00:00, 26.91it/s]\n",
      "MLP+Time Epoch 2/10 | Train Loss: 0.1486 | Val Loss: 0.1344 | Val Accuracy: 0.9569\n",
      "Training MLP+Time: 100%|██████████| 678/678 [00:26<00:00, 25.82it/s]\n",
      "Validating MLP+Time: 100%|██████████| 76/76 [00:02<00:00, 26.77it/s]\n",
      "MLP+Time Epoch 3/10 | Train Loss: 0.1236 | Val Loss: 0.1305 | Val Accuracy: 0.9683\n",
      "Training MLP+Time: 100%|██████████| 678/678 [00:32<00:00, 20.87it/s]\n",
      "Validating MLP+Time: 100%|██████████| 76/76 [00:03<00:00, 19.84it/s]\n",
      "MLP+Time Epoch 4/10 | Train Loss: 0.1121 | Val Loss: 0.1274 | Val Accuracy: 0.9663\n",
      "Training MLP+Time: 100%|██████████| 678/678 [00:29<00:00, 22.89it/s]\n",
      "Validating MLP+Time: 100%|██████████| 76/76 [00:03<00:00, 23.53it/s]\n",
      "MLP+Time Epoch 5/10 | Train Loss: 0.1035 | Val Loss: 0.1277 | Val Accuracy: 0.9674\n",
      "Training MLP+Time: 100%|██████████| 678/678 [00:25<00:00, 26.11it/s]\n",
      "Validating MLP+Time: 100%|██████████| 76/76 [00:03<00:00, 22.97it/s]\n",
      "MLP+Time Epoch 6/10 | Train Loss: 0.0974 | Val Loss: 0.1260 | Val Accuracy: 0.9688\n",
      "Training MLP+Time: 100%|██████████| 678/678 [00:31<00:00, 21.30it/s]\n",
      "Validating MLP+Time: 100%|██████████| 76/76 [00:03<00:00, 21.83it/s]\n",
      "MLP+Time Epoch 7/10 | Train Loss: 0.0926 | Val Loss: 0.1267 | Val Accuracy: 0.9687\n",
      "Training MLP+Time: 100%|██████████| 678/678 [00:27<00:00, 24.96it/s]\n",
      "Validating MLP+Time: 100%|██████████| 76/76 [00:02<00:00, 26.17it/s]\n",
      "MLP+Time Epoch 8/10 | Train Loss: 0.0882 | Val Loss: 0.1267 | Val Accuracy: 0.9699\n",
      "Training MLP+Time: 100%|██████████| 678/678 [00:32<00:00, 20.62it/s]\n",
      "Validating MLP+Time: 100%|██████████| 76/76 [00:03<00:00, 19.86it/s]\n",
      "MLP+Time Epoch 9/10 | Train Loss: 0.0852 | Val Loss: 0.1269 | Val Accuracy: 0.9655\n",
      "Training MLP+Time: 100%|██████████| 678/678 [00:30<00:00, 22.39it/s]\n",
      "Validating MLP+Time: 100%|██████████| 76/76 [00:03<00:00, 23.36it/s]\n",
      "MLP+Time Epoch 10/10 | Train Loss: 0.0817 | Val Loss: 0.1291 | Val Accuracy: 0.9706\n"
     ]
    }
   ],
   "source": [
    "# Обучение one-head модели\n",
    "train_model(model_one_head, optimizer_one_head, \"MLP+Time\")"
   ]
  },
  {
   "cell_type": "code",
   "execution_count": null,
   "id": "bdc88f03",
   "metadata": {},
   "outputs": [
    {
     "name": "stdout",
     "output_type": "stream",
     "text": [
      "Training TwoHead+Time: 100%|██████████| 678/678 [00:26<00:00, 25.66it/s]\n",
      "Validating TwoHead+Time: 100%|██████████| 76/76 [00:02<00:00, 27.80it/s]\n",
      "TwoHead+Time Epoch 1/10 | Train Loss: 0.3026 | Val Loss: 0.2112 | Val Accuracy: 0.9308\n",
      "Training TwoHead+Time: 100%|██████████| 678/678 [00:33<00:00, 20.35it/s]\n",
      "Validating TwoHead+Time: 100%|██████████| 76/76 [00:03<00:00, 19.70it/s]\n",
      "TwoHead+Time Epoch 2/10 | Train Loss: 0.1935 | Val Loss: 0.1794 | Val Accuracy: 0.9379\n",
      "Training TwoHead+Time: 100%|██████████| 678/678 [00:30<00:00, 21.99it/s]\n",
      "Validating TwoHead+Time: 100%|██████████| 76/76 [00:03<00:00, 23.13it/s]\n",
      "TwoHead+Time Epoch 3/10 | Train Loss: 0.1655 | Val Loss: 0.1666 | Val Accuracy: 0.9447\n",
      "Training TwoHead+Time: 100%|██████████| 678/678 [00:26<00:00, 25.18it/s]\n",
      "Validating TwoHead+Time: 100%|██████████| 76/76 [00:03<00:00, 22.68it/s]\n",
      "TwoHead+Time Epoch 4/10 | Train Loss: 0.1495 | Val Loss: 0.1601 | Val Accuracy: 0.9509\n",
      "Training TwoHead+Time: 100%|██████████| 678/678 [00:31<00:00, 21.23it/s]\n",
      "Validating TwoHead+Time: 100%|██████████| 76/76 [00:03<00:00, 22.54it/s]\n",
      "TwoHead+Time Epoch 5/10 | Train Loss: 0.1383 | Val Loss: 0.1584 | Val Accuracy: 0.9529\n",
      "Training TwoHead+Time: 100%|██████████| 678/678 [00:27<00:00, 25.02it/s]\n",
      "Validating TwoHead+Time: 100%|██████████| 76/76 [00:02<00:00, 27.13it/s]\n",
      "TwoHead+Time Epoch 6/10 | Train Loss: 0.1299 | Val Loss: 0.1556 | Val Accuracy: 0.9559\n",
      "Training TwoHead+Time: 100%|██████████| 678/678 [00:33<00:00, 20.17it/s]\n",
      "Validating TwoHead+Time: 100%|██████████| 76/76 [00:04<00:00, 18.77it/s]\n",
      "TwoHead+Time Epoch 7/10 | Train Loss: 0.1223 | Val Loss: 0.1535 | Val Accuracy: 0.9529\n",
      "Training TwoHead+Time: 100%|██████████| 678/678 [00:32<00:00, 21.19it/s]\n",
      "Validating TwoHead+Time: 100%|██████████| 76/76 [00:03<00:00, 21.92it/s]\n",
      "TwoHead+Time Epoch 8/10 | Train Loss: 0.1166 | Val Loss: 0.1548 | Val Accuracy: 0.9595\n",
      "Training TwoHead+Time: 100%|██████████| 678/678 [00:27<00:00, 25.03it/s]\n",
      "Validating TwoHead+Time: 100%|██████████| 76/76 [00:02<00:00, 27.01it/s]\n",
      "TwoHead+Time Epoch 9/10 | Train Loss: 0.1119 | Val Loss: 0.1509 | Val Accuracy: 0.9538\n",
      "Training TwoHead+Time: 100%|██████████| 678/678 [00:33<00:00, 20.44it/s]\n",
      "Validating TwoHead+Time: 100%|██████████| 76/76 [00:03<00:00, 20.52it/s]\n",
      "TwoHead+Time Epoch 10/10 | Train Loss: 0.1077 | Val Loss: 0.1505 | Val Accuracy: 0.9583\n"
     ]
    }
   ],
   "source": [
    "# Обучение two-head модели\n",
    "train_model(model_two_head, optimizer_two_head, \"TwoHead+Time\")"
   ]
  },
  {
   "cell_type": "code",
   "execution_count": null,
   "id": "a35c4ef3",
   "metadata": {},
   "outputs": [
    {
     "data": {
      "text/plain": [
       "TwoHeadMLPWithTimeFeatures(\n",
       "  (user_encoder): Sequential(\n",
       "    (0): Linear(in_features=200, out_features=128, bias=True)\n",
       "    (1): ReLU()\n",
       "  )\n",
       "  (item_encoder): Sequential(\n",
       "    (0): Linear(in_features=200, out_features=128, bias=True)\n",
       "    (1): ReLU()\n",
       "  )\n",
       "  (final_mlp): Sequential(\n",
       "    (0): BatchNorm1d(268, eps=1e-05, momentum=0.1, affine=True, track_running_stats=True)\n",
       "    (1): Linear(in_features=268, out_features=256, bias=True)\n",
       "    (2): GELU(approximate='none')\n",
       "    (3): Dropout(p=0.2, inplace=False)\n",
       "    (4): Linear(in_features=256, out_features=64, bias=True)\n",
       "    (5): GELU(approximate='none')\n",
       "    (6): Linear(in_features=64, out_features=1, bias=True)\n",
       "    (7): Sigmoid()\n",
       "  )\n",
       ")"
      ]
     },
     "execution_count": 314,
     "metadata": {},
     "output_type": "execute_result"
    }
   ],
   "source": [
    "# Переводим модели в режим инференса\n",
    "model_one_head.eval()\n",
    "model_two_head.eval()"
   ]
  },
  {
   "cell_type": "code",
   "execution_count": null,
   "id": "766b59c5",
   "metadata": {},
   "outputs": [],
   "source": [
    "# Подготавливаем список кандидатов и их эмбеддинги для инференса\n",
    "candidate_items = item_vectors.index.tolist()\n",
    "candidate_vectors = item_vectors.values"
   ]
  },
  {
   "cell_type": "code",
   "execution_count": null,
   "id": "41d1b506",
   "metadata": {},
   "outputs": [],
   "source": [
    "# Словари для хранения предсказаний\n",
    "predictions_one_head = {}\n",
    "predictions_two_head = {}"
   ]
  },
  {
   "cell_type": "code",
   "execution_count": null,
   "id": "b9f6327d",
   "metadata": {},
   "outputs": [],
   "source": [
    "# Т.к. тест у нас на оставшийся 2018 год\n",
    "# то возьмем первый день этого года за отправную точку\n",
    "# для предсказаний и сформируем фичи дат\n",
    "# потому что наши модели в этом блоке потребляют\n",
    "# помимо векторов юзера и товара, еще и временные фичи\n",
    "inference_date = pd.Timestamp(\"2018-01-01\")"
   ]
  },
  {
   "cell_type": "code",
   "execution_count": 319,
   "id": "36e04435",
   "metadata": {},
   "outputs": [],
   "source": [
    "# Циклические признаки\n",
    "inference_features = {\n",
    "    \"month\": inference_date.month,\n",
    "    \"weekofyear\": inference_date.isocalendar().week,\n",
    "    \"dayofweek\": inference_date.dayofweek,\n",
    "    \"day\": inference_date.day\n",
    "}"
   ]
  },
  {
   "cell_type": "code",
   "execution_count": 321,
   "id": "2654e35b",
   "metadata": {},
   "outputs": [],
   "source": [
    "inference_cyclical = {\n",
    "    key: value\n",
    "    for k, v, p in [\n",
    "        (\"month\", inference_features[\"month\"], 12),\n",
    "        (\"weekofyear\", inference_features[\"weekofyear\"], 52),\n",
    "        (\"dayofweek\", inference_features[\"dayofweek\"], 7),\n",
    "        (\"day\", inference_features[\"day\"], 31)\n",
    "    ]\n",
    "    for key, value in [\n",
    "        (f\"{k}_sin\", np.sin(2 * np.pi * v / p)),\n",
    "        (f\"{k}_cos\", np.cos(2 * np.pi * v / p))\n",
    "    ]\n",
    "}"
   ]
  },
  {
   "cell_type": "code",
   "execution_count": 323,
   "id": "bba2b54b",
   "metadata": {},
   "outputs": [],
   "source": [
    "# Пытаемся найти соответствующие агрегации в df_train_time_final\n",
    "agg_defaults = {}"
   ]
  },
  {
   "cell_type": "code",
   "execution_count": 324,
   "id": "af84d481",
   "metadata": {},
   "outputs": [],
   "source": [
    "# По month\n",
    "val = df_train_time_final[df_train_time_final[\"month\"] == inference_features[\"month\"]][\"month_mean_label\"]\n",
    "agg_defaults[\"month_mean_label\"] = val.iloc[0] if not val.empty else 0.0"
   ]
  },
  {
   "cell_type": "code",
   "execution_count": 325,
   "id": "54c49d41",
   "metadata": {},
   "outputs": [],
   "source": [
    "# По weekofyear\n",
    "val = df_train_time_final[df_train_time_final[\"weekofyear\"] == inference_features[\"weekofyear\"]][\"weekofyear_mean_label\"]\n",
    "agg_defaults[\"weekofyear_mean_label\"] = val.iloc[0] if not val.empty else 0.0"
   ]
  },
  {
   "cell_type": "code",
   "execution_count": 326,
   "id": "99f0191f",
   "metadata": {},
   "outputs": [],
   "source": [
    "# По dayofweek\n",
    "val = df_train_time_final[df_train_time_final[\"dayofweek\"] == inference_features[\"dayofweek\"]][\"dayofweek_mean_label\"]\n",
    "agg_defaults[\"dayofweek_mean_label\"] = val.iloc[0] if not val.empty else 0.0"
   ]
  },
  {
   "cell_type": "code",
   "execution_count": 327,
   "id": "d92eb5dd",
   "metadata": {},
   "outputs": [],
   "source": [
    "# По паре (month, day)\n",
    "val = df_train_time_final[\n",
    "    (df_train_time_final[\"month\"] == inference_features[\"month\"]) &\n",
    "    (df_train_time_final[\"day\"] == inference_features[\"day\"])\n",
    "][\"month_day_mean_label\"]\n",
    "agg_defaults[\"month_day_mean_label\"] = val.iloc[0] if not val.empty else 0.0"
   ]
  },
  {
   "cell_type": "code",
   "execution_count": 328,
   "id": "d7c15bad",
   "metadata": {},
   "outputs": [],
   "source": [
    "# Объединяем с ранее посчитанными циклическими фичами\n",
    "inference_time_features = {**inference_cyclical, **agg_defaults}"
   ]
  },
  {
   "cell_type": "code",
   "execution_count": 331,
   "id": "af0b5bb4",
   "metadata": {},
   "outputs": [],
   "source": [
    "# Превращаем в torch-тензор\n",
    "inference_time_tensor = torch.tensor(\n",
    "    list(inference_time_features.values()), dtype=torch.float32\n",
    ").unsqueeze(0).to(device)"
   ]
  },
  {
   "cell_type": "code",
   "execution_count": null,
   "id": "d56db3b7",
   "metadata": {},
   "outputs": [
    {
     "name": "stdout",
     "output_type": "stream",
     "text": [
      "Generating Top-10 (Time-aware models): 100%|██████████| 85083/85083 [3:22:56<00:00,  6.99it/s]  \n"
     ]
    }
   ],
   "source": [
    "# Формируем топы рекомендаций для каждого юзера\n",
    "for user_id in tqdm(ground_truth.keys(), desc=\"Generating Top-10 (Time-aware models)\", file=sys.stdout):\n",
    "    if user_id not in user_vectors:\n",
    "        continue\n",
    "\n",
    "    user_vec = user_vectors[user_id]\n",
    "    user_vec_batch = np.tile(user_vec, (candidate_vectors.shape[0], 1))\n",
    "    user_tensor = torch.tensor(user_vec_batch, dtype=torch.float32).to(device)\n",
    "    item_tensor = torch.tensor(candidate_vectors, dtype=torch.float32).to(device)\n",
    "\n",
    "    # Один и тот же вектор времени повторяется для всех кандидатов\n",
    "    time_tensor = inference_time_tensor.repeat(candidate_vectors.shape[0], 1)\n",
    "\n",
    "    with torch.no_grad():\n",
    "        # One-head model\n",
    "        scores_one_head = model_one_head(user_tensor, item_tensor, time_tensor).cpu().numpy().flatten()\n",
    "        sorted_items_one_head = np.array(candidate_items)[np.argsort(scores_one_head)[::-1]]\n",
    "        predictions_one_head[user_id] = sorted_items_one_head[:10].tolist()\n",
    "\n",
    "        # Two-head model\n",
    "        scores_two_head = model_two_head(user_tensor, item_tensor, time_tensor).cpu().numpy().flatten()\n",
    "        sorted_items_two_head = np.array(candidate_items)[np.argsort(scores_two_head)[::-1]]\n",
    "        predictions_two_head[user_id] = sorted_items_two_head[:10].tolist()"
   ]
  },
  {
   "cell_type": "code",
   "execution_count": null,
   "id": "20711497",
   "metadata": {},
   "outputs": [
    {
     "name": "stdout",
     "output_type": "stream",
     "text": [
      "\n",
      "MLP+Time model (top-10)\n",
      "Precision@10: 0.0021\n",
      "MAP@10: 0.006\n",
      "\n",
      "TwoHeadMLP+Time model (top-10)\n",
      "Precision@10: 0.0015\n",
      "MAP@10: 0.0048\n"
     ]
    }
   ],
   "source": [
    "# Выведем метрики, полученные в этом блоке\n",
    "print(\"\\nMLP+Time model (top-10)\")\n",
    "print(\"Precision@10:\", precision_at_k(predictions_one_head, ground_truth))\n",
    "print(\"MAP@10:\", map_at_k(predictions_one_head, ground_truth))\n",
    "\n",
    "print(\"\\nTwoHeadMLP+Time model (top-10)\")\n",
    "print(\"Precision@10:\", precision_at_k(predictions_two_head, ground_truth))\n",
    "print(\"MAP@10:\", map_at_k(predictions_two_head, ground_truth))"
   ]
  },
  {
   "cell_type": "markdown",
   "id": "7d9d8817",
   "metadata": {},
   "source": [
    "### Вывод: Модели с временными признаками\n",
    "\n",
    "- MLP+Time и TwoHead+Time не превзошли CLIP-style cosine model по качеству.\n",
    "- Возможно, временные признаки переусложнили модель на текущем объеме данных.\n",
    "- Могут быть полезны в reranker или Late Fusion, но не в retrieval напрямую."
   ]
  },
  {
   "cell_type": "code",
   "execution_count": null,
   "id": "8d147ebf",
   "metadata": {},
   "outputs": [
    {
     "name": "stdout",
     "output_type": "stream",
     "text": [
      "\n",
      "CLIP-style cosine model (top-10)\n",
      "Precision@10: 0.0032\n",
      "MAP@10: 0.008\n"
     ]
    }
   ],
   "source": [
    "# Выведем метрики победителя предыдщуих блоков\n",
    "print(\"\\nCLIP-style cosine model (top-10)\")\n",
    "print(\"Precision@10:\", precision_at_k(predictions_clip, ground_truth))\n",
    "print(\"MAP@10:\", map_at_k(predictions_clip, ground_truth))"
   ]
  },
  {
   "cell_type": "markdown",
   "id": "dd664d2b",
   "metadata": {},
   "source": [
    "## Финальный вывод по экспериментам\n",
    "\n",
    "- Наилучшие метрики показала модель `CLIP-style Cosine`:\n",
    "  - Precision@10 ≈ **0.0032**\n",
    "  - MAP@10 ≈ **0.008**\n",
    "- Модели на основе временных признаков и user-фичей не показали улучшений.\n",
    "- Потенциал — в расширении архитектур, улучшении сэмплинга и использовании двухступенчатых подходов.\n"
   ]
  },
  {
   "cell_type": "markdown",
   "id": "e514972a",
   "metadata": {},
   "source": [
    "## Roadmap: следующие шаги по улучшению модели до питчинг\n",
    "\n",
    "1. **Контрастивное обучение**:\n",
    "   - CLIP-like архитектура с `f_user`, `f_item`\n",
    "   - Triplet loss / InfoNCE\n",
    "   - Нормализация выходов, dot-product\n",
    "\n",
    "2. **Ранжирующие функции потерь**:\n",
    "   - BPR, LambdaRank\n",
    "\n",
    "3. **Smart negative sampling**:\n",
    "   - hard negatives на основе семантики\n",
    "\n",
    "4. **Двухступенчатая архитектура**:\n",
    "   - Retrieval (CLIP) → Reranker (MLP или GBDT)\n",
    "\n",
    "5. **Late Fusion**:\n",
    "   - `score = α * clip_score + β * time_model + γ * popularity_model`\n",
    "\n",
    "6. **Post-filtering / Reranking**:\n",
    "   - WDC(датасет для тренировки на дедупликацию), LightGBM, Cross-encoders для top-N\n",
    "\n",
    "7. **Расширение эмбеддингов**:\n",
    "   - TF-IDF, BERT, табличные признаки\n",
    "\n",
    "8. **FAISS / ApproxNN для retrieval**\n",
    "   - сейчас рассчитывается в отдельном блоке\n",
    "\n",
    "9. **Сезонный анализ**:\n",
    "   - по стабильным пользователям, праздникам, пикам\n",
    "\n",
    "10. **Анализ explainability**:\n",
    "   - для каких категорий и пользователей модель даёт хорошие рекомендации, а для каких —  нет. Где можно усилить качество предсказаний.\n"
   ]
  }
 ],
 "metadata": {
  "kernelspec": {
   "display_name": "venv",
   "language": "python",
   "name": "python3"
  },
  "language_info": {
   "codemirror_mode": {
    "name": "ipython",
    "version": 3
   },
   "file_extension": ".py",
   "mimetype": "text/x-python",
   "name": "python",
   "nbconvert_exporter": "python",
   "pygments_lexer": "ipython3",
   "version": "3.12.7"
  }
 },
 "nbformat": 4,
 "nbformat_minor": 5
}
