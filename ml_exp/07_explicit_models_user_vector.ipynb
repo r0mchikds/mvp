{
 "cells": [
  {
   "cell_type": "code",
   "execution_count": null,
   "id": "a40548f1",
   "metadata": {},
   "outputs": [],
   "source": [
    "# KNN и FAISS\n",
    "import pandas as pd\n",
    "import numpy as np\n",
    "from tqdm import tqdm\n",
    "from sklearn.neighbors import NearestNeighbors\n",
    "import faiss\n",
    "from collections import defaultdict\n",
    "import random\n",
    "import torch"
   ]
  },
  {
   "cell_type": "code",
   "execution_count": 2,
   "id": "41e2169a",
   "metadata": {},
   "outputs": [],
   "source": [
    "def seed_everything(seed=42):\n",
    "    random.seed(seed)\n",
    "    np.random.seed(seed)\n",
    "    torch.manual_seed(seed)\n",
    "    torch.cuda.manual_seed_all(seed)\n",
    "    torch.backends.cudnn.deterministic = True\n",
    "    torch.backends.cudnn.benchmark = False"
   ]
  },
  {
   "cell_type": "code",
   "execution_count": 3,
   "id": "4ed2b23d",
   "metadata": {},
   "outputs": [],
   "source": [
    "seed_everything(42)"
   ]
  },
  {
   "cell_type": "code",
   "execution_count": null,
   "id": "c0866a6b",
   "metadata": {},
   "outputs": [],
   "source": [
    "train_path = \"data/df_train_CLIP_rating_based.csv\"\n",
    "test_path = \"data/df_test_ground_truth_rating_based.csv\""
   ]
  },
  {
   "cell_type": "code",
   "execution_count": 5,
   "id": "9b6d07ae",
   "metadata": {},
   "outputs": [],
   "source": [
    "df_test = pd.read_csv(test_path)\n",
    "df_train = pd.read_csv(\n",
    "    train_path,\n",
    "    na_values=[\"\"],  # исключаем \"Unknown\"\n",
    "    keep_default_na=False\n",
    ")"
   ]
  },
  {
   "cell_type": "code",
   "execution_count": 6,
   "id": "ff56801b",
   "metadata": {},
   "outputs": [],
   "source": [
    "# Построение ground_truth\n",
    "ground_truth = (\n",
    "    df_test[df_test[\"label\"] == 1]\n",
    "    .groupby(\"user_id\")[\"item_id\"]\n",
    "    .apply(set)\n",
    "    .to_dict()\n",
    ")"
   ]
  },
  {
   "cell_type": "code",
   "execution_count": 7,
   "id": "1f499ae6",
   "metadata": {},
   "outputs": [],
   "source": [
    "# Выбираем CLIP-эмбеддинги (текст + изображение)\n",
    "item_vector_cols = [col for col in df_train.columns if col.startswith(\"clip_text_\") or col.startswith(\"clip_img_\")]\n",
    "clip_vectors = df_train.drop_duplicates(\"item_id\")[[\"item_id\"] + item_vector_cols].set_index(\"item_id\")\n",
    "item_vectors = clip_vectors.copy()"
   ]
  },
  {
   "cell_type": "code",
   "execution_count": 8,
   "id": "54f89619",
   "metadata": {},
   "outputs": [
    {
     "name": "stderr",
     "output_type": "stream",
     "text": [
      "User vector aggregation: 100%|██████████| 551853/551853 [02:24<00:00, 3819.60it/s]\n"
     ]
    }
   ],
   "source": [
    "# Строим user-векторы только для пользователей с положительными интеракциями в трейне\n",
    "user_vectors = {}\n",
    "for user_id, group in tqdm(df_train[df_train[\"label\"] == 1].groupby(\"user_id\"), desc=\"User vector aggregation\"):\n",
    "    item_ids = group[\"item_id\"].values\n",
    "    vectors = item_vectors.loc[item_ids].values\n",
    "    user_vectors[user_id] = np.mean(vectors, axis=0)"
   ]
  },
  {
   "cell_type": "code",
   "execution_count": 9,
   "id": "13a741c3",
   "metadata": {},
   "outputs": [],
   "source": [
    "valid_users_set = set(user_vectors.keys())"
   ]
  },
  {
   "cell_type": "code",
   "execution_count": null,
   "id": "adf43999",
   "metadata": {},
   "outputs": [],
   "source": [
    "# Precision@K и MAP@K\n",
    "def precision_at_k(preds, ground_truth, k=10):\n",
    "    scores = []\n",
    "    for user, pred_items in preds.items():\n",
    "        if user not in ground_truth:\n",
    "            continue\n",
    "        gt_items = ground_truth[user]\n",
    "        hits = sum([1 for item in pred_items[:k] if item in gt_items])\n",
    "        scores.append(hits / k)\n",
    "    return round(np.mean(scores), 4)\n",
    "\n",
    "def apk(pred, actual, k=10):\n",
    "    if not actual:\n",
    "        return 0.0\n",
    "    pred = pred[:k]\n",
    "    score, num_hits = 0.0, 0.0\n",
    "    for i, p in enumerate(pred):\n",
    "        if p in actual and p not in pred[:i]:\n",
    "            num_hits += 1.0\n",
    "            score += num_hits / (i + 1.0)\n",
    "    return score / min(len(actual), k)\n",
    "\n",
    "def map_at_k(preds, ground_truth, k=10):\n",
    "    return round(\n",
    "        np.mean([apk(preds[u], ground_truth[u], k) for u in preds if u in ground_truth]), 4\n",
    "    )"
   ]
  },
  {
   "cell_type": "markdown",
   "id": "62db3459",
   "metadata": {},
   "source": [
    "## Model Functions"
   ]
  },
  {
   "cell_type": "code",
   "execution_count": null,
   "id": "8aa0ce05",
   "metadata": {},
   "outputs": [],
   "source": [
    "# KNN по CLIP-эмбеддингам\n",
    "def run_clip_knn(user_vectors, item_vectors, top_k):\n",
    "    model_knn = NearestNeighbors(n_neighbors=top_k, metric=\"cosine\", n_jobs=-1)\n",
    "    model_knn.fit(item_vectors.values)\n",
    "    item_ids = item_vectors.index.tolist()\n",
    "\n",
    "    preds = {}\n",
    "    for user_id, user_vec in user_vectors.items():\n",
    "        _, indices = model_knn.kneighbors([user_vec])\n",
    "        preds[user_id] = [item_ids[i] for i in indices[0]]\n",
    "\n",
    "    return preds"
   ]
  },
  {
   "cell_type": "code",
   "execution_count": null,
   "id": "1d206dbf",
   "metadata": {},
   "outputs": [],
   "source": [
    "# FAISS по CLIP-эмбеддингам\n",
    "def run_clip_faiss(user_vectors, item_vectors, top_k=10):\n",
    "    item_matrix = np.ascontiguousarray(item_vectors.values.astype(\"float32\"))\n",
    "    faiss.normalize_L2(item_matrix)\n",
    "\n",
    "    index = faiss.IndexFlatIP(item_matrix.shape[1])\n",
    "    index.add(item_matrix)\n",
    "    item_ids = item_vectors.index.tolist()\n",
    "\n",
    "    preds = {}\n",
    "    for user_id, user_vec in user_vectors.items():\n",
    "        user_vec = np.ascontiguousarray(user_vec.astype(\"float32\")).reshape(1, -1)\n",
    "        faiss.normalize_L2(user_vec)\n",
    "\n",
    "        _, indices = index.search(user_vec, top_k)\n",
    "        preds[user_id] = [item_ids[i] for i in indices[0]]\n",
    "\n",
    "    return preds"
   ]
  },
  {
   "cell_type": "code",
   "execution_count": null,
   "id": "bb41aff2",
   "metadata": {},
   "outputs": [],
   "source": [
    "def evaluate_model(preds, ground_truth, valid_users=None):\n",
    "    if valid_users is not None:\n",
    "        preds = {u: preds[u] for u in preds if u in valid_users}\n",
    "    return {\n",
    "        \"precision\": precision_at_k(preds, ground_truth),\n",
    "        \"map\": map_at_k(preds, ground_truth)\n",
    "    }"
   ]
  },
  {
   "cell_type": "code",
   "execution_count": 14,
   "id": "fae315ea",
   "metadata": {},
   "outputs": [],
   "source": [
    "results = []"
   ]
  },
  {
   "cell_type": "code",
   "execution_count": 15,
   "id": "f5cffaf0",
   "metadata": {},
   "outputs": [
    {
     "name": "stderr",
     "output_type": "stream",
     "text": [
      "CLIP-KNN:   0%|          | 0/3 [00:00<?, ?it/s]"
     ]
    },
    {
     "name": "stdout",
     "output_type": "stream",
     "text": [
      "Started iter for k = 5\n",
      "Preds done\n"
     ]
    },
    {
     "name": "stderr",
     "output_type": "stream",
     "text": [
      "CLIP-KNN:  33%|███▎      | 1/3 [6:44:36<13:29:12, 24276.39s/it]"
     ]
    },
    {
     "name": "stdout",
     "output_type": "stream",
     "text": [
      "Score calculated\n",
      "Finished iter for k = 5\n",
      "Started iter for k = 10\n",
      "Preds done\n"
     ]
    },
    {
     "name": "stderr",
     "output_type": "stream",
     "text": [
      "CLIP-KNN:  67%|██████▋   | 2/3 [13:22:11<6:40:28, 24028.79s/it]"
     ]
    },
    {
     "name": "stdout",
     "output_type": "stream",
     "text": [
      "Score calculated\n",
      "Finished iter for k = 10\n",
      "Started iter for k = 20\n",
      "Preds done\n"
     ]
    },
    {
     "name": "stderr",
     "output_type": "stream",
     "text": [
      "CLIP-KNN: 100%|██████████| 3/3 [19:58:39<00:00, 23973.14s/it]  "
     ]
    },
    {
     "name": "stdout",
     "output_type": "stream",
     "text": [
      "Score calculated\n",
      "Finished iter for k = 20\n"
     ]
    },
    {
     "name": "stderr",
     "output_type": "stream",
     "text": [
      "\n"
     ]
    }
   ],
   "source": [
    "for k in tqdm([5, 10, 20], desc=\"CLIP-KNN\"):\n",
    "    print(f\"Started iter for k = {k}\")\n",
    "    preds = run_clip_knn(user_vectors, item_vectors, k)\n",
    "    print(\"Preds done\")\n",
    "    score = evaluate_model(preds, ground_truth, valid_users=valid_users_set)\n",
    "    print(\"Score calculated\")\n",
    "    results.append((\"CLIP_KNN\", k, score))\n",
    "    print(f\"Finished iter for k = {k}\")"
   ]
  },
  {
   "cell_type": "code",
   "execution_count": null,
   "id": "677809d4",
   "metadata": {},
   "outputs": [
    {
     "name": "stderr",
     "output_type": "stream",
     "text": [
      "CLIP-FAISS:   0%|          | 0/10 [00:00<?, ?it/s]"
     ]
    },
    {
     "name": "stdout",
     "output_type": "stream",
     "text": [
      "Started iter for k = 3\n",
      "Preds done\n"
     ]
    },
    {
     "name": "stderr",
     "output_type": "stream",
     "text": [
      "CLIP-FAISS:  10%|█         | 1/10 [28:39<4:17:51, 1719.02s/it]"
     ]
    },
    {
     "name": "stdout",
     "output_type": "stream",
     "text": [
      "Score calculated\n",
      "Finished iter for k = 3\n",
      "Started iter for k = 5\n",
      "Preds done\n"
     ]
    },
    {
     "name": "stderr",
     "output_type": "stream",
     "text": [
      "CLIP-FAISS:  20%|██        | 2/10 [56:44<3:46:36, 1699.56s/it]"
     ]
    },
    {
     "name": "stdout",
     "output_type": "stream",
     "text": [
      "Score calculated\n",
      "Finished iter for k = 5\n",
      "Started iter for k = 8\n",
      "Preds done\n"
     ]
    },
    {
     "name": "stderr",
     "output_type": "stream",
     "text": [
      "CLIP-FAISS:  30%|███       | 3/10 [1:24:52<3:17:37, 1693.95s/it]"
     ]
    },
    {
     "name": "stdout",
     "output_type": "stream",
     "text": [
      "Score calculated\n",
      "Finished iter for k = 8\n",
      "Started iter for k = 10\n",
      "Preds done\n"
     ]
    },
    {
     "name": "stderr",
     "output_type": "stream",
     "text": [
      "CLIP-FAISS:  40%|████      | 4/10 [1:53:01<2:49:11, 1691.91s/it]"
     ]
    },
    {
     "name": "stdout",
     "output_type": "stream",
     "text": [
      "Score calculated\n",
      "Finished iter for k = 10\n",
      "Started iter for k = 12\n",
      "Preds done\n"
     ]
    },
    {
     "name": "stderr",
     "output_type": "stream",
     "text": [
      "CLIP-FAISS:  50%|█████     | 5/10 [2:20:58<2:20:32, 1686.53s/it]"
     ]
    },
    {
     "name": "stdout",
     "output_type": "stream",
     "text": [
      "Score calculated\n",
      "Finished iter for k = 12\n",
      "Started iter for k = 15\n",
      "Preds done\n"
     ]
    },
    {
     "name": "stderr",
     "output_type": "stream",
     "text": [
      "CLIP-FAISS:  60%|██████    | 6/10 [2:48:45<1:52:00, 1680.20s/it]"
     ]
    },
    {
     "name": "stdout",
     "output_type": "stream",
     "text": [
      "Score calculated\n",
      "Finished iter for k = 15\n",
      "Started iter for k = 20\n",
      "Preds done\n"
     ]
    },
    {
     "name": "stderr",
     "output_type": "stream",
     "text": [
      "CLIP-FAISS:  70%|███████   | 7/10 [3:16:10<1:23:25, 1668.64s/it]"
     ]
    },
    {
     "name": "stdout",
     "output_type": "stream",
     "text": [
      "Score calculated\n",
      "Finished iter for k = 20\n",
      "Started iter for k = 30\n",
      "Preds done\n"
     ]
    },
    {
     "name": "stderr",
     "output_type": "stream",
     "text": [
      "CLIP-FAISS:  80%|████████  | 8/10 [3:43:31<55:19, 1659.91s/it]  "
     ]
    },
    {
     "name": "stdout",
     "output_type": "stream",
     "text": [
      "Score calculated\n",
      "Finished iter for k = 30\n",
      "Started iter for k = 50\n",
      "Preds done\n"
     ]
    },
    {
     "name": "stderr",
     "output_type": "stream",
     "text": [
      "CLIP-FAISS:  90%|█████████ | 9/10 [4:11:01<27:36, 1656.52s/it]"
     ]
    },
    {
     "name": "stdout",
     "output_type": "stream",
     "text": [
      "Score calculated\n",
      "Finished iter for k = 50\n",
      "Started iter for k = 100\n",
      "Preds done\n"
     ]
    },
    {
     "name": "stderr",
     "output_type": "stream",
     "text": [
      "CLIP-FAISS: 100%|██████████| 10/10 [4:39:07<00:00, 1674.70s/it]"
     ]
    },
    {
     "name": "stdout",
     "output_type": "stream",
     "text": [
      "Score calculated\n",
      "Finished iter for k = 100\n"
     ]
    },
    {
     "name": "stderr",
     "output_type": "stream",
     "text": [
      "\n"
     ]
    }
   ],
   "source": [
    "for k in tqdm([3, 5, 8, 10, 12, 15, 20, 30, 50, 100], desc=\"CLIP-FAISS\"):\n",
    "    print(f\"Started iter for k = {k}\")\n",
    "    preds = run_clip_faiss(user_vectors, item_vectors, k)\n",
    "    print(\"Preds done\")\n",
    "    score = evaluate_model(preds, ground_truth, valid_users=valid_users_set)\n",
    "    print(\"Score calculated\")\n",
    "    results.append((\"CLIP_FAISS\", k, score))\n",
    "    print(f\"Finished iter for k = {k}\")"
   ]
  },
  {
   "cell_type": "code",
   "execution_count": null,
   "id": "9e35c9be",
   "metadata": {},
   "outputs": [],
   "source": [
    "model_scores = defaultdict(list)\n",
    "for name, param, score in results:\n",
    "    model_scores[name].append((param, score))"
   ]
  },
  {
   "cell_type": "code",
   "execution_count": 18,
   "id": "7beabfc2",
   "metadata": {},
   "outputs": [
    {
     "name": "stdout",
     "output_type": "stream",
     "text": [
      "CLIP_KNN: best_param=10, precision=0.0032, map=0.008\n",
      "CLIP_FAISS: best_param=10, precision=0.0032, map=0.008\n"
     ]
    }
   ],
   "source": [
    "for model, entries in model_scores.items():\n",
    "    best = max(entries, key=lambda x: x[1][\"precision\"])\n",
    "    print(f\"{model}: best_param={best[0]}, precision={best[1]['precision']}, map={best[1]['map']}\")"
   ]
  }
 ],
 "metadata": {
  "kernelspec": {
   "display_name": "venv",
   "language": "python",
   "name": "python3"
  },
  "language_info": {
   "codemirror_mode": {
    "name": "ipython",
    "version": 3
   },
   "file_extension": ".py",
   "mimetype": "text/x-python",
   "name": "python",
   "nbconvert_exporter": "python",
   "pygments_lexer": "ipython3",
   "version": "3.12.7"
  }
 },
 "nbformat": 4,
 "nbformat_minor": 5
}
